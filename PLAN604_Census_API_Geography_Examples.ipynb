{
  "nbformat": 4,
  "nbformat_minor": 0,
  "metadata": {
    "colab": {
      "name": "PLAN604 Census API Geography Examples.ipynb",
      "provenance": [],
      "authorship_tag": "ABX9TyMw9AWiXx3ydoccyuzdwiTH",
      "include_colab_link": true
    },
    "kernelspec": {
      "name": "python3",
      "display_name": "Python 3"
    }
  },
  "cells": [
    {
      "cell_type": "markdown",
      "metadata": {
        "id": "view-in-github",
        "colab_type": "text"
      },
      "source": [
        "<a href=\"https://colab.research.google.com/github/npr99/PlanningMethods/blob/master/PLAN604_Census_API_Geography_Examples.ipynb\" target=\"_parent\"><img src=\"https://colab.research.google.com/assets/colab-badge.svg\" alt=\"Open In Colab\"/></a>"
      ]
    },
    {
      "cell_type": "code",
      "metadata": {
        "id": "6QMFLlNPqyNi"
      },
      "source": [
        "# Python packages required to read in and Census API data\n",
        "import requests ## Required for the Census API\n",
        "import pandas as pd # For reading, writing and wrangling data"
      ],
      "execution_count": null,
      "outputs": []
    },
    {
      "cell_type": "markdown",
      "metadata": {
        "id": "HUAPoDiSr6Nd"
      },
      "source": [
        "For more information on Census API:\n",
        "*   [Census Data API User Guide](https://www.census.gov/content/dam/Census/data/developers/api-user-guide/api-guide.pdf)\n",
        "*   [List of available Census APIs](https://www.census.gov/data/developers/data-sets/decennial-census.2010.html)\n",
        "*   [A list of variables available just from the 2010 short form](https://api.census.gov/data/2010/dec/sf1/variables.html)\n",
        "*   [A list of State FIPS codes](https://www.nrcs.usda.gov/wps/portal/nrcs/detail/?cid=nrcs143_013696)\n"
      ]
    },
    {
      "cell_type": "code",
      "metadata": {
        "id": "PjKGb4gMq-CG",
        "outputId": "c274c169-d21f-4a0a-ae89-32f46233185b",
        "colab": {
          "base_uri": "https://localhost:8080/",
          "height": 202
        }
      },
      "source": [
        "apijson = requests.get('https://api.census.gov/data/2010/dec/sf1',\n",
        "                       params={'get': 'H001001,P001001,GEO_ID,NAME',\n",
        "                               'for': 'state:*'})\n",
        "# Convert the requested json into pandas dataframe\n",
        "states = pd.DataFrame(columns=apijson.json()[0], data=apijson.json()[1:])\n",
        "states.head()"
      ],
      "execution_count": null,
      "outputs": [
        {
          "output_type": "execute_result",
          "data": {
            "text/html": [
              "<div>\n",
              "<style scoped>\n",
              "    .dataframe tbody tr th:only-of-type {\n",
              "        vertical-align: middle;\n",
              "    }\n",
              "\n",
              "    .dataframe tbody tr th {\n",
              "        vertical-align: top;\n",
              "    }\n",
              "\n",
              "    .dataframe thead th {\n",
              "        text-align: right;\n",
              "    }\n",
              "</style>\n",
              "<table border=\"1\" class=\"dataframe\">\n",
              "  <thead>\n",
              "    <tr style=\"text-align: right;\">\n",
              "      <th></th>\n",
              "      <th>H001001</th>\n",
              "      <th>P001001</th>\n",
              "      <th>GEO_ID</th>\n",
              "      <th>NAME</th>\n",
              "      <th>state</th>\n",
              "    </tr>\n",
              "  </thead>\n",
              "  <tbody>\n",
              "    <tr>\n",
              "      <th>0</th>\n",
              "      <td>2171853</td>\n",
              "      <td>4779736</td>\n",
              "      <td>0400000US01</td>\n",
              "      <td>Alabama</td>\n",
              "      <td>01</td>\n",
              "    </tr>\n",
              "    <tr>\n",
              "      <th>1</th>\n",
              "      <td>306967</td>\n",
              "      <td>710231</td>\n",
              "      <td>0400000US02</td>\n",
              "      <td>Alaska</td>\n",
              "      <td>02</td>\n",
              "    </tr>\n",
              "    <tr>\n",
              "      <th>2</th>\n",
              "      <td>2844526</td>\n",
              "      <td>6392017</td>\n",
              "      <td>0400000US04</td>\n",
              "      <td>Arizona</td>\n",
              "      <td>04</td>\n",
              "    </tr>\n",
              "    <tr>\n",
              "      <th>3</th>\n",
              "      <td>1316299</td>\n",
              "      <td>2915918</td>\n",
              "      <td>0400000US05</td>\n",
              "      <td>Arkansas</td>\n",
              "      <td>05</td>\n",
              "    </tr>\n",
              "    <tr>\n",
              "      <th>4</th>\n",
              "      <td>13680081</td>\n",
              "      <td>37253956</td>\n",
              "      <td>0400000US06</td>\n",
              "      <td>California</td>\n",
              "      <td>06</td>\n",
              "    </tr>\n",
              "  </tbody>\n",
              "</table>\n",
              "</div>"
            ],
            "text/plain": [
              "    H001001   P001001       GEO_ID        NAME state\n",
              "0   2171853   4779736  0400000US01     Alabama    01\n",
              "1    306967    710231  0400000US02      Alaska    02\n",
              "2   2844526   6392017  0400000US04     Arizona    04\n",
              "3   1316299   2915918  0400000US05    Arkansas    05\n",
              "4  13680081  37253956  0400000US06  California    06"
            ]
          },
          "metadata": {
            "tags": []
          },
          "execution_count": 10
        }
      ]
    },
    {
      "cell_type": "code",
      "metadata": {
        "id": "Fu0zUZkxsvf4",
        "outputId": "d8f8be0b-1424-4b64-cc30-f1081cac5f5e",
        "colab": {
          "base_uri": "https://localhost:8080/",
          "height": 202
        }
      },
      "source": [
        "apijson = requests.get('https://api.census.gov/data/2010/dec/sf1?get=H001001,NAME&for=county:*')\n",
        "counties = pd.DataFrame(columns=apijson.json()[0], data=apijson.json()[1:])\n",
        "counties.head()"
      ],
      "execution_count": null,
      "outputs": [
        {
          "output_type": "execute_result",
          "data": {
            "text/html": [
              "<div>\n",
              "<style scoped>\n",
              "    .dataframe tbody tr th:only-of-type {\n",
              "        vertical-align: middle;\n",
              "    }\n",
              "\n",
              "    .dataframe tbody tr th {\n",
              "        vertical-align: top;\n",
              "    }\n",
              "\n",
              "    .dataframe thead th {\n",
              "        text-align: right;\n",
              "    }\n",
              "</style>\n",
              "<table border=\"1\" class=\"dataframe\">\n",
              "  <thead>\n",
              "    <tr style=\"text-align: right;\">\n",
              "      <th></th>\n",
              "      <th>H001001</th>\n",
              "      <th>NAME</th>\n",
              "      <th>state</th>\n",
              "      <th>county</th>\n",
              "    </tr>\n",
              "  </thead>\n",
              "  <tbody>\n",
              "    <tr>\n",
              "      <th>0</th>\n",
              "      <td>54651</td>\n",
              "      <td>Sebastian County, Arkansas</td>\n",
              "      <td>05</td>\n",
              "      <td>131</td>\n",
              "    </tr>\n",
              "    <tr>\n",
              "      <th>1</th>\n",
              "      <td>6887</td>\n",
              "      <td>Sevier County, Arkansas</td>\n",
              "      <td>05</td>\n",
              "      <td>133</td>\n",
              "    </tr>\n",
              "    <tr>\n",
              "      <th>2</th>\n",
              "      <td>9822</td>\n",
              "      <td>Sharp County, Arkansas</td>\n",
              "      <td>05</td>\n",
              "      <td>135</td>\n",
              "    </tr>\n",
              "    <tr>\n",
              "      <th>3</th>\n",
              "      <td>6712</td>\n",
              "      <td>Stone County, Arkansas</td>\n",
              "      <td>05</td>\n",
              "      <td>137</td>\n",
              "    </tr>\n",
              "    <tr>\n",
              "      <th>4</th>\n",
              "      <td>19653</td>\n",
              "      <td>Union County, Arkansas</td>\n",
              "      <td>05</td>\n",
              "      <td>139</td>\n",
              "    </tr>\n",
              "  </tbody>\n",
              "</table>\n",
              "</div>"
            ],
            "text/plain": [
              "  H001001                        NAME state county\n",
              "0   54651  Sebastian County, Arkansas    05    131\n",
              "1    6887     Sevier County, Arkansas    05    133\n",
              "2    9822      Sharp County, Arkansas    05    135\n",
              "3    6712      Stone County, Arkansas    05    137\n",
              "4   19653      Union County, Arkansas    05    139"
            ]
          },
          "metadata": {
            "tags": []
          },
          "execution_count": 12
        }
      ]
    },
    {
      "cell_type": "code",
      "metadata": {
        "id": "D6hNVkVXZGw9",
        "outputId": "56deb513-83cb-4ca8-d9e0-e219d07bebdf",
        "colab": {
          "base_uri": "https://localhost:8080/",
          "height": 202
        }
      },
      "source": [
        "apijson = requests.get('https://api.census.gov/data/2010/acs/acs5?get=NAME,B01001_001E,B01001_001M,B00001_001E&for=tract:*&in=state:48')\n",
        "acstest = pd.DataFrame(columns=apijson.json()[0], data=apijson.json()[1:])\n",
        "acstest.head()"
      ],
      "execution_count": null,
      "outputs": [
        {
          "output_type": "execute_result",
          "data": {
            "text/html": [
              "<div>\n",
              "<style scoped>\n",
              "    .dataframe tbody tr th:only-of-type {\n",
              "        vertical-align: middle;\n",
              "    }\n",
              "\n",
              "    .dataframe tbody tr th {\n",
              "        vertical-align: top;\n",
              "    }\n",
              "\n",
              "    .dataframe thead th {\n",
              "        text-align: right;\n",
              "    }\n",
              "</style>\n",
              "<table border=\"1\" class=\"dataframe\">\n",
              "  <thead>\n",
              "    <tr style=\"text-align: right;\">\n",
              "      <th></th>\n",
              "      <th>NAME</th>\n",
              "      <th>B01001_001E</th>\n",
              "      <th>B01001_001M</th>\n",
              "      <th>B00001_001E</th>\n",
              "      <th>state</th>\n",
              "      <th>county</th>\n",
              "      <th>tract</th>\n",
              "    </tr>\n",
              "  </thead>\n",
              "  <tbody>\n",
              "    <tr>\n",
              "      <th>0</th>\n",
              "      <td>Census Tract 9501, Anderson County, Texas</td>\n",
              "      <td>5216</td>\n",
              "      <td>685</td>\n",
              "      <td>543</td>\n",
              "      <td>48</td>\n",
              "      <td>001</td>\n",
              "      <td>950100</td>\n",
              "    </tr>\n",
              "    <tr>\n",
              "      <th>1</th>\n",
              "      <td>Census Tract 9504.01, Anderson County, Texas</td>\n",
              "      <td>8089</td>\n",
              "      <td>660</td>\n",
              "      <td>780</td>\n",
              "      <td>48</td>\n",
              "      <td>001</td>\n",
              "      <td>950401</td>\n",
              "    </tr>\n",
              "    <tr>\n",
              "      <th>2</th>\n",
              "      <td>Census Tract 9504.02, Anderson County, Texas</td>\n",
              "      <td>3755</td>\n",
              "      <td>977</td>\n",
              "      <td>215</td>\n",
              "      <td>48</td>\n",
              "      <td>001</td>\n",
              "      <td>950402</td>\n",
              "    </tr>\n",
              "    <tr>\n",
              "      <th>3</th>\n",
              "      <td>Census Tract 9505, Anderson County, Texas</td>\n",
              "      <td>4576</td>\n",
              "      <td>770</td>\n",
              "      <td>304</td>\n",
              "      <td>48</td>\n",
              "      <td>001</td>\n",
              "      <td>950500</td>\n",
              "    </tr>\n",
              "    <tr>\n",
              "      <th>4</th>\n",
              "      <td>Census Tract 9506, Anderson County, Texas</td>\n",
              "      <td>6114</td>\n",
              "      <td>650</td>\n",
              "      <td>373</td>\n",
              "      <td>48</td>\n",
              "      <td>001</td>\n",
              "      <td>950600</td>\n",
              "    </tr>\n",
              "  </tbody>\n",
              "</table>\n",
              "</div>"
            ],
            "text/plain": [
              "                                           NAME B01001_001E  ... county   tract\n",
              "0     Census Tract 9501, Anderson County, Texas        5216  ...    001  950100\n",
              "1  Census Tract 9504.01, Anderson County, Texas        8089  ...    001  950401\n",
              "2  Census Tract 9504.02, Anderson County, Texas        3755  ...    001  950402\n",
              "3     Census Tract 9505, Anderson County, Texas        4576  ...    001  950500\n",
              "4     Census Tract 9506, Anderson County, Texas        6114  ...    001  950600\n",
              "\n",
              "[5 rows x 7 columns]"
            ]
          },
          "metadata": {
            "tags": []
          },
          "execution_count": 47
        }
      ]
    },
    {
      "cell_type": "code",
      "metadata": {
        "id": "GfcedECmiRs3",
        "outputId": "3ded3e73-ad8a-44c2-901c-958886ae82e7",
        "colab": {
          "base_uri": "https://localhost:8080/",
          "height": 104
        }
      },
      "source": [
        "acstest['B00001_001E'].describe()"
      ],
      "execution_count": null,
      "outputs": [
        {
          "output_type": "execute_result",
          "data": {
            "text/plain": [
              "count     5256\n",
              "unique     700\n",
              "top          0\n",
              "freq        41\n",
              "Name: B00001_001E, dtype: object"
            ]
          },
          "metadata": {
            "tags": []
          },
          "execution_count": 48
        }
      ]
    },
    {
      "cell_type": "code",
      "metadata": {
        "id": "GgHDY4BGgov9",
        "outputId": "66892690-bce8-42d8-f8f8-890982d6dde8",
        "colab": {
          "base_uri": "https://localhost:8080/",
          "height": 202
        }
      },
      "source": [
        "import numpy as np\n",
        "\n",
        "acstest['B01001_001E'] = acstest['B01001_001E'].astype(int)\n",
        "acstest['B01001_001M'] = acstest['B01001_001M'].astype(int)\n",
        "acstest['B00001_001E'] = acstest['B00001_001E'].fillna(\"0\").astype(int)\n",
        "acstest.head()"
      ],
      "execution_count": null,
      "outputs": [
        {
          "output_type": "execute_result",
          "data": {
            "text/html": [
              "<div>\n",
              "<style scoped>\n",
              "    .dataframe tbody tr th:only-of-type {\n",
              "        vertical-align: middle;\n",
              "    }\n",
              "\n",
              "    .dataframe tbody tr th {\n",
              "        vertical-align: top;\n",
              "    }\n",
              "\n",
              "    .dataframe thead th {\n",
              "        text-align: right;\n",
              "    }\n",
              "</style>\n",
              "<table border=\"1\" class=\"dataframe\">\n",
              "  <thead>\n",
              "    <tr style=\"text-align: right;\">\n",
              "      <th></th>\n",
              "      <th>NAME</th>\n",
              "      <th>B01001_001E</th>\n",
              "      <th>B01001_001M</th>\n",
              "      <th>B00001_001E</th>\n",
              "      <th>state</th>\n",
              "      <th>county</th>\n",
              "      <th>tract</th>\n",
              "    </tr>\n",
              "  </thead>\n",
              "  <tbody>\n",
              "    <tr>\n",
              "      <th>0</th>\n",
              "      <td>Census Tract 9501, Anderson County, Texas</td>\n",
              "      <td>5216</td>\n",
              "      <td>685</td>\n",
              "      <td>543</td>\n",
              "      <td>48</td>\n",
              "      <td>001</td>\n",
              "      <td>950100</td>\n",
              "    </tr>\n",
              "    <tr>\n",
              "      <th>1</th>\n",
              "      <td>Census Tract 9504.01, Anderson County, Texas</td>\n",
              "      <td>8089</td>\n",
              "      <td>660</td>\n",
              "      <td>780</td>\n",
              "      <td>48</td>\n",
              "      <td>001</td>\n",
              "      <td>950401</td>\n",
              "    </tr>\n",
              "    <tr>\n",
              "      <th>2</th>\n",
              "      <td>Census Tract 9504.02, Anderson County, Texas</td>\n",
              "      <td>3755</td>\n",
              "      <td>977</td>\n",
              "      <td>215</td>\n",
              "      <td>48</td>\n",
              "      <td>001</td>\n",
              "      <td>950402</td>\n",
              "    </tr>\n",
              "    <tr>\n",
              "      <th>3</th>\n",
              "      <td>Census Tract 9505, Anderson County, Texas</td>\n",
              "      <td>4576</td>\n",
              "      <td>770</td>\n",
              "      <td>304</td>\n",
              "      <td>48</td>\n",
              "      <td>001</td>\n",
              "      <td>950500</td>\n",
              "    </tr>\n",
              "    <tr>\n",
              "      <th>4</th>\n",
              "      <td>Census Tract 9506, Anderson County, Texas</td>\n",
              "      <td>6114</td>\n",
              "      <td>650</td>\n",
              "      <td>373</td>\n",
              "      <td>48</td>\n",
              "      <td>001</td>\n",
              "      <td>950600</td>\n",
              "    </tr>\n",
              "  </tbody>\n",
              "</table>\n",
              "</div>"
            ],
            "text/plain": [
              "                                           NAME  B01001_001E  ...  county   tract\n",
              "0     Census Tract 9501, Anderson County, Texas         5216  ...     001  950100\n",
              "1  Census Tract 9504.01, Anderson County, Texas         8089  ...     001  950401\n",
              "2  Census Tract 9504.02, Anderson County, Texas         3755  ...     001  950402\n",
              "3     Census Tract 9505, Anderson County, Texas         4576  ...     001  950500\n",
              "4     Census Tract 9506, Anderson County, Texas         6114  ...     001  950600\n",
              "\n",
              "[5 rows x 7 columns]"
            ]
          },
          "metadata": {
            "tags": []
          },
          "execution_count": 50
        }
      ]
    },
    {
      "cell_type": "markdown",
      "metadata": {
        "id": "re8NL2a0su1K"
      },
      "source": [
        "https://www.census.gov/data/developers/data-sets/acs-1year/notes-on-acs-estimate-and-annotation-values.html"
      ]
    },
    {
      "cell_type": "code",
      "metadata": {
        "id": "736hWntps2F8"
      },
      "source": [
        "acstest.loc[acstest['B01001_001M']<0, 'B01001_001M'] = np.nan"
      ],
      "execution_count": null,
      "outputs": []
    },
    {
      "cell_type": "code",
      "metadata": {
        "id": "c09vZeuTf8CG",
        "outputId": "598721ed-cb8c-402e-de9b-653c4d217349",
        "colab": {
          "base_uri": "https://localhost:8080/",
          "height": 341
        }
      },
      "source": [
        "acstest['B01001_001 Standard Error'] = acstest['B01001_001M'] / 1.645\n",
        "acstest['B01001_001 Coefficient of Variation'] = acstest['B01001_001 Standard Error']/ acstest['B01001_001E'] * 100\n",
        "acstest.loc[acstest['B01001_001E']==0, 'B01001_001 Coefficient of Variation'] = np.nan\n",
        "acstest.head()"
      ],
      "execution_count": null,
      "outputs": [
        {
          "output_type": "execute_result",
          "data": {
            "text/html": [
              "<div>\n",
              "<style scoped>\n",
              "    .dataframe tbody tr th:only-of-type {\n",
              "        vertical-align: middle;\n",
              "    }\n",
              "\n",
              "    .dataframe tbody tr th {\n",
              "        vertical-align: top;\n",
              "    }\n",
              "\n",
              "    .dataframe thead th {\n",
              "        text-align: right;\n",
              "    }\n",
              "</style>\n",
              "<table border=\"1\" class=\"dataframe\">\n",
              "  <thead>\n",
              "    <tr style=\"text-align: right;\">\n",
              "      <th></th>\n",
              "      <th>NAME</th>\n",
              "      <th>B01001_001E</th>\n",
              "      <th>B01001_001M</th>\n",
              "      <th>B00001_001E</th>\n",
              "      <th>state</th>\n",
              "      <th>county</th>\n",
              "      <th>tract</th>\n",
              "      <th>B01001_001 Standard Error</th>\n",
              "      <th>B01001_001 Coefficient of Variation</th>\n",
              "    </tr>\n",
              "  </thead>\n",
              "  <tbody>\n",
              "    <tr>\n",
              "      <th>0</th>\n",
              "      <td>Census Tract 9501, Anderson County, Texas</td>\n",
              "      <td>5216</td>\n",
              "      <td>685.0</td>\n",
              "      <td>543</td>\n",
              "      <td>48</td>\n",
              "      <td>001</td>\n",
              "      <td>950100</td>\n",
              "      <td>416.413374</td>\n",
              "      <td>7.983385</td>\n",
              "    </tr>\n",
              "    <tr>\n",
              "      <th>1</th>\n",
              "      <td>Census Tract 9504.01, Anderson County, Texas</td>\n",
              "      <td>8089</td>\n",
              "      <td>660.0</td>\n",
              "      <td>780</td>\n",
              "      <td>48</td>\n",
              "      <td>001</td>\n",
              "      <td>950401</td>\n",
              "      <td>401.215805</td>\n",
              "      <td>4.960017</td>\n",
              "    </tr>\n",
              "    <tr>\n",
              "      <th>2</th>\n",
              "      <td>Census Tract 9504.02, Anderson County, Texas</td>\n",
              "      <td>3755</td>\n",
              "      <td>977.0</td>\n",
              "      <td>215</td>\n",
              "      <td>48</td>\n",
              "      <td>001</td>\n",
              "      <td>950402</td>\n",
              "      <td>593.920973</td>\n",
              "      <td>15.816804</td>\n",
              "    </tr>\n",
              "    <tr>\n",
              "      <th>3</th>\n",
              "      <td>Census Tract 9505, Anderson County, Texas</td>\n",
              "      <td>4576</td>\n",
              "      <td>770.0</td>\n",
              "      <td>304</td>\n",
              "      <td>48</td>\n",
              "      <td>001</td>\n",
              "      <td>950500</td>\n",
              "      <td>468.085106</td>\n",
              "      <td>10.229133</td>\n",
              "    </tr>\n",
              "    <tr>\n",
              "      <th>4</th>\n",
              "      <td>Census Tract 9506, Anderson County, Texas</td>\n",
              "      <td>6114</td>\n",
              "      <td>650.0</td>\n",
              "      <td>373</td>\n",
              "      <td>48</td>\n",
              "      <td>001</td>\n",
              "      <td>950600</td>\n",
              "      <td>395.136778</td>\n",
              "      <td>6.462819</td>\n",
              "    </tr>\n",
              "  </tbody>\n",
              "</table>\n",
              "</div>"
            ],
            "text/plain": [
              "                                           NAME  ...  B01001_001 Coefficient of Variation\n",
              "0     Census Tract 9501, Anderson County, Texas  ...                             7.983385\n",
              "1  Census Tract 9504.01, Anderson County, Texas  ...                             4.960017\n",
              "2  Census Tract 9504.02, Anderson County, Texas  ...                            15.816804\n",
              "3     Census Tract 9505, Anderson County, Texas  ...                            10.229133\n",
              "4     Census Tract 9506, Anderson County, Texas  ...                             6.462819\n",
              "\n",
              "[5 rows x 9 columns]"
            ]
          },
          "metadata": {
            "tags": []
          },
          "execution_count": 61
        }
      ]
    },
    {
      "cell_type": "code",
      "metadata": {
        "id": "nOsmqEv-st4M"
      },
      "source": [
        ""
      ],
      "execution_count": null,
      "outputs": []
    },
    {
      "cell_type": "code",
      "metadata": {
        "id": "NVJ1KE5pool_",
        "outputId": "0508c0ee-5c4b-4566-a000-a771622a039a",
        "colab": {
          "base_uri": "https://localhost:8080/",
          "height": 294
        }
      },
      "source": [
        "acstest[['B00001_001E','B01001_001 Coefficient of Variation']].describe()"
      ],
      "execution_count": null,
      "outputs": [
        {
          "output_type": "execute_result",
          "data": {
            "text/html": [
              "<div>\n",
              "<style scoped>\n",
              "    .dataframe tbody tr th:only-of-type {\n",
              "        vertical-align: middle;\n",
              "    }\n",
              "\n",
              "    .dataframe tbody tr th {\n",
              "        vertical-align: top;\n",
              "    }\n",
              "\n",
              "    .dataframe thead th {\n",
              "        text-align: right;\n",
              "    }\n",
              "</style>\n",
              "<table border=\"1\" class=\"dataframe\">\n",
              "  <thead>\n",
              "    <tr style=\"text-align: right;\">\n",
              "      <th></th>\n",
              "      <th>B00001_001E</th>\n",
              "      <th>B01001_001 Coefficient of Variation</th>\n",
              "    </tr>\n",
              "  </thead>\n",
              "  <tbody>\n",
              "    <tr>\n",
              "      <th>count</th>\n",
              "      <td>5265.000000</td>\n",
              "      <td>5201.000000</td>\n",
              "    </tr>\n",
              "    <tr>\n",
              "      <th>mean</th>\n",
              "      <td>299.880722</td>\n",
              "      <td>6.961503</td>\n",
              "    </tr>\n",
              "    <tr>\n",
              "      <th>std</th>\n",
              "      <td>152.308830</td>\n",
              "      <td>3.839527</td>\n",
              "    </tr>\n",
              "    <tr>\n",
              "      <th>min</th>\n",
              "      <td>0.000000</td>\n",
              "      <td>0.260344</td>\n",
              "    </tr>\n",
              "    <tr>\n",
              "      <th>25%</th>\n",
              "      <td>202.000000</td>\n",
              "      <td>5.024870</td>\n",
              "    </tr>\n",
              "    <tr>\n",
              "      <th>50%</th>\n",
              "      <td>281.000000</td>\n",
              "      <td>6.386097</td>\n",
              "    </tr>\n",
              "    <tr>\n",
              "      <th>75%</th>\n",
              "      <td>363.000000</td>\n",
              "      <td>8.055976</td>\n",
              "    </tr>\n",
              "    <tr>\n",
              "      <th>max</th>\n",
              "      <td>1807.000000</td>\n",
              "      <td>84.253186</td>\n",
              "    </tr>\n",
              "  </tbody>\n",
              "</table>\n",
              "</div>"
            ],
            "text/plain": [
              "       B00001_001E  B01001_001 Coefficient of Variation\n",
              "count  5265.000000                          5201.000000\n",
              "mean    299.880722                             6.961503\n",
              "std     152.308830                             3.839527\n",
              "min       0.000000                             0.260344\n",
              "25%     202.000000                             5.024870\n",
              "50%     281.000000                             6.386097\n",
              "75%     363.000000                             8.055976\n",
              "max    1807.000000                            84.253186"
            ]
          },
          "metadata": {
            "tags": []
          },
          "execution_count": 62
        }
      ]
    },
    {
      "cell_type": "code",
      "metadata": {
        "id": "CyClpPfbhF7s",
        "outputId": "3a4e7933-47e2-41cb-a83c-8f7eb2d8f1a7",
        "colab": {
          "base_uri": "https://localhost:8080/",
          "height": 295
        }
      },
      "source": [
        "import matplotlib.pyplot as plt # required for graphs (histogram, boxplot)\n",
        "# Scatter Plot\n",
        "acstest2 = acstest.loc[acstest['B00001_001E']<500]\n",
        "plt.scatter(acstest['B00001_001E'],acstest['B01001_001 Coefficient of Variation'] )\n",
        "plt.title('Figure')\n",
        "plt.xlabel('Sample Size')\n",
        "plt.ylabel('Coefficient of Variation')\n",
        "plt.show()"
      ],
      "execution_count": null,
      "outputs": [
        {
          "output_type": "display_data",
          "data": {
            "image/png": "[encoded data removed]",
            "text/plain": [
              "<Figure size 432x288 with 1 Axes>"
            ]
          },
          "metadata": {
            "tags": [],
            "needs_background": "light"
          }
        }
      ]
    }
  ]
}