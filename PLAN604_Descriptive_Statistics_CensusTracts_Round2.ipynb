{
  "nbformat": 4,
  "nbformat_minor": 0,
  "metadata": {
    "colab": {
      "name": "PLAN604_Descriptive_Statistics_CensusTracts_Round2",
      "provenance": [],
      "authorship_tag": "ABX9TyMh9uwlrJm6u3Yj8shR29DG",
      "include_colab_link": true
    },
    "kernelspec": {
      "name": "python3",
      "display_name": "Python 3"
    }
  },
  "cells": [
    {
      "cell_type": "markdown",
      "metadata": {
        "id": "view-in-github",
        "colab_type": "text"
      },
      "source": [
        "<a href=\"https://colab.research.google.com/github/npr99/PlanningMethods/blob/master/PLAN604_Descriptive_Statistics_CensusTracts_Round2.ipynb\" target=\"_parent\"><img src=\"https://colab.research.google.com/assets/colab-badge.svg\" alt=\"Open In Colab\"/></a>"
      ]
    },
    {
      "cell_type": "markdown",
      "metadata": {
        "id": "P-EggxqJwovL"
      },
      "source": [
        "# Application of Descriptive Statistics: Finding US Census Tract Outliers Round 2\n",
        " \n",
        "---\n",
        "This Google Colab Notebook provides a complete workflow (sequence of steps from start to finish) that will allow you to explore [US Census Tracts](https://www.census.gov/glossary/#term_Censustract). \n",
        "\n",
        "This notebook has the fewest number of code blocks and minimal discussion. This notebook is designed to be modified and rerun for different states in the United States.\n",
        "\n",
        "# Instructions\n",
        "\n",
        "\n",
        "1.   Read the text in Step 1\n",
        "2.   Pick a state from the [shared Google Sheet](https://docs.google.com/spreadsheets/d/1pM7gCHYsLicagsF5EjZ2xHsje63F9FQsi5CFUV8-usc/edit?usp=sharing) - *be sure to type your name in the first column.* \n",
        "3.   Modify the Census API code with the state FIPS code to your selected state\n",
        "3.   Run all of the codeblocks (Runtime -> Run All) \n",
        "4.   Look at the results in Tables 1 and 2\n",
        "5.   Copy and paste your results for *Total Population* into the [shared Google Sheet](https://docs.google.com/spreadsheets/d/1pM7gCHYsLicagsF5EjZ2xHsje63F9FQsi5CFUV8-usc/edit?usp=sharing)\n",
        "\n"
      ]
    },
    {
      "cell_type": "code",
      "metadata": {
        "id": "jxd6s7EZwjb6"
      },
      "source": [
        "# Python packages required to read in and Census API data\n",
        "import requests ## Required for the Census API\n",
        "import pandas as pd # For reading, writing and wrangling data"
      ],
      "execution_count": null,
      "outputs": []
    },
    {
      "cell_type": "markdown",
      "metadata": {
        "id": "lwbY5z9jxDo7"
      },
      "source": [
        "## Step 1: Obtain Data\n",
        "Each state in the United States has a unique 2 digit FIPS code.\n",
        "\n",
        "For [a list of State FIPS codes click here.](https://www.nrcs.usda.gov/wps/portal/nrcs/detail/?cid=nrcs143_013696)\n",
        "\n",
        "In the code block below, notice first line has the words `in=state:48`.\n",
        "\n",
        "This code will get data for Texas (FIPS = 48).\n",
        "\n",
        "To get data for a different state change the FIPS code.\n",
        "\n",
        "For example, if you want data for California, change `in=state:48` to `in=state:06` "
      ]
    },
    {
      "cell_type": "code",
      "metadata": {
        "id": "TrXui4kNw-QM",
        "outputId": "9d165ec6-8b58-498c-a50c-2a42d4c13665",
        "colab": {
          "base_uri": "https://localhost:8080/",
          "height": 202
        }
      },
      "source": [
        "apijson = requests.get('https://api.census.gov/data/2010/dec/sf1?get=H001001,P001001&for=tract:*&in=state:54')\n",
        "# Convert the requested json into pandas dataframe\n",
        "tractdf = pd.DataFrame(columns=apijson.json()[0], data=apijson.json()[1:])\n",
        "tractdf.head()"
      ],
      "execution_count": null,
      "outputs": [
        {
          "output_type": "execute_result",
          "data": {
            "text/html": [
              "<div>\n",
              "<style scoped>\n",
              "    .dataframe tbody tr th:only-of-type {\n",
              "        vertical-align: middle;\n",
              "    }\n",
              "\n",
              "    .dataframe tbody tr th {\n",
              "        vertical-align: top;\n",
              "    }\n",
              "\n",
              "    .dataframe thead th {\n",
              "        text-align: right;\n",
              "    }\n",
              "</style>\n",
              "<table border=\"1\" class=\"dataframe\">\n",
              "  <thead>\n",
              "    <tr style=\"text-align: right;\">\n",
              "      <th></th>\n",
              "      <th>H001001</th>\n",
              "      <th>P001001</th>\n",
              "      <th>state</th>\n",
              "      <th>county</th>\n",
              "      <th>tract</th>\n",
              "    </tr>\n",
              "  </thead>\n",
              "  <tbody>\n",
              "    <tr>\n",
              "      <th>0</th>\n",
              "      <td>2567</td>\n",
              "      <td>6054</td>\n",
              "      <td>54</td>\n",
              "      <td>011</td>\n",
              "      <td>010102</td>\n",
              "    </tr>\n",
              "    <tr>\n",
              "      <th>1</th>\n",
              "      <td>2843</td>\n",
              "      <td>5648</td>\n",
              "      <td>54</td>\n",
              "      <td>011</td>\n",
              "      <td>010201</td>\n",
              "    </tr>\n",
              "    <tr>\n",
              "      <th>2</th>\n",
              "      <td>1975</td>\n",
              "      <td>4069</td>\n",
              "      <td>54</td>\n",
              "      <td>011</td>\n",
              "      <td>010202</td>\n",
              "    </tr>\n",
              "    <tr>\n",
              "      <th>3</th>\n",
              "      <td>1299</td>\n",
              "      <td>2981</td>\n",
              "      <td>54</td>\n",
              "      <td>011</td>\n",
              "      <td>010300</td>\n",
              "    </tr>\n",
              "    <tr>\n",
              "      <th>4</th>\n",
              "      <td>2625</td>\n",
              "      <td>6164</td>\n",
              "      <td>54</td>\n",
              "      <td>011</td>\n",
              "      <td>010400</td>\n",
              "    </tr>\n",
              "  </tbody>\n",
              "</table>\n",
              "</div>"
            ],
            "text/plain": [
              "  H001001 P001001 state county   tract\n",
              "0    2567    6054    54    011  010102\n",
              "1    2843    5648    54    011  010201\n",
              "2    1975    4069    54    011  010202\n",
              "3    1299    2981    54    011  010300\n",
              "4    2625    6164    54    011  010400"
            ]
          },
          "metadata": {
            "tags": []
          },
          "execution_count": 23
        }
      ]
    },
    {
      "cell_type": "markdown",
      "metadata": {
        "id": "tckJOdRRyN44"
      },
      "source": [
        "## Step 2: Clean Data\n",
        "Data cleaning is an important step in the data science process. This step is often the hardest and most time consuming. "
      ]
    },
    {
      "cell_type": "code",
      "metadata": {
        "id": "Ow6ijpWEyPTu",
        "outputId": "34ab537a-33d8-4caa-db8d-c2dbe5278f5d",
        "colab": {
          "base_uri": "https://localhost:8080/",
          "height": 202
        }
      },
      "source": [
        "### 2.1 Set the variable type\n",
        "tractdf[\"H001001\"] = tractdf[\"H001001\"].astype(int)\n",
        "tractdf[\"P001001\"] = tractdf[\"P001001\"].astype(int)\n",
        "\n",
        "### 2.2 Label variables\n",
        "tractdf = tractdf.rename(columns={\"H001001\": \"Total Housing Units\", \n",
        "                                  \"P001001\": \"Total Population\"})\n",
        "tractdf.head()"
      ],
      "execution_count": null,
      "outputs": [
        {
          "output_type": "execute_result",
          "data": {
            "text/html": [
              "<div>\n",
              "<style scoped>\n",
              "    .dataframe tbody tr th:only-of-type {\n",
              "        vertical-align: middle;\n",
              "    }\n",
              "\n",
              "    .dataframe tbody tr th {\n",
              "        vertical-align: top;\n",
              "    }\n",
              "\n",
              "    .dataframe thead th {\n",
              "        text-align: right;\n",
              "    }\n",
              "</style>\n",
              "<table border=\"1\" class=\"dataframe\">\n",
              "  <thead>\n",
              "    <tr style=\"text-align: right;\">\n",
              "      <th></th>\n",
              "      <th>Total Housing Units</th>\n",
              "      <th>Total Population</th>\n",
              "      <th>state</th>\n",
              "      <th>county</th>\n",
              "      <th>tract</th>\n",
              "    </tr>\n",
              "  </thead>\n",
              "  <tbody>\n",
              "    <tr>\n",
              "      <th>0</th>\n",
              "      <td>2567</td>\n",
              "      <td>6054</td>\n",
              "      <td>54</td>\n",
              "      <td>011</td>\n",
              "      <td>010102</td>\n",
              "    </tr>\n",
              "    <tr>\n",
              "      <th>1</th>\n",
              "      <td>2843</td>\n",
              "      <td>5648</td>\n",
              "      <td>54</td>\n",
              "      <td>011</td>\n",
              "      <td>010201</td>\n",
              "    </tr>\n",
              "    <tr>\n",
              "      <th>2</th>\n",
              "      <td>1975</td>\n",
              "      <td>4069</td>\n",
              "      <td>54</td>\n",
              "      <td>011</td>\n",
              "      <td>010202</td>\n",
              "    </tr>\n",
              "    <tr>\n",
              "      <th>3</th>\n",
              "      <td>1299</td>\n",
              "      <td>2981</td>\n",
              "      <td>54</td>\n",
              "      <td>011</td>\n",
              "      <td>010300</td>\n",
              "    </tr>\n",
              "    <tr>\n",
              "      <th>4</th>\n",
              "      <td>2625</td>\n",
              "      <td>6164</td>\n",
              "      <td>54</td>\n",
              "      <td>011</td>\n",
              "      <td>010400</td>\n",
              "    </tr>\n",
              "  </tbody>\n",
              "</table>\n",
              "</div>"
            ],
            "text/plain": [
              "   Total Housing Units  Total Population state county   tract\n",
              "0                 2567              6054    54    011  010102\n",
              "1                 2843              5648    54    011  010201\n",
              "2                 1975              4069    54    011  010202\n",
              "3                 1299              2981    54    011  010300\n",
              "4                 2625              6164    54    011  010400"
            ]
          },
          "metadata": {
            "tags": []
          },
          "execution_count": 24
        }
      ]
    },
    {
      "cell_type": "markdown",
      "metadata": {
        "id": "i1EAKmFmyk5J"
      },
      "source": [
        "## Step 3: Describe the data\n",
        "Descriptive methods summarize the data. Descriptive statistics summarize data with numbers, tables, and graphs. The following block of code creates and formats a table using the `describe` function. The table provides eight descriptive statistics. These include the count, the mean, the standard deviation (std), the minimum (min), the lower quartile (25%), the median (50%), the upper quartile (75%), and the maximum (max)."
      ]
    },
    {
      "cell_type": "code",
      "metadata": {
        "id": "i7TgMKgmygQc",
        "outputId": "2a90c76e-4cd8-424b-ff3e-1944590cbe1f",
        "colab": {
          "base_uri": "https://localhost:8080/",
          "height": 240
        }
      },
      "source": [
        "table1 = tractdf[['Total Housing Units','Total Population']].describe()\n",
        "varformat = \"{:,.0f}\" # The variable format adds a comma and rounds up\n",
        "table_title = \"Table 1. Descriptive statistics for total housing units and population by census tract, 2010.\"\n",
        "table1 = table1.style.set_caption(table_title).format(varformat).set_properties(**{'text-align': 'right'})\n",
        "table1"
      ],
      "execution_count": null,
      "outputs": [
        {
          "output_type": "execute_result",
          "data": {
            "text/html": [
              "<style  type=\"text/css\" >\n",
              "    #T_185decd2_f90d_11ea_81bd_0242ac1c0002row0_col0 {\n",
              "            text-align:  right;\n",
              "        }    #T_185decd2_f90d_11ea_81bd_0242ac1c0002row0_col1 {\n",
              "            text-align:  right;\n",
              "        }    #T_185decd2_f90d_11ea_81bd_0242ac1c0002row1_col0 {\n",
              "            text-align:  right;\n",
              "        }    #T_185decd2_f90d_11ea_81bd_0242ac1c0002row1_col1 {\n",
              "            text-align:  right;\n",
              "        }    #T_185decd2_f90d_11ea_81bd_0242ac1c0002row2_col0 {\n",
              "            text-align:  right;\n",
              "        }    #T_185decd2_f90d_11ea_81bd_0242ac1c0002row2_col1 {\n",
              "            text-align:  right;\n",
              "        }    #T_185decd2_f90d_11ea_81bd_0242ac1c0002row3_col0 {\n",
              "            text-align:  right;\n",
              "        }    #T_185decd2_f90d_11ea_81bd_0242ac1c0002row3_col1 {\n",
              "            text-align:  right;\n",
              "        }    #T_185decd2_f90d_11ea_81bd_0242ac1c0002row4_col0 {\n",
              "            text-align:  right;\n",
              "        }    #T_185decd2_f90d_11ea_81bd_0242ac1c0002row4_col1 {\n",
              "            text-align:  right;\n",
              "        }    #T_185decd2_f90d_11ea_81bd_0242ac1c0002row5_col0 {\n",
              "            text-align:  right;\n",
              "        }    #T_185decd2_f90d_11ea_81bd_0242ac1c0002row5_col1 {\n",
              "            text-align:  right;\n",
              "        }    #T_185decd2_f90d_11ea_81bd_0242ac1c0002row6_col0 {\n",
              "            text-align:  right;\n",
              "        }    #T_185decd2_f90d_11ea_81bd_0242ac1c0002row6_col1 {\n",
              "            text-align:  right;\n",
              "        }    #T_185decd2_f90d_11ea_81bd_0242ac1c0002row7_col0 {\n",
              "            text-align:  right;\n",
              "        }    #T_185decd2_f90d_11ea_81bd_0242ac1c0002row7_col1 {\n",
              "            text-align:  right;\n",
              "        }</style><table id=\"T_185decd2_f90d_11ea_81bd_0242ac1c0002\" ><caption>Table 1. Descriptive statistics for total housing units and population by census tract, 2010.</caption><thead>    <tr>        <th class=\"blank level0\" ></th>        <th class=\"col_heading level0 col0\" >Total Housing Units</th>        <th class=\"col_heading level0 col1\" >Total Population</th>    </tr></thead><tbody>\n",
              "                <tr>\n",
              "                        <th id=\"T_185decd2_f90d_11ea_81bd_0242ac1c0002level0_row0\" class=\"row_heading level0 row0\" >count</th>\n",
              "                        <td id=\"T_185decd2_f90d_11ea_81bd_0242ac1c0002row0_col0\" class=\"data row0 col0\" >484</td>\n",
              "                        <td id=\"T_185decd2_f90d_11ea_81bd_0242ac1c0002row0_col1\" class=\"data row0 col1\" >484</td>\n",
              "            </tr>\n",
              "            <tr>\n",
              "                        <th id=\"T_185decd2_f90d_11ea_81bd_0242ac1c0002level0_row1\" class=\"row_heading level0 row1\" >mean</th>\n",
              "                        <td id=\"T_185decd2_f90d_11ea_81bd_0242ac1c0002row1_col0\" class=\"data row1 col0\" >1,822</td>\n",
              "                        <td id=\"T_185decd2_f90d_11ea_81bd_0242ac1c0002row1_col1\" class=\"data row1 col1\" >3,828</td>\n",
              "            </tr>\n",
              "            <tr>\n",
              "                        <th id=\"T_185decd2_f90d_11ea_81bd_0242ac1c0002level0_row2\" class=\"row_heading level0 row2\" >std</th>\n",
              "                        <td id=\"T_185decd2_f90d_11ea_81bd_0242ac1c0002row2_col0\" class=\"data row2 col0\" >682</td>\n",
              "                        <td id=\"T_185decd2_f90d_11ea_81bd_0242ac1c0002row2_col1\" class=\"data row2 col1\" >1,568</td>\n",
              "            </tr>\n",
              "            <tr>\n",
              "                        <th id=\"T_185decd2_f90d_11ea_81bd_0242ac1c0002level0_row3\" class=\"row_heading level0 row3\" >min</th>\n",
              "                        <td id=\"T_185decd2_f90d_11ea_81bd_0242ac1c0002row3_col0\" class=\"data row3 col0\" >312</td>\n",
              "                        <td id=\"T_185decd2_f90d_11ea_81bd_0242ac1c0002row3_col1\" class=\"data row3 col1\" >990</td>\n",
              "            </tr>\n",
              "            <tr>\n",
              "                        <th id=\"T_185decd2_f90d_11ea_81bd_0242ac1c0002level0_row4\" class=\"row_heading level0 row4\" >25%</th>\n",
              "                        <td id=\"T_185decd2_f90d_11ea_81bd_0242ac1c0002row4_col0\" class=\"data row4 col0\" >1,334</td>\n",
              "                        <td id=\"T_185decd2_f90d_11ea_81bd_0242ac1c0002row4_col1\" class=\"data row4 col1\" >2,658</td>\n",
              "            </tr>\n",
              "            <tr>\n",
              "                        <th id=\"T_185decd2_f90d_11ea_81bd_0242ac1c0002level0_row5\" class=\"row_heading level0 row5\" >50%</th>\n",
              "                        <td id=\"T_185decd2_f90d_11ea_81bd_0242ac1c0002row5_col0\" class=\"data row5 col0\" >1,784</td>\n",
              "                        <td id=\"T_185decd2_f90d_11ea_81bd_0242ac1c0002row5_col1\" class=\"data row5 col1\" >3,748</td>\n",
              "            </tr>\n",
              "            <tr>\n",
              "                        <th id=\"T_185decd2_f90d_11ea_81bd_0242ac1c0002level0_row6\" class=\"row_heading level0 row6\" >75%</th>\n",
              "                        <td id=\"T_185decd2_f90d_11ea_81bd_0242ac1c0002row6_col0\" class=\"data row6 col0\" >2,217</td>\n",
              "                        <td id=\"T_185decd2_f90d_11ea_81bd_0242ac1c0002row6_col1\" class=\"data row6 col1\" >4,696</td>\n",
              "            </tr>\n",
              "            <tr>\n",
              "                        <th id=\"T_185decd2_f90d_11ea_81bd_0242ac1c0002level0_row7\" class=\"row_heading level0 row7\" >max</th>\n",
              "                        <td id=\"T_185decd2_f90d_11ea_81bd_0242ac1c0002row7_col0\" class=\"data row7 col0\" >4,479</td>\n",
              "                        <td id=\"T_185decd2_f90d_11ea_81bd_0242ac1c0002row7_col1\" class=\"data row7 col1\" >11,756</td>\n",
              "            </tr>\n",
              "    </tbody></table>"
            ],
            "text/plain": [
              "<pandas.io.formats.style.Styler at 0x7f5be47129e8>"
            ]
          },
          "metadata": {
            "tags": []
          },
          "execution_count": 25
        }
      ]
    },
    {
      "cell_type": "markdown",
      "metadata": {
        "id": "IXa2Mully6h8"
      },
      "source": [
        "#### 3.4.2 Z-Score Outliers\n",
        "Another way to identify outliers is by looking at the z-score, or the number of standard deviations an observation falls from the mean. \n",
        "The formula for z-score is\n",
        "\n",
        ">$z = \\frac{observation - mean}{{standard deviation}}$\n",
        "\n",
        "If a census tracts z-score is greater than or less than 3 it would be considered an outlier."
      ]
    },
    {
      "cell_type": "code",
      "metadata": {
        "id": "dNMq0phKy9dK"
      },
      "source": [
        "mean = tractdf['Total Population'].mean()\n",
        "standard_deviation = tractdf['Total Population'].std()\n",
        "tractdf['Total Population Z-score'] = (tractdf['Total Population'] - mean)/standard_deviation\n",
        "# Create a new variable to identify outliers\n",
        "tractdf['Z-score Outlier Total Population'] = 0\n",
        "tractdf.loc[abs(tractdf['Total Population Z-score']) > 3, \n",
        "            'Z-score Outlier Total Population'] = 1"
      ],
      "execution_count": null,
      "outputs": []
    },
    {
      "cell_type": "code",
      "metadata": {
        "id": "YrZW_JulzHto",
        "outputId": "0c2affc6-ccf0-428d-80d4-1bb51ed7db9f",
        "colab": {
          "base_uri": "https://localhost:8080/",
          "height": 223
        }
      },
      "source": [
        "table2 = tractdf.loc[tractdf['Z-score Outlier Total Population'] == 1].describe()\n",
        "varformat = \"{:,.0f}\" # The variable format adds a comma and rounds up\n",
        "table_title = \"Table 2. Descriptive statistics for Z-score outlier census tracts, 2010.\"\n",
        "table2 = table2.style.set_caption(table_title).format(varformat).set_properties(**{'text-align': 'right'})\n",
        "table2"
      ],
      "execution_count": null,
      "outputs": [
        {
          "output_type": "execute_result",
          "data": {
            "text/html": [
              "<style  type=\"text/css\" >\n",
              "    #T_1867d972_f90d_11ea_81bd_0242ac1c0002row0_col0 {\n",
              "            text-align:  right;\n",
              "        }    #T_1867d972_f90d_11ea_81bd_0242ac1c0002row0_col1 {\n",
              "            text-align:  right;\n",
              "        }    #T_1867d972_f90d_11ea_81bd_0242ac1c0002row0_col2 {\n",
              "            text-align:  right;\n",
              "        }    #T_1867d972_f90d_11ea_81bd_0242ac1c0002row0_col3 {\n",
              "            text-align:  right;\n",
              "        }    #T_1867d972_f90d_11ea_81bd_0242ac1c0002row1_col0 {\n",
              "            text-align:  right;\n",
              "        }    #T_1867d972_f90d_11ea_81bd_0242ac1c0002row1_col1 {\n",
              "            text-align:  right;\n",
              "        }    #T_1867d972_f90d_11ea_81bd_0242ac1c0002row1_col2 {\n",
              "            text-align:  right;\n",
              "        }    #T_1867d972_f90d_11ea_81bd_0242ac1c0002row1_col3 {\n",
              "            text-align:  right;\n",
              "        }    #T_1867d972_f90d_11ea_81bd_0242ac1c0002row2_col0 {\n",
              "            text-align:  right;\n",
              "        }    #T_1867d972_f90d_11ea_81bd_0242ac1c0002row2_col1 {\n",
              "            text-align:  right;\n",
              "        }    #T_1867d972_f90d_11ea_81bd_0242ac1c0002row2_col2 {\n",
              "            text-align:  right;\n",
              "        }    #T_1867d972_f90d_11ea_81bd_0242ac1c0002row2_col3 {\n",
              "            text-align:  right;\n",
              "        }    #T_1867d972_f90d_11ea_81bd_0242ac1c0002row3_col0 {\n",
              "            text-align:  right;\n",
              "        }    #T_1867d972_f90d_11ea_81bd_0242ac1c0002row3_col1 {\n",
              "            text-align:  right;\n",
              "        }    #T_1867d972_f90d_11ea_81bd_0242ac1c0002row3_col2 {\n",
              "            text-align:  right;\n",
              "        }    #T_1867d972_f90d_11ea_81bd_0242ac1c0002row3_col3 {\n",
              "            text-align:  right;\n",
              "        }    #T_1867d972_f90d_11ea_81bd_0242ac1c0002row4_col0 {\n",
              "            text-align:  right;\n",
              "        }    #T_1867d972_f90d_11ea_81bd_0242ac1c0002row4_col1 {\n",
              "            text-align:  right;\n",
              "        }    #T_1867d972_f90d_11ea_81bd_0242ac1c0002row4_col2 {\n",
              "            text-align:  right;\n",
              "        }    #T_1867d972_f90d_11ea_81bd_0242ac1c0002row4_col3 {\n",
              "            text-align:  right;\n",
              "        }    #T_1867d972_f90d_11ea_81bd_0242ac1c0002row5_col0 {\n",
              "            text-align:  right;\n",
              "        }    #T_1867d972_f90d_11ea_81bd_0242ac1c0002row5_col1 {\n",
              "            text-align:  right;\n",
              "        }    #T_1867d972_f90d_11ea_81bd_0242ac1c0002row5_col2 {\n",
              "            text-align:  right;\n",
              "        }    #T_1867d972_f90d_11ea_81bd_0242ac1c0002row5_col3 {\n",
              "            text-align:  right;\n",
              "        }    #T_1867d972_f90d_11ea_81bd_0242ac1c0002row6_col0 {\n",
              "            text-align:  right;\n",
              "        }    #T_1867d972_f90d_11ea_81bd_0242ac1c0002row6_col1 {\n",
              "            text-align:  right;\n",
              "        }    #T_1867d972_f90d_11ea_81bd_0242ac1c0002row6_col2 {\n",
              "            text-align:  right;\n",
              "        }    #T_1867d972_f90d_11ea_81bd_0242ac1c0002row6_col3 {\n",
              "            text-align:  right;\n",
              "        }    #T_1867d972_f90d_11ea_81bd_0242ac1c0002row7_col0 {\n",
              "            text-align:  right;\n",
              "        }    #T_1867d972_f90d_11ea_81bd_0242ac1c0002row7_col1 {\n",
              "            text-align:  right;\n",
              "        }    #T_1867d972_f90d_11ea_81bd_0242ac1c0002row7_col2 {\n",
              "            text-align:  right;\n",
              "        }    #T_1867d972_f90d_11ea_81bd_0242ac1c0002row7_col3 {\n",
              "            text-align:  right;\n",
              "        }</style><table id=\"T_1867d972_f90d_11ea_81bd_0242ac1c0002\" ><caption>Table 2. Descriptive statistics for Z-score outlier census tracts, 2010.</caption><thead>    <tr>        <th class=\"blank level0\" ></th>        <th class=\"col_heading level0 col0\" >Total Housing Units</th>        <th class=\"col_heading level0 col1\" >Total Population</th>        <th class=\"col_heading level0 col2\" >Total Population Z-score</th>        <th class=\"col_heading level0 col3\" >Z-score Outlier Total Population</th>    </tr></thead><tbody>\n",
              "                <tr>\n",
              "                        <th id=\"T_1867d972_f90d_11ea_81bd_0242ac1c0002level0_row0\" class=\"row_heading level0 row0\" >count</th>\n",
              "                        <td id=\"T_1867d972_f90d_11ea_81bd_0242ac1c0002row0_col0\" class=\"data row0 col0\" >6</td>\n",
              "                        <td id=\"T_1867d972_f90d_11ea_81bd_0242ac1c0002row0_col1\" class=\"data row0 col1\" >6</td>\n",
              "                        <td id=\"T_1867d972_f90d_11ea_81bd_0242ac1c0002row0_col2\" class=\"data row0 col2\" >6</td>\n",
              "                        <td id=\"T_1867d972_f90d_11ea_81bd_0242ac1c0002row0_col3\" class=\"data row0 col3\" >6</td>\n",
              "            </tr>\n",
              "            <tr>\n",
              "                        <th id=\"T_1867d972_f90d_11ea_81bd_0242ac1c0002level0_row1\" class=\"row_heading level0 row1\" >mean</th>\n",
              "                        <td id=\"T_1867d972_f90d_11ea_81bd_0242ac1c0002row1_col0\" class=\"data row1 col0\" >3,941</td>\n",
              "                        <td id=\"T_1867d972_f90d_11ea_81bd_0242ac1c0002row1_col1\" class=\"data row1 col1\" >9,771</td>\n",
              "                        <td id=\"T_1867d972_f90d_11ea_81bd_0242ac1c0002row1_col2\" class=\"data row1 col2\" >4</td>\n",
              "                        <td id=\"T_1867d972_f90d_11ea_81bd_0242ac1c0002row1_col3\" class=\"data row1 col3\" >1</td>\n",
              "            </tr>\n",
              "            <tr>\n",
              "                        <th id=\"T_1867d972_f90d_11ea_81bd_0242ac1c0002level0_row2\" class=\"row_heading level0 row2\" >std</th>\n",
              "                        <td id=\"T_1867d972_f90d_11ea_81bd_0242ac1c0002row2_col0\" class=\"data row2 col0\" >300</td>\n",
              "                        <td id=\"T_1867d972_f90d_11ea_81bd_0242ac1c0002row2_col1\" class=\"data row2 col1\" >1,115</td>\n",
              "                        <td id=\"T_1867d972_f90d_11ea_81bd_0242ac1c0002row2_col2\" class=\"data row2 col2\" >1</td>\n",
              "                        <td id=\"T_1867d972_f90d_11ea_81bd_0242ac1c0002row2_col3\" class=\"data row2 col3\" >0</td>\n",
              "            </tr>\n",
              "            <tr>\n",
              "                        <th id=\"T_1867d972_f90d_11ea_81bd_0242ac1c0002level0_row3\" class=\"row_heading level0 row3\" >min</th>\n",
              "                        <td id=\"T_1867d972_f90d_11ea_81bd_0242ac1c0002row3_col0\" class=\"data row3 col0\" >3,617</td>\n",
              "                        <td id=\"T_1867d972_f90d_11ea_81bd_0242ac1c0002row3_col1\" class=\"data row3 col1\" >8,554</td>\n",
              "                        <td id=\"T_1867d972_f90d_11ea_81bd_0242ac1c0002row3_col2\" class=\"data row3 col2\" >3</td>\n",
              "                        <td id=\"T_1867d972_f90d_11ea_81bd_0242ac1c0002row3_col3\" class=\"data row3 col3\" >1</td>\n",
              "            </tr>\n",
              "            <tr>\n",
              "                        <th id=\"T_1867d972_f90d_11ea_81bd_0242ac1c0002level0_row4\" class=\"row_heading level0 row4\" >25%</th>\n",
              "                        <td id=\"T_1867d972_f90d_11ea_81bd_0242ac1c0002row4_col0\" class=\"data row4 col0\" >3,771</td>\n",
              "                        <td id=\"T_1867d972_f90d_11ea_81bd_0242ac1c0002row4_col1\" class=\"data row4 col1\" >9,095</td>\n",
              "                        <td id=\"T_1867d972_f90d_11ea_81bd_0242ac1c0002row4_col2\" class=\"data row4 col2\" >3</td>\n",
              "                        <td id=\"T_1867d972_f90d_11ea_81bd_0242ac1c0002row4_col3\" class=\"data row4 col3\" >1</td>\n",
              "            </tr>\n",
              "            <tr>\n",
              "                        <th id=\"T_1867d972_f90d_11ea_81bd_0242ac1c0002level0_row5\" class=\"row_heading level0 row5\" >50%</th>\n",
              "                        <td id=\"T_1867d972_f90d_11ea_81bd_0242ac1c0002row5_col0\" class=\"data row5 col0\" >3,884</td>\n",
              "                        <td id=\"T_1867d972_f90d_11ea_81bd_0242ac1c0002row5_col1\" class=\"data row5 col1\" >9,774</td>\n",
              "                        <td id=\"T_1867d972_f90d_11ea_81bd_0242ac1c0002row5_col2\" class=\"data row5 col2\" >4</td>\n",
              "                        <td id=\"T_1867d972_f90d_11ea_81bd_0242ac1c0002row5_col3\" class=\"data row5 col3\" >1</td>\n",
              "            </tr>\n",
              "            <tr>\n",
              "                        <th id=\"T_1867d972_f90d_11ea_81bd_0242ac1c0002level0_row6\" class=\"row_heading level0 row6\" >75%</th>\n",
              "                        <td id=\"T_1867d972_f90d_11ea_81bd_0242ac1c0002row6_col0\" class=\"data row6 col0\" >4,006</td>\n",
              "                        <td id=\"T_1867d972_f90d_11ea_81bd_0242ac1c0002row6_col1\" class=\"data row6 col1\" >9,868</td>\n",
              "                        <td id=\"T_1867d972_f90d_11ea_81bd_0242ac1c0002row6_col2\" class=\"data row6 col2\" >4</td>\n",
              "                        <td id=\"T_1867d972_f90d_11ea_81bd_0242ac1c0002row6_col3\" class=\"data row6 col3\" >1</td>\n",
              "            </tr>\n",
              "            <tr>\n",
              "                        <th id=\"T_1867d972_f90d_11ea_81bd_0242ac1c0002level0_row7\" class=\"row_heading level0 row7\" >max</th>\n",
              "                        <td id=\"T_1867d972_f90d_11ea_81bd_0242ac1c0002row7_col0\" class=\"data row7 col0\" >4,479</td>\n",
              "                        <td id=\"T_1867d972_f90d_11ea_81bd_0242ac1c0002row7_col1\" class=\"data row7 col1\" >11,756</td>\n",
              "                        <td id=\"T_1867d972_f90d_11ea_81bd_0242ac1c0002row7_col2\" class=\"data row7 col2\" >5</td>\n",
              "                        <td id=\"T_1867d972_f90d_11ea_81bd_0242ac1c0002row7_col3\" class=\"data row7 col3\" >1</td>\n",
              "            </tr>\n",
              "    </tbody></table>"
            ],
            "text/plain": [
              "<pandas.io.formats.style.Styler at 0x7f5be46ae2e8>"
            ]
          },
          "metadata": {
            "tags": []
          },
          "execution_count": 27
        }
      ]
    }
  ]
}