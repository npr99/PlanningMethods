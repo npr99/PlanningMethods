{
  "cells": [
    {
      "cell_type": "markdown",
      "metadata": {
        "colab_type": "text",
        "id": "view-in-github"
      },
      "source": [
        "<a href=\"https://colab.research.google.com/github/npr99/PlanningMethods/blob/master/PLAN604_Descriptive_Statistics_CensusTracts_Round2.ipynb\" target=\"_parent\"><img src=\"https://colab.research.google.com/assets/colab-badge.svg\" alt=\"Open In Colab\"/></a>"
      ]
    },
    {
      "cell_type": "markdown",
      "metadata": {
        "id": "P-EggxqJwovL"
      },
      "source": [
        "# Application of Descriptive Statistics: Finding US Census Tract Outliers Round 2\n",
        " \n",
        "---\n",
        "This Google Colab Notebook provides a complete workflow (sequence of steps from start to finish) that will allow you to explore [US Census Tracts](https://www.census.gov/glossary/#term_Censustract?term=Tract). \n",
        "\n",
        "This notebook has the fewest number of code blocks and minimal discussion. This notebook is designed to be modified and rerun for different states in the United States.\n",
        "\n",
        "# Instructions\n",
        "\n",
        "\n",
        "1.   Read the text in Step 1\n",
        "2.   Pick a state from the [shared Google Sheet](https://docs.google.com/spreadsheets/d/1pM7gCHYsLicagsF5EjZ2xHsje63F9FQsi5CFUV8-usc/edit?usp=sharing) - *be sure to type your name in the first column.* \n",
        "\n",
        "*Notice that the data from 2000 and 2000 were obtained and cleaned by the previous class.*\n",
        "\n",
        "3.   Modify the Census API code with the state FIPS code to your selected state\n",
        "3.   Run all of the codeblocks (Runtime -> Run All) \n",
        "4.   Look at the results in Tables 1 and 2\n",
        "5.   Copy and paste your results for *Total Population* into the [shared Google Sheet](https://docs.google.com/spreadsheets/d/1pM7gCHYsLicagsF5EjZ2xHsje63F9FQsi5CFUV8-usc/edit?usp=sharing) \n",
        "\n",
        "*Notice you are adding data from the 2000 Census*\n",
        "\n"
      ]
    },
    {
      "cell_type": "code",
      "execution_count": 1,
      "metadata": {
        "id": "jxd6s7EZwjb6"
      },
      "outputs": [],
      "source": [
        "# Python packages required to read in and Census API data\n",
        "import requests ## Required for the Census API\n",
        "import pandas as pd # For reading, writing and wrangling data"
      ]
    },
    {
      "cell_type": "markdown",
      "metadata": {
        "id": "lwbY5z9jxDo7"
      },
      "source": [
        "## Step 1: Obtain Data\n",
        "Each state in the United States has a unique 2 digit FIPS code.\n",
        "\n",
        "For [a list of State FIPS codes click here.](https://www.nrcs.usda.gov/wps/portal/nrcs/detail/?cid=nrcs143_013696)\n",
        "\n",
        "In the code block below, notice first line has the words `in=state:48`.\n",
        "\n",
        "This code will get data for Texas (FIPS = 48).\n",
        "\n",
        "To get data for a different state change the FIPS code.\n",
        "\n",
        "For example, if you want data for California, change `in=state:48` to `in=state:06` "
      ]
    },
    {
      "cell_type": "code",
      "execution_count": 2,
      "metadata": {
        "colab": {
          "base_uri": "https://localhost:8080/",
          "height": 204
        },
        "id": "TrXui4kNw-QM",
        "outputId": "c06f5800-ce2d-4bb7-df1f-898ac8a51861"
      },
      "outputs": [
        {
          "data": {
            "text/html": [
              "<div>\n",
              "<style scoped>\n",
              "    .dataframe tbody tr th:only-of-type {\n",
              "        vertical-align: middle;\n",
              "    }\n",
              "\n",
              "    .dataframe tbody tr th {\n",
              "        vertical-align: top;\n",
              "    }\n",
              "\n",
              "    .dataframe thead th {\n",
              "        text-align: right;\n",
              "    }\n",
              "</style>\n",
              "<table border=\"1\" class=\"dataframe\">\n",
              "  <thead>\n",
              "    <tr style=\"text-align: right;\">\n",
              "      <th></th>\n",
              "      <th>H001001</th>\n",
              "      <th>P001001</th>\n",
              "      <th>state</th>\n",
              "      <th>county</th>\n",
              "      <th>tract</th>\n",
              "    </tr>\n",
              "  </thead>\n",
              "  <tbody>\n",
              "    <tr>\n",
              "      <th>0</th>\n",
              "      <td>2077</td>\n",
              "      <td>4449</td>\n",
              "      <td>48</td>\n",
              "      <td>001</td>\n",
              "      <td>9501</td>\n",
              "    </tr>\n",
              "    <tr>\n",
              "      <th>1</th>\n",
              "      <td>1557</td>\n",
              "      <td>3371</td>\n",
              "      <td>48</td>\n",
              "      <td>001</td>\n",
              "      <td>9502</td>\n",
              "    </tr>\n",
              "    <tr>\n",
              "      <th>2</th>\n",
              "      <td>386</td>\n",
              "      <td>738</td>\n",
              "      <td>48</td>\n",
              "      <td>001</td>\n",
              "      <td>9503</td>\n",
              "    </tr>\n",
              "    <tr>\n",
              "      <th>3</th>\n",
              "      <td>170</td>\n",
              "      <td>14381</td>\n",
              "      <td>48</td>\n",
              "      <td>001</td>\n",
              "      <td>9504</td>\n",
              "    </tr>\n",
              "    <tr>\n",
              "      <th>4</th>\n",
              "      <td>1689</td>\n",
              "      <td>3954</td>\n",
              "      <td>48</td>\n",
              "      <td>001</td>\n",
              "      <td>9505</td>\n",
              "    </tr>\n",
              "  </tbody>\n",
              "</table>\n",
              "</div>"
            ],
            "text/plain": [
              "  H001001 P001001 state county tract\n",
              "0    2077    4449    48    001  9501\n",
              "1    1557    3371    48    001  9502\n",
              "2     386     738    48    001  9503\n",
              "3     170   14381    48    001  9504\n",
              "4    1689    3954    48    001  9505"
            ]
          },
          "execution_count": 2,
          "metadata": {},
          "output_type": "execute_result"
        }
      ],
      "source": [
        "apijson = requests.get('https://api.census.gov/data/2000/dec/sf1?get=H001001,P001001&for=tract:*&in=state:48')\n",
        "# Convert the requested json into pandas dataframe\n",
        "tractdf = pd.DataFrame(columns=apijson.json()[0], data=apijson.json()[1:])\n",
        "tractdf.head()"
      ]
    },
    {
      "cell_type": "markdown",
      "metadata": {
        "id": "tckJOdRRyN44"
      },
      "source": [
        "## Step 2: Clean Data\n",
        "Data cleaning is an important step in the data science process. This step is often the hardest and most time consuming. "
      ]
    },
    {
      "cell_type": "code",
      "execution_count": 3,
      "metadata": {
        "colab": {
          "base_uri": "https://localhost:8080/",
          "height": 204
        },
        "id": "Ow6ijpWEyPTu",
        "outputId": "d63480fa-a2ed-45ea-8992-68e34234b6da"
      },
      "outputs": [
        {
          "data": {
            "text/html": [
              "<div>\n",
              "<style scoped>\n",
              "    .dataframe tbody tr th:only-of-type {\n",
              "        vertical-align: middle;\n",
              "    }\n",
              "\n",
              "    .dataframe tbody tr th {\n",
              "        vertical-align: top;\n",
              "    }\n",
              "\n",
              "    .dataframe thead th {\n",
              "        text-align: right;\n",
              "    }\n",
              "</style>\n",
              "<table border=\"1\" class=\"dataframe\">\n",
              "  <thead>\n",
              "    <tr style=\"text-align: right;\">\n",
              "      <th></th>\n",
              "      <th>Total Housing Units</th>\n",
              "      <th>Total Population</th>\n",
              "      <th>state</th>\n",
              "      <th>county</th>\n",
              "      <th>tract</th>\n",
              "    </tr>\n",
              "  </thead>\n",
              "  <tbody>\n",
              "    <tr>\n",
              "      <th>0</th>\n",
              "      <td>2077</td>\n",
              "      <td>4449</td>\n",
              "      <td>48</td>\n",
              "      <td>001</td>\n",
              "      <td>9501</td>\n",
              "    </tr>\n",
              "    <tr>\n",
              "      <th>1</th>\n",
              "      <td>1557</td>\n",
              "      <td>3371</td>\n",
              "      <td>48</td>\n",
              "      <td>001</td>\n",
              "      <td>9502</td>\n",
              "    </tr>\n",
              "    <tr>\n",
              "      <th>2</th>\n",
              "      <td>386</td>\n",
              "      <td>738</td>\n",
              "      <td>48</td>\n",
              "      <td>001</td>\n",
              "      <td>9503</td>\n",
              "    </tr>\n",
              "    <tr>\n",
              "      <th>3</th>\n",
              "      <td>170</td>\n",
              "      <td>14381</td>\n",
              "      <td>48</td>\n",
              "      <td>001</td>\n",
              "      <td>9504</td>\n",
              "    </tr>\n",
              "    <tr>\n",
              "      <th>4</th>\n",
              "      <td>1689</td>\n",
              "      <td>3954</td>\n",
              "      <td>48</td>\n",
              "      <td>001</td>\n",
              "      <td>9505</td>\n",
              "    </tr>\n",
              "  </tbody>\n",
              "</table>\n",
              "</div>"
            ],
            "text/plain": [
              "   Total Housing Units  Total Population state county tract\n",
              "0                 2077              4449    48    001  9501\n",
              "1                 1557              3371    48    001  9502\n",
              "2                  386               738    48    001  9503\n",
              "3                  170             14381    48    001  9504\n",
              "4                 1689              3954    48    001  9505"
            ]
          },
          "execution_count": 3,
          "metadata": {},
          "output_type": "execute_result"
        }
      ],
      "source": [
        "### 2.1 Set the variable type\n",
        "tractdf[\"H001001\"] = tractdf[\"H001001\"].astype(int)\n",
        "tractdf[\"P001001\"] = tractdf[\"P001001\"].astype(int)\n",
        "\n",
        "### 2.2 Label variables\n",
        "tractdf = tractdf.rename(columns={\"H001001\": \"Total Housing Units\", \n",
        "                                  \"P001001\": \"Total Population\"})\n",
        "tractdf.head()"
      ]
    },
    {
      "cell_type": "markdown",
      "metadata": {
        "id": "i1EAKmFmyk5J"
      },
      "source": [
        "## Step 3: Describe the data\n",
        "Descriptive methods summarize the data. Descriptive statistics summarize data with numbers, tables, and graphs. The following block of code creates and formats a table using the `describe` function. The table provides eight descriptive statistics. These include the count, the mean, the standard deviation (std), the minimum (min), the lower quartile (25%), the median (50%), the upper quartile (75%), and the maximum (max)."
      ]
    },
    {
      "cell_type": "code",
      "execution_count": 22,
      "metadata": {
        "colab": {
          "base_uri": "https://localhost:8080/",
          "height": 95
        },
        "id": "i7TgMKgmygQc",
        "outputId": "744e0bf3-5199-467b-95cf-147a1972a610"
      },
      "outputs": [
        {
          "data": {
            "text/html": [
              "<style  type=\"text/css\" >\n",
              "#T_04f04232_1aed_11ec_b1fb_0242ac1c0002row0_col0,#T_04f04232_1aed_11ec_b1fb_0242ac1c0002row0_col1,#T_04f04232_1aed_11ec_b1fb_0242ac1c0002row0_col2,#T_04f04232_1aed_11ec_b1fb_0242ac1c0002row0_col3,#T_04f04232_1aed_11ec_b1fb_0242ac1c0002row0_col4,#T_04f04232_1aed_11ec_b1fb_0242ac1c0002row0_col5,#T_04f04232_1aed_11ec_b1fb_0242ac1c0002row0_col6,#T_04f04232_1aed_11ec_b1fb_0242ac1c0002row0_col7{\n",
              "            text-align:  right;\n",
              "        }</style><table id=\"T_04f04232_1aed_11ec_b1fb_0242ac1c0002\" ><caption>Table 1. Descriptive statistics for total population by census tract, 2020.</caption><thead>    <tr>        <th class=\"blank level0\" ></th>        <th class=\"col_heading level0 col0\" >count</th>        <th class=\"col_heading level0 col1\" >mean</th>        <th class=\"col_heading level0 col2\" >std</th>        <th class=\"col_heading level0 col3\" >min</th>        <th class=\"col_heading level0 col4\" >25%</th>        <th class=\"col_heading level0 col5\" >50%</th>        <th class=\"col_heading level0 col6\" >75%</th>        <th class=\"col_heading level0 col7\" >max</th>    </tr></thead><tbody>\n",
              "                <tr>\n",
              "                        <th id=\"T_04f04232_1aed_11ec_b1fb_0242ac1c0002level0_row0\" class=\"row_heading level0 row0\" >Total Population</th>\n",
              "                        <td id=\"T_04f04232_1aed_11ec_b1fb_0242ac1c0002row0_col0\" class=\"data row0 col0\" >6,896</td>\n",
              "                        <td id=\"T_04f04232_1aed_11ec_b1fb_0242ac1c0002row0_col1\" class=\"data row0 col1\" >4,226</td>\n",
              "                        <td id=\"T_04f04232_1aed_11ec_b1fb_0242ac1c0002row0_col2\" class=\"data row0 col2\" >2,026</td>\n",
              "                        <td id=\"T_04f04232_1aed_11ec_b1fb_0242ac1c0002row0_col3\" class=\"data row0 col3\" >0</td>\n",
              "                        <td id=\"T_04f04232_1aed_11ec_b1fb_0242ac1c0002row0_col4\" class=\"data row0 col4\" >2,860</td>\n",
              "                        <td id=\"T_04f04232_1aed_11ec_b1fb_0242ac1c0002row0_col5\" class=\"data row0 col5\" >3,957</td>\n",
              "                        <td id=\"T_04f04232_1aed_11ec_b1fb_0242ac1c0002row0_col6\" class=\"data row0 col6\" >5,194</td>\n",
              "                        <td id=\"T_04f04232_1aed_11ec_b1fb_0242ac1c0002row0_col7\" class=\"data row0 col7\" >30,199</td>\n",
              "            </tr>\n",
              "    </tbody></table>"
            ],
            "text/plain": [
              "<pandas.io.formats.style.Styler at 0x7f89cdf38d10>"
            ]
          },
          "execution_count": 22,
          "metadata": {},
          "output_type": "execute_result"
        }
      ],
      "source": [
        "table1 = tractdf[['Total Population']].describe().T\n",
        "varformat = \"{:,.0f}\" # The variable format adds a comma and rounds up\n",
        "table_title = \"Table 1. Descriptive statistics for total population by census tract, 2000.\"\n",
        "table1 = table1.style.set_caption(table_title).format(varformat).set_properties(**{'text-align': 'right'})\n",
        "table1"
      ]
    },
    {
      "cell_type": "markdown",
      "metadata": {
        "id": "IXa2Mully6h8"
      },
      "source": [
        "#### 3.4.2 Z-Score Outliers\n",
        "Another way to identify outliers is by looking at the z-score, or the number of standard deviations an observation falls from the mean. \n",
        "The formula for z-score is\n",
        "\n",
        ">$z = \\frac{observation - mean}{{standard deviation}}$\n",
        "\n",
        "If a census tracts z-score is greater than or less than 3 it would be considered an outlier."
      ]
    },
    {
      "cell_type": "code",
      "execution_count": 4,
      "metadata": {
        "id": "dNMq0phKy9dK"
      },
      "outputs": [],
      "source": [
        "mean = tractdf['Total Population'].mean()\n",
        "standard_deviation = tractdf['Total Population'].std()\n",
        "tractdf['Total Population Z-score'] = (tractdf['Total Population'] - mean)/standard_deviation\n",
        "# Create a new variable to identify outliers\n",
        "tractdf['Z-score Outlier Total Population'] = 0\n",
        "tractdf.loc[abs(tractdf['Total Population Z-score']) > 3, \n",
        "            'Z-score Outlier Total Population'] = 1"
      ]
    },
    {
      "cell_type": "code",
      "execution_count": 6,
      "metadata": {
        "colab": {
          "base_uri": "https://localhost:8080/",
          "height": 99
        },
        "id": "YrZW_JulzHto",
        "outputId": "8fada98a-9144-4538-917f-56d694bb9b13"
      },
      "outputs": [
        {
          "data": {
            "text/html": [
              "<style type=\"text/css\">\n",
              "#T_02e60_row0_col0, #T_02e60_row0_col1, #T_02e60_row0_col2, #T_02e60_row0_col3, #T_02e60_row0_col4, #T_02e60_row0_col5, #T_02e60_row0_col6, #T_02e60_row0_col7, #T_02e60_row1_col0, #T_02e60_row1_col1, #T_02e60_row1_col2, #T_02e60_row1_col3, #T_02e60_row1_col4, #T_02e60_row1_col5, #T_02e60_row1_col6, #T_02e60_row1_col7 {\n",
              "  text-align: right;\n",
              "}\n",
              "</style>\n",
              "<table id=\"T_02e60_\">\n",
              "  <caption>Table 2. Descriptive statistics for Z-score outlier census tracts, 2010.</caption>\n",
              "  <thead>\n",
              "    <tr>\n",
              "      <th class=\"blank level0\" >&nbsp;</th>\n",
              "      <th class=\"col_heading level0 col0\" >count</th>\n",
              "      <th class=\"col_heading level0 col1\" >mean</th>\n",
              "      <th class=\"col_heading level0 col2\" >std</th>\n",
              "      <th class=\"col_heading level0 col3\" >min</th>\n",
              "      <th class=\"col_heading level0 col4\" >25%</th>\n",
              "      <th class=\"col_heading level0 col5\" >50%</th>\n",
              "      <th class=\"col_heading level0 col6\" >75%</th>\n",
              "      <th class=\"col_heading level0 col7\" >max</th>\n",
              "    </tr>\n",
              "  </thead>\n",
              "  <tbody>\n",
              "    <tr>\n",
              "      <th id=\"T_02e60_level0_row0\" class=\"row_heading level0 row0\" >Total Population</th>\n",
              "      <td id=\"T_02e60_row0_col0\" class=\"data row0 col0\" >49</td>\n",
              "      <td id=\"T_02e60_row0_col1\" class=\"data row0 col1\" >14,615</td>\n",
              "      <td id=\"T_02e60_row0_col2\" class=\"data row0 col2\" >2,308</td>\n",
              "      <td id=\"T_02e60_row0_col3\" class=\"data row0 col3\" >12,145</td>\n",
              "      <td id=\"T_02e60_row0_col4\" class=\"data row0 col4\" >13,098</td>\n",
              "      <td id=\"T_02e60_row0_col5\" class=\"data row0 col5\" >13,701</td>\n",
              "      <td id=\"T_02e60_row0_col6\" class=\"data row0 col6\" >15,318</td>\n",
              "      <td id=\"T_02e60_row0_col7\" class=\"data row0 col7\" >22,368</td>\n",
              "    </tr>\n",
              "    <tr>\n",
              "      <th id=\"T_02e60_level0_row1\" class=\"row_heading level0 row1\" >Z-score Outlier Total Population</th>\n",
              "      <td id=\"T_02e60_row1_col0\" class=\"data row1 col0\" >49</td>\n",
              "      <td id=\"T_02e60_row1_col1\" class=\"data row1 col1\" >1</td>\n",
              "      <td id=\"T_02e60_row1_col2\" class=\"data row1 col2\" >0</td>\n",
              "      <td id=\"T_02e60_row1_col3\" class=\"data row1 col3\" >1</td>\n",
              "      <td id=\"T_02e60_row1_col4\" class=\"data row1 col4\" >1</td>\n",
              "      <td id=\"T_02e60_row1_col5\" class=\"data row1 col5\" >1</td>\n",
              "      <td id=\"T_02e60_row1_col6\" class=\"data row1 col6\" >1</td>\n",
              "      <td id=\"T_02e60_row1_col7\" class=\"data row1 col7\" >1</td>\n",
              "    </tr>\n",
              "  </tbody>\n",
              "</table>\n"
            ],
            "text/plain": [
              "<pandas.io.formats.style.Styler at 0x22817f4bf08>"
            ]
          },
          "execution_count": 6,
          "metadata": {},
          "output_type": "execute_result"
        }
      ],
      "source": [
        "table2 = tractdf[['Total Population','Z-score Outlier Total Population']].\\\n",
        "    loc[tractdf['Z-score Outlier Total Population'] == 1].describe().T\n",
        "varformat = \"{:,.0f}\" # The variable format adds a comma and rounds up\n",
        "table_title = \"Table 2. Descriptive statistics for Z-score outlier census tracts, 2000.\"\n",
        "table2 = table2.style.set_caption(table_title).format(varformat).set_properties(**{'text-align': 'right'})\n",
        "table2"
      ]
    }
  ],
  "metadata": {
    "colab": {
      "authorship_tag": "ABX9TyPQlx62ACo8dDsSdsroDcIS",
      "include_colab_link": true,
      "name": "PLAN604_Descriptive_Statistics_CensusTracts_Round2",
      "provenance": []
    },
    "kernelspec": {
      "display_name": "Python 3.7.10 ('pyincoreEnv20210802')",
      "language": "python",
      "name": "python3"
    },
    "language_info": {
      "codemirror_mode": {
        "name": "ipython",
        "version": 3
      },
      "file_extension": ".py",
      "mimetype": "text/x-python",
      "name": "python",
      "nbconvert_exporter": "python",
      "pygments_lexer": "ipython3",
      "version": "3.7.10"
    },
    "vscode": {
      "interpreter": {
        "hash": "4df308431e0e051f1a7caa73a15c7a71398d18f0e70d73b50ce41f664d9adabe"
      }
    }
  },
  "nbformat": 4,
  "nbformat_minor": 0
}
