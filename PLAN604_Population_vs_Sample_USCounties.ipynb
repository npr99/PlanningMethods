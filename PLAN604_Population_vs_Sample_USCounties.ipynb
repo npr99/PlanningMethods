{
  "nbformat": 4,
  "nbformat_minor": 0,
  "metadata": {
    "colab": {
      "name": "PLAN604_Population_vs_Sample_USCounties",
      "provenance": [],
      "collapsed_sections": [],
      "authorship_tag": "ABX9TyNLAE133hBSn61vuVJE1v/5",
      "include_colab_link": true
    },
    "kernelspec": {
      "name": "python3",
      "display_name": "Python 3"
    }
  },
  "cells": [
    {
      "cell_type": "markdown",
      "metadata": {
        "id": "view-in-github",
        "colab_type": "text"
      },
      "source": [
        "<a href=\"https://colab.research.google.com/github/npr99/PlanningMethods/blob/master/PLAN604_Population_vs_Sample_USCounties.ipynb\" target=\"_parent\"><img src=\"https://colab.research.google.com/assets/colab-badge.svg\" alt=\"Open In Colab\"/></a>"
      ]
    },
    {
      "cell_type": "markdown",
      "metadata": {
        "id": "P-EggxqJwovL"
      },
      "source": [
        "# Application of Survey samples and confidence intervals in American Community Survey Data\n",
        " \n",
        "---\n",
        "This Google Colab Notebook provides a complete workflow (sequence of steps from start to finish) that will allow you to explore [US Census County and County Equivalents](https://www.census.gov/glossary/#term_Countyandequivalententity). \n",
        "\n",
        "This notebook has the fewest number of code blocks and minimal discussion. This notebook is designed to be modified and rerun for different proportions (% Hispanic, % Vacant Housing Units, etc) in the United States.\n",
        "\n",
        "This notebook compares population proportions found in the 2010 Decennial Census and the 2010 1-year ACS.\n",
        "\n",
        "This notebook introduces Python concepts of functions or modules and merging data.\n",
        "\n",
        "A function is a block of organized, reusable code that is used to perform a single, related action. Functions provide better modularity for your application and a high degree of code reusing.\n",
        "\n",
        "Python gives you many built-in functions like print(), etc. but you can also create your own functions. These functions are called user-defined functions.\n",
        "\n",
        "For more information on Python Functions see: \n",
        "1. https://towardsdatascience.com/function-definition-in-python-bae11c29f4cd\n",
        "\n",
        "For more help on how to merge data see:\n",
        "1. https://stackoverflow.com/questions/53645882/pandas-merging-101\n",
        "2. https://realpython.com/pandas-merge-join-and-concat/\n",
        "\n"
      ]
    },
    {
      "cell_type": "code",
      "metadata": {
        "id": "jxd6s7EZwjb6"
      },
      "source": [
        "# Python packages required to read in and Census API data\n",
        "import requests ## Required for the Census API\n",
        "import pandas as pd # For reading, writing and wrangling data"
      ],
      "execution_count": 2,
      "outputs": []
    },
    {
      "cell_type": "markdown",
      "metadata": {
        "id": "lwbY5z9jxDo7"
      },
      "source": [
        "## Step 1: Obtain Data\n",
        "The following is a function that provides resuable code to obtain data from Census API. The block of code with the function needs to be run first and then the function can be called in future blocks of code."
      ]
    },
    {
      "cell_type": "code",
      "metadata": {
        "id": "TrXui4kNw-QM"
      },
      "source": [
        "def obtain_census_api(\n",
        "                    state: str = \"*\",\n",
        "                    county: str = \"*\",\n",
        "                    census_geography: str = 'county:*',\n",
        "                    vintage: str = \"2010\", \n",
        "                    dataset_name: str = 'dec/sf1',\n",
        "                    get_vars: str = 'GEO_ID'):\n",
        "\n",
        "        \"\"\"General utility for obtaining census from Census API.\n",
        "\n",
        "        Args:\n",
        "            state (str): 2-digit FIPS code. Default * for all states\n",
        "            county (str): 3-digit FIPS code. Default * all counties\n",
        "            census_geography (str): example '&for=block:*' would be for all blocks\n",
        "              default is for all counties\n",
        "            vintage (str): Census Year. Default 2010\n",
        "            dataset_name (str): Census dataset name. Default Decennial SF1\n",
        "            for a list of all Census API\n",
        "            get_vars (str): list of variables to get from the API.\n",
        "\n",
        "        Returns:\n",
        "            obj, dict: A dataframe for with Census data\n",
        "\n",
        "        \"\"\"\n",
        "        # Set up hyperlink for Census API\n",
        "        api_hyperlink = ('https://api.census.gov/data/' + vintage + '/'+dataset_name + '?get=' + get_vars +\n",
        "                        '&in=state:' + state + '&in=county:' + county + '&for=' + census_geography)\n",
        "\n",
        "        print(\"Census API data from: \" + api_hyperlink)\n",
        "\n",
        "        # Obtain Census API JSON Data\n",
        "        apijson = requests.get(api_hyperlink)\n",
        "\n",
        "        # Convert the requested json into pandas dataframe\n",
        "        df = pd.DataFrame(columns=apijson.json()[0], data=apijson.json()[1:])\n",
        "\n",
        "        return df"
      ],
      "execution_count": 11,
      "outputs": []
    },
    {
      "cell_type": "markdown",
      "metadata": {
        "id": "0BnzQEKqWMeo"
      },
      "source": [
        "## Run Obtain Census API for 2010 Decennial Census\n",
        "The next block of code calls the function and gets varaibles related to total population and counts of population by race and ethnicity.\n",
        "\n",
        "For more variables related to race and ethnicity see:\n",
        "\n",
        "https://api.census.gov/data/2010/dec/sf1/groups/P5.html\n"
      ]
    },
    {
      "cell_type": "code",
      "metadata": {
        "colab": {
          "base_uri": "https://localhost:8080/",
          "height": 224
        },
        "id": "7XVk-5GbUdke",
        "outputId": "ba65596a-51c0-45ee-8856-7e112c01f5c1"
      },
      "source": [
        "get_vars = 'GEO_ID,NAME,P005001,P005010'\n",
        "        # GEO_ID  = Geographic ID\n",
        "        # NAME    = Geographic Area Name\n",
        "        # P005001 = Total\n",
        "        # P005010 = Total!!Hispanic or Latino\n",
        "dec10_df = obtain_census_api(get_vars = get_vars)\n",
        "dec10_df.head()"
      ],
      "execution_count": 17,
      "outputs": [
        {
          "output_type": "stream",
          "name": "stdout",
          "text": [
            "Census API data from: https://api.census.gov/data/2010/dec/sf1?get=GEO_ID,NAME,P005001,P005010&in=state:*&in=county:*&for=county:*\n"
          ]
        },
        {
          "output_type": "execute_result",
          "data": {
            "text/html": [
              "<div>\n",
              "<style scoped>\n",
              "    .dataframe tbody tr th:only-of-type {\n",
              "        vertical-align: middle;\n",
              "    }\n",
              "\n",
              "    .dataframe tbody tr th {\n",
              "        vertical-align: top;\n",
              "    }\n",
              "\n",
              "    .dataframe thead th {\n",
              "        text-align: right;\n",
              "    }\n",
              "</style>\n",
              "<table border=\"1\" class=\"dataframe\">\n",
              "  <thead>\n",
              "    <tr style=\"text-align: right;\">\n",
              "      <th></th>\n",
              "      <th>GEO_ID</th>\n",
              "      <th>NAME</th>\n",
              "      <th>P005001</th>\n",
              "      <th>P005010</th>\n",
              "      <th>state</th>\n",
              "      <th>county</th>\n",
              "    </tr>\n",
              "  </thead>\n",
              "  <tbody>\n",
              "    <tr>\n",
              "      <th>0</th>\n",
              "      <td>0500000US05131</td>\n",
              "      <td>Sebastian County, Arkansas</td>\n",
              "      <td>125744</td>\n",
              "      <td>15445</td>\n",
              "      <td>05</td>\n",
              "      <td>131</td>\n",
              "    </tr>\n",
              "    <tr>\n",
              "      <th>1</th>\n",
              "      <td>0500000US05133</td>\n",
              "      <td>Sevier County, Arkansas</td>\n",
              "      <td>17058</td>\n",
              "      <td>5220</td>\n",
              "      <td>05</td>\n",
              "      <td>133</td>\n",
              "    </tr>\n",
              "    <tr>\n",
              "      <th>2</th>\n",
              "      <td>0500000US05135</td>\n",
              "      <td>Sharp County, Arkansas</td>\n",
              "      <td>17264</td>\n",
              "      <td>290</td>\n",
              "      <td>05</td>\n",
              "      <td>135</td>\n",
              "    </tr>\n",
              "    <tr>\n",
              "      <th>3</th>\n",
              "      <td>0500000US05137</td>\n",
              "      <td>Stone County, Arkansas</td>\n",
              "      <td>12394</td>\n",
              "      <td>157</td>\n",
              "      <td>05</td>\n",
              "      <td>137</td>\n",
              "    </tr>\n",
              "    <tr>\n",
              "      <th>4</th>\n",
              "      <td>0500000US05139</td>\n",
              "      <td>Union County, Arkansas</td>\n",
              "      <td>41639</td>\n",
              "      <td>1460</td>\n",
              "      <td>05</td>\n",
              "      <td>139</td>\n",
              "    </tr>\n",
              "  </tbody>\n",
              "</table>\n",
              "</div>"
            ],
            "text/plain": [
              "           GEO_ID                        NAME P005001 P005010 state county\n",
              "0  0500000US05131  Sebastian County, Arkansas  125744   15445    05    131\n",
              "1  0500000US05133     Sevier County, Arkansas   17058    5220    05    133\n",
              "2  0500000US05135      Sharp County, Arkansas   17264     290    05    135\n",
              "3  0500000US05137      Stone County, Arkansas   12394     157    05    137\n",
              "4  0500000US05139      Union County, Arkansas   41639    1460    05    139"
            ]
          },
          "metadata": {},
          "execution_count": 17
        }
      ]
    },
    {
      "cell_type": "markdown",
      "metadata": {
        "id": "t-nLAe30WsWE"
      },
      "source": [
        "## Run Obtain Census API for 2010 1-year American Community Survey\n",
        "The next block of code calls the function and gets varaibles related to total population and counts of population by race and ethnicity.\n",
        "The American Community Survey (ACS) is a survey that is conducted monthly with a random sample of the population. The ACS provides an estimate of the population data collected on April 1, 2010 for the 2010 Census."
      ]
    },
    {
      "cell_type": "code",
      "metadata": {
        "colab": {
          "base_uri": "https://localhost:8080/",
          "height": 244
        },
        "id": "VbAzds-nUduq",
        "outputId": "9204aab1-a0eb-4956-ffb3-d6aa8c001e70"
      },
      "source": [
        "# The default for the function is the decenial census. \n",
        "# For the ACS we need to change the dataset name\n",
        "# This information is from https://www.census.gov/data/developers/data-sets/acs-1year.2010.html\n",
        "\n",
        "dataset_name = 'acs/acs1'\n",
        "get_vars = 'GEO_ID,NAME,B03002_001E,B03002_001M,B03002_012E,B03002_012M,B00001_001E'\n",
        "        # GEO_ID  = Geographic ID\n",
        "        # NAME    = Geographic Area Name\n",
        "        # B03002_001 = Total Estimate\n",
        "        # B03002_012 = Total!!Hispanic or Latino.\n",
        "        # B00001_001E = Sample Size\n",
        "acs10_df = obtain_census_api(get_vars = get_vars, dataset_name = dataset_name)\n",
        "acs10_df.head()"
      ],
      "execution_count": 16,
      "outputs": [
        {
          "output_type": "stream",
          "name": "stdout",
          "text": [
            "Census API data from: https://api.census.gov/data/2010/acs/acs1?get=GEO_ID,NAME,B03002_001E,B03002_001M,B03002_012E,B03002_012M,B00001_001E&in=state:*&in=county:*&for=county:*\n"
          ]
        },
        {
          "output_type": "execute_result",
          "data": {
            "text/html": [
              "<div>\n",
              "<style scoped>\n",
              "    .dataframe tbody tr th:only-of-type {\n",
              "        vertical-align: middle;\n",
              "    }\n",
              "\n",
              "    .dataframe tbody tr th {\n",
              "        vertical-align: top;\n",
              "    }\n",
              "\n",
              "    .dataframe thead th {\n",
              "        text-align: right;\n",
              "    }\n",
              "</style>\n",
              "<table border=\"1\" class=\"dataframe\">\n",
              "  <thead>\n",
              "    <tr style=\"text-align: right;\">\n",
              "      <th></th>\n",
              "      <th>GEO_ID</th>\n",
              "      <th>NAME</th>\n",
              "      <th>B03002_001E</th>\n",
              "      <th>B03002_001M</th>\n",
              "      <th>B03002_012E</th>\n",
              "      <th>B03002_012M</th>\n",
              "      <th>B00001_001E</th>\n",
              "      <th>state</th>\n",
              "      <th>county</th>\n",
              "    </tr>\n",
              "  </thead>\n",
              "  <tbody>\n",
              "    <tr>\n",
              "      <th>0</th>\n",
              "      <td>0500000US39109</td>\n",
              "      <td>Miami County, Ohio</td>\n",
              "      <td>None</td>\n",
              "      <td>None</td>\n",
              "      <td>None</td>\n",
              "      <td>None</td>\n",
              "      <td>1789</td>\n",
              "      <td>39</td>\n",
              "      <td>109</td>\n",
              "    </tr>\n",
              "    <tr>\n",
              "      <th>1</th>\n",
              "      <td>0500000US39113</td>\n",
              "      <td>Montgomery County, Ohio</td>\n",
              "      <td>535059</td>\n",
              "      <td>-555555555</td>\n",
              "      <td>12345</td>\n",
              "      <td>-555555555</td>\n",
              "      <td>7457</td>\n",
              "      <td>39</td>\n",
              "      <td>113</td>\n",
              "    </tr>\n",
              "    <tr>\n",
              "      <th>2</th>\n",
              "      <td>0500000US39119</td>\n",
              "      <td>Muskingum County, Ohio</td>\n",
              "      <td>None</td>\n",
              "      <td>None</td>\n",
              "      <td>None</td>\n",
              "      <td>None</td>\n",
              "      <td>1524</td>\n",
              "      <td>39</td>\n",
              "      <td>119</td>\n",
              "    </tr>\n",
              "    <tr>\n",
              "      <th>3</th>\n",
              "      <td>0500000US39133</td>\n",
              "      <td>Portage County, Ohio</td>\n",
              "      <td>None</td>\n",
              "      <td>None</td>\n",
              "      <td>None</td>\n",
              "      <td>None</td>\n",
              "      <td>2400</td>\n",
              "      <td>39</td>\n",
              "      <td>133</td>\n",
              "    </tr>\n",
              "    <tr>\n",
              "      <th>4</th>\n",
              "      <td>0500000US39139</td>\n",
              "      <td>Richland County, Ohio</td>\n",
              "      <td>None</td>\n",
              "      <td>None</td>\n",
              "      <td>None</td>\n",
              "      <td>None</td>\n",
              "      <td>1896</td>\n",
              "      <td>39</td>\n",
              "      <td>139</td>\n",
              "    </tr>\n",
              "  </tbody>\n",
              "</table>\n",
              "</div>"
            ],
            "text/plain": [
              "           GEO_ID                     NAME B03002_001E  ... B00001_001E state county\n",
              "0  0500000US39109       Miami County, Ohio        None  ...        1789    39    109\n",
              "1  0500000US39113  Montgomery County, Ohio      535059  ...        7457    39    113\n",
              "2  0500000US39119   Muskingum County, Ohio        None  ...        1524    39    119\n",
              "3  0500000US39133     Portage County, Ohio        None  ...        2400    39    133\n",
              "4  0500000US39139    Richland County, Ohio        None  ...        1896    39    139\n",
              "\n",
              "[5 rows x 9 columns]"
            ]
          },
          "metadata": {},
          "execution_count": 16
        }
      ]
    },
    {
      "cell_type": "markdown",
      "metadata": {
        "id": "tckJOdRRyN44"
      },
      "source": [
        "## Step 2: Clean Data\n",
        "Data cleaning is an important step in the data science process. This step is often the hardest and most time consuming. "
      ]
    },
    {
      "cell_type": "code",
      "metadata": {
        "id": "Ow6ijpWEyPTu",
        "colab": {
          "base_uri": "https://localhost:8080/",
          "height": 206
        },
        "outputId": "f34dbd63-c09d-4653-a7f5-5f46092deb72"
      },
      "source": [
        "### 2.1 Set the variable type\n",
        "dec10_df[\"P005001\"] = dec10_df[\"P005001\"].astype(int)\n",
        "dec10_df[\"P005010\"] = dec10_df[\"P005010\"].astype(int)\n",
        "\n",
        "# Generate new variable - Proportion\n",
        "dec10_df['Percent Hispanic'] = dec10_df['P005010'] / dec10_df['P005001'] * 100\n",
        "dec10_df.head()"
      ],
      "execution_count": 20,
      "outputs": [
        {
          "output_type": "execute_result",
          "data": {
            "text/html": [
              "<div>\n",
              "<style scoped>\n",
              "    .dataframe tbody tr th:only-of-type {\n",
              "        vertical-align: middle;\n",
              "    }\n",
              "\n",
              "    .dataframe tbody tr th {\n",
              "        vertical-align: top;\n",
              "    }\n",
              "\n",
              "    .dataframe thead th {\n",
              "        text-align: right;\n",
              "    }\n",
              "</style>\n",
              "<table border=\"1\" class=\"dataframe\">\n",
              "  <thead>\n",
              "    <tr style=\"text-align: right;\">\n",
              "      <th></th>\n",
              "      <th>GEO_ID</th>\n",
              "      <th>NAME</th>\n",
              "      <th>P005001</th>\n",
              "      <th>P005010</th>\n",
              "      <th>state</th>\n",
              "      <th>county</th>\n",
              "      <th>Percent Hispanic</th>\n",
              "    </tr>\n",
              "  </thead>\n",
              "  <tbody>\n",
              "    <tr>\n",
              "      <th>0</th>\n",
              "      <td>0500000US05131</td>\n",
              "      <td>Sebastian County, Arkansas</td>\n",
              "      <td>125744</td>\n",
              "      <td>15445</td>\n",
              "      <td>05</td>\n",
              "      <td>131</td>\n",
              "      <td>12.282892</td>\n",
              "    </tr>\n",
              "    <tr>\n",
              "      <th>1</th>\n",
              "      <td>0500000US05133</td>\n",
              "      <td>Sevier County, Arkansas</td>\n",
              "      <td>17058</td>\n",
              "      <td>5220</td>\n",
              "      <td>05</td>\n",
              "      <td>133</td>\n",
              "      <td>30.601477</td>\n",
              "    </tr>\n",
              "    <tr>\n",
              "      <th>2</th>\n",
              "      <td>0500000US05135</td>\n",
              "      <td>Sharp County, Arkansas</td>\n",
              "      <td>17264</td>\n",
              "      <td>290</td>\n",
              "      <td>05</td>\n",
              "      <td>135</td>\n",
              "      <td>1.679796</td>\n",
              "    </tr>\n",
              "    <tr>\n",
              "      <th>3</th>\n",
              "      <td>0500000US05137</td>\n",
              "      <td>Stone County, Arkansas</td>\n",
              "      <td>12394</td>\n",
              "      <td>157</td>\n",
              "      <td>05</td>\n",
              "      <td>137</td>\n",
              "      <td>1.266742</td>\n",
              "    </tr>\n",
              "    <tr>\n",
              "      <th>4</th>\n",
              "      <td>0500000US05139</td>\n",
              "      <td>Union County, Arkansas</td>\n",
              "      <td>41639</td>\n",
              "      <td>1460</td>\n",
              "      <td>05</td>\n",
              "      <td>139</td>\n",
              "      <td>3.506328</td>\n",
              "    </tr>\n",
              "  </tbody>\n",
              "</table>\n",
              "</div>"
            ],
            "text/plain": [
              "           GEO_ID                        NAME  ...  county  Percent Hispanic\n",
              "0  0500000US05131  Sebastian County, Arkansas  ...     131         12.282892\n",
              "1  0500000US05133     Sevier County, Arkansas  ...     133         30.601477\n",
              "2  0500000US05135      Sharp County, Arkansas  ...     135          1.679796\n",
              "3  0500000US05137      Stone County, Arkansas  ...     137          1.266742\n",
              "4  0500000US05139      Union County, Arkansas  ...     139          3.506328\n",
              "\n",
              "[5 rows x 7 columns]"
            ]
          },
          "metadata": {},
          "execution_count": 20
        }
      ]
    },
    {
      "cell_type": "code",
      "metadata": {
        "id": "38oy4N0uayeJ"
      },
      "source": [
        ""
      ],
      "execution_count": null,
      "outputs": []
    },
    {
      "cell_type": "code",
      "metadata": {
        "id": "rH_kXl4Eayho"
      },
      "source": [
        ""
      ],
      "execution_count": null,
      "outputs": []
    },
    {
      "cell_type": "code",
      "metadata": {
        "id": "gjTv2GRpaylU"
      },
      "source": [
        ""
      ],
      "execution_count": null,
      "outputs": []
    },
    {
      "cell_type": "markdown",
      "metadata": {
        "id": "i1EAKmFmyk5J"
      },
      "source": [
        "## Step 3: Describe the data\n",
        "Descriptive methods summarize the data. Descriptive statistics summarize data with numbers, tables, and graphs. The following block of code creates and formats a table using the `describe` function. The table provides eight descriptive statistics. These include the count, the mean, the standard deviation (std), the minimum (min), the lower quartile (25%), the median (50%), the upper quartile (75%), and the maximum (max)."
      ]
    },
    {
      "cell_type": "code",
      "metadata": {
        "id": "i7TgMKgmygQc",
        "colab": {
          "base_uri": "https://localhost:8080/",
          "height": 139
        },
        "outputId": "dd957fee-c8aa-4258-d765-a5af358d2a4d"
      },
      "source": [
        "table1 = dec10_df[['P005001','P005010','Percent Hispanic']].describe().T\n",
        "varformat = \"{:,.0f}\" # The variable format adds a comma and rounds up\n",
        "table_title = \"Table 1. Descriptive statistics for percent Hispanic by county, 2010 Decennial Census.\"\n",
        "table1 = table1.style.set_caption(table_title).format(varformat).set_properties(**{'text-align': 'right'})\n",
        "table1"
      ],
      "execution_count": 26,
      "outputs": [
        {
          "output_type": "execute_result",
          "data": {
            "text/html": [
              "<style  type=\"text/css\" >\n",
              "#T_255515a4_2207_11ec_81cf_0242ac1c0002row0_col0,#T_255515a4_2207_11ec_81cf_0242ac1c0002row0_col1,#T_255515a4_2207_11ec_81cf_0242ac1c0002row0_col2,#T_255515a4_2207_11ec_81cf_0242ac1c0002row0_col3,#T_255515a4_2207_11ec_81cf_0242ac1c0002row0_col4,#T_255515a4_2207_11ec_81cf_0242ac1c0002row0_col5,#T_255515a4_2207_11ec_81cf_0242ac1c0002row0_col6,#T_255515a4_2207_11ec_81cf_0242ac1c0002row0_col7,#T_255515a4_2207_11ec_81cf_0242ac1c0002row1_col0,#T_255515a4_2207_11ec_81cf_0242ac1c0002row1_col1,#T_255515a4_2207_11ec_81cf_0242ac1c0002row1_col2,#T_255515a4_2207_11ec_81cf_0242ac1c0002row1_col3,#T_255515a4_2207_11ec_81cf_0242ac1c0002row1_col4,#T_255515a4_2207_11ec_81cf_0242ac1c0002row1_col5,#T_255515a4_2207_11ec_81cf_0242ac1c0002row1_col6,#T_255515a4_2207_11ec_81cf_0242ac1c0002row1_col7,#T_255515a4_2207_11ec_81cf_0242ac1c0002row2_col0,#T_255515a4_2207_11ec_81cf_0242ac1c0002row2_col1,#T_255515a4_2207_11ec_81cf_0242ac1c0002row2_col2,#T_255515a4_2207_11ec_81cf_0242ac1c0002row2_col3,#T_255515a4_2207_11ec_81cf_0242ac1c0002row2_col4,#T_255515a4_2207_11ec_81cf_0242ac1c0002row2_col5,#T_255515a4_2207_11ec_81cf_0242ac1c0002row2_col6,#T_255515a4_2207_11ec_81cf_0242ac1c0002row2_col7{\n",
              "            text-align:  right;\n",
              "        }</style><table id=\"T_255515a4_2207_11ec_81cf_0242ac1c0002\" ><caption>Table 1. Descriptive statistics for percent Hispanic by county, 2010 Decennial Census.</caption><thead>    <tr>        <th class=\"blank level0\" ></th>        <th class=\"col_heading level0 col0\" >count</th>        <th class=\"col_heading level0 col1\" >mean</th>        <th class=\"col_heading level0 col2\" >std</th>        <th class=\"col_heading level0 col3\" >min</th>        <th class=\"col_heading level0 col4\" >25%</th>        <th class=\"col_heading level0 col5\" >50%</th>        <th class=\"col_heading level0 col6\" >75%</th>        <th class=\"col_heading level0 col7\" >max</th>    </tr></thead><tbody>\n",
              "                <tr>\n",
              "                        <th id=\"T_255515a4_2207_11ec_81cf_0242ac1c0002level0_row0\" class=\"row_heading level0 row0\" >P005001</th>\n",
              "                        <td id=\"T_255515a4_2207_11ec_81cf_0242ac1c0002row0_col0\" class=\"data row0 col0\" >3,221</td>\n",
              "                        <td id=\"T_255515a4_2207_11ec_81cf_0242ac1c0002row0_col1\" class=\"data row0 col1\" >97,011</td>\n",
              "                        <td id=\"T_255515a4_2207_11ec_81cf_0242ac1c0002row0_col2\" class=\"data row0 col2\" >309,299</td>\n",
              "                        <td id=\"T_255515a4_2207_11ec_81cf_0242ac1c0002row0_col3\" class=\"data row0 col3\" >82</td>\n",
              "                        <td id=\"T_255515a4_2207_11ec_81cf_0242ac1c0002row0_col4\" class=\"data row0 col4\" >11,310</td>\n",
              "                        <td id=\"T_255515a4_2207_11ec_81cf_0242ac1c0002row0_col5\" class=\"data row0 col5\" >26,076</td>\n",
              "                        <td id=\"T_255515a4_2207_11ec_81cf_0242ac1c0002row0_col6\" class=\"data row0 col6\" >65,880</td>\n",
              "                        <td id=\"T_255515a4_2207_11ec_81cf_0242ac1c0002row0_col7\" class=\"data row0 col7\" >9,818,605</td>\n",
              "            </tr>\n",
              "            <tr>\n",
              "                        <th id=\"T_255515a4_2207_11ec_81cf_0242ac1c0002level0_row1\" class=\"row_heading level0 row1\" >P005010</th>\n",
              "                        <td id=\"T_255515a4_2207_11ec_81cf_0242ac1c0002row1_col0\" class=\"data row1 col0\" >3,221</td>\n",
              "                        <td id=\"T_255515a4_2207_11ec_81cf_0242ac1c0002row1_col1\" class=\"data row1 col1\" >16,817</td>\n",
              "                        <td id=\"T_255515a4_2207_11ec_81cf_0242ac1c0002row1_col2\" class=\"data row1 col2\" >114,594</td>\n",
              "                        <td id=\"T_255515a4_2207_11ec_81cf_0242ac1c0002row1_col3\" class=\"data row1 col3\" >0</td>\n",
              "                        <td id=\"T_255515a4_2207_11ec_81cf_0242ac1c0002row1_col4\" class=\"data row1 col4\" >269</td>\n",
              "                        <td id=\"T_255515a4_2207_11ec_81cf_0242ac1c0002row1_col5\" class=\"data row1 col5\" >943</td>\n",
              "                        <td id=\"T_255515a4_2207_11ec_81cf_0242ac1c0002row1_col6\" class=\"data row1 col6\" >4,710</td>\n",
              "                        <td id=\"T_255515a4_2207_11ec_81cf_0242ac1c0002row1_col7\" class=\"data row1 col7\" >4,687,889</td>\n",
              "            </tr>\n",
              "            <tr>\n",
              "                        <th id=\"T_255515a4_2207_11ec_81cf_0242ac1c0002level0_row2\" class=\"row_heading level0 row2\" >Percent Hispanic</th>\n",
              "                        <td id=\"T_255515a4_2207_11ec_81cf_0242ac1c0002row2_col0\" class=\"data row2 col0\" >3,221</td>\n",
              "                        <td id=\"T_255515a4_2207_11ec_81cf_0242ac1c0002row2_col1\" class=\"data row2 col1\" >10</td>\n",
              "                        <td id=\"T_255515a4_2207_11ec_81cf_0242ac1c0002row2_col2\" class=\"data row2 col2\" >19</td>\n",
              "                        <td id=\"T_255515a4_2207_11ec_81cf_0242ac1c0002row2_col3\" class=\"data row2 col3\" >0</td>\n",
              "                        <td id=\"T_255515a4_2207_11ec_81cf_0242ac1c0002row2_col4\" class=\"data row2 col4\" >2</td>\n",
              "                        <td id=\"T_255515a4_2207_11ec_81cf_0242ac1c0002row2_col5\" class=\"data row2 col5\" >3</td>\n",
              "                        <td id=\"T_255515a4_2207_11ec_81cf_0242ac1c0002row2_col6\" class=\"data row2 col6\" >9</td>\n",
              "                        <td id=\"T_255515a4_2207_11ec_81cf_0242ac1c0002row2_col7\" class=\"data row2 col7\" >100</td>\n",
              "            </tr>\n",
              "    </tbody></table>"
            ],
            "text/plain": [
              "<pandas.io.formats.style.Styler at 0x7f30a5e3ae50>"
            ]
          },
          "metadata": {},
          "execution_count": 26
        }
      ]
    }
  ]
}