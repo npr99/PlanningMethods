{
  "nbformat": 4,
  "nbformat_minor": 0,
  "metadata": {
    "colab": {
      "name": "PLAN604_Population_vs_Sample_USCounties",
      "provenance": [],
      "collapsed_sections": [],
      "toc_visible": true,
      "authorship_tag": "ABX9TyOcbH8aTqbzXZ3CoQkG2Eiv",
      "include_colab_link": true
    },
    "kernelspec": {
      "name": "python3",
      "display_name": "Python 3"
    }
  },
  "cells": [
    {
      "cell_type": "markdown",
      "metadata": {
        "id": "view-in-github",
        "colab_type": "text"
      },
      "source": [
        "<a href=\"https://colab.research.google.com/github/npr99/PlanningMethods/blob/master/PLAN604_Population_vs_Sample_USCounties.ipynb\" target=\"_parent\"><img src=\"https://colab.research.google.com/assets/colab-badge.svg\" alt=\"Open In Colab\"/></a>"
      ]
    },
    {
      "cell_type": "markdown",
      "metadata": {
        "id": "P-EggxqJwovL"
      },
      "source": [
        "# Application of Survey samples and confidence intervals in American Community Survey Data\n",
        " \n",
        "---\n",
        "This Google Colab Notebook provides a complete workflow (sequence of steps from start to finish) that will allow you to explore [US Census County and County Equivalents](https://www.census.gov/glossary/#term_Countyandequivalententity). \n",
        "\n",
        "This notebook has the fewest number of code blocks and minimal discussion. This notebook is designed to be modified and rerun for different proportions (% Hispanic, % Vacant Housing Units, etc) in the United States.\n",
        "\n",
        "This notebook compares population proportions found in the 2010 Decennial Census and the 2010 1-year ACS.\n",
        "\n",
        "This notebook introduces Python concepts of functions or modules and merging data.\n",
        "\n",
        "A function is a block of organized, reusable code that is used to perform a single, related action. Functions provide better modularity for your application and a high degree of code reusing.\n",
        "\n",
        "Python gives you many built-in functions like print(), etc. but you can also create your own functions. These functions are called user-defined functions.\n",
        "\n",
        "For more information on Python Functions see: \n",
        "1. https://towardsdatascience.com/function-definition-in-python-bae11c29f4cd\n",
        "\n",
        "For more help on how to merge data see:\n",
        "1. https://stackoverflow.com/questions/53645882/pandas-merging-101\n",
        "2. https://realpython.com/pandas-merge-join-and-concat/\n",
        "\n"
      ]
    },
    {
      "cell_type": "code",
      "metadata": {
        "id": "jxd6s7EZwjb6"
      },
      "source": [
        "# Python packages required to read in and Census API data\n",
        "import requests ## Required for the Census API\n",
        "import pandas as pd # For reading, writing and wrangling data"
      ],
      "execution_count": 163,
      "outputs": []
    },
    {
      "cell_type": "markdown",
      "metadata": {
        "id": "lwbY5z9jxDo7"
      },
      "source": [
        "## Step 1: Obtain Data\n",
        "The following is a function that provides resuable code to obtain data from Census API. The block of code with the function needs to be run first and then the function can be called in future blocks of code."
      ]
    },
    {
      "cell_type": "code",
      "metadata": {
        "id": "TrXui4kNw-QM"
      },
      "source": [
        "def obtain_census_api(\n",
        "                    state: str = \"*\",\n",
        "                    county: str = \"*\",\n",
        "                    census_geography: str = 'county:*',\n",
        "                    vintage: str = \"2010\", \n",
        "                    dataset_name: str = 'dec/sf1',\n",
        "                    get_vars: str = 'GEO_ID'):\n",
        "\n",
        "        \"\"\"General utility for obtaining census from Census API.\n",
        "\n",
        "        Args:\n",
        "            state (str): 2-digit FIPS code. Default * for all states\n",
        "            county (str): 3-digit FIPS code. Default * all counties\n",
        "            census_geography (str): example '&for=block:*' would be for all blocks\n",
        "              default is for all counties\n",
        "            vintage (str): Census Year. Default 2010\n",
        "            dataset_name (str): Census dataset name. Default Decennial SF1\n",
        "            for a list of all Census API\n",
        "            get_vars (str): list of variables to get from the API.\n",
        "\n",
        "        Returns:\n",
        "            obj, dict: A dataframe for with Census data\n",
        "\n",
        "        \"\"\"\n",
        "        # Set up hyperlink for Census API\n",
        "        api_hyperlink = ('https://api.census.gov/data/' + vintage + '/'+dataset_name + '?get=' + get_vars +\n",
        "                        '&in=state:' + state + '&in=county:' + county + '&for=' + census_geography)\n",
        "\n",
        "        print(\"Census API data from: \" + api_hyperlink)\n",
        "\n",
        "        # Obtain Census API JSON Data\n",
        "        apijson = requests.get(api_hyperlink)\n",
        "\n",
        "        # Convert the requested json into pandas dataframe\n",
        "        df = pd.DataFrame(columns=apijson.json()[0], data=apijson.json()[1:])\n",
        "\n",
        "        return df"
      ],
      "execution_count": 164,
      "outputs": []
    },
    {
      "cell_type": "markdown",
      "metadata": {
        "id": "0BnzQEKqWMeo"
      },
      "source": [
        "## Run Obtain Census API for 2010 Decennial Census\n",
        "The next block of code calls the function and gets varaibles related to total population and counts of population by sex by age.\n",
        "\n",
        "For more variables related to sex and age see:\n",
        "\n",
        "https://api.census.gov/data/2010/dec/sf1/groups/P12.html\n"
      ]
    },
    {
      "cell_type": "code",
      "metadata": {
        "colab": {
          "base_uri": "https://localhost:8080/",
          "height": 221
        },
        "id": "7XVk-5GbUdke",
        "outputId": "c662e411-1b91-452b-8af8-b55f9ccf3491"
      },
      "source": [
        "get_vars = 'GEO_ID,NAME,P012001,P012002'\n",
        "        # GEO_ID  = Geographic ID\n",
        "        # NAME    = Geographic Area Name\n",
        "        # P012001 = Total\n",
        "        # P012002 = Total!!Male\n",
        "dec10_df = obtain_census_api(get_vars = get_vars)\n",
        "dec10_df.head()"
      ],
      "execution_count": 165,
      "outputs": [
        {
          "output_type": "stream",
          "name": "stdout",
          "text": [
            "Census API data from: https://api.census.gov/data/2010/dec/sf1?get=GEO_ID,NAME,P012001,P012002&in=state:*&in=county:*&for=county:*\n"
          ]
        },
        {
          "output_type": "execute_result",
          "data": {
            "text/html": [
              "<div>\n",
              "<style scoped>\n",
              "    .dataframe tbody tr th:only-of-type {\n",
              "        vertical-align: middle;\n",
              "    }\n",
              "\n",
              "    .dataframe tbody tr th {\n",
              "        vertical-align: top;\n",
              "    }\n",
              "\n",
              "    .dataframe thead th {\n",
              "        text-align: right;\n",
              "    }\n",
              "</style>\n",
              "<table border=\"1\" class=\"dataframe\">\n",
              "  <thead>\n",
              "    <tr style=\"text-align: right;\">\n",
              "      <th></th>\n",
              "      <th>GEO_ID</th>\n",
              "      <th>NAME</th>\n",
              "      <th>P012001</th>\n",
              "      <th>P012002</th>\n",
              "      <th>state</th>\n",
              "      <th>county</th>\n",
              "    </tr>\n",
              "  </thead>\n",
              "  <tbody>\n",
              "    <tr>\n",
              "      <th>0</th>\n",
              "      <td>0500000US05131</td>\n",
              "      <td>Sebastian County, Arkansas</td>\n",
              "      <td>125744</td>\n",
              "      <td>61633</td>\n",
              "      <td>05</td>\n",
              "      <td>131</td>\n",
              "    </tr>\n",
              "    <tr>\n",
              "      <th>1</th>\n",
              "      <td>0500000US05133</td>\n",
              "      <td>Sevier County, Arkansas</td>\n",
              "      <td>17058</td>\n",
              "      <td>8464</td>\n",
              "      <td>05</td>\n",
              "      <td>133</td>\n",
              "    </tr>\n",
              "    <tr>\n",
              "      <th>2</th>\n",
              "      <td>0500000US05135</td>\n",
              "      <td>Sharp County, Arkansas</td>\n",
              "      <td>17264</td>\n",
              "      <td>8532</td>\n",
              "      <td>05</td>\n",
              "      <td>135</td>\n",
              "    </tr>\n",
              "    <tr>\n",
              "      <th>3</th>\n",
              "      <td>0500000US05137</td>\n",
              "      <td>Stone County, Arkansas</td>\n",
              "      <td>12394</td>\n",
              "      <td>6128</td>\n",
              "      <td>05</td>\n",
              "      <td>137</td>\n",
              "    </tr>\n",
              "    <tr>\n",
              "      <th>4</th>\n",
              "      <td>0500000US05139</td>\n",
              "      <td>Union County, Arkansas</td>\n",
              "      <td>41639</td>\n",
              "      <td>20259</td>\n",
              "      <td>05</td>\n",
              "      <td>139</td>\n",
              "    </tr>\n",
              "  </tbody>\n",
              "</table>\n",
              "</div>"
            ],
            "text/plain": [
              "           GEO_ID                        NAME P012001 P012002 state county\n",
              "0  0500000US05131  Sebastian County, Arkansas  125744   61633    05    131\n",
              "1  0500000US05133     Sevier County, Arkansas   17058    8464    05    133\n",
              "2  0500000US05135      Sharp County, Arkansas   17264    8532    05    135\n",
              "3  0500000US05137      Stone County, Arkansas   12394    6128    05    137\n",
              "4  0500000US05139      Union County, Arkansas   41639   20259    05    139"
            ]
          },
          "metadata": {},
          "execution_count": 165
        }
      ]
    },
    {
      "cell_type": "markdown",
      "metadata": {
        "id": "t-nLAe30WsWE"
      },
      "source": [
        "## Run Obtain Census API for 2010 1-year American Community Survey\n",
        "The next block of code calls the function and gets varaibles related to total population and counts of population by sex and age.\n",
        "The American Community Survey (ACS) is a survey that is conducted monthly with a random sample of the population. The ACS provides an estimate of the population data collected for the 2010 Census.\n",
        "\n",
        "The ACS variables include both an estimate and a margin of error.\n",
        "\n",
        "The ACS also provides detailed profile statistics that include percentages with margins of error.\n",
        "\n",
        "One example of a Detailed Profile Table is DP05 - Sex by Age:\n",
        "\n",
        "https://api.census.gov/data/2010/acs/acs1/profile/groups/DP05.html\n",
        "\n",
        "https://data.census.gov/cedsci/table?tid=ACSDP1Y2010.DP05\n",
        "\n",
        "\n"
      ]
    },
    {
      "cell_type": "code",
      "metadata": {
        "colab": {
          "base_uri": "https://localhost:8080/",
          "height": 221
        },
        "id": "VbAzds-nUduq",
        "outputId": "cb6325cb-0bc1-4113-9901-efa5e2fce214"
      },
      "source": [
        "# The default for the function is the decenial census. \n",
        "# For the ACS we need to change the dataset name\n",
        "# This information is from https://www.census.gov/data/developers/data-sets/acs-1year.2010.html\n",
        "\n",
        "dataset_name = 'acs/acs1/profile'\n",
        "get_vars = 'GEO_ID,NAME,DP05_0001E,DP05_0001M,DP05_0002E,DP05_0002M,DP05_0002PE,DP05_0002PM'\n",
        "        # GEO_ID  = Geographic ID\n",
        "        # NAME    = Geographic Area Name\n",
        "        # DP05_0001 = SEX AND AGE!!Total population\n",
        "        # DP05_0002 = SEX AND AGE!!Male\n",
        "        # Notice for ACS Variables we include the Estimate (E) and the \n",
        "        ## Margin of error (M)\n",
        "        # Notice the Data profiles also inlcude Percent Estimates (PE) and\n",
        "        ## Percent Margins of Error (PM)\n",
        "acs10_df = obtain_census_api(get_vars = get_vars, dataset_name = dataset_name)\n",
        "acs10_df.head()"
      ],
      "execution_count": 166,
      "outputs": [
        {
          "output_type": "stream",
          "name": "stdout",
          "text": [
            "Census API data from: https://api.census.gov/data/2010/acs/acs1/profile?get=GEO_ID,NAME,DP05_0001E,DP05_0001M,DP05_0002E,DP05_0002M,DP05_0002PE,DP05_0002PM&in=state:*&in=county:*&for=county:*\n"
          ]
        },
        {
          "output_type": "execute_result",
          "data": {
            "text/html": [
              "<div>\n",
              "<style scoped>\n",
              "    .dataframe tbody tr th:only-of-type {\n",
              "        vertical-align: middle;\n",
              "    }\n",
              "\n",
              "    .dataframe tbody tr th {\n",
              "        vertical-align: top;\n",
              "    }\n",
              "\n",
              "    .dataframe thead th {\n",
              "        text-align: right;\n",
              "    }\n",
              "</style>\n",
              "<table border=\"1\" class=\"dataframe\">\n",
              "  <thead>\n",
              "    <tr style=\"text-align: right;\">\n",
              "      <th></th>\n",
              "      <th>GEO_ID</th>\n",
              "      <th>NAME</th>\n",
              "      <th>DP05_0001E</th>\n",
              "      <th>DP05_0001M</th>\n",
              "      <th>DP05_0002E</th>\n",
              "      <th>DP05_0002M</th>\n",
              "      <th>DP05_0002PE</th>\n",
              "      <th>DP05_0002PM</th>\n",
              "      <th>state</th>\n",
              "      <th>county</th>\n",
              "    </tr>\n",
              "  </thead>\n",
              "  <tbody>\n",
              "    <tr>\n",
              "      <th>0</th>\n",
              "      <td>0500000US39151</td>\n",
              "      <td>Stark County, Ohio</td>\n",
              "      <td>375321</td>\n",
              "      <td>-555555555</td>\n",
              "      <td>182670</td>\n",
              "      <td>807</td>\n",
              "      <td>48.7</td>\n",
              "      <td>0.2</td>\n",
              "      <td>39</td>\n",
              "      <td>151</td>\n",
              "    </tr>\n",
              "    <tr>\n",
              "      <th>1</th>\n",
              "      <td>0500000US39153</td>\n",
              "      <td>Summit County, Ohio</td>\n",
              "      <td>541565</td>\n",
              "      <td>-555555555</td>\n",
              "      <td>261973</td>\n",
              "      <td>756</td>\n",
              "      <td>48.4</td>\n",
              "      <td>0.1</td>\n",
              "      <td>39</td>\n",
              "      <td>153</td>\n",
              "    </tr>\n",
              "    <tr>\n",
              "      <th>2</th>\n",
              "      <td>0500000US39155</td>\n",
              "      <td>Trumbull County, Ohio</td>\n",
              "      <td>209936</td>\n",
              "      <td>-555555555</td>\n",
              "      <td>101446</td>\n",
              "      <td>584</td>\n",
              "      <td>48.3</td>\n",
              "      <td>0.3</td>\n",
              "      <td>39</td>\n",
              "      <td>155</td>\n",
              "    </tr>\n",
              "    <tr>\n",
              "      <th>3</th>\n",
              "      <td>0500000US39157</td>\n",
              "      <td>Tuscarawas County, Ohio</td>\n",
              "      <td>92542</td>\n",
              "      <td>-555555555</td>\n",
              "      <td>45263</td>\n",
              "      <td>265</td>\n",
              "      <td>48.9</td>\n",
              "      <td>0.3</td>\n",
              "      <td>39</td>\n",
              "      <td>157</td>\n",
              "    </tr>\n",
              "    <tr>\n",
              "      <th>4</th>\n",
              "      <td>0500000US39165</td>\n",
              "      <td>Warren County, Ohio</td>\n",
              "      <td>213192</td>\n",
              "      <td>-555555555</td>\n",
              "      <td>107486</td>\n",
              "      <td>692</td>\n",
              "      <td>50.4</td>\n",
              "      <td>0.3</td>\n",
              "      <td>39</td>\n",
              "      <td>165</td>\n",
              "    </tr>\n",
              "  </tbody>\n",
              "</table>\n",
              "</div>"
            ],
            "text/plain": [
              "           GEO_ID                     NAME DP05_0001E  ... DP05_0002PM state county\n",
              "0  0500000US39151       Stark County, Ohio     375321  ...         0.2    39    151\n",
              "1  0500000US39153      Summit County, Ohio     541565  ...         0.1    39    153\n",
              "2  0500000US39155    Trumbull County, Ohio     209936  ...         0.3    39    155\n",
              "3  0500000US39157  Tuscarawas County, Ohio      92542  ...         0.3    39    157\n",
              "4  0500000US39165      Warren County, Ohio     213192  ...         0.3    39    165\n",
              "\n",
              "[5 rows x 10 columns]"
            ]
          },
          "metadata": {},
          "execution_count": 166
        }
      ]
    },
    {
      "cell_type": "code",
      "metadata": {
        "id": "hPMeWEOuftfg",
        "colab": {
          "base_uri": "https://localhost:8080/",
          "height": 221
        },
        "outputId": "427660ab-e596-4b7d-c66a-fc5e5d5da8cc"
      },
      "source": [
        "# The default for the function is the decenial census. \n",
        "# For the ACS we need to change the dataset name\n",
        "# This information is from https://www.census.gov/data/developers/data-sets/acs-1year.2010.html\n",
        "\n",
        "dataset_name = 'acs/acs1'\n",
        "get_vars = 'GEO_ID,NAME,B00001_001E'\n",
        "        # GEO_ID  = Geographic ID\n",
        "        # NAME    = Geographic Area Name\n",
        "        # B00001_001E = Sample Size\n",
        "acs10_samplesize_df = obtain_census_api(get_vars = get_vars, dataset_name = dataset_name)\n",
        "acs10_samplesize_df.head()"
      ],
      "execution_count": 167,
      "outputs": [
        {
          "output_type": "stream",
          "name": "stdout",
          "text": [
            "Census API data from: https://api.census.gov/data/2010/acs/acs1?get=GEO_ID,NAME,B00001_001E&in=state:*&in=county:*&for=county:*\n"
          ]
        },
        {
          "output_type": "execute_result",
          "data": {
            "text/html": [
              "<div>\n",
              "<style scoped>\n",
              "    .dataframe tbody tr th:only-of-type {\n",
              "        vertical-align: middle;\n",
              "    }\n",
              "\n",
              "    .dataframe tbody tr th {\n",
              "        vertical-align: top;\n",
              "    }\n",
              "\n",
              "    .dataframe thead th {\n",
              "        text-align: right;\n",
              "    }\n",
              "</style>\n",
              "<table border=\"1\" class=\"dataframe\">\n",
              "  <thead>\n",
              "    <tr style=\"text-align: right;\">\n",
              "      <th></th>\n",
              "      <th>GEO_ID</th>\n",
              "      <th>NAME</th>\n",
              "      <th>B00001_001E</th>\n",
              "      <th>state</th>\n",
              "      <th>county</th>\n",
              "    </tr>\n",
              "  </thead>\n",
              "  <tbody>\n",
              "    <tr>\n",
              "      <th>0</th>\n",
              "      <td>0500000US39109</td>\n",
              "      <td>Miami County, Ohio</td>\n",
              "      <td>1789</td>\n",
              "      <td>39</td>\n",
              "      <td>109</td>\n",
              "    </tr>\n",
              "    <tr>\n",
              "      <th>1</th>\n",
              "      <td>0500000US39113</td>\n",
              "      <td>Montgomery County, Ohio</td>\n",
              "      <td>7457</td>\n",
              "      <td>39</td>\n",
              "      <td>113</td>\n",
              "    </tr>\n",
              "    <tr>\n",
              "      <th>2</th>\n",
              "      <td>0500000US39119</td>\n",
              "      <td>Muskingum County, Ohio</td>\n",
              "      <td>1524</td>\n",
              "      <td>39</td>\n",
              "      <td>119</td>\n",
              "    </tr>\n",
              "    <tr>\n",
              "      <th>3</th>\n",
              "      <td>0500000US39133</td>\n",
              "      <td>Portage County, Ohio</td>\n",
              "      <td>2400</td>\n",
              "      <td>39</td>\n",
              "      <td>133</td>\n",
              "    </tr>\n",
              "    <tr>\n",
              "      <th>4</th>\n",
              "      <td>0500000US39139</td>\n",
              "      <td>Richland County, Ohio</td>\n",
              "      <td>1896</td>\n",
              "      <td>39</td>\n",
              "      <td>139</td>\n",
              "    </tr>\n",
              "  </tbody>\n",
              "</table>\n",
              "</div>"
            ],
            "text/plain": [
              "           GEO_ID                     NAME B00001_001E state county\n",
              "0  0500000US39109       Miami County, Ohio        1789    39    109\n",
              "1  0500000US39113  Montgomery County, Ohio        7457    39    113\n",
              "2  0500000US39119   Muskingum County, Ohio        1524    39    119\n",
              "3  0500000US39133     Portage County, Ohio        2400    39    133\n",
              "4  0500000US39139    Richland County, Ohio        1896    39    139"
            ]
          },
          "metadata": {},
          "execution_count": 167
        }
      ]
    },
    {
      "cell_type": "markdown",
      "metadata": {
        "id": "tckJOdRRyN44"
      },
      "source": [
        "## Step 2: Clean Data\n",
        "Data cleaning is an important step in the data science process. This step is often the hardest and most time consuming. "
      ]
    },
    {
      "cell_type": "markdown",
      "metadata": {
        "id": "ATWo6jczhU5i"
      },
      "source": [
        "### 2.1 Clean Decenial Census Data and Check Results\n",
        "#### 2.1.2 Make sure variable types are set correctly\n",
        "The Decenial Census data needs to be converted to integer type variables. Integers represent whole numbers. For Total Population and Total Male Population statistics each number represents a total count of people. "
      ]
    },
    {
      "cell_type": "code",
      "metadata": {
        "id": "Ow6ijpWEyPTu",
        "colab": {
          "base_uri": "https://localhost:8080/",
          "height": 204
        },
        "outputId": "6f4bcf4c-9174-4c59-8b4c-e2fc60cf8478"
      },
      "source": [
        "### 2.1 Set the variable type\n",
        "dec10_df[\"P012001\"] = dec10_df[\"P012001\"].astype(int)\n",
        "dec10_df[\"P012002\"] = dec10_df[\"P012002\"].astype(int)\n",
        "\n",
        "# Generate new variable - Proportion\n",
        "dec10_df.loc[:,'Percent Male'] = dec10_df['P012002'] / dec10_df['P012001'] * 100\n",
        "dec10_df.head()"
      ],
      "execution_count": 168,
      "outputs": [
        {
          "output_type": "execute_result",
          "data": {
            "text/html": [
              "<div>\n",
              "<style scoped>\n",
              "    .dataframe tbody tr th:only-of-type {\n",
              "        vertical-align: middle;\n",
              "    }\n",
              "\n",
              "    .dataframe tbody tr th {\n",
              "        vertical-align: top;\n",
              "    }\n",
              "\n",
              "    .dataframe thead th {\n",
              "        text-align: right;\n",
              "    }\n",
              "</style>\n",
              "<table border=\"1\" class=\"dataframe\">\n",
              "  <thead>\n",
              "    <tr style=\"text-align: right;\">\n",
              "      <th></th>\n",
              "      <th>GEO_ID</th>\n",
              "      <th>NAME</th>\n",
              "      <th>P012001</th>\n",
              "      <th>P012002</th>\n",
              "      <th>state</th>\n",
              "      <th>county</th>\n",
              "      <th>Percent Male</th>\n",
              "    </tr>\n",
              "  </thead>\n",
              "  <tbody>\n",
              "    <tr>\n",
              "      <th>0</th>\n",
              "      <td>0500000US05131</td>\n",
              "      <td>Sebastian County, Arkansas</td>\n",
              "      <td>125744</td>\n",
              "      <td>61633</td>\n",
              "      <td>05</td>\n",
              "      <td>131</td>\n",
              "      <td>49.014665</td>\n",
              "    </tr>\n",
              "    <tr>\n",
              "      <th>1</th>\n",
              "      <td>0500000US05133</td>\n",
              "      <td>Sevier County, Arkansas</td>\n",
              "      <td>17058</td>\n",
              "      <td>8464</td>\n",
              "      <td>05</td>\n",
              "      <td>133</td>\n",
              "      <td>49.618947</td>\n",
              "    </tr>\n",
              "    <tr>\n",
              "      <th>2</th>\n",
              "      <td>0500000US05135</td>\n",
              "      <td>Sharp County, Arkansas</td>\n",
              "      <td>17264</td>\n",
              "      <td>8532</td>\n",
              "      <td>05</td>\n",
              "      <td>135</td>\n",
              "      <td>49.420760</td>\n",
              "    </tr>\n",
              "    <tr>\n",
              "      <th>3</th>\n",
              "      <td>0500000US05137</td>\n",
              "      <td>Stone County, Arkansas</td>\n",
              "      <td>12394</td>\n",
              "      <td>6128</td>\n",
              "      <td>05</td>\n",
              "      <td>137</td>\n",
              "      <td>49.443279</td>\n",
              "    </tr>\n",
              "    <tr>\n",
              "      <th>4</th>\n",
              "      <td>0500000US05139</td>\n",
              "      <td>Union County, Arkansas</td>\n",
              "      <td>41639</td>\n",
              "      <td>20259</td>\n",
              "      <td>05</td>\n",
              "      <td>139</td>\n",
              "      <td>48.653906</td>\n",
              "    </tr>\n",
              "  </tbody>\n",
              "</table>\n",
              "</div>"
            ],
            "text/plain": [
              "           GEO_ID                        NAME  ...  county  Percent Male\n",
              "0  0500000US05131  Sebastian County, Arkansas  ...     131     49.014665\n",
              "1  0500000US05133     Sevier County, Arkansas  ...     133     49.618947\n",
              "2  0500000US05135      Sharp County, Arkansas  ...     135     49.420760\n",
              "3  0500000US05137      Stone County, Arkansas  ...     137     49.443279\n",
              "4  0500000US05139      Union County, Arkansas  ...     139     48.653906\n",
              "\n",
              "[5 rows x 7 columns]"
            ]
          },
          "metadata": {},
          "execution_count": 168
        }
      ]
    },
    {
      "cell_type": "markdown",
      "metadata": {
        "id": "Ol-Z5Yjzhoma"
      },
      "source": [
        "#### 2.1.2 Use descriptive statistics to check cleaning\n",
        "A descriptive statistics table is a great way to check to make sure the variables have been created correctly. Descriptive methods summarize the data. Descriptive statistics summarize data with numbers, tables, and graphs. The following block of code creates and formats a table using the `describe` function. The table provides eight descriptive statistics. These include the count, the mean, the standard deviation (std), the minimum (min), the lower quartile (25%), the median (50%), the upper quartile (75%), and the maximum (max).\n"
      ]
    },
    {
      "cell_type": "code",
      "metadata": {
        "id": "i7TgMKgmygQc",
        "colab": {
          "base_uri": "https://localhost:8080/",
          "height": 137
        },
        "outputId": "d2e32b6d-9b8b-45d0-fb5f-761b583fb540"
      },
      "source": [
        "table1 = dec10_df[['P012001','P012002','Percent Male']].describe().T\n",
        "varformat = \"{:,.0f}\" # The variable format adds a comma and rounds up\n",
        "table_title = \"Table 1. Descriptive statistics for percent Male by county, 2010 Decennial Census.\"\n",
        "table1 = table1.style.set_caption(table_title).format(varformat).set_properties(**{'text-align': 'right'})\n",
        "table1"
      ],
      "execution_count": 169,
      "outputs": [
        {
          "output_type": "execute_result",
          "data": {
            "text/html": [
              "<style  type=\"text/css\" >\n",
              "#T_51dac9fa_2556_11ec_a768_0242ac1c0002row0_col0,#T_51dac9fa_2556_11ec_a768_0242ac1c0002row0_col1,#T_51dac9fa_2556_11ec_a768_0242ac1c0002row0_col2,#T_51dac9fa_2556_11ec_a768_0242ac1c0002row0_col3,#T_51dac9fa_2556_11ec_a768_0242ac1c0002row0_col4,#T_51dac9fa_2556_11ec_a768_0242ac1c0002row0_col5,#T_51dac9fa_2556_11ec_a768_0242ac1c0002row0_col6,#T_51dac9fa_2556_11ec_a768_0242ac1c0002row0_col7,#T_51dac9fa_2556_11ec_a768_0242ac1c0002row1_col0,#T_51dac9fa_2556_11ec_a768_0242ac1c0002row1_col1,#T_51dac9fa_2556_11ec_a768_0242ac1c0002row1_col2,#T_51dac9fa_2556_11ec_a768_0242ac1c0002row1_col3,#T_51dac9fa_2556_11ec_a768_0242ac1c0002row1_col4,#T_51dac9fa_2556_11ec_a768_0242ac1c0002row1_col5,#T_51dac9fa_2556_11ec_a768_0242ac1c0002row1_col6,#T_51dac9fa_2556_11ec_a768_0242ac1c0002row1_col7,#T_51dac9fa_2556_11ec_a768_0242ac1c0002row2_col0,#T_51dac9fa_2556_11ec_a768_0242ac1c0002row2_col1,#T_51dac9fa_2556_11ec_a768_0242ac1c0002row2_col2,#T_51dac9fa_2556_11ec_a768_0242ac1c0002row2_col3,#T_51dac9fa_2556_11ec_a768_0242ac1c0002row2_col4,#T_51dac9fa_2556_11ec_a768_0242ac1c0002row2_col5,#T_51dac9fa_2556_11ec_a768_0242ac1c0002row2_col6,#T_51dac9fa_2556_11ec_a768_0242ac1c0002row2_col7{\n",
              "            text-align:  right;\n",
              "        }</style><table id=\"T_51dac9fa_2556_11ec_a768_0242ac1c0002\" ><caption>Table 1. Descriptive statistics for percent Male by county, 2010 Decennial Census.</caption><thead>    <tr>        <th class=\"blank level0\" ></th>        <th class=\"col_heading level0 col0\" >count</th>        <th class=\"col_heading level0 col1\" >mean</th>        <th class=\"col_heading level0 col2\" >std</th>        <th class=\"col_heading level0 col3\" >min</th>        <th class=\"col_heading level0 col4\" >25%</th>        <th class=\"col_heading level0 col5\" >50%</th>        <th class=\"col_heading level0 col6\" >75%</th>        <th class=\"col_heading level0 col7\" >max</th>    </tr></thead><tbody>\n",
              "                <tr>\n",
              "                        <th id=\"T_51dac9fa_2556_11ec_a768_0242ac1c0002level0_row0\" class=\"row_heading level0 row0\" >P012001</th>\n",
              "                        <td id=\"T_51dac9fa_2556_11ec_a768_0242ac1c0002row0_col0\" class=\"data row0 col0\" >3,221</td>\n",
              "                        <td id=\"T_51dac9fa_2556_11ec_a768_0242ac1c0002row0_col1\" class=\"data row0 col1\" >97,011</td>\n",
              "                        <td id=\"T_51dac9fa_2556_11ec_a768_0242ac1c0002row0_col2\" class=\"data row0 col2\" >309,299</td>\n",
              "                        <td id=\"T_51dac9fa_2556_11ec_a768_0242ac1c0002row0_col3\" class=\"data row0 col3\" >82</td>\n",
              "                        <td id=\"T_51dac9fa_2556_11ec_a768_0242ac1c0002row0_col4\" class=\"data row0 col4\" >11,310</td>\n",
              "                        <td id=\"T_51dac9fa_2556_11ec_a768_0242ac1c0002row0_col5\" class=\"data row0 col5\" >26,076</td>\n",
              "                        <td id=\"T_51dac9fa_2556_11ec_a768_0242ac1c0002row0_col6\" class=\"data row0 col6\" >65,880</td>\n",
              "                        <td id=\"T_51dac9fa_2556_11ec_a768_0242ac1c0002row0_col7\" class=\"data row0 col7\" >9,818,605</td>\n",
              "            </tr>\n",
              "            <tr>\n",
              "                        <th id=\"T_51dac9fa_2556_11ec_a768_0242ac1c0002level0_row1\" class=\"row_heading level0 row1\" >P012002</th>\n",
              "                        <td id=\"T_51dac9fa_2556_11ec_a768_0242ac1c0002row1_col0\" class=\"data row1 col0\" >3,221</td>\n",
              "                        <td id=\"T_51dac9fa_2556_11ec_a768_0242ac1c0002row1_col1\" class=\"data row1 col1\" >47,677</td>\n",
              "                        <td id=\"T_51dac9fa_2556_11ec_a768_0242ac1c0002row1_col2\" class=\"data row1 col2\" >151,702</td>\n",
              "                        <td id=\"T_51dac9fa_2556_11ec_a768_0242ac1c0002row1_col3\" class=\"data row1 col3\" >42</td>\n",
              "                        <td id=\"T_51dac9fa_2556_11ec_a768_0242ac1c0002row1_col4\" class=\"data row1 col4\" >5,681</td>\n",
              "                        <td id=\"T_51dac9fa_2556_11ec_a768_0242ac1c0002row1_col5\" class=\"data row1 col5\" >12,928</td>\n",
              "                        <td id=\"T_51dac9fa_2556_11ec_a768_0242ac1c0002row1_col6\" class=\"data row1 col6\" >32,654</td>\n",
              "                        <td id=\"T_51dac9fa_2556_11ec_a768_0242ac1c0002row1_col7\" class=\"data row1 col7\" >4,839,654</td>\n",
              "            </tr>\n",
              "            <tr>\n",
              "                        <th id=\"T_51dac9fa_2556_11ec_a768_0242ac1c0002level0_row2\" class=\"row_heading level0 row2\" >Percent Male</th>\n",
              "                        <td id=\"T_51dac9fa_2556_11ec_a768_0242ac1c0002row2_col0\" class=\"data row2 col0\" >3,221</td>\n",
              "                        <td id=\"T_51dac9fa_2556_11ec_a768_0242ac1c0002row2_col1\" class=\"data row2 col1\" >50</td>\n",
              "                        <td id=\"T_51dac9fa_2556_11ec_a768_0242ac1c0002row2_col2\" class=\"data row2 col2\" >2</td>\n",
              "                        <td id=\"T_51dac9fa_2556_11ec_a768_0242ac1c0002row2_col3\" class=\"data row2 col3\" >43</td>\n",
              "                        <td id=\"T_51dac9fa_2556_11ec_a768_0242ac1c0002row2_col4\" class=\"data row2 col4\" >49</td>\n",
              "                        <td id=\"T_51dac9fa_2556_11ec_a768_0242ac1c0002row2_col5\" class=\"data row2 col5\" >50</td>\n",
              "                        <td id=\"T_51dac9fa_2556_11ec_a768_0242ac1c0002row2_col6\" class=\"data row2 col6\" >50</td>\n",
              "                        <td id=\"T_51dac9fa_2556_11ec_a768_0242ac1c0002row2_col7\" class=\"data row2 col7\" >72</td>\n",
              "            </tr>\n",
              "    </tbody></table>"
            ],
            "text/plain": [
              "<pandas.io.formats.style.Styler at 0x7f0d326346d0>"
            ]
          },
          "metadata": {},
          "execution_count": 169
        }
      ]
    },
    {
      "cell_type": "markdown",
      "metadata": {
        "id": "_uNWWSwgh_rK"
      },
      "source": [
        "### 2.2. Clean ACS Data\n",
        "#### 2.2.1 Make sure variable types are set correctly\n",
        "For the ACS data we have both population counts and precents. The percentage estiamtes are not integers - they are \"floats\" which refers the the decimal place that can float in the number between the integer and the fractional part. Here is more information on Python number types https://www.tutorialspoint.com/python/python_numbers.htm "
      ]
    },
    {
      "cell_type": "code",
      "metadata": {
        "id": "38oy4N0uayeJ"
      },
      "source": [
        "### 2.2 Set the variable type\n",
        "acs10_df[\"DP05_0001E\"] = acs10_df[\"DP05_0001E\"].astype(int)\n",
        "acs10_df[\"DP05_0001M\"] = acs10_df[\"DP05_0001M\"].astype(int)\n",
        "acs10_df[\"DP05_0002E\"] = acs10_df[\"DP05_0002E\"].astype(int)\n",
        "acs10_df[\"DP05_0002M\"] = acs10_df[\"DP05_0002M\"].astype(int)\n",
        "acs10_df[\"DP05_0002PE\"] = acs10_df[\"DP05_0002PE\"].astype(float)\n",
        "acs10_df[\"DP05_0002PM\"] = acs10_df[\"DP05_0002PM\"].astype(float)"
      ],
      "execution_count": 170,
      "outputs": []
    },
    {
      "cell_type": "markdown",
      "metadata": {
        "id": "K-Wdr-ATjcQW"
      },
      "source": [
        "#### 2.2.2 Use descriptive statistics to check cleaning\n",
        "A descriptive statistics table is a great way to check to make sure the variables have been created correctly."
      ]
    },
    {
      "cell_type": "code",
      "metadata": {
        "id": "rH_kXl4Eayho",
        "colab": {
          "base_uri": "https://localhost:8080/",
          "height": 183
        },
        "outputId": "4afdd577-8346-42ee-ce52-a6ab11eabc6b"
      },
      "source": [
        "table2 = acs10_df[['DP05_0001E','DP05_0001M','DP05_0002E','DP05_0002M','DP05_0002PE','DP05_0002PM']].describe().T\n",
        "varformat = \"{:,.0f}\" # The variable format adds a comma and rounds up\n",
        "table_title = \"Table 2. Descriptive statistics for percent Male by county, 2010 1-year ACS.\"\n",
        "table2 = table2.style.set_caption(table_title).format(varformat).set_properties(**{'text-align': 'right'})\n",
        "table2"
      ],
      "execution_count": 171,
      "outputs": [
        {
          "output_type": "execute_result",
          "data": {
            "text/html": [
              "<style  type=\"text/css\" >\n",
              "#T_51e5a8de_2556_11ec_a768_0242ac1c0002row0_col0,#T_51e5a8de_2556_11ec_a768_0242ac1c0002row0_col1,#T_51e5a8de_2556_11ec_a768_0242ac1c0002row0_col2,#T_51e5a8de_2556_11ec_a768_0242ac1c0002row0_col3,#T_51e5a8de_2556_11ec_a768_0242ac1c0002row0_col4,#T_51e5a8de_2556_11ec_a768_0242ac1c0002row0_col5,#T_51e5a8de_2556_11ec_a768_0242ac1c0002row0_col6,#T_51e5a8de_2556_11ec_a768_0242ac1c0002row0_col7,#T_51e5a8de_2556_11ec_a768_0242ac1c0002row1_col0,#T_51e5a8de_2556_11ec_a768_0242ac1c0002row1_col1,#T_51e5a8de_2556_11ec_a768_0242ac1c0002row1_col2,#T_51e5a8de_2556_11ec_a768_0242ac1c0002row1_col3,#T_51e5a8de_2556_11ec_a768_0242ac1c0002row1_col4,#T_51e5a8de_2556_11ec_a768_0242ac1c0002row1_col5,#T_51e5a8de_2556_11ec_a768_0242ac1c0002row1_col6,#T_51e5a8de_2556_11ec_a768_0242ac1c0002row1_col7,#T_51e5a8de_2556_11ec_a768_0242ac1c0002row2_col0,#T_51e5a8de_2556_11ec_a768_0242ac1c0002row2_col1,#T_51e5a8de_2556_11ec_a768_0242ac1c0002row2_col2,#T_51e5a8de_2556_11ec_a768_0242ac1c0002row2_col3,#T_51e5a8de_2556_11ec_a768_0242ac1c0002row2_col4,#T_51e5a8de_2556_11ec_a768_0242ac1c0002row2_col5,#T_51e5a8de_2556_11ec_a768_0242ac1c0002row2_col6,#T_51e5a8de_2556_11ec_a768_0242ac1c0002row2_col7,#T_51e5a8de_2556_11ec_a768_0242ac1c0002row3_col0,#T_51e5a8de_2556_11ec_a768_0242ac1c0002row3_col1,#T_51e5a8de_2556_11ec_a768_0242ac1c0002row3_col2,#T_51e5a8de_2556_11ec_a768_0242ac1c0002row3_col3,#T_51e5a8de_2556_11ec_a768_0242ac1c0002row3_col4,#T_51e5a8de_2556_11ec_a768_0242ac1c0002row3_col5,#T_51e5a8de_2556_11ec_a768_0242ac1c0002row3_col6,#T_51e5a8de_2556_11ec_a768_0242ac1c0002row3_col7,#T_51e5a8de_2556_11ec_a768_0242ac1c0002row4_col0,#T_51e5a8de_2556_11ec_a768_0242ac1c0002row4_col1,#T_51e5a8de_2556_11ec_a768_0242ac1c0002row4_col2,#T_51e5a8de_2556_11ec_a768_0242ac1c0002row4_col3,#T_51e5a8de_2556_11ec_a768_0242ac1c0002row4_col4,#T_51e5a8de_2556_11ec_a768_0242ac1c0002row4_col5,#T_51e5a8de_2556_11ec_a768_0242ac1c0002row4_col6,#T_51e5a8de_2556_11ec_a768_0242ac1c0002row4_col7,#T_51e5a8de_2556_11ec_a768_0242ac1c0002row5_col0,#T_51e5a8de_2556_11ec_a768_0242ac1c0002row5_col1,#T_51e5a8de_2556_11ec_a768_0242ac1c0002row5_col2,#T_51e5a8de_2556_11ec_a768_0242ac1c0002row5_col3,#T_51e5a8de_2556_11ec_a768_0242ac1c0002row5_col4,#T_51e5a8de_2556_11ec_a768_0242ac1c0002row5_col5,#T_51e5a8de_2556_11ec_a768_0242ac1c0002row5_col6,#T_51e5a8de_2556_11ec_a768_0242ac1c0002row5_col7{\n",
              "            text-align:  right;\n",
              "        }</style><table id=\"T_51e5a8de_2556_11ec_a768_0242ac1c0002\" ><caption>Table 2. Descriptive statistics for percent Male by county, 2010 1-year ACS.</caption><thead>    <tr>        <th class=\"blank level0\" ></th>        <th class=\"col_heading level0 col0\" >count</th>        <th class=\"col_heading level0 col1\" >mean</th>        <th class=\"col_heading level0 col2\" >std</th>        <th class=\"col_heading level0 col3\" >min</th>        <th class=\"col_heading level0 col4\" >25%</th>        <th class=\"col_heading level0 col5\" >50%</th>        <th class=\"col_heading level0 col6\" >75%</th>        <th class=\"col_heading level0 col7\" >max</th>    </tr></thead><tbody>\n",
              "                <tr>\n",
              "                        <th id=\"T_51e5a8de_2556_11ec_a768_0242ac1c0002level0_row0\" class=\"row_heading level0 row0\" >DP05_0001E</th>\n",
              "                        <td id=\"T_51e5a8de_2556_11ec_a768_0242ac1c0002row0_col0\" class=\"data row0 col0\" >818</td>\n",
              "                        <td id=\"T_51e5a8de_2556_11ec_a768_0242ac1c0002row0_col1\" class=\"data row0 col1\" >318,861</td>\n",
              "                        <td id=\"T_51e5a8de_2556_11ec_a768_0242ac1c0002row0_col2\" class=\"data row0 col2\" >558,543</td>\n",
              "                        <td id=\"T_51e5a8de_2556_11ec_a768_0242ac1c0002row0_col3\" class=\"data row0 col3\" >62,971</td>\n",
              "                        <td id=\"T_51e5a8de_2556_11ec_a768_0242ac1c0002row0_col4\" class=\"data row0 col4\" >95,588</td>\n",
              "                        <td id=\"T_51e5a8de_2556_11ec_a768_0242ac1c0002row0_col5\" class=\"data row0 col5\" >154,018</td>\n",
              "                        <td id=\"T_51e5a8de_2556_11ec_a768_0242ac1c0002row0_col6\" class=\"data row0 col6\" >314,120</td>\n",
              "                        <td id=\"T_51e5a8de_2556_11ec_a768_0242ac1c0002row0_col7\" class=\"data row0 col7\" >9,830,420</td>\n",
              "            </tr>\n",
              "            <tr>\n",
              "                        <th id=\"T_51e5a8de_2556_11ec_a768_0242ac1c0002level0_row1\" class=\"row_heading level0 row1\" >DP05_0001M</th>\n",
              "                        <td id=\"T_51e5a8de_2556_11ec_a768_0242ac1c0002row1_col0\" class=\"data row1 col0\" >818</td>\n",
              "                        <td id=\"T_51e5a8de_2556_11ec_a768_0242ac1c0002row1_col1\" class=\"data row1 col1\" >-552,159,728</td>\n",
              "                        <td id=\"T_51e5a8de_2556_11ec_a768_0242ac1c0002row1_col2\" class=\"data row1 col2\" >43,328,275</td>\n",
              "                        <td id=\"T_51e5a8de_2556_11ec_a768_0242ac1c0002row1_col3\" class=\"data row1 col3\" >-555,555,555</td>\n",
              "                        <td id=\"T_51e5a8de_2556_11ec_a768_0242ac1c0002row1_col4\" class=\"data row1 col4\" >-555,555,555</td>\n",
              "                        <td id=\"T_51e5a8de_2556_11ec_a768_0242ac1c0002row1_col5\" class=\"data row1 col5\" >-555,555,555</td>\n",
              "                        <td id=\"T_51e5a8de_2556_11ec_a768_0242ac1c0002row1_col6\" class=\"data row1 col6\" >-555,555,555</td>\n",
              "                        <td id=\"T_51e5a8de_2556_11ec_a768_0242ac1c0002row1_col7\" class=\"data row1 col7\" >2,353</td>\n",
              "            </tr>\n",
              "            <tr>\n",
              "                        <th id=\"T_51e5a8de_2556_11ec_a768_0242ac1c0002level0_row2\" class=\"row_heading level0 row2\" >DP05_0002E</th>\n",
              "                        <td id=\"T_51e5a8de_2556_11ec_a768_0242ac1c0002row2_col0\" class=\"data row2 col0\" >818</td>\n",
              "                        <td id=\"T_51e5a8de_2556_11ec_a768_0242ac1c0002row2_col1\" class=\"data row2 col1\" >156,228</td>\n",
              "                        <td id=\"T_51e5a8de_2556_11ec_a768_0242ac1c0002row2_col2\" class=\"data row2 col2\" >274,174</td>\n",
              "                        <td id=\"T_51e5a8de_2556_11ec_a768_0242ac1c0002row2_col3\" class=\"data row2 col3\" >31,329</td>\n",
              "                        <td id=\"T_51e5a8de_2556_11ec_a768_0242ac1c0002row2_col4\" class=\"data row2 col4\" >46,472</td>\n",
              "                        <td id=\"T_51e5a8de_2556_11ec_a768_0242ac1c0002row2_col5\" class=\"data row2 col5\" >76,015</td>\n",
              "                        <td id=\"T_51e5a8de_2556_11ec_a768_0242ac1c0002row2_col6\" class=\"data row2 col6\" >154,579</td>\n",
              "                        <td id=\"T_51e5a8de_2556_11ec_a768_0242ac1c0002row2_col7\" class=\"data row2 col7\" >4,846,952</td>\n",
              "            </tr>\n",
              "            <tr>\n",
              "                        <th id=\"T_51e5a8de_2556_11ec_a768_0242ac1c0002level0_row3\" class=\"row_heading level0 row3\" >DP05_0002M</th>\n",
              "                        <td id=\"T_51e5a8de_2556_11ec_a768_0242ac1c0002row3_col0\" class=\"data row3 col0\" >818</td>\n",
              "                        <td id=\"T_51e5a8de_2556_11ec_a768_0242ac1c0002row3_col1\" class=\"data row3 col1\" >-7,470,112</td>\n",
              "                        <td id=\"T_51e5a8de_2556_11ec_a768_0242ac1c0002row3_col2\" class=\"data row3 col2\" >64,028,520</td>\n",
              "                        <td id=\"T_51e5a8de_2556_11ec_a768_0242ac1c0002row3_col3\" class=\"data row3 col3\" >-555,555,555</td>\n",
              "                        <td id=\"T_51e5a8de_2556_11ec_a768_0242ac1c0002row3_col4\" class=\"data row3 col4\" >522</td>\n",
              "                        <td id=\"T_51e5a8de_2556_11ec_a768_0242ac1c0002row3_col5\" class=\"data row3 col5\" >658</td>\n",
              "                        <td id=\"T_51e5a8de_2556_11ec_a768_0242ac1c0002row3_col6\" class=\"data row3 col6\" >819</td>\n",
              "                        <td id=\"T_51e5a8de_2556_11ec_a768_0242ac1c0002row3_col7\" class=\"data row3 col7\" >3,410</td>\n",
              "            </tr>\n",
              "            <tr>\n",
              "                        <th id=\"T_51e5a8de_2556_11ec_a768_0242ac1c0002level0_row4\" class=\"row_heading level0 row4\" >DP05_0002PE</th>\n",
              "                        <td id=\"T_51e5a8de_2556_11ec_a768_0242ac1c0002row4_col0\" class=\"data row4 col0\" >818</td>\n",
              "                        <td id=\"T_51e5a8de_2556_11ec_a768_0242ac1c0002row4_col1\" class=\"data row4 col1\" >49</td>\n",
              "                        <td id=\"T_51e5a8de_2556_11ec_a768_0242ac1c0002row4_col2\" class=\"data row4 col2\" >1</td>\n",
              "                        <td id=\"T_51e5a8de_2556_11ec_a768_0242ac1c0002row4_col3\" class=\"data row4 col3\" >46</td>\n",
              "                        <td id=\"T_51e5a8de_2556_11ec_a768_0242ac1c0002row4_col4\" class=\"data row4 col4\" >48</td>\n",
              "                        <td id=\"T_51e5a8de_2556_11ec_a768_0242ac1c0002row4_col5\" class=\"data row4 col5\" >49</td>\n",
              "                        <td id=\"T_51e5a8de_2556_11ec_a768_0242ac1c0002row4_col6\" class=\"data row4 col6\" >50</td>\n",
              "                        <td id=\"T_51e5a8de_2556_11ec_a768_0242ac1c0002row4_col7\" class=\"data row4 col7\" >60</td>\n",
              "            </tr>\n",
              "            <tr>\n",
              "                        <th id=\"T_51e5a8de_2556_11ec_a768_0242ac1c0002level0_row5\" class=\"row_heading level0 row5\" >DP05_0002PM</th>\n",
              "                        <td id=\"T_51e5a8de_2556_11ec_a768_0242ac1c0002row5_col0\" class=\"data row5 col0\" >818</td>\n",
              "                        <td id=\"T_51e5a8de_2556_11ec_a768_0242ac1c0002row5_col1\" class=\"data row5 col1\" >-7,470,795</td>\n",
              "                        <td id=\"T_51e5a8de_2556_11ec_a768_0242ac1c0002row5_col2\" class=\"data row5 col2\" >64,028,441</td>\n",
              "                        <td id=\"T_51e5a8de_2556_11ec_a768_0242ac1c0002row5_col3\" class=\"data row5 col3\" >-555,555,555</td>\n",
              "                        <td id=\"T_51e5a8de_2556_11ec_a768_0242ac1c0002row5_col4\" class=\"data row5 col4\" >0</td>\n",
              "                        <td id=\"T_51e5a8de_2556_11ec_a768_0242ac1c0002row5_col5\" class=\"data row5 col5\" >0</td>\n",
              "                        <td id=\"T_51e5a8de_2556_11ec_a768_0242ac1c0002row5_col6\" class=\"data row5 col6\" >1</td>\n",
              "                        <td id=\"T_51e5a8de_2556_11ec_a768_0242ac1c0002row5_col7\" class=\"data row5 col7\" >2</td>\n",
              "            </tr>\n",
              "    </tbody></table>"
            ],
            "text/plain": [
              "<pandas.io.formats.style.Styler at 0x7f0d32443c90>"
            ]
          },
          "metadata": {},
          "execution_count": 171
        }
      ]
    },
    {
      "cell_type": "markdown",
      "metadata": {
        "id": "-qg0Ydk_jfa3"
      },
      "source": [
        "**Notice strange values** The Descriptive Statistics Table shows that there are strange values. -555555555. These values represent missing values.\n",
        "\n",
        "List of Annotation Values:\n",
        "\n",
        "https://www.census.gov/data/developers/data-sets/acs-1year/notes-on-acs-estimate-and-annotation-values.html\n",
        "\n",
        "A '-555555555' entry in the margin of error column indicates that the estimate is controlled. A statistical test for sampling variability is not appropriate."
      ]
    },
    {
      "cell_type": "markdown",
      "metadata": {
        "id": "nlREG21UjTXf"
      },
      "source": [
        "#### 2.2.3 Replace Missing Data Codes\n",
        "To replace the missing values we can use a command that will locate (.loc) observations where the value is missing and replace the value with a new value. The new value will be a special case for values that should be missing. A missing value can be included using the Python Package Numpy, which has a function called nan which replaces the -5555555555 values with \"Not A Number\" constant. https://numpy.org/doc/stable/reference/constants.html "
      ]
    },
    {
      "cell_type": "code",
      "metadata": {
        "id": "gjTv2GRpaylU"
      },
      "source": [
        "import numpy as np\n",
        "acs10_df.loc[(acs10_df[\"DP05_0001M\"] == -555555555), \"DP05_0001M\"] = np.nan\n",
        "acs10_df.loc[(acs10_df[\"DP05_0002M\"] == -555555555), \"DP05_0002M\"] = np.nan\n",
        "acs10_df.loc[(acs10_df[\"DP05_0002PM\"] == -555555555), \"DP05_0002PM\"] = np.nan"
      ],
      "execution_count": 172,
      "outputs": []
    },
    {
      "cell_type": "markdown",
      "metadata": {
        "id": "3NqVPOD8lsVZ"
      },
      "source": [
        "#### 2.2.4 Recheck descriptive statistics to double check cleaning\n",
        "A new descriptive statistics table will help to show that the data cleaning step has worked succesfully."
      ]
    },
    {
      "cell_type": "code",
      "metadata": {
        "id": "bE58HC3vlsuv",
        "colab": {
          "base_uri": "https://localhost:8080/",
          "height": 183
        },
        "outputId": "577c2565-d3a9-4a3b-c4d7-9f3922673cbf"
      },
      "source": [
        "table3 = acs10_df[['DP05_0001E','DP05_0001M','DP05_0002E','DP05_0002M','DP05_0002PE','DP05_0002PM']].describe().T\n",
        "varformat = \"{:,.0f}\" # The variable format adds a comma and rounds up\n",
        "table_title = \"Table 3. Descriptive statistics for percent Male by county, 2010 1-year ACS.\"\n",
        "table3 = table3.style.set_caption(table_title).format(varformat).set_properties(**{'text-align': 'right'})\n",
        "table3"
      ],
      "execution_count": 173,
      "outputs": [
        {
          "output_type": "execute_result",
          "data": {
            "text/html": [
              "<style  type=\"text/css\" >\n",
              "#T_51f01d96_2556_11ec_a768_0242ac1c0002row0_col0,#T_51f01d96_2556_11ec_a768_0242ac1c0002row0_col1,#T_51f01d96_2556_11ec_a768_0242ac1c0002row0_col2,#T_51f01d96_2556_11ec_a768_0242ac1c0002row0_col3,#T_51f01d96_2556_11ec_a768_0242ac1c0002row0_col4,#T_51f01d96_2556_11ec_a768_0242ac1c0002row0_col5,#T_51f01d96_2556_11ec_a768_0242ac1c0002row0_col6,#T_51f01d96_2556_11ec_a768_0242ac1c0002row0_col7,#T_51f01d96_2556_11ec_a768_0242ac1c0002row1_col0,#T_51f01d96_2556_11ec_a768_0242ac1c0002row1_col1,#T_51f01d96_2556_11ec_a768_0242ac1c0002row1_col2,#T_51f01d96_2556_11ec_a768_0242ac1c0002row1_col3,#T_51f01d96_2556_11ec_a768_0242ac1c0002row1_col4,#T_51f01d96_2556_11ec_a768_0242ac1c0002row1_col5,#T_51f01d96_2556_11ec_a768_0242ac1c0002row1_col6,#T_51f01d96_2556_11ec_a768_0242ac1c0002row1_col7,#T_51f01d96_2556_11ec_a768_0242ac1c0002row2_col0,#T_51f01d96_2556_11ec_a768_0242ac1c0002row2_col1,#T_51f01d96_2556_11ec_a768_0242ac1c0002row2_col2,#T_51f01d96_2556_11ec_a768_0242ac1c0002row2_col3,#T_51f01d96_2556_11ec_a768_0242ac1c0002row2_col4,#T_51f01d96_2556_11ec_a768_0242ac1c0002row2_col5,#T_51f01d96_2556_11ec_a768_0242ac1c0002row2_col6,#T_51f01d96_2556_11ec_a768_0242ac1c0002row2_col7,#T_51f01d96_2556_11ec_a768_0242ac1c0002row3_col0,#T_51f01d96_2556_11ec_a768_0242ac1c0002row3_col1,#T_51f01d96_2556_11ec_a768_0242ac1c0002row3_col2,#T_51f01d96_2556_11ec_a768_0242ac1c0002row3_col3,#T_51f01d96_2556_11ec_a768_0242ac1c0002row3_col4,#T_51f01d96_2556_11ec_a768_0242ac1c0002row3_col5,#T_51f01d96_2556_11ec_a768_0242ac1c0002row3_col6,#T_51f01d96_2556_11ec_a768_0242ac1c0002row3_col7,#T_51f01d96_2556_11ec_a768_0242ac1c0002row4_col0,#T_51f01d96_2556_11ec_a768_0242ac1c0002row4_col1,#T_51f01d96_2556_11ec_a768_0242ac1c0002row4_col2,#T_51f01d96_2556_11ec_a768_0242ac1c0002row4_col3,#T_51f01d96_2556_11ec_a768_0242ac1c0002row4_col4,#T_51f01d96_2556_11ec_a768_0242ac1c0002row4_col5,#T_51f01d96_2556_11ec_a768_0242ac1c0002row4_col6,#T_51f01d96_2556_11ec_a768_0242ac1c0002row4_col7,#T_51f01d96_2556_11ec_a768_0242ac1c0002row5_col0,#T_51f01d96_2556_11ec_a768_0242ac1c0002row5_col1,#T_51f01d96_2556_11ec_a768_0242ac1c0002row5_col2,#T_51f01d96_2556_11ec_a768_0242ac1c0002row5_col3,#T_51f01d96_2556_11ec_a768_0242ac1c0002row5_col4,#T_51f01d96_2556_11ec_a768_0242ac1c0002row5_col5,#T_51f01d96_2556_11ec_a768_0242ac1c0002row5_col6,#T_51f01d96_2556_11ec_a768_0242ac1c0002row5_col7{\n",
              "            text-align:  right;\n",
              "        }</style><table id=\"T_51f01d96_2556_11ec_a768_0242ac1c0002\" ><caption>Table 3. Descriptive statistics for percent Male by county, 2010 1-year ACS.</caption><thead>    <tr>        <th class=\"blank level0\" ></th>        <th class=\"col_heading level0 col0\" >count</th>        <th class=\"col_heading level0 col1\" >mean</th>        <th class=\"col_heading level0 col2\" >std</th>        <th class=\"col_heading level0 col3\" >min</th>        <th class=\"col_heading level0 col4\" >25%</th>        <th class=\"col_heading level0 col5\" >50%</th>        <th class=\"col_heading level0 col6\" >75%</th>        <th class=\"col_heading level0 col7\" >max</th>    </tr></thead><tbody>\n",
              "                <tr>\n",
              "                        <th id=\"T_51f01d96_2556_11ec_a768_0242ac1c0002level0_row0\" class=\"row_heading level0 row0\" >DP05_0001E</th>\n",
              "                        <td id=\"T_51f01d96_2556_11ec_a768_0242ac1c0002row0_col0\" class=\"data row0 col0\" >818</td>\n",
              "                        <td id=\"T_51f01d96_2556_11ec_a768_0242ac1c0002row0_col1\" class=\"data row0 col1\" >318,861</td>\n",
              "                        <td id=\"T_51f01d96_2556_11ec_a768_0242ac1c0002row0_col2\" class=\"data row0 col2\" >558,543</td>\n",
              "                        <td id=\"T_51f01d96_2556_11ec_a768_0242ac1c0002row0_col3\" class=\"data row0 col3\" >62,971</td>\n",
              "                        <td id=\"T_51f01d96_2556_11ec_a768_0242ac1c0002row0_col4\" class=\"data row0 col4\" >95,588</td>\n",
              "                        <td id=\"T_51f01d96_2556_11ec_a768_0242ac1c0002row0_col5\" class=\"data row0 col5\" >154,018</td>\n",
              "                        <td id=\"T_51f01d96_2556_11ec_a768_0242ac1c0002row0_col6\" class=\"data row0 col6\" >314,120</td>\n",
              "                        <td id=\"T_51f01d96_2556_11ec_a768_0242ac1c0002row0_col7\" class=\"data row0 col7\" >9,830,420</td>\n",
              "            </tr>\n",
              "            <tr>\n",
              "                        <th id=\"T_51f01d96_2556_11ec_a768_0242ac1c0002level0_row1\" class=\"row_heading level0 row1\" >DP05_0001M</th>\n",
              "                        <td id=\"T_51f01d96_2556_11ec_a768_0242ac1c0002row1_col0\" class=\"data row1 col0\" >5</td>\n",
              "                        <td id=\"T_51f01d96_2556_11ec_a768_0242ac1c0002row1_col1\" class=\"data row1 col1\" >1,682</td>\n",
              "                        <td id=\"T_51f01d96_2556_11ec_a768_0242ac1c0002row1_col2\" class=\"data row1 col2\" >953</td>\n",
              "                        <td id=\"T_51f01d96_2556_11ec_a768_0242ac1c0002row1_col3\" class=\"data row1 col3\" >45</td>\n",
              "                        <td id=\"T_51f01d96_2556_11ec_a768_0242ac1c0002row1_col4\" class=\"data row1 col4\" >1,712</td>\n",
              "                        <td id=\"T_51f01d96_2556_11ec_a768_0242ac1c0002row1_col5\" class=\"data row1 col5\" >1,966</td>\n",
              "                        <td id=\"T_51f01d96_2556_11ec_a768_0242ac1c0002row1_col6\" class=\"data row1 col6\" >2,332</td>\n",
              "                        <td id=\"T_51f01d96_2556_11ec_a768_0242ac1c0002row1_col7\" class=\"data row1 col7\" >2,353</td>\n",
              "            </tr>\n",
              "            <tr>\n",
              "                        <th id=\"T_51f01d96_2556_11ec_a768_0242ac1c0002level0_row2\" class=\"row_heading level0 row2\" >DP05_0002E</th>\n",
              "                        <td id=\"T_51f01d96_2556_11ec_a768_0242ac1c0002row2_col0\" class=\"data row2 col0\" >818</td>\n",
              "                        <td id=\"T_51f01d96_2556_11ec_a768_0242ac1c0002row2_col1\" class=\"data row2 col1\" >156,228</td>\n",
              "                        <td id=\"T_51f01d96_2556_11ec_a768_0242ac1c0002row2_col2\" class=\"data row2 col2\" >274,174</td>\n",
              "                        <td id=\"T_51f01d96_2556_11ec_a768_0242ac1c0002row2_col3\" class=\"data row2 col3\" >31,329</td>\n",
              "                        <td id=\"T_51f01d96_2556_11ec_a768_0242ac1c0002row2_col4\" class=\"data row2 col4\" >46,472</td>\n",
              "                        <td id=\"T_51f01d96_2556_11ec_a768_0242ac1c0002row2_col5\" class=\"data row2 col5\" >76,015</td>\n",
              "                        <td id=\"T_51f01d96_2556_11ec_a768_0242ac1c0002row2_col6\" class=\"data row2 col6\" >154,579</td>\n",
              "                        <td id=\"T_51f01d96_2556_11ec_a768_0242ac1c0002row2_col7\" class=\"data row2 col7\" >4,846,952</td>\n",
              "            </tr>\n",
              "            <tr>\n",
              "                        <th id=\"T_51f01d96_2556_11ec_a768_0242ac1c0002level0_row3\" class=\"row_heading level0 row3\" >DP05_0002M</th>\n",
              "                        <td id=\"T_51f01d96_2556_11ec_a768_0242ac1c0002row3_col0\" class=\"data row3 col0\" >807</td>\n",
              "                        <td id=\"T_51f01d96_2556_11ec_a768_0242ac1c0002row3_col1\" class=\"data row3 col1\" >693</td>\n",
              "                        <td id=\"T_51f01d96_2556_11ec_a768_0242ac1c0002row3_col2\" class=\"data row3 col2\" >269</td>\n",
              "                        <td id=\"T_51f01d96_2556_11ec_a768_0242ac1c0002row3_col3\" class=\"data row3 col3\" >129</td>\n",
              "                        <td id=\"T_51f01d96_2556_11ec_a768_0242ac1c0002row3_col4\" class=\"data row3 col4\" >529</td>\n",
              "                        <td id=\"T_51f01d96_2556_11ec_a768_0242ac1c0002row3_col5\" class=\"data row3 col5\" >662</td>\n",
              "                        <td id=\"T_51f01d96_2556_11ec_a768_0242ac1c0002row3_col6\" class=\"data row3 col6\" >820</td>\n",
              "                        <td id=\"T_51f01d96_2556_11ec_a768_0242ac1c0002row3_col7\" class=\"data row3 col7\" >3,410</td>\n",
              "            </tr>\n",
              "            <tr>\n",
              "                        <th id=\"T_51f01d96_2556_11ec_a768_0242ac1c0002level0_row4\" class=\"row_heading level0 row4\" >DP05_0002PE</th>\n",
              "                        <td id=\"T_51f01d96_2556_11ec_a768_0242ac1c0002row4_col0\" class=\"data row4 col0\" >818</td>\n",
              "                        <td id=\"T_51f01d96_2556_11ec_a768_0242ac1c0002row4_col1\" class=\"data row4 col1\" >49</td>\n",
              "                        <td id=\"T_51f01d96_2556_11ec_a768_0242ac1c0002row4_col2\" class=\"data row4 col2\" >1</td>\n",
              "                        <td id=\"T_51f01d96_2556_11ec_a768_0242ac1c0002row4_col3\" class=\"data row4 col3\" >46</td>\n",
              "                        <td id=\"T_51f01d96_2556_11ec_a768_0242ac1c0002row4_col4\" class=\"data row4 col4\" >48</td>\n",
              "                        <td id=\"T_51f01d96_2556_11ec_a768_0242ac1c0002row4_col5\" class=\"data row4 col5\" >49</td>\n",
              "                        <td id=\"T_51f01d96_2556_11ec_a768_0242ac1c0002row4_col6\" class=\"data row4 col6\" >50</td>\n",
              "                        <td id=\"T_51f01d96_2556_11ec_a768_0242ac1c0002row4_col7\" class=\"data row4 col7\" >60</td>\n",
              "            </tr>\n",
              "            <tr>\n",
              "                        <th id=\"T_51f01d96_2556_11ec_a768_0242ac1c0002level0_row5\" class=\"row_heading level0 row5\" >DP05_0002PM</th>\n",
              "                        <td id=\"T_51f01d96_2556_11ec_a768_0242ac1c0002row5_col0\" class=\"data row5 col0\" >807</td>\n",
              "                        <td id=\"T_51f01d96_2556_11ec_a768_0242ac1c0002row5_col1\" class=\"data row5 col1\" >0</td>\n",
              "                        <td id=\"T_51f01d96_2556_11ec_a768_0242ac1c0002row5_col2\" class=\"data row5 col2\" >0</td>\n",
              "                        <td id=\"T_51f01d96_2556_11ec_a768_0242ac1c0002row5_col3\" class=\"data row5 col3\" >0</td>\n",
              "                        <td id=\"T_51f01d96_2556_11ec_a768_0242ac1c0002row5_col4\" class=\"data row5 col4\" >0</td>\n",
              "                        <td id=\"T_51f01d96_2556_11ec_a768_0242ac1c0002row5_col5\" class=\"data row5 col5\" >0</td>\n",
              "                        <td id=\"T_51f01d96_2556_11ec_a768_0242ac1c0002row5_col6\" class=\"data row5 col6\" >1</td>\n",
              "                        <td id=\"T_51f01d96_2556_11ec_a768_0242ac1c0002row5_col7\" class=\"data row5 col7\" >2</td>\n",
              "            </tr>\n",
              "    </tbody></table>"
            ],
            "text/plain": [
              "<pandas.io.formats.style.Styler at 0x7f0d3242ea10>"
            ]
          },
          "metadata": {},
          "execution_count": 173
        }
      ]
    },
    {
      "cell_type": "markdown",
      "metadata": {
        "id": "y8GF2GxKmr58"
      },
      "source": [
        "### 2.3 Clean ACS Sample Size Data"
      ]
    },
    {
      "cell_type": "code",
      "metadata": {
        "id": "ToSmG-IRmq8n",
        "colab": {
          "base_uri": "https://localhost:8080/",
          "height": 95
        },
        "outputId": "c19d7a36-b9fe-423b-ab04-2cea6898b626"
      },
      "source": [
        "### 2.3 Set the variable type\n",
        "acs10_samplesize_df[\"B00001_001E\"] = acs10_samplesize_df[\"B00001_001E\"].astype(int)\n",
        "\n",
        "table4 = acs10_samplesize_df[['B00001_001E']].describe().T\n",
        "varformat = \"{:,.0f}\" # The variable format adds a comma and rounds up\n",
        "table_title = \"Table 4. Descriptive statistics for sample size by county, 2010 1-year ACS.\"\n",
        "table4 = table4.style.set_caption(table_title).format(varformat).set_properties(**{'text-align': 'right'})\n",
        "table4"
      ],
      "execution_count": 174,
      "outputs": [
        {
          "output_type": "execute_result",
          "data": {
            "text/html": [
              "<style  type=\"text/css\" >\n",
              "#T_51f5c4f8_2556_11ec_a768_0242ac1c0002row0_col0,#T_51f5c4f8_2556_11ec_a768_0242ac1c0002row0_col1,#T_51f5c4f8_2556_11ec_a768_0242ac1c0002row0_col2,#T_51f5c4f8_2556_11ec_a768_0242ac1c0002row0_col3,#T_51f5c4f8_2556_11ec_a768_0242ac1c0002row0_col4,#T_51f5c4f8_2556_11ec_a768_0242ac1c0002row0_col5,#T_51f5c4f8_2556_11ec_a768_0242ac1c0002row0_col6,#T_51f5c4f8_2556_11ec_a768_0242ac1c0002row0_col7{\n",
              "            text-align:  right;\n",
              "        }</style><table id=\"T_51f5c4f8_2556_11ec_a768_0242ac1c0002\" ><caption>Table 4. Descriptive statistics for sample size by county, 2010 1-year ACS.</caption><thead>    <tr>        <th class=\"blank level0\" ></th>        <th class=\"col_heading level0 col0\" >count</th>        <th class=\"col_heading level0 col1\" >mean</th>        <th class=\"col_heading level0 col2\" >std</th>        <th class=\"col_heading level0 col3\" >min</th>        <th class=\"col_heading level0 col4\" >25%</th>        <th class=\"col_heading level0 col5\" >50%</th>        <th class=\"col_heading level0 col6\" >75%</th>        <th class=\"col_heading level0 col7\" >max</th>    </tr></thead><tbody>\n",
              "                <tr>\n",
              "                        <th id=\"T_51f5c4f8_2556_11ec_a768_0242ac1c0002level0_row0\" class=\"row_heading level0 row0\" >B00001_001E</th>\n",
              "                        <td id=\"T_51f5c4f8_2556_11ec_a768_0242ac1c0002row0_col0\" class=\"data row0 col0\" >818</td>\n",
              "                        <td id=\"T_51f5c4f8_2556_11ec_a768_0242ac1c0002row0_col1\" class=\"data row0 col1\" >4,272</td>\n",
              "                        <td id=\"T_51f5c4f8_2556_11ec_a768_0242ac1c0002row0_col2\" class=\"data row0 col2\" >6,853</td>\n",
              "                        <td id=\"T_51f5c4f8_2556_11ec_a768_0242ac1c0002row0_col3\" class=\"data row0 col3\" >637</td>\n",
              "                        <td id=\"T_51f5c4f8_2556_11ec_a768_0242ac1c0002row0_col4\" class=\"data row0 col4\" >1,456</td>\n",
              "                        <td id=\"T_51f5c4f8_2556_11ec_a768_0242ac1c0002row0_col5\" class=\"data row0 col5\" >2,295</td>\n",
              "                        <td id=\"T_51f5c4f8_2556_11ec_a768_0242ac1c0002row0_col6\" class=\"data row0 col6\" >4,329</td>\n",
              "                        <td id=\"T_51f5c4f8_2556_11ec_a768_0242ac1c0002row0_col7\" class=\"data row0 col7\" >123,731</td>\n",
              "            </tr>\n",
              "    </tbody></table>"
            ],
            "text/plain": [
              "<pandas.io.formats.style.Styler at 0x7f0d32615f90>"
            ]
          },
          "metadata": {},
          "execution_count": 174
        }
      ]
    },
    {
      "cell_type": "markdown",
      "metadata": {
        "id": "i1EAKmFmyk5J"
      },
      "source": [
        "## Step 3: Merge Data together\n",
        "Merging data together is a powerful tool in data science workflows. Merge data refers to combining data that represent the same unit of analysis. In this example all three datasets represent counties in the US. Each dataframe has a common variable called GEO_ID which uniquely identifies the counties.\n",
        "\n",
        "Here is a good overview of data merging in python:\n",
        "https://towardsdatascience.com/why-and-how-to-use-merge-with-pandas-in-python-548600f7e738"
      ]
    },
    {
      "cell_type": "markdown",
      "metadata": {
        "id": "vmgLuIi6otsX"
      },
      "source": [
        "### 3.1 - Merge Part 1 - Combine Decennial Census with ACS Data"
      ]
    },
    {
      "cell_type": "code",
      "metadata": {
        "id": "rcg3Wo9to1Sj",
        "colab": {
          "base_uri": "https://localhost:8080/",
          "height": 204
        },
        "outputId": "ef4100b2-60d4-4adb-9196-9d250a438785"
      },
      "source": [
        "dec10_df.head()"
      ],
      "execution_count": 175,
      "outputs": [
        {
          "output_type": "execute_result",
          "data": {
            "text/html": [
              "<div>\n",
              "<style scoped>\n",
              "    .dataframe tbody tr th:only-of-type {\n",
              "        vertical-align: middle;\n",
              "    }\n",
              "\n",
              "    .dataframe tbody tr th {\n",
              "        vertical-align: top;\n",
              "    }\n",
              "\n",
              "    .dataframe thead th {\n",
              "        text-align: right;\n",
              "    }\n",
              "</style>\n",
              "<table border=\"1\" class=\"dataframe\">\n",
              "  <thead>\n",
              "    <tr style=\"text-align: right;\">\n",
              "      <th></th>\n",
              "      <th>GEO_ID</th>\n",
              "      <th>NAME</th>\n",
              "      <th>P012001</th>\n",
              "      <th>P012002</th>\n",
              "      <th>state</th>\n",
              "      <th>county</th>\n",
              "      <th>Percent Male</th>\n",
              "    </tr>\n",
              "  </thead>\n",
              "  <tbody>\n",
              "    <tr>\n",
              "      <th>0</th>\n",
              "      <td>0500000US05131</td>\n",
              "      <td>Sebastian County, Arkansas</td>\n",
              "      <td>125744</td>\n",
              "      <td>61633</td>\n",
              "      <td>05</td>\n",
              "      <td>131</td>\n",
              "      <td>49.014665</td>\n",
              "    </tr>\n",
              "    <tr>\n",
              "      <th>1</th>\n",
              "      <td>0500000US05133</td>\n",
              "      <td>Sevier County, Arkansas</td>\n",
              "      <td>17058</td>\n",
              "      <td>8464</td>\n",
              "      <td>05</td>\n",
              "      <td>133</td>\n",
              "      <td>49.618947</td>\n",
              "    </tr>\n",
              "    <tr>\n",
              "      <th>2</th>\n",
              "      <td>0500000US05135</td>\n",
              "      <td>Sharp County, Arkansas</td>\n",
              "      <td>17264</td>\n",
              "      <td>8532</td>\n",
              "      <td>05</td>\n",
              "      <td>135</td>\n",
              "      <td>49.420760</td>\n",
              "    </tr>\n",
              "    <tr>\n",
              "      <th>3</th>\n",
              "      <td>0500000US05137</td>\n",
              "      <td>Stone County, Arkansas</td>\n",
              "      <td>12394</td>\n",
              "      <td>6128</td>\n",
              "      <td>05</td>\n",
              "      <td>137</td>\n",
              "      <td>49.443279</td>\n",
              "    </tr>\n",
              "    <tr>\n",
              "      <th>4</th>\n",
              "      <td>0500000US05139</td>\n",
              "      <td>Union County, Arkansas</td>\n",
              "      <td>41639</td>\n",
              "      <td>20259</td>\n",
              "      <td>05</td>\n",
              "      <td>139</td>\n",
              "      <td>48.653906</td>\n",
              "    </tr>\n",
              "  </tbody>\n",
              "</table>\n",
              "</div>"
            ],
            "text/plain": [
              "           GEO_ID                        NAME  ...  county  Percent Male\n",
              "0  0500000US05131  Sebastian County, Arkansas  ...     131     49.014665\n",
              "1  0500000US05133     Sevier County, Arkansas  ...     133     49.618947\n",
              "2  0500000US05135      Sharp County, Arkansas  ...     135     49.420760\n",
              "3  0500000US05137      Stone County, Arkansas  ...     137     49.443279\n",
              "4  0500000US05139      Union County, Arkansas  ...     139     48.653906\n",
              "\n",
              "[5 rows x 7 columns]"
            ]
          },
          "metadata": {},
          "execution_count": 175
        }
      ]
    },
    {
      "cell_type": "code",
      "metadata": {
        "id": "1sTUBFDPo1mu",
        "colab": {
          "base_uri": "https://localhost:8080/",
          "height": 204
        },
        "outputId": "7fd3531e-5ac0-4782-e576-48c07309e57d"
      },
      "source": [
        "acs10_df.head()"
      ],
      "execution_count": 176,
      "outputs": [
        {
          "output_type": "execute_result",
          "data": {
            "text/html": [
              "<div>\n",
              "<style scoped>\n",
              "    .dataframe tbody tr th:only-of-type {\n",
              "        vertical-align: middle;\n",
              "    }\n",
              "\n",
              "    .dataframe tbody tr th {\n",
              "        vertical-align: top;\n",
              "    }\n",
              "\n",
              "    .dataframe thead th {\n",
              "        text-align: right;\n",
              "    }\n",
              "</style>\n",
              "<table border=\"1\" class=\"dataframe\">\n",
              "  <thead>\n",
              "    <tr style=\"text-align: right;\">\n",
              "      <th></th>\n",
              "      <th>GEO_ID</th>\n",
              "      <th>NAME</th>\n",
              "      <th>DP05_0001E</th>\n",
              "      <th>DP05_0001M</th>\n",
              "      <th>DP05_0002E</th>\n",
              "      <th>DP05_0002M</th>\n",
              "      <th>DP05_0002PE</th>\n",
              "      <th>DP05_0002PM</th>\n",
              "      <th>state</th>\n",
              "      <th>county</th>\n",
              "    </tr>\n",
              "  </thead>\n",
              "  <tbody>\n",
              "    <tr>\n",
              "      <th>0</th>\n",
              "      <td>0500000US39151</td>\n",
              "      <td>Stark County, Ohio</td>\n",
              "      <td>375321</td>\n",
              "      <td>NaN</td>\n",
              "      <td>182670</td>\n",
              "      <td>807.0</td>\n",
              "      <td>48.7</td>\n",
              "      <td>0.2</td>\n",
              "      <td>39</td>\n",
              "      <td>151</td>\n",
              "    </tr>\n",
              "    <tr>\n",
              "      <th>1</th>\n",
              "      <td>0500000US39153</td>\n",
              "      <td>Summit County, Ohio</td>\n",
              "      <td>541565</td>\n",
              "      <td>NaN</td>\n",
              "      <td>261973</td>\n",
              "      <td>756.0</td>\n",
              "      <td>48.4</td>\n",
              "      <td>0.1</td>\n",
              "      <td>39</td>\n",
              "      <td>153</td>\n",
              "    </tr>\n",
              "    <tr>\n",
              "      <th>2</th>\n",
              "      <td>0500000US39155</td>\n",
              "      <td>Trumbull County, Ohio</td>\n",
              "      <td>209936</td>\n",
              "      <td>NaN</td>\n",
              "      <td>101446</td>\n",
              "      <td>584.0</td>\n",
              "      <td>48.3</td>\n",
              "      <td>0.3</td>\n",
              "      <td>39</td>\n",
              "      <td>155</td>\n",
              "    </tr>\n",
              "    <tr>\n",
              "      <th>3</th>\n",
              "      <td>0500000US39157</td>\n",
              "      <td>Tuscarawas County, Ohio</td>\n",
              "      <td>92542</td>\n",
              "      <td>NaN</td>\n",
              "      <td>45263</td>\n",
              "      <td>265.0</td>\n",
              "      <td>48.9</td>\n",
              "      <td>0.3</td>\n",
              "      <td>39</td>\n",
              "      <td>157</td>\n",
              "    </tr>\n",
              "    <tr>\n",
              "      <th>4</th>\n",
              "      <td>0500000US39165</td>\n",
              "      <td>Warren County, Ohio</td>\n",
              "      <td>213192</td>\n",
              "      <td>NaN</td>\n",
              "      <td>107486</td>\n",
              "      <td>692.0</td>\n",
              "      <td>50.4</td>\n",
              "      <td>0.3</td>\n",
              "      <td>39</td>\n",
              "      <td>165</td>\n",
              "    </tr>\n",
              "  </tbody>\n",
              "</table>\n",
              "</div>"
            ],
            "text/plain": [
              "           GEO_ID                     NAME  ...  state  county\n",
              "0  0500000US39151       Stark County, Ohio  ...     39     151\n",
              "1  0500000US39153      Summit County, Ohio  ...     39     153\n",
              "2  0500000US39155    Trumbull County, Ohio  ...     39     155\n",
              "3  0500000US39157  Tuscarawas County, Ohio  ...     39     157\n",
              "4  0500000US39165      Warren County, Ohio  ...     39     165\n",
              "\n",
              "[5 rows x 10 columns]"
            ]
          },
          "metadata": {},
          "execution_count": 176
        }
      ]
    },
    {
      "cell_type": "code",
      "metadata": {
        "id": "-SccRvo6oYw7",
        "colab": {
          "base_uri": "https://localhost:8080/",
          "height": 204
        },
        "outputId": "7897c875-d521-4470-92ea-a96e8b77eb05"
      },
      "source": [
        "merge_pt1_df = pd.merge(left = dec10_df,\n",
        "                    right = acs10_df,\n",
        "                    left_on = 'GEO_ID',\n",
        "                    right_on = 'GEO_ID',\n",
        "                    how = 'outer')\n",
        "merge_pt1_df.head()"
      ],
      "execution_count": 177,
      "outputs": [
        {
          "output_type": "execute_result",
          "data": {
            "text/html": [
              "<div>\n",
              "<style scoped>\n",
              "    .dataframe tbody tr th:only-of-type {\n",
              "        vertical-align: middle;\n",
              "    }\n",
              "\n",
              "    .dataframe tbody tr th {\n",
              "        vertical-align: top;\n",
              "    }\n",
              "\n",
              "    .dataframe thead th {\n",
              "        text-align: right;\n",
              "    }\n",
              "</style>\n",
              "<table border=\"1\" class=\"dataframe\">\n",
              "  <thead>\n",
              "    <tr style=\"text-align: right;\">\n",
              "      <th></th>\n",
              "      <th>GEO_ID</th>\n",
              "      <th>NAME_x</th>\n",
              "      <th>P012001</th>\n",
              "      <th>P012002</th>\n",
              "      <th>state_x</th>\n",
              "      <th>county_x</th>\n",
              "      <th>Percent Male</th>\n",
              "      <th>NAME_y</th>\n",
              "      <th>DP05_0001E</th>\n",
              "      <th>DP05_0001M</th>\n",
              "      <th>DP05_0002E</th>\n",
              "      <th>DP05_0002M</th>\n",
              "      <th>DP05_0002PE</th>\n",
              "      <th>DP05_0002PM</th>\n",
              "      <th>state_y</th>\n",
              "      <th>county_y</th>\n",
              "    </tr>\n",
              "  </thead>\n",
              "  <tbody>\n",
              "    <tr>\n",
              "      <th>0</th>\n",
              "      <td>0500000US05131</td>\n",
              "      <td>Sebastian County, Arkansas</td>\n",
              "      <td>125744</td>\n",
              "      <td>61633</td>\n",
              "      <td>05</td>\n",
              "      <td>131</td>\n",
              "      <td>49.014665</td>\n",
              "      <td>Sebastian County, Arkansas</td>\n",
              "      <td>125920.0</td>\n",
              "      <td>NaN</td>\n",
              "      <td>61024.0</td>\n",
              "      <td>840.0</td>\n",
              "      <td>48.5</td>\n",
              "      <td>0.7</td>\n",
              "      <td>05</td>\n",
              "      <td>131</td>\n",
              "    </tr>\n",
              "    <tr>\n",
              "      <th>1</th>\n",
              "      <td>0500000US05133</td>\n",
              "      <td>Sevier County, Arkansas</td>\n",
              "      <td>17058</td>\n",
              "      <td>8464</td>\n",
              "      <td>05</td>\n",
              "      <td>133</td>\n",
              "      <td>49.618947</td>\n",
              "      <td>NaN</td>\n",
              "      <td>NaN</td>\n",
              "      <td>NaN</td>\n",
              "      <td>NaN</td>\n",
              "      <td>NaN</td>\n",
              "      <td>NaN</td>\n",
              "      <td>NaN</td>\n",
              "      <td>NaN</td>\n",
              "      <td>NaN</td>\n",
              "    </tr>\n",
              "    <tr>\n",
              "      <th>2</th>\n",
              "      <td>0500000US05135</td>\n",
              "      <td>Sharp County, Arkansas</td>\n",
              "      <td>17264</td>\n",
              "      <td>8532</td>\n",
              "      <td>05</td>\n",
              "      <td>135</td>\n",
              "      <td>49.420760</td>\n",
              "      <td>NaN</td>\n",
              "      <td>NaN</td>\n",
              "      <td>NaN</td>\n",
              "      <td>NaN</td>\n",
              "      <td>NaN</td>\n",
              "      <td>NaN</td>\n",
              "      <td>NaN</td>\n",
              "      <td>NaN</td>\n",
              "      <td>NaN</td>\n",
              "    </tr>\n",
              "    <tr>\n",
              "      <th>3</th>\n",
              "      <td>0500000US05137</td>\n",
              "      <td>Stone County, Arkansas</td>\n",
              "      <td>12394</td>\n",
              "      <td>6128</td>\n",
              "      <td>05</td>\n",
              "      <td>137</td>\n",
              "      <td>49.443279</td>\n",
              "      <td>NaN</td>\n",
              "      <td>NaN</td>\n",
              "      <td>NaN</td>\n",
              "      <td>NaN</td>\n",
              "      <td>NaN</td>\n",
              "      <td>NaN</td>\n",
              "      <td>NaN</td>\n",
              "      <td>NaN</td>\n",
              "      <td>NaN</td>\n",
              "    </tr>\n",
              "    <tr>\n",
              "      <th>4</th>\n",
              "      <td>0500000US05139</td>\n",
              "      <td>Union County, Arkansas</td>\n",
              "      <td>41639</td>\n",
              "      <td>20259</td>\n",
              "      <td>05</td>\n",
              "      <td>139</td>\n",
              "      <td>48.653906</td>\n",
              "      <td>NaN</td>\n",
              "      <td>NaN</td>\n",
              "      <td>NaN</td>\n",
              "      <td>NaN</td>\n",
              "      <td>NaN</td>\n",
              "      <td>NaN</td>\n",
              "      <td>NaN</td>\n",
              "      <td>NaN</td>\n",
              "      <td>NaN</td>\n",
              "    </tr>\n",
              "  </tbody>\n",
              "</table>\n",
              "</div>"
            ],
            "text/plain": [
              "           GEO_ID                      NAME_x  ...  state_y  county_y\n",
              "0  0500000US05131  Sebastian County, Arkansas  ...       05       131\n",
              "1  0500000US05133     Sevier County, Arkansas  ...      NaN       NaN\n",
              "2  0500000US05135      Sharp County, Arkansas  ...      NaN       NaN\n",
              "3  0500000US05137      Stone County, Arkansas  ...      NaN       NaN\n",
              "4  0500000US05139      Union County, Arkansas  ...      NaN       NaN\n",
              "\n",
              "[5 rows x 16 columns]"
            ]
          },
          "metadata": {},
          "execution_count": 177
        }
      ]
    },
    {
      "cell_type": "markdown",
      "metadata": {
        "id": "u14zJPcRpgzF"
      },
      "source": [
        "### 3.2 - Merge Part 2 - Combine Merge Part 1 with ACS Sample Size Data"
      ]
    },
    {
      "cell_type": "code",
      "metadata": {
        "id": "Di7uwbLcpBZ1",
        "colab": {
          "base_uri": "https://localhost:8080/",
          "height": 204
        },
        "outputId": "ed549659-8492-4ddd-a7f1-d4cdecefe9fd"
      },
      "source": [
        "acs10_samplesize_df.head()"
      ],
      "execution_count": 178,
      "outputs": [
        {
          "output_type": "execute_result",
          "data": {
            "text/html": [
              "<div>\n",
              "<style scoped>\n",
              "    .dataframe tbody tr th:only-of-type {\n",
              "        vertical-align: middle;\n",
              "    }\n",
              "\n",
              "    .dataframe tbody tr th {\n",
              "        vertical-align: top;\n",
              "    }\n",
              "\n",
              "    .dataframe thead th {\n",
              "        text-align: right;\n",
              "    }\n",
              "</style>\n",
              "<table border=\"1\" class=\"dataframe\">\n",
              "  <thead>\n",
              "    <tr style=\"text-align: right;\">\n",
              "      <th></th>\n",
              "      <th>GEO_ID</th>\n",
              "      <th>NAME</th>\n",
              "      <th>B00001_001E</th>\n",
              "      <th>state</th>\n",
              "      <th>county</th>\n",
              "    </tr>\n",
              "  </thead>\n",
              "  <tbody>\n",
              "    <tr>\n",
              "      <th>0</th>\n",
              "      <td>0500000US39109</td>\n",
              "      <td>Miami County, Ohio</td>\n",
              "      <td>1789</td>\n",
              "      <td>39</td>\n",
              "      <td>109</td>\n",
              "    </tr>\n",
              "    <tr>\n",
              "      <th>1</th>\n",
              "      <td>0500000US39113</td>\n",
              "      <td>Montgomery County, Ohio</td>\n",
              "      <td>7457</td>\n",
              "      <td>39</td>\n",
              "      <td>113</td>\n",
              "    </tr>\n",
              "    <tr>\n",
              "      <th>2</th>\n",
              "      <td>0500000US39119</td>\n",
              "      <td>Muskingum County, Ohio</td>\n",
              "      <td>1524</td>\n",
              "      <td>39</td>\n",
              "      <td>119</td>\n",
              "    </tr>\n",
              "    <tr>\n",
              "      <th>3</th>\n",
              "      <td>0500000US39133</td>\n",
              "      <td>Portage County, Ohio</td>\n",
              "      <td>2400</td>\n",
              "      <td>39</td>\n",
              "      <td>133</td>\n",
              "    </tr>\n",
              "    <tr>\n",
              "      <th>4</th>\n",
              "      <td>0500000US39139</td>\n",
              "      <td>Richland County, Ohio</td>\n",
              "      <td>1896</td>\n",
              "      <td>39</td>\n",
              "      <td>139</td>\n",
              "    </tr>\n",
              "  </tbody>\n",
              "</table>\n",
              "</div>"
            ],
            "text/plain": [
              "           GEO_ID                     NAME  B00001_001E state county\n",
              "0  0500000US39109       Miami County, Ohio         1789    39    109\n",
              "1  0500000US39113  Montgomery County, Ohio         7457    39    113\n",
              "2  0500000US39119   Muskingum County, Ohio         1524    39    119\n",
              "3  0500000US39133     Portage County, Ohio         2400    39    133\n",
              "4  0500000US39139    Richland County, Ohio         1896    39    139"
            ]
          },
          "metadata": {},
          "execution_count": 178
        }
      ]
    },
    {
      "cell_type": "code",
      "metadata": {
        "id": "jaIZ9mm_pF6_",
        "colab": {
          "base_uri": "https://localhost:8080/",
          "height": 204
        },
        "outputId": "42497708-55c0-471b-b070-2871d8c58a5b"
      },
      "source": [
        "merge_pt2_df = pd.merge(left = merge_pt1_df,\n",
        "                    right = acs10_samplesize_df,\n",
        "                    left_on = 'GEO_ID',\n",
        "                    right_on = 'GEO_ID',\n",
        "                    how = 'outer')\n",
        "merge_pt2_df.head()"
      ],
      "execution_count": 179,
      "outputs": [
        {
          "output_type": "execute_result",
          "data": {
            "text/html": [
              "<div>\n",
              "<style scoped>\n",
              "    .dataframe tbody tr th:only-of-type {\n",
              "        vertical-align: middle;\n",
              "    }\n",
              "\n",
              "    .dataframe tbody tr th {\n",
              "        vertical-align: top;\n",
              "    }\n",
              "\n",
              "    .dataframe thead th {\n",
              "        text-align: right;\n",
              "    }\n",
              "</style>\n",
              "<table border=\"1\" class=\"dataframe\">\n",
              "  <thead>\n",
              "    <tr style=\"text-align: right;\">\n",
              "      <th></th>\n",
              "      <th>GEO_ID</th>\n",
              "      <th>NAME_x</th>\n",
              "      <th>P012001</th>\n",
              "      <th>P012002</th>\n",
              "      <th>state_x</th>\n",
              "      <th>county_x</th>\n",
              "      <th>Percent Male</th>\n",
              "      <th>NAME_y</th>\n",
              "      <th>DP05_0001E</th>\n",
              "      <th>DP05_0001M</th>\n",
              "      <th>DP05_0002E</th>\n",
              "      <th>DP05_0002M</th>\n",
              "      <th>DP05_0002PE</th>\n",
              "      <th>DP05_0002PM</th>\n",
              "      <th>state_y</th>\n",
              "      <th>county_y</th>\n",
              "      <th>NAME</th>\n",
              "      <th>B00001_001E</th>\n",
              "      <th>state</th>\n",
              "      <th>county</th>\n",
              "    </tr>\n",
              "  </thead>\n",
              "  <tbody>\n",
              "    <tr>\n",
              "      <th>0</th>\n",
              "      <td>0500000US05131</td>\n",
              "      <td>Sebastian County, Arkansas</td>\n",
              "      <td>125744</td>\n",
              "      <td>61633</td>\n",
              "      <td>05</td>\n",
              "      <td>131</td>\n",
              "      <td>49.014665</td>\n",
              "      <td>Sebastian County, Arkansas</td>\n",
              "      <td>125920.0</td>\n",
              "      <td>NaN</td>\n",
              "      <td>61024.0</td>\n",
              "      <td>840.0</td>\n",
              "      <td>48.5</td>\n",
              "      <td>0.7</td>\n",
              "      <td>05</td>\n",
              "      <td>131</td>\n",
              "      <td>Sebastian County, Arkansas</td>\n",
              "      <td>1518.0</td>\n",
              "      <td>05</td>\n",
              "      <td>131</td>\n",
              "    </tr>\n",
              "    <tr>\n",
              "      <th>1</th>\n",
              "      <td>0500000US05133</td>\n",
              "      <td>Sevier County, Arkansas</td>\n",
              "      <td>17058</td>\n",
              "      <td>8464</td>\n",
              "      <td>05</td>\n",
              "      <td>133</td>\n",
              "      <td>49.618947</td>\n",
              "      <td>NaN</td>\n",
              "      <td>NaN</td>\n",
              "      <td>NaN</td>\n",
              "      <td>NaN</td>\n",
              "      <td>NaN</td>\n",
              "      <td>NaN</td>\n",
              "      <td>NaN</td>\n",
              "      <td>NaN</td>\n",
              "      <td>NaN</td>\n",
              "      <td>NaN</td>\n",
              "      <td>NaN</td>\n",
              "      <td>NaN</td>\n",
              "      <td>NaN</td>\n",
              "    </tr>\n",
              "    <tr>\n",
              "      <th>2</th>\n",
              "      <td>0500000US05135</td>\n",
              "      <td>Sharp County, Arkansas</td>\n",
              "      <td>17264</td>\n",
              "      <td>8532</td>\n",
              "      <td>05</td>\n",
              "      <td>135</td>\n",
              "      <td>49.420760</td>\n",
              "      <td>NaN</td>\n",
              "      <td>NaN</td>\n",
              "      <td>NaN</td>\n",
              "      <td>NaN</td>\n",
              "      <td>NaN</td>\n",
              "      <td>NaN</td>\n",
              "      <td>NaN</td>\n",
              "      <td>NaN</td>\n",
              "      <td>NaN</td>\n",
              "      <td>NaN</td>\n",
              "      <td>NaN</td>\n",
              "      <td>NaN</td>\n",
              "      <td>NaN</td>\n",
              "    </tr>\n",
              "    <tr>\n",
              "      <th>3</th>\n",
              "      <td>0500000US05137</td>\n",
              "      <td>Stone County, Arkansas</td>\n",
              "      <td>12394</td>\n",
              "      <td>6128</td>\n",
              "      <td>05</td>\n",
              "      <td>137</td>\n",
              "      <td>49.443279</td>\n",
              "      <td>NaN</td>\n",
              "      <td>NaN</td>\n",
              "      <td>NaN</td>\n",
              "      <td>NaN</td>\n",
              "      <td>NaN</td>\n",
              "      <td>NaN</td>\n",
              "      <td>NaN</td>\n",
              "      <td>NaN</td>\n",
              "      <td>NaN</td>\n",
              "      <td>NaN</td>\n",
              "      <td>NaN</td>\n",
              "      <td>NaN</td>\n",
              "      <td>NaN</td>\n",
              "    </tr>\n",
              "    <tr>\n",
              "      <th>4</th>\n",
              "      <td>0500000US05139</td>\n",
              "      <td>Union County, Arkansas</td>\n",
              "      <td>41639</td>\n",
              "      <td>20259</td>\n",
              "      <td>05</td>\n",
              "      <td>139</td>\n",
              "      <td>48.653906</td>\n",
              "      <td>NaN</td>\n",
              "      <td>NaN</td>\n",
              "      <td>NaN</td>\n",
              "      <td>NaN</td>\n",
              "      <td>NaN</td>\n",
              "      <td>NaN</td>\n",
              "      <td>NaN</td>\n",
              "      <td>NaN</td>\n",
              "      <td>NaN</td>\n",
              "      <td>NaN</td>\n",
              "      <td>NaN</td>\n",
              "      <td>NaN</td>\n",
              "      <td>NaN</td>\n",
              "    </tr>\n",
              "  </tbody>\n",
              "</table>\n",
              "</div>"
            ],
            "text/plain": [
              "           GEO_ID                      NAME_x  ...  state  county\n",
              "0  0500000US05131  Sebastian County, Arkansas  ...     05     131\n",
              "1  0500000US05133     Sevier County, Arkansas  ...    NaN     NaN\n",
              "2  0500000US05135      Sharp County, Arkansas  ...    NaN     NaN\n",
              "3  0500000US05137      Stone County, Arkansas  ...    NaN     NaN\n",
              "4  0500000US05139      Union County, Arkansas  ...    NaN     NaN\n",
              "\n",
              "[5 rows x 20 columns]"
            ]
          },
          "metadata": {},
          "execution_count": 179
        }
      ]
    },
    {
      "cell_type": "markdown",
      "metadata": {
        "id": "3q0qFN6opdyS"
      },
      "source": [
        "### 3.3 Clean Up Merge File\n",
        "Notice that the merge file has several columns (variables) that have repeated information. All three datafiles had a column called `name`. The name column is a good way to see that the merge has worked correctly. In this step we will also rename the columns."
      ]
    },
    {
      "cell_type": "code",
      "metadata": {
        "id": "-grIzjgEqOUG",
        "colab": {
          "base_uri": "https://localhost:8080/",
          "height": 111
        },
        "outputId": "32b7b402-68c5-475c-e89b-28ad453f3728"
      },
      "source": [
        "# Check that the names match\n",
        "merge_pt2_df.loc[(merge_pt2_df['NAME_x']==merge_pt2_df['NAME_y']),'Name Matches pt 1'] = 1\n",
        "merge_pt2_df.loc[(merge_pt2_df['NAME_x']==merge_pt2_df['NAME']),'Name Matches pt 2'] = 1\n",
        "merge_pt2_df[['Name Matches pt 1','Name Matches pt 2']].describe().T"
      ],
      "execution_count": 180,
      "outputs": [
        {
          "output_type": "execute_result",
          "data": {
            "text/html": [
              "<div>\n",
              "<style scoped>\n",
              "    .dataframe tbody tr th:only-of-type {\n",
              "        vertical-align: middle;\n",
              "    }\n",
              "\n",
              "    .dataframe tbody tr th {\n",
              "        vertical-align: top;\n",
              "    }\n",
              "\n",
              "    .dataframe thead th {\n",
              "        text-align: right;\n",
              "    }\n",
              "</style>\n",
              "<table border=\"1\" class=\"dataframe\">\n",
              "  <thead>\n",
              "    <tr style=\"text-align: right;\">\n",
              "      <th></th>\n",
              "      <th>count</th>\n",
              "      <th>mean</th>\n",
              "      <th>std</th>\n",
              "      <th>min</th>\n",
              "      <th>25%</th>\n",
              "      <th>50%</th>\n",
              "      <th>75%</th>\n",
              "      <th>max</th>\n",
              "    </tr>\n",
              "  </thead>\n",
              "  <tbody>\n",
              "    <tr>\n",
              "      <th>Name Matches pt 1</th>\n",
              "      <td>817.0</td>\n",
              "      <td>1.0</td>\n",
              "      <td>0.0</td>\n",
              "      <td>1.0</td>\n",
              "      <td>1.0</td>\n",
              "      <td>1.0</td>\n",
              "      <td>1.0</td>\n",
              "      <td>1.0</td>\n",
              "    </tr>\n",
              "    <tr>\n",
              "      <th>Name Matches pt 2</th>\n",
              "      <td>817.0</td>\n",
              "      <td>1.0</td>\n",
              "      <td>0.0</td>\n",
              "      <td>1.0</td>\n",
              "      <td>1.0</td>\n",
              "      <td>1.0</td>\n",
              "      <td>1.0</td>\n",
              "      <td>1.0</td>\n",
              "    </tr>\n",
              "  </tbody>\n",
              "</table>\n",
              "</div>"
            ],
            "text/plain": [
              "                   count  mean  std  min  25%  50%  75%  max\n",
              "Name Matches pt 1  817.0   1.0  0.0  1.0  1.0  1.0  1.0  1.0\n",
              "Name Matches pt 2  817.0   1.0  0.0  1.0  1.0  1.0  1.0  1.0"
            ]
          },
          "metadata": {},
          "execution_count": 180
        }
      ]
    },
    {
      "cell_type": "code",
      "metadata": {
        "id": "d70ZdT9gq8mw",
        "colab": {
          "base_uri": "https://localhost:8080/",
          "height": 204
        },
        "outputId": "498c54df-6e0d-4b3e-c99b-a5433073d62a"
      },
      "source": [
        "## The name columns match - we can drop the repeated columns\n",
        "merge_pt2_df = merge_pt2_df.drop(['NAME_y','NAME','Name Matches pt 1','Name Matches pt 2'], axis = 1)\n",
        "merge_pt2_df.head()"
      ],
      "execution_count": 181,
      "outputs": [
        {
          "output_type": "execute_result",
          "data": {
            "text/html": [
              "<div>\n",
              "<style scoped>\n",
              "    .dataframe tbody tr th:only-of-type {\n",
              "        vertical-align: middle;\n",
              "    }\n",
              "\n",
              "    .dataframe tbody tr th {\n",
              "        vertical-align: top;\n",
              "    }\n",
              "\n",
              "    .dataframe thead th {\n",
              "        text-align: right;\n",
              "    }\n",
              "</style>\n",
              "<table border=\"1\" class=\"dataframe\">\n",
              "  <thead>\n",
              "    <tr style=\"text-align: right;\">\n",
              "      <th></th>\n",
              "      <th>GEO_ID</th>\n",
              "      <th>NAME_x</th>\n",
              "      <th>P012001</th>\n",
              "      <th>P012002</th>\n",
              "      <th>state_x</th>\n",
              "      <th>county_x</th>\n",
              "      <th>Percent Male</th>\n",
              "      <th>DP05_0001E</th>\n",
              "      <th>DP05_0001M</th>\n",
              "      <th>DP05_0002E</th>\n",
              "      <th>DP05_0002M</th>\n",
              "      <th>DP05_0002PE</th>\n",
              "      <th>DP05_0002PM</th>\n",
              "      <th>state_y</th>\n",
              "      <th>county_y</th>\n",
              "      <th>B00001_001E</th>\n",
              "      <th>state</th>\n",
              "      <th>county</th>\n",
              "    </tr>\n",
              "  </thead>\n",
              "  <tbody>\n",
              "    <tr>\n",
              "      <th>0</th>\n",
              "      <td>0500000US05131</td>\n",
              "      <td>Sebastian County, Arkansas</td>\n",
              "      <td>125744</td>\n",
              "      <td>61633</td>\n",
              "      <td>05</td>\n",
              "      <td>131</td>\n",
              "      <td>49.014665</td>\n",
              "      <td>125920.0</td>\n",
              "      <td>NaN</td>\n",
              "      <td>61024.0</td>\n",
              "      <td>840.0</td>\n",
              "      <td>48.5</td>\n",
              "      <td>0.7</td>\n",
              "      <td>05</td>\n",
              "      <td>131</td>\n",
              "      <td>1518.0</td>\n",
              "      <td>05</td>\n",
              "      <td>131</td>\n",
              "    </tr>\n",
              "    <tr>\n",
              "      <th>1</th>\n",
              "      <td>0500000US05133</td>\n",
              "      <td>Sevier County, Arkansas</td>\n",
              "      <td>17058</td>\n",
              "      <td>8464</td>\n",
              "      <td>05</td>\n",
              "      <td>133</td>\n",
              "      <td>49.618947</td>\n",
              "      <td>NaN</td>\n",
              "      <td>NaN</td>\n",
              "      <td>NaN</td>\n",
              "      <td>NaN</td>\n",
              "      <td>NaN</td>\n",
              "      <td>NaN</td>\n",
              "      <td>NaN</td>\n",
              "      <td>NaN</td>\n",
              "      <td>NaN</td>\n",
              "      <td>NaN</td>\n",
              "      <td>NaN</td>\n",
              "    </tr>\n",
              "    <tr>\n",
              "      <th>2</th>\n",
              "      <td>0500000US05135</td>\n",
              "      <td>Sharp County, Arkansas</td>\n",
              "      <td>17264</td>\n",
              "      <td>8532</td>\n",
              "      <td>05</td>\n",
              "      <td>135</td>\n",
              "      <td>49.420760</td>\n",
              "      <td>NaN</td>\n",
              "      <td>NaN</td>\n",
              "      <td>NaN</td>\n",
              "      <td>NaN</td>\n",
              "      <td>NaN</td>\n",
              "      <td>NaN</td>\n",
              "      <td>NaN</td>\n",
              "      <td>NaN</td>\n",
              "      <td>NaN</td>\n",
              "      <td>NaN</td>\n",
              "      <td>NaN</td>\n",
              "    </tr>\n",
              "    <tr>\n",
              "      <th>3</th>\n",
              "      <td>0500000US05137</td>\n",
              "      <td>Stone County, Arkansas</td>\n",
              "      <td>12394</td>\n",
              "      <td>6128</td>\n",
              "      <td>05</td>\n",
              "      <td>137</td>\n",
              "      <td>49.443279</td>\n",
              "      <td>NaN</td>\n",
              "      <td>NaN</td>\n",
              "      <td>NaN</td>\n",
              "      <td>NaN</td>\n",
              "      <td>NaN</td>\n",
              "      <td>NaN</td>\n",
              "      <td>NaN</td>\n",
              "      <td>NaN</td>\n",
              "      <td>NaN</td>\n",
              "      <td>NaN</td>\n",
              "      <td>NaN</td>\n",
              "    </tr>\n",
              "    <tr>\n",
              "      <th>4</th>\n",
              "      <td>0500000US05139</td>\n",
              "      <td>Union County, Arkansas</td>\n",
              "      <td>41639</td>\n",
              "      <td>20259</td>\n",
              "      <td>05</td>\n",
              "      <td>139</td>\n",
              "      <td>48.653906</td>\n",
              "      <td>NaN</td>\n",
              "      <td>NaN</td>\n",
              "      <td>NaN</td>\n",
              "      <td>NaN</td>\n",
              "      <td>NaN</td>\n",
              "      <td>NaN</td>\n",
              "      <td>NaN</td>\n",
              "      <td>NaN</td>\n",
              "      <td>NaN</td>\n",
              "      <td>NaN</td>\n",
              "      <td>NaN</td>\n",
              "    </tr>\n",
              "  </tbody>\n",
              "</table>\n",
              "</div>"
            ],
            "text/plain": [
              "           GEO_ID                      NAME_x  ...  state  county\n",
              "0  0500000US05131  Sebastian County, Arkansas  ...     05     131\n",
              "1  0500000US05133     Sevier County, Arkansas  ...    NaN     NaN\n",
              "2  0500000US05135      Sharp County, Arkansas  ...    NaN     NaN\n",
              "3  0500000US05137      Stone County, Arkansas  ...    NaN     NaN\n",
              "4  0500000US05139      Union County, Arkansas  ...    NaN     NaN\n",
              "\n",
              "[5 rows x 18 columns]"
            ]
          },
          "metadata": {},
          "execution_count": 181
        }
      ]
    },
    {
      "cell_type": "code",
      "metadata": {
        "id": "UtkICtZfrmLJ",
        "colab": {
          "base_uri": "https://localhost:8080/",
          "height": 204
        },
        "outputId": "addd2a38-b375-4e9d-c8ad-9bccdccf1374"
      },
      "source": [
        "## The state and county columns also match - we can drop the repeated columns\n",
        "merge_pt2_df = merge_pt2_df.drop(['state_y','county_y','state','county'], axis = 1)\n",
        "merge_pt2_df.head()"
      ],
      "execution_count": 182,
      "outputs": [
        {
          "output_type": "execute_result",
          "data": {
            "text/html": [
              "<div>\n",
              "<style scoped>\n",
              "    .dataframe tbody tr th:only-of-type {\n",
              "        vertical-align: middle;\n",
              "    }\n",
              "\n",
              "    .dataframe tbody tr th {\n",
              "        vertical-align: top;\n",
              "    }\n",
              "\n",
              "    .dataframe thead th {\n",
              "        text-align: right;\n",
              "    }\n",
              "</style>\n",
              "<table border=\"1\" class=\"dataframe\">\n",
              "  <thead>\n",
              "    <tr style=\"text-align: right;\">\n",
              "      <th></th>\n",
              "      <th>GEO_ID</th>\n",
              "      <th>NAME_x</th>\n",
              "      <th>P012001</th>\n",
              "      <th>P012002</th>\n",
              "      <th>state_x</th>\n",
              "      <th>county_x</th>\n",
              "      <th>Percent Male</th>\n",
              "      <th>DP05_0001E</th>\n",
              "      <th>DP05_0001M</th>\n",
              "      <th>DP05_0002E</th>\n",
              "      <th>DP05_0002M</th>\n",
              "      <th>DP05_0002PE</th>\n",
              "      <th>DP05_0002PM</th>\n",
              "      <th>B00001_001E</th>\n",
              "    </tr>\n",
              "  </thead>\n",
              "  <tbody>\n",
              "    <tr>\n",
              "      <th>0</th>\n",
              "      <td>0500000US05131</td>\n",
              "      <td>Sebastian County, Arkansas</td>\n",
              "      <td>125744</td>\n",
              "      <td>61633</td>\n",
              "      <td>05</td>\n",
              "      <td>131</td>\n",
              "      <td>49.014665</td>\n",
              "      <td>125920.0</td>\n",
              "      <td>NaN</td>\n",
              "      <td>61024.0</td>\n",
              "      <td>840.0</td>\n",
              "      <td>48.5</td>\n",
              "      <td>0.7</td>\n",
              "      <td>1518.0</td>\n",
              "    </tr>\n",
              "    <tr>\n",
              "      <th>1</th>\n",
              "      <td>0500000US05133</td>\n",
              "      <td>Sevier County, Arkansas</td>\n",
              "      <td>17058</td>\n",
              "      <td>8464</td>\n",
              "      <td>05</td>\n",
              "      <td>133</td>\n",
              "      <td>49.618947</td>\n",
              "      <td>NaN</td>\n",
              "      <td>NaN</td>\n",
              "      <td>NaN</td>\n",
              "      <td>NaN</td>\n",
              "      <td>NaN</td>\n",
              "      <td>NaN</td>\n",
              "      <td>NaN</td>\n",
              "    </tr>\n",
              "    <tr>\n",
              "      <th>2</th>\n",
              "      <td>0500000US05135</td>\n",
              "      <td>Sharp County, Arkansas</td>\n",
              "      <td>17264</td>\n",
              "      <td>8532</td>\n",
              "      <td>05</td>\n",
              "      <td>135</td>\n",
              "      <td>49.420760</td>\n",
              "      <td>NaN</td>\n",
              "      <td>NaN</td>\n",
              "      <td>NaN</td>\n",
              "      <td>NaN</td>\n",
              "      <td>NaN</td>\n",
              "      <td>NaN</td>\n",
              "      <td>NaN</td>\n",
              "    </tr>\n",
              "    <tr>\n",
              "      <th>3</th>\n",
              "      <td>0500000US05137</td>\n",
              "      <td>Stone County, Arkansas</td>\n",
              "      <td>12394</td>\n",
              "      <td>6128</td>\n",
              "      <td>05</td>\n",
              "      <td>137</td>\n",
              "      <td>49.443279</td>\n",
              "      <td>NaN</td>\n",
              "      <td>NaN</td>\n",
              "      <td>NaN</td>\n",
              "      <td>NaN</td>\n",
              "      <td>NaN</td>\n",
              "      <td>NaN</td>\n",
              "      <td>NaN</td>\n",
              "    </tr>\n",
              "    <tr>\n",
              "      <th>4</th>\n",
              "      <td>0500000US05139</td>\n",
              "      <td>Union County, Arkansas</td>\n",
              "      <td>41639</td>\n",
              "      <td>20259</td>\n",
              "      <td>05</td>\n",
              "      <td>139</td>\n",
              "      <td>48.653906</td>\n",
              "      <td>NaN</td>\n",
              "      <td>NaN</td>\n",
              "      <td>NaN</td>\n",
              "      <td>NaN</td>\n",
              "      <td>NaN</td>\n",
              "      <td>NaN</td>\n",
              "      <td>NaN</td>\n",
              "    </tr>\n",
              "  </tbody>\n",
              "</table>\n",
              "</div>"
            ],
            "text/plain": [
              "           GEO_ID                      NAME_x  ...  DP05_0002PM  B00001_001E\n",
              "0  0500000US05131  Sebastian County, Arkansas  ...          0.7       1518.0\n",
              "1  0500000US05133     Sevier County, Arkansas  ...          NaN          NaN\n",
              "2  0500000US05135      Sharp County, Arkansas  ...          NaN          NaN\n",
              "3  0500000US05137      Stone County, Arkansas  ...          NaN          NaN\n",
              "4  0500000US05139      Union County, Arkansas  ...          NaN          NaN\n",
              "\n",
              "[5 rows x 14 columns]"
            ]
          },
          "metadata": {},
          "execution_count": 182
        }
      ]
    },
    {
      "cell_type": "markdown",
      "metadata": {
        "id": "SOHHjefKsNBd"
      },
      "source": [
        "### 3.4 Rename Columns"
      ]
    },
    {
      "cell_type": "code",
      "metadata": {
        "id": "GAKPqxcBsPxt",
        "colab": {
          "base_uri": "https://localhost:8080/",
          "height": 323
        },
        "outputId": "00eac8aa-d00f-4225-addf-12f1e97f06be"
      },
      "source": [
        "merge_pt2_df = merge_pt2_df.rename(columns={\"NAME_x\": \"County Name\", \n",
        "                                            \"state_x\": \"State FIPS Code\",\n",
        "                                            \"county_x\": \"County FIPS Code\",\n",
        "                                            \"P012001\": \"Total Population April 1 2010\", \n",
        "                                            \"P012002\": \"Total Male Population April 1 2010\",\n",
        "                                            \"Percent Male\": \"Percent Male April 1 2010\",\n",
        "                                            \"DP05_0001E\": \"Total Population ACS 2010 (estimate)\",\n",
        "                                            \"DP05_0001M\":  \"Total Population ACS 2010 (MOE)\",\n",
        "                                            \"DP05_0002E\": \"Total Male Population ACS 2010 (estimate)\",\n",
        "                                            \"DP05_0002M\":  \"Total Male Population ACS 2010 (MOE)\",\n",
        "                                            \"DP05_0002PE\": \"Percent Male Population ACS 2010 (estimate)\",\n",
        "                                            \"DP05_0002PM\":  \"Percent Male Population ACS 2010 (MOE)\",\n",
        "                                            \"B00001_001E\": \"Sample Size ACS 2010\"\n",
        "                                            })\n",
        "merge_pt2_df.head()"
      ],
      "execution_count": 183,
      "outputs": [
        {
          "output_type": "execute_result",
          "data": {
            "text/html": [
              "<div>\n",
              "<style scoped>\n",
              "    .dataframe tbody tr th:only-of-type {\n",
              "        vertical-align: middle;\n",
              "    }\n",
              "\n",
              "    .dataframe tbody tr th {\n",
              "        vertical-align: top;\n",
              "    }\n",
              "\n",
              "    .dataframe thead th {\n",
              "        text-align: right;\n",
              "    }\n",
              "</style>\n",
              "<table border=\"1\" class=\"dataframe\">\n",
              "  <thead>\n",
              "    <tr style=\"text-align: right;\">\n",
              "      <th></th>\n",
              "      <th>GEO_ID</th>\n",
              "      <th>County Name</th>\n",
              "      <th>Total Population April 1 2010</th>\n",
              "      <th>Total Male Population April 1 2010</th>\n",
              "      <th>State FIPS Code</th>\n",
              "      <th>County FIPS Code</th>\n",
              "      <th>Percent Male April 1 2010</th>\n",
              "      <th>Total Population ACS 2010 (estimate)</th>\n",
              "      <th>Total Population ACS 2010 (MOE)</th>\n",
              "      <th>Total Male Population ACS 2010 (estimate)</th>\n",
              "      <th>Total Male Population ACS 2010 (MOE)</th>\n",
              "      <th>Percent Male Population ACS 2010 (estimate)</th>\n",
              "      <th>Percent Male Population ACS 2010 (MOE)</th>\n",
              "      <th>Sample Size ACS 2010</th>\n",
              "    </tr>\n",
              "  </thead>\n",
              "  <tbody>\n",
              "    <tr>\n",
              "      <th>0</th>\n",
              "      <td>0500000US05131</td>\n",
              "      <td>Sebastian County, Arkansas</td>\n",
              "      <td>125744</td>\n",
              "      <td>61633</td>\n",
              "      <td>05</td>\n",
              "      <td>131</td>\n",
              "      <td>49.014665</td>\n",
              "      <td>125920.0</td>\n",
              "      <td>NaN</td>\n",
              "      <td>61024.0</td>\n",
              "      <td>840.0</td>\n",
              "      <td>48.5</td>\n",
              "      <td>0.7</td>\n",
              "      <td>1518.0</td>\n",
              "    </tr>\n",
              "    <tr>\n",
              "      <th>1</th>\n",
              "      <td>0500000US05133</td>\n",
              "      <td>Sevier County, Arkansas</td>\n",
              "      <td>17058</td>\n",
              "      <td>8464</td>\n",
              "      <td>05</td>\n",
              "      <td>133</td>\n",
              "      <td>49.618947</td>\n",
              "      <td>NaN</td>\n",
              "      <td>NaN</td>\n",
              "      <td>NaN</td>\n",
              "      <td>NaN</td>\n",
              "      <td>NaN</td>\n",
              "      <td>NaN</td>\n",
              "      <td>NaN</td>\n",
              "    </tr>\n",
              "    <tr>\n",
              "      <th>2</th>\n",
              "      <td>0500000US05135</td>\n",
              "      <td>Sharp County, Arkansas</td>\n",
              "      <td>17264</td>\n",
              "      <td>8532</td>\n",
              "      <td>05</td>\n",
              "      <td>135</td>\n",
              "      <td>49.420760</td>\n",
              "      <td>NaN</td>\n",
              "      <td>NaN</td>\n",
              "      <td>NaN</td>\n",
              "      <td>NaN</td>\n",
              "      <td>NaN</td>\n",
              "      <td>NaN</td>\n",
              "      <td>NaN</td>\n",
              "    </tr>\n",
              "    <tr>\n",
              "      <th>3</th>\n",
              "      <td>0500000US05137</td>\n",
              "      <td>Stone County, Arkansas</td>\n",
              "      <td>12394</td>\n",
              "      <td>6128</td>\n",
              "      <td>05</td>\n",
              "      <td>137</td>\n",
              "      <td>49.443279</td>\n",
              "      <td>NaN</td>\n",
              "      <td>NaN</td>\n",
              "      <td>NaN</td>\n",
              "      <td>NaN</td>\n",
              "      <td>NaN</td>\n",
              "      <td>NaN</td>\n",
              "      <td>NaN</td>\n",
              "    </tr>\n",
              "    <tr>\n",
              "      <th>4</th>\n",
              "      <td>0500000US05139</td>\n",
              "      <td>Union County, Arkansas</td>\n",
              "      <td>41639</td>\n",
              "      <td>20259</td>\n",
              "      <td>05</td>\n",
              "      <td>139</td>\n",
              "      <td>48.653906</td>\n",
              "      <td>NaN</td>\n",
              "      <td>NaN</td>\n",
              "      <td>NaN</td>\n",
              "      <td>NaN</td>\n",
              "      <td>NaN</td>\n",
              "      <td>NaN</td>\n",
              "      <td>NaN</td>\n",
              "    </tr>\n",
              "  </tbody>\n",
              "</table>\n",
              "</div>"
            ],
            "text/plain": [
              "           GEO_ID  ... Sample Size ACS 2010\n",
              "0  0500000US05131  ...               1518.0\n",
              "1  0500000US05133  ...                  NaN\n",
              "2  0500000US05135  ...                  NaN\n",
              "3  0500000US05137  ...                  NaN\n",
              "4  0500000US05139  ...                  NaN\n",
              "\n",
              "[5 rows x 14 columns]"
            ]
          },
          "metadata": {},
          "execution_count": 183
        }
      ]
    },
    {
      "cell_type": "markdown",
      "metadata": {
        "id": "Z6S9HzNCH_8d"
      },
      "source": [
        "### 3.1 Add Percent Sample Size\n",
        "Look at range of how sample size relates to population size."
      ]
    },
    {
      "cell_type": "code",
      "metadata": {
        "colab": {
          "base_uri": "https://localhost:8080/"
        },
        "id": "KVoc9QEcIIYT",
        "outputId": "733ced35-3b87-496c-b631-7106fbe79546"
      },
      "source": [
        "merge_pt2_df.loc[:,'Percent Sample Size'] = merge_pt2_df['Sample Size ACS 2010'] / merge_pt2_df['Total Population April 1 2010'] * 100\n",
        "merge_pt2_df['Percent Sample Size'].describe()"
      ],
      "execution_count": 200,
      "outputs": [
        {
          "output_type": "execute_result",
          "data": {
            "text/plain": [
              "count    818.000000\n",
              "mean       1.470118\n",
              "std        0.359547\n",
              "min        0.985077\n",
              "25%        1.251849\n",
              "50%        1.377231\n",
              "75%        1.567733\n",
              "max        3.867175\n",
              "Name: Percent Sample Size, dtype: float64"
            ]
          },
          "metadata": {},
          "execution_count": 200
        }
      ]
    },
    {
      "cell_type": "code",
      "metadata": {
        "colab": {
          "base_uri": "https://localhost:8080/",
          "height": 425
        },
        "id": "z7nmsiILJbnr",
        "outputId": "bc61435d-53bd-4c3b-8b49-15727f54d07c"
      },
      "source": [
        "merge_pt2_df.head()"
      ],
      "execution_count": 206,
      "outputs": [
        {
          "output_type": "execute_result",
          "data": {
            "text/html": [
              "<div>\n",
              "<style scoped>\n",
              "    .dataframe tbody tr th:only-of-type {\n",
              "        vertical-align: middle;\n",
              "    }\n",
              "\n",
              "    .dataframe tbody tr th {\n",
              "        vertical-align: top;\n",
              "    }\n",
              "\n",
              "    .dataframe thead th {\n",
              "        text-align: right;\n",
              "    }\n",
              "</style>\n",
              "<table border=\"1\" class=\"dataframe\">\n",
              "  <thead>\n",
              "    <tr style=\"text-align: right;\">\n",
              "      <th></th>\n",
              "      <th>GEO_ID</th>\n",
              "      <th>County Name</th>\n",
              "      <th>Total Population April 1 2010</th>\n",
              "      <th>Total Male Population April 1 2010</th>\n",
              "      <th>State FIPS Code</th>\n",
              "      <th>County FIPS Code</th>\n",
              "      <th>Percent Male April 1 2010</th>\n",
              "      <th>Total Population ACS 2010 (estimate)</th>\n",
              "      <th>Total Population ACS 2010 (MOE)</th>\n",
              "      <th>Total Male Population ACS 2010 (estimate)</th>\n",
              "      <th>Total Male Population ACS 2010 (MOE)</th>\n",
              "      <th>Percent Male Population ACS 2010 (estimate)</th>\n",
              "      <th>Percent Male Population ACS 2010 (MOE)</th>\n",
              "      <th>Sample Size ACS 2010</th>\n",
              "      <th>Estimate Lower Bound</th>\n",
              "      <th>Estimate Upper Bound</th>\n",
              "      <th>Parameter within Confidence Interval</th>\n",
              "      <th>Parameter minus Estimate</th>\n",
              "      <th>Percent Male Population ACS 2010 (SE)</th>\n",
              "      <th>Parameter SE from Estimate</th>\n",
              "      <th>Percent Sample Size</th>\n",
              "    </tr>\n",
              "  </thead>\n",
              "  <tbody>\n",
              "    <tr>\n",
              "      <th>1346</th>\n",
              "      <td>0500000US48301</td>\n",
              "      <td>Loving County, Texas</td>\n",
              "      <td>82</td>\n",
              "      <td>46</td>\n",
              "      <td>48</td>\n",
              "      <td>301</td>\n",
              "      <td>56.097561</td>\n",
              "      <td>NaN</td>\n",
              "      <td>NaN</td>\n",
              "      <td>NaN</td>\n",
              "      <td>NaN</td>\n",
              "      <td>NaN</td>\n",
              "      <td>NaN</td>\n",
              "      <td>NaN</td>\n",
              "      <td>NaN</td>\n",
              "      <td>NaN</td>\n",
              "      <td>NaN</td>\n",
              "      <td>NaN</td>\n",
              "      <td>NaN</td>\n",
              "      <td>NaN</td>\n",
              "      <td>NaN</td>\n",
              "    </tr>\n",
              "    <tr>\n",
              "      <th>2603</th>\n",
              "      <td>0500000US15005</td>\n",
              "      <td>Kalawao County, Hawaii</td>\n",
              "      <td>90</td>\n",
              "      <td>42</td>\n",
              "      <td>15</td>\n",
              "      <td>005</td>\n",
              "      <td>46.666667</td>\n",
              "      <td>NaN</td>\n",
              "      <td>NaN</td>\n",
              "      <td>NaN</td>\n",
              "      <td>NaN</td>\n",
              "      <td>NaN</td>\n",
              "      <td>NaN</td>\n",
              "      <td>NaN</td>\n",
              "      <td>NaN</td>\n",
              "      <td>NaN</td>\n",
              "      <td>NaN</td>\n",
              "      <td>NaN</td>\n",
              "      <td>NaN</td>\n",
              "      <td>NaN</td>\n",
              "      <td>NaN</td>\n",
              "    </tr>\n",
              "    <tr>\n",
              "      <th>1329</th>\n",
              "      <td>0500000US48269</td>\n",
              "      <td>King County, Texas</td>\n",
              "      <td>286</td>\n",
              "      <td>141</td>\n",
              "      <td>48</td>\n",
              "      <td>269</td>\n",
              "      <td>49.300699</td>\n",
              "      <td>NaN</td>\n",
              "      <td>NaN</td>\n",
              "      <td>NaN</td>\n",
              "      <td>NaN</td>\n",
              "      <td>NaN</td>\n",
              "      <td>NaN</td>\n",
              "      <td>NaN</td>\n",
              "      <td>NaN</td>\n",
              "      <td>NaN</td>\n",
              "      <td>NaN</td>\n",
              "      <td>NaN</td>\n",
              "      <td>NaN</td>\n",
              "      <td>NaN</td>\n",
              "      <td>NaN</td>\n",
              "    </tr>\n",
              "    <tr>\n",
              "      <th>1325</th>\n",
              "      <td>0500000US48261</td>\n",
              "      <td>Kenedy County, Texas</td>\n",
              "      <td>416</td>\n",
              "      <td>212</td>\n",
              "      <td>48</td>\n",
              "      <td>261</td>\n",
              "      <td>50.961538</td>\n",
              "      <td>NaN</td>\n",
              "      <td>NaN</td>\n",
              "      <td>NaN</td>\n",
              "      <td>NaN</td>\n",
              "      <td>NaN</td>\n",
              "      <td>NaN</td>\n",
              "      <td>NaN</td>\n",
              "      <td>NaN</td>\n",
              "      <td>NaN</td>\n",
              "      <td>NaN</td>\n",
              "      <td>NaN</td>\n",
              "      <td>NaN</td>\n",
              "      <td>NaN</td>\n",
              "      <td>NaN</td>\n",
              "    </tr>\n",
              "    <tr>\n",
              "      <th>2421</th>\n",
              "      <td>0500000US31005</td>\n",
              "      <td>Arthur County, Nebraska</td>\n",
              "      <td>460</td>\n",
              "      <td>228</td>\n",
              "      <td>31</td>\n",
              "      <td>005</td>\n",
              "      <td>49.565217</td>\n",
              "      <td>NaN</td>\n",
              "      <td>NaN</td>\n",
              "      <td>NaN</td>\n",
              "      <td>NaN</td>\n",
              "      <td>NaN</td>\n",
              "      <td>NaN</td>\n",
              "      <td>NaN</td>\n",
              "      <td>NaN</td>\n",
              "      <td>NaN</td>\n",
              "      <td>NaN</td>\n",
              "      <td>NaN</td>\n",
              "      <td>NaN</td>\n",
              "      <td>NaN</td>\n",
              "      <td>NaN</td>\n",
              "    </tr>\n",
              "  </tbody>\n",
              "</table>\n",
              "</div>"
            ],
            "text/plain": [
              "              GEO_ID  ... Percent Sample Size\n",
              "1346  0500000US48301  ...                 NaN\n",
              "2603  0500000US15005  ...                 NaN\n",
              "1329  0500000US48269  ...                 NaN\n",
              "1325  0500000US48261  ...                 NaN\n",
              "2421  0500000US31005  ...                 NaN\n",
              "\n",
              "[5 rows x 21 columns]"
            ]
          },
          "metadata": {},
          "execution_count": 206
        }
      ]
    },
    {
      "cell_type": "code",
      "metadata": {
        "colab": {
          "base_uri": "https://localhost:8080/",
          "height": 735
        },
        "id": "tn0eiWoEJMco",
        "outputId": "23189c85-6ed1-414c-d0b1-e3616697714d"
      },
      "source": [
        "# Scatter Plot\n",
        "plt.figure(figsize=(14, 12))\n",
        "plt.scatter(merge_pt2_df[\"Total Population April 1 2010\"], merge_pt2_df['Percent Sample Size'])\n",
        "plt.title(\"Percent Sample Size vs Total Population\",  fontsize=20)\n",
        "plt.xlabel('Total Population April 1 2010')\n",
        "plt.ticklabel_format(style='plain')\n",
        "plt.ylabel(\"Percent Sample Size\")\n",
        "plt.text(5000000, 3, \"Percent Sample Size is \\n not correlated population size.\", size=25,\n",
        "         ha=\"center\", va=\"top\",\n",
        "         bbox=dict(boxstyle=\"square\",\n",
        "                   ec=(1., 0.5, 0.5),\n",
        "                   fc=(1., 0.8, 0.8),\n",
        "                   )\n",
        "         )\n",
        "plt.show()"
      ],
      "execution_count": 220,
      "outputs": [
        {
          "output_type": "display_data",
          "data": {
            "image/png": "[encoded data removed]",
            "text/plain": [
              "<Figure size 1008x864 with 1 Axes>"
            ]
          },
          "metadata": {
            "needs_background": "light"
          }
        }
      ]
    },
    {
      "cell_type": "code",
      "metadata": {
        "colab": {
          "base_uri": "https://localhost:8080/",
          "height": 721
        },
        "id": "jxH0uyX8KUXo",
        "outputId": "1f9d0aa0-1692-491c-d1ef-ec8fb031b259"
      },
      "source": [
        "plt.figure(figsize=(14, 12))\n",
        "plt.hist(merge_pt2_df['Percent Sample Size'],bins = 80)\n",
        "plt.title(\"Histogram of Percent Sample Size\",  fontsize=20)\n",
        "plt.text(3, 60, \"Percent Sample Size is \\n Statistically Controlled.\", size=25,\n",
        "         ha=\"center\", va=\"top\",\n",
        "         bbox=dict(boxstyle=\"square\",\n",
        "                   ec=(1., 0.5, 0.5),\n",
        "                   fc=(1., 0.8, 0.8),\n",
        "                   )\n",
        "         )\n",
        "plt.show()"
      ],
      "execution_count": 222,
      "outputs": [
        {
          "output_type": "display_data",
          "data": {
            "image/png": "[encoded data removed]",
            "text/plain": [
              "<Figure size 1008x864 with 1 Axes>"
            ]
          },
          "metadata": {
            "needs_background": "light"
          }
        }
      ]
    },
    {
      "cell_type": "markdown",
      "metadata": {
        "id": "pZSllxtht4A5"
      },
      "source": [
        "## Step 4: Explore Data\n",
        "### 4.1 - Why do some counties have ACS data and others do not?"
      ]
    },
    {
      "cell_type": "code",
      "metadata": {
        "colab": {
          "base_uri": "https://localhost:8080/",
          "height": 99
        },
        "id": "_5aB8Y-HuBGT",
        "outputId": "157beaaa-f59b-4bb6-8d20-c7dc4a86c823"
      },
      "source": [
        "table5 = merge_pt2_df[['Total Population April 1 2010','Total Population ACS 2010 (estimate)']].loc[(merge_pt2_df['Total Population ACS 2010 (estimate)'].isnull())].describe().T\n",
        "varformat = \"{:,.0f}\" # The variable format adds a comma and rounds up\n",
        "table_title = \"Table 5. Descriptive statistics for total population for counties without ACS data, 2010 Decennial.\"\n",
        "table5 = table5.style.set_caption(table_title).format(varformat).set_properties(**{'text-align': 'right'})\n",
        "table5"
      ],
      "execution_count": 184,
      "outputs": [
        {
          "output_type": "execute_result",
          "data": {
            "text/html": [
              "<style  type=\"text/css\" >\n",
              "#T_523e1ae6_2556_11ec_a768_0242ac1c0002row0_col0,#T_523e1ae6_2556_11ec_a768_0242ac1c0002row0_col1,#T_523e1ae6_2556_11ec_a768_0242ac1c0002row0_col2,#T_523e1ae6_2556_11ec_a768_0242ac1c0002row0_col3,#T_523e1ae6_2556_11ec_a768_0242ac1c0002row0_col4,#T_523e1ae6_2556_11ec_a768_0242ac1c0002row0_col5,#T_523e1ae6_2556_11ec_a768_0242ac1c0002row0_col6,#T_523e1ae6_2556_11ec_a768_0242ac1c0002row0_col7,#T_523e1ae6_2556_11ec_a768_0242ac1c0002row1_col0,#T_523e1ae6_2556_11ec_a768_0242ac1c0002row1_col1,#T_523e1ae6_2556_11ec_a768_0242ac1c0002row1_col2,#T_523e1ae6_2556_11ec_a768_0242ac1c0002row1_col3,#T_523e1ae6_2556_11ec_a768_0242ac1c0002row1_col4,#T_523e1ae6_2556_11ec_a768_0242ac1c0002row1_col5,#T_523e1ae6_2556_11ec_a768_0242ac1c0002row1_col6,#T_523e1ae6_2556_11ec_a768_0242ac1c0002row1_col7{\n",
              "            text-align:  right;\n",
              "        }</style><table id=\"T_523e1ae6_2556_11ec_a768_0242ac1c0002\" ><caption>Table 5. Descriptive statistics for total population for counties without ACS data, 2010 Decennial.</caption><thead>    <tr>        <th class=\"blank level0\" ></th>        <th class=\"col_heading level0 col0\" >count</th>        <th class=\"col_heading level0 col1\" >mean</th>        <th class=\"col_heading level0 col2\" >std</th>        <th class=\"col_heading level0 col3\" >min</th>        <th class=\"col_heading level0 col4\" >25%</th>        <th class=\"col_heading level0 col5\" >50%</th>        <th class=\"col_heading level0 col6\" >75%</th>        <th class=\"col_heading level0 col7\" >max</th>    </tr></thead><tbody>\n",
              "                <tr>\n",
              "                        <th id=\"T_523e1ae6_2556_11ec_a768_0242ac1c0002level0_row0\" class=\"row_heading level0 row0\" >Total Population April 1 2010</th>\n",
              "                        <td id=\"T_523e1ae6_2556_11ec_a768_0242ac1c0002row0_col0\" class=\"data row0 col0\" >2,403</td>\n",
              "                        <td id=\"T_523e1ae6_2556_11ec_a768_0242ac1c0002row0_col1\" class=\"data row0 col1\" >21,730</td>\n",
              "                        <td id=\"T_523e1ae6_2556_11ec_a768_0242ac1c0002row0_col2\" class=\"data row0 col2\" >16,010</td>\n",
              "                        <td id=\"T_523e1ae6_2556_11ec_a768_0242ac1c0002row0_col3\" class=\"data row0 col3\" >82</td>\n",
              "                        <td id=\"T_523e1ae6_2556_11ec_a768_0242ac1c0002row0_col4\" class=\"data row0 col4\" >8,785</td>\n",
              "                        <td id=\"T_523e1ae6_2556_11ec_a768_0242ac1c0002row0_col5\" class=\"data row0 col5\" >17,457</td>\n",
              "                        <td id=\"T_523e1ae6_2556_11ec_a768_0242ac1c0002row0_col6\" class=\"data row0 col6\" >32,466</td>\n",
              "                        <td id=\"T_523e1ae6_2556_11ec_a768_0242ac1c0002row0_col7\" class=\"data row0 col7\" >64,757</td>\n",
              "            </tr>\n",
              "            <tr>\n",
              "                        <th id=\"T_523e1ae6_2556_11ec_a768_0242ac1c0002level0_row1\" class=\"row_heading level0 row1\" >Total Population ACS 2010 (estimate)</th>\n",
              "                        <td id=\"T_523e1ae6_2556_11ec_a768_0242ac1c0002row1_col0\" class=\"data row1 col0\" >0</td>\n",
              "                        <td id=\"T_523e1ae6_2556_11ec_a768_0242ac1c0002row1_col1\" class=\"data row1 col1\" >nan</td>\n",
              "                        <td id=\"T_523e1ae6_2556_11ec_a768_0242ac1c0002row1_col2\" class=\"data row1 col2\" >nan</td>\n",
              "                        <td id=\"T_523e1ae6_2556_11ec_a768_0242ac1c0002row1_col3\" class=\"data row1 col3\" >nan</td>\n",
              "                        <td id=\"T_523e1ae6_2556_11ec_a768_0242ac1c0002row1_col4\" class=\"data row1 col4\" >nan</td>\n",
              "                        <td id=\"T_523e1ae6_2556_11ec_a768_0242ac1c0002row1_col5\" class=\"data row1 col5\" >nan</td>\n",
              "                        <td id=\"T_523e1ae6_2556_11ec_a768_0242ac1c0002row1_col6\" class=\"data row1 col6\" >nan</td>\n",
              "                        <td id=\"T_523e1ae6_2556_11ec_a768_0242ac1c0002row1_col7\" class=\"data row1 col7\" >nan</td>\n",
              "            </tr>\n",
              "    </tbody></table>"
            ],
            "text/plain": [
              "<pandas.io.formats.style.Styler at 0x7f0d32450490>"
            ]
          },
          "metadata": {},
          "execution_count": 184
        }
      ]
    },
    {
      "cell_type": "code",
      "metadata": {
        "colab": {
          "base_uri": "https://localhost:8080/",
          "height": 99
        },
        "id": "b9ibziOfCP4w",
        "outputId": "aca5f412-9538-4c5f-dc48-cacc060b8ccd"
      },
      "source": [
        "table6 = merge_pt2_df[['Total Population April 1 2010','Total Population ACS 2010 (estimate)']].loc[~(merge_pt2_df['Total Population ACS 2010 (estimate)'].isnull())].describe().T\n",
        "varformat = \"{:,.0f}\" # The variable format adds a comma and rounds up\n",
        "table_title = \"Table 6. Descriptive statistics for total population for counties with ACS data, 2010 Decennial.\"\n",
        "table6 = table6.style.set_caption(table_title).format(varformat).set_properties(**{'text-align': 'right'})\n",
        "table6"
      ],
      "execution_count": 185,
      "outputs": [
        {
          "output_type": "execute_result",
          "data": {
            "text/html": [
              "<style  type=\"text/css\" >\n",
              "#T_52450ba8_2556_11ec_a768_0242ac1c0002row0_col0,#T_52450ba8_2556_11ec_a768_0242ac1c0002row0_col1,#T_52450ba8_2556_11ec_a768_0242ac1c0002row0_col2,#T_52450ba8_2556_11ec_a768_0242ac1c0002row0_col3,#T_52450ba8_2556_11ec_a768_0242ac1c0002row0_col4,#T_52450ba8_2556_11ec_a768_0242ac1c0002row0_col5,#T_52450ba8_2556_11ec_a768_0242ac1c0002row0_col6,#T_52450ba8_2556_11ec_a768_0242ac1c0002row0_col7,#T_52450ba8_2556_11ec_a768_0242ac1c0002row1_col0,#T_52450ba8_2556_11ec_a768_0242ac1c0002row1_col1,#T_52450ba8_2556_11ec_a768_0242ac1c0002row1_col2,#T_52450ba8_2556_11ec_a768_0242ac1c0002row1_col3,#T_52450ba8_2556_11ec_a768_0242ac1c0002row1_col4,#T_52450ba8_2556_11ec_a768_0242ac1c0002row1_col5,#T_52450ba8_2556_11ec_a768_0242ac1c0002row1_col6,#T_52450ba8_2556_11ec_a768_0242ac1c0002row1_col7{\n",
              "            text-align:  right;\n",
              "        }</style><table id=\"T_52450ba8_2556_11ec_a768_0242ac1c0002\" ><caption>Table 6. Descriptive statistics for total population for counties with ACS data, 2010 Decennial.</caption><thead>    <tr>        <th class=\"blank level0\" ></th>        <th class=\"col_heading level0 col0\" >count</th>        <th class=\"col_heading level0 col1\" >mean</th>        <th class=\"col_heading level0 col2\" >std</th>        <th class=\"col_heading level0 col3\" >min</th>        <th class=\"col_heading level0 col4\" >25%</th>        <th class=\"col_heading level0 col5\" >50%</th>        <th class=\"col_heading level0 col6\" >75%</th>        <th class=\"col_heading level0 col7\" >max</th>    </tr></thead><tbody>\n",
              "                <tr>\n",
              "                        <th id=\"T_52450ba8_2556_11ec_a768_0242ac1c0002level0_row0\" class=\"row_heading level0 row0\" >Total Population April 1 2010</th>\n",
              "                        <td id=\"T_52450ba8_2556_11ec_a768_0242ac1c0002row0_col0\" class=\"data row0 col0\" >818</td>\n",
              "                        <td id=\"T_52450ba8_2556_11ec_a768_0242ac1c0002row0_col1\" class=\"data row0 col1\" >318,159</td>\n",
              "                        <td id=\"T_52450ba8_2556_11ec_a768_0242ac1c0002row0_col2\" class=\"data row0 col2\" >557,363</td>\n",
              "                        <td id=\"T_52450ba8_2556_11ec_a768_0242ac1c0002row0_col3\" class=\"data row0 col3\" >64,665</td>\n",
              "                        <td id=\"T_52450ba8_2556_11ec_a768_0242ac1c0002row0_col4\" class=\"data row0 col4\" >95,286</td>\n",
              "                        <td id=\"T_52450ba8_2556_11ec_a768_0242ac1c0002row0_col5\" class=\"data row0 col5\" >153,956</td>\n",
              "                        <td id=\"T_52450ba8_2556_11ec_a768_0242ac1c0002row0_col6\" class=\"data row0 col6\" >312,155</td>\n",
              "                        <td id=\"T_52450ba8_2556_11ec_a768_0242ac1c0002row0_col7\" class=\"data row0 col7\" >9,818,605</td>\n",
              "            </tr>\n",
              "            <tr>\n",
              "                        <th id=\"T_52450ba8_2556_11ec_a768_0242ac1c0002level0_row1\" class=\"row_heading level0 row1\" >Total Population ACS 2010 (estimate)</th>\n",
              "                        <td id=\"T_52450ba8_2556_11ec_a768_0242ac1c0002row1_col0\" class=\"data row1 col0\" >818</td>\n",
              "                        <td id=\"T_52450ba8_2556_11ec_a768_0242ac1c0002row1_col1\" class=\"data row1 col1\" >318,861</td>\n",
              "                        <td id=\"T_52450ba8_2556_11ec_a768_0242ac1c0002row1_col2\" class=\"data row1 col2\" >558,543</td>\n",
              "                        <td id=\"T_52450ba8_2556_11ec_a768_0242ac1c0002row1_col3\" class=\"data row1 col3\" >62,971</td>\n",
              "                        <td id=\"T_52450ba8_2556_11ec_a768_0242ac1c0002row1_col4\" class=\"data row1 col4\" >95,588</td>\n",
              "                        <td id=\"T_52450ba8_2556_11ec_a768_0242ac1c0002row1_col5\" class=\"data row1 col5\" >154,018</td>\n",
              "                        <td id=\"T_52450ba8_2556_11ec_a768_0242ac1c0002row1_col6\" class=\"data row1 col6\" >314,120</td>\n",
              "                        <td id=\"T_52450ba8_2556_11ec_a768_0242ac1c0002row1_col7\" class=\"data row1 col7\" >9,830,420</td>\n",
              "            </tr>\n",
              "    </tbody></table>"
            ],
            "text/plain": [
              "<pandas.io.formats.style.Styler at 0x7f0d3265d590>"
            ]
          },
          "metadata": {},
          "execution_count": 185
        }
      ]
    },
    {
      "cell_type": "markdown",
      "metadata": {
        "id": "M-V2wScKCKZu"
      },
      "source": [
        "### ACS 1-year data available for census geographies with population more than 65,000"
      ]
    },
    {
      "cell_type": "code",
      "metadata": {
        "colab": {
          "base_uri": "https://localhost:8080/",
          "height": 498
        },
        "id": "DvJakq3UEINO",
        "outputId": "b97a0efd-61af-4cb3-c5dd-35f89d19d8e5"
      },
      "source": [
        "merge_pt2_df = merge_pt2_df.sort_values(by = 'Total Population April 1 2010')\n",
        "table7 = merge_pt2_df[['County Name','Total Population April 1 2010','Total Population ACS 2010 (estimate)']].loc[(merge_pt2_df['Total Population April 1 2010'] >= 64000) &\n",
        "                 (merge_pt2_df['Total Population April 1 2010'] <= 66000) ]\n",
        "varformat = {\"Total Population April 1 2010\": \"{:,.0f}\", \n",
        "             \"Total Population ACS 2010 (estimate)\": \"{:,.0f}\"}\n",
        "table_title = \"Table 7. Total population for counties around 65,000 peoople for Decennial and ACS data, 2010.\"\n",
        "table7 = table7.style.set_caption(table_title).set_properties(**{'text-align': 'right'}).format(varformat)\n",
        "table7"
      ],
      "execution_count": 199,
      "outputs": [
        {
          "output_type": "execute_result",
          "data": {
            "text/html": [
              "<style  type=\"text/css\" >\n",
              "#T_a192f242_2556_11ec_a768_0242ac1c0002row0_col0,#T_a192f242_2556_11ec_a768_0242ac1c0002row0_col1,#T_a192f242_2556_11ec_a768_0242ac1c0002row0_col2,#T_a192f242_2556_11ec_a768_0242ac1c0002row1_col0,#T_a192f242_2556_11ec_a768_0242ac1c0002row1_col1,#T_a192f242_2556_11ec_a768_0242ac1c0002row1_col2,#T_a192f242_2556_11ec_a768_0242ac1c0002row2_col0,#T_a192f242_2556_11ec_a768_0242ac1c0002row2_col1,#T_a192f242_2556_11ec_a768_0242ac1c0002row2_col2,#T_a192f242_2556_11ec_a768_0242ac1c0002row3_col0,#T_a192f242_2556_11ec_a768_0242ac1c0002row3_col1,#T_a192f242_2556_11ec_a768_0242ac1c0002row3_col2,#T_a192f242_2556_11ec_a768_0242ac1c0002row4_col0,#T_a192f242_2556_11ec_a768_0242ac1c0002row4_col1,#T_a192f242_2556_11ec_a768_0242ac1c0002row4_col2,#T_a192f242_2556_11ec_a768_0242ac1c0002row5_col0,#T_a192f242_2556_11ec_a768_0242ac1c0002row5_col1,#T_a192f242_2556_11ec_a768_0242ac1c0002row5_col2,#T_a192f242_2556_11ec_a768_0242ac1c0002row6_col0,#T_a192f242_2556_11ec_a768_0242ac1c0002row6_col1,#T_a192f242_2556_11ec_a768_0242ac1c0002row6_col2,#T_a192f242_2556_11ec_a768_0242ac1c0002row7_col0,#T_a192f242_2556_11ec_a768_0242ac1c0002row7_col1,#T_a192f242_2556_11ec_a768_0242ac1c0002row7_col2,#T_a192f242_2556_11ec_a768_0242ac1c0002row8_col0,#T_a192f242_2556_11ec_a768_0242ac1c0002row8_col1,#T_a192f242_2556_11ec_a768_0242ac1c0002row8_col2,#T_a192f242_2556_11ec_a768_0242ac1c0002row9_col0,#T_a192f242_2556_11ec_a768_0242ac1c0002row9_col1,#T_a192f242_2556_11ec_a768_0242ac1c0002row9_col2,#T_a192f242_2556_11ec_a768_0242ac1c0002row10_col0,#T_a192f242_2556_11ec_a768_0242ac1c0002row10_col1,#T_a192f242_2556_11ec_a768_0242ac1c0002row10_col2,#T_a192f242_2556_11ec_a768_0242ac1c0002row11_col0,#T_a192f242_2556_11ec_a768_0242ac1c0002row11_col1,#T_a192f242_2556_11ec_a768_0242ac1c0002row11_col2,#T_a192f242_2556_11ec_a768_0242ac1c0002row12_col0,#T_a192f242_2556_11ec_a768_0242ac1c0002row12_col1,#T_a192f242_2556_11ec_a768_0242ac1c0002row12_col2,#T_a192f242_2556_11ec_a768_0242ac1c0002row13_col0,#T_a192f242_2556_11ec_a768_0242ac1c0002row13_col1,#T_a192f242_2556_11ec_a768_0242ac1c0002row13_col2,#T_a192f242_2556_11ec_a768_0242ac1c0002row14_col0,#T_a192f242_2556_11ec_a768_0242ac1c0002row14_col1,#T_a192f242_2556_11ec_a768_0242ac1c0002row14_col2,#T_a192f242_2556_11ec_a768_0242ac1c0002row15_col0,#T_a192f242_2556_11ec_a768_0242ac1c0002row15_col1,#T_a192f242_2556_11ec_a768_0242ac1c0002row15_col2,#T_a192f242_2556_11ec_a768_0242ac1c0002row16_col0,#T_a192f242_2556_11ec_a768_0242ac1c0002row16_col1,#T_a192f242_2556_11ec_a768_0242ac1c0002row16_col2,#T_a192f242_2556_11ec_a768_0242ac1c0002row17_col0,#T_a192f242_2556_11ec_a768_0242ac1c0002row17_col1,#T_a192f242_2556_11ec_a768_0242ac1c0002row17_col2,#T_a192f242_2556_11ec_a768_0242ac1c0002row18_col0,#T_a192f242_2556_11ec_a768_0242ac1c0002row18_col1,#T_a192f242_2556_11ec_a768_0242ac1c0002row18_col2,#T_a192f242_2556_11ec_a768_0242ac1c0002row19_col0,#T_a192f242_2556_11ec_a768_0242ac1c0002row19_col1,#T_a192f242_2556_11ec_a768_0242ac1c0002row19_col2,#T_a192f242_2556_11ec_a768_0242ac1c0002row20_col0,#T_a192f242_2556_11ec_a768_0242ac1c0002row20_col1,#T_a192f242_2556_11ec_a768_0242ac1c0002row20_col2{\n",
              "            text-align:  right;\n",
              "        }</style><table id=\"T_a192f242_2556_11ec_a768_0242ac1c0002\" ><caption>Table 7. Total population for counties around 65,000 peoople for Decennial and ACS data, 2010.</caption><thead>    <tr>        <th class=\"blank level0\" ></th>        <th class=\"col_heading level0 col0\" >County Name</th>        <th class=\"col_heading level0 col1\" >Total Population April 1 2010</th>        <th class=\"col_heading level0 col2\" >Total Population ACS 2010 (estimate)</th>    </tr></thead><tbody>\n",
              "                <tr>\n",
              "                        <th id=\"T_a192f242_2556_11ec_a768_0242ac1c0002level0_row0\" class=\"row_heading level0 row0\" >1839</th>\n",
              "                        <td id=\"T_a192f242_2556_11ec_a768_0242ac1c0002row0_col0\" class=\"data row0 col0\" >Blue Earth County, Minnesota</td>\n",
              "                        <td id=\"T_a192f242_2556_11ec_a768_0242ac1c0002row0_col1\" class=\"data row0 col1\" >64,013</td>\n",
              "                        <td id=\"T_a192f242_2556_11ec_a768_0242ac1c0002row0_col2\" class=\"data row0 col2\" >nan</td>\n",
              "            </tr>\n",
              "            <tr>\n",
              "                        <th id=\"T_a192f242_2556_11ec_a768_0242ac1c0002level0_row1\" class=\"row_heading level0 row1\" >2541</th>\n",
              "                        <td id=\"T_a192f242_2556_11ec_a768_0242ac1c0002row1_col0\" class=\"data row1 col0\" >Spalding County, Georgia</td>\n",
              "                        <td id=\"T_a192f242_2556_11ec_a768_0242ac1c0002row1_col1\" class=\"data row1 col1\" >64,073</td>\n",
              "                        <td id=\"T_a192f242_2556_11ec_a768_0242ac1c0002row1_col2\" class=\"data row1 col2\" >nan</td>\n",
              "            </tr>\n",
              "            <tr>\n",
              "                        <th id=\"T_a192f242_2556_11ec_a768_0242ac1c0002level0_row2\" class=\"row_heading level0 row2\" >2307</th>\n",
              "                        <td id=\"T_a192f242_2556_11ec_a768_0242ac1c0002row2_col0\" class=\"data row2 col0\" >Rice County, Minnesota</td>\n",
              "                        <td id=\"T_a192f242_2556_11ec_a768_0242ac1c0002row2_col1\" class=\"data row2 col1\" >64,142</td>\n",
              "                        <td id=\"T_a192f242_2556_11ec_a768_0242ac1c0002row2_col2\" class=\"data row2 col2\" >nan</td>\n",
              "            </tr>\n",
              "            <tr>\n",
              "                        <th id=\"T_a192f242_2556_11ec_a768_0242ac1c0002level0_row3\" class=\"row_heading level0 row3\" >1226</th>\n",
              "                        <td id=\"T_a192f242_2556_11ec_a768_0242ac1c0002row3_col0\" class=\"data row3 col0\" >Reno County, Kansas</td>\n",
              "                        <td id=\"T_a192f242_2556_11ec_a768_0242ac1c0002row3_col1\" class=\"data row3 col1\" >64,511</td>\n",
              "                        <td id=\"T_a192f242_2556_11ec_a768_0242ac1c0002row3_col2\" class=\"data row3 col2\" >nan</td>\n",
              "            </tr>\n",
              "            <tr>\n",
              "                        <th id=\"T_a192f242_2556_11ec_a768_0242ac1c0002level0_row4\" class=\"row_heading level0 row4\" >489</th>\n",
              "                        <td id=\"T_a192f242_2556_11ec_a768_0242ac1c0002row4_col0\" class=\"data row4 col0\" >Herkimer County, New York</td>\n",
              "                        <td id=\"T_a192f242_2556_11ec_a768_0242ac1c0002row4_col1\" class=\"data row4 col1\" >64,519</td>\n",
              "                        <td id=\"T_a192f242_2556_11ec_a768_0242ac1c0002row4_col2\" class=\"data row4 col2\" >nan</td>\n",
              "            </tr>\n",
              "            <tr>\n",
              "                        <th id=\"T_a192f242_2556_11ec_a768_0242ac1c0002level0_row5\" class=\"row_heading level0 row5\" >1165</th>\n",
              "                        <td id=\"T_a192f242_2556_11ec_a768_0242ac1c0002row5_col0\" class=\"data row5 col0\" >Nacogdoches County, Texas</td>\n",
              "                        <td id=\"T_a192f242_2556_11ec_a768_0242ac1c0002row5_col1\" class=\"data row5 col1\" >64,524</td>\n",
              "                        <td id=\"T_a192f242_2556_11ec_a768_0242ac1c0002row5_col2\" class=\"data row5 col2\" >nan</td>\n",
              "            </tr>\n",
              "            <tr>\n",
              "                        <th id=\"T_a192f242_2556_11ec_a768_0242ac1c0002level0_row6\" class=\"row_heading level0 row6\" >26</th>\n",
              "                        <td id=\"T_a192f242_2556_11ec_a768_0242ac1c0002row6_col0\" class=\"data row6 col0\" >Lake County, California</td>\n",
              "                        <td id=\"T_a192f242_2556_11ec_a768_0242ac1c0002row6_col1\" class=\"data row6 col1\" >64,665</td>\n",
              "                        <td id=\"T_a192f242_2556_11ec_a768_0242ac1c0002row6_col2\" class=\"data row6 col2\" >64,771</td>\n",
              "            </tr>\n",
              "            <tr>\n",
              "                        <th id=\"T_a192f242_2556_11ec_a768_0242ac1c0002level0_row7\" class=\"row_heading level0 row7\" >641</th>\n",
              "                        <td id=\"T_a192f242_2556_11ec_a768_0242ac1c0002row7_col0\" class=\"data row7 col0\" >Lea County, New Mexico</td>\n",
              "                        <td id=\"T_a192f242_2556_11ec_a768_0242ac1c0002row7_col1\" class=\"data row7 col1\" >64,727</td>\n",
              "                        <td id=\"T_a192f242_2556_11ec_a768_0242ac1c0002row7_col2\" class=\"data row7 col2\" >nan</td>\n",
              "            </tr>\n",
              "            <tr>\n",
              "                        <th id=\"T_a192f242_2556_11ec_a768_0242ac1c0002level0_row8\" class=\"row_heading level0 row8\" >1279</th>\n",
              "                        <td id=\"T_a192f242_2556_11ec_a768_0242ac1c0002row8_col0\" class=\"data row8 col0\" >Athens County, Ohio</td>\n",
              "                        <td id=\"T_a192f242_2556_11ec_a768_0242ac1c0002row8_col1\" class=\"data row8 col1\" >64,757</td>\n",
              "                        <td id=\"T_a192f242_2556_11ec_a768_0242ac1c0002row8_col2\" class=\"data row8 col2\" >nan</td>\n",
              "            </tr>\n",
              "            <tr>\n",
              "                        <th id=\"T_a192f242_2556_11ec_a768_0242ac1c0002level0_row9\" class=\"row_heading level0 row9\" >1196</th>\n",
              "                        <td id=\"T_a192f242_2556_11ec_a768_0242ac1c0002row9_col0\" class=\"data row9 col0\" >San Patricio County, Texas</td>\n",
              "                        <td id=\"T_a192f242_2556_11ec_a768_0242ac1c0002row9_col1\" class=\"data row9 col1\" >64,804</td>\n",
              "                        <td id=\"T_a192f242_2556_11ec_a768_0242ac1c0002row9_col2\" class=\"data row9 col2\" >64,586</td>\n",
              "            </tr>\n",
              "            <tr>\n",
              "                        <th id=\"T_a192f242_2556_11ec_a768_0242ac1c0002level0_row10\" class=\"row_heading level0 row10\" >1538</th>\n",
              "                        <td id=\"T_a192f242_2556_11ec_a768_0242ac1c0002row10_col0\" class=\"data row10 col0\" >Pike County, Kentucky</td>\n",
              "                        <td id=\"T_a192f242_2556_11ec_a768_0242ac1c0002row10_col1\" class=\"data row10 col1\" >65,024</td>\n",
              "                        <td id=\"T_a192f242_2556_11ec_a768_0242ac1c0002row10_col2\" class=\"data row10 col2\" >64,952</td>\n",
              "            </tr>\n",
              "            <tr>\n",
              "                        <th id=\"T_a192f242_2556_11ec_a768_0242ac1c0002level0_row11\" class=\"row_heading level0 row11\" >1506</th>\n",
              "                        <td id=\"T_a192f242_2556_11ec_a768_0242ac1c0002row11_col0\" class=\"data row11 col0\" >Fauquier County, Virginia</td>\n",
              "                        <td id=\"T_a192f242_2556_11ec_a768_0242ac1c0002row11_col1\" class=\"data row11 col1\" >65,203</td>\n",
              "                        <td id=\"T_a192f242_2556_11ec_a768_0242ac1c0002row11_col2\" class=\"data row11 col2\" >62,971</td>\n",
              "            </tr>\n",
              "            <tr>\n",
              "                        <th id=\"T_a192f242_2556_11ec_a768_0242ac1c0002level0_row12\" class=\"row_heading level0 row12\" >1927</th>\n",
              "                        <td id=\"T_a192f242_2556_11ec_a768_0242ac1c0002row12_col0\" class=\"data row12 col0\" >Carbon County, Pennsylvania</td>\n",
              "                        <td id=\"T_a192f242_2556_11ec_a768_0242ac1c0002row12_col1\" class=\"data row12 col1\" >65,249</td>\n",
              "                        <td id=\"T_a192f242_2556_11ec_a768_0242ac1c0002row12_col2\" class=\"data row12 col2\" >65,220</td>\n",
              "            </tr>\n",
              "            <tr>\n",
              "                        <th id=\"T_a192f242_2556_11ec_a768_0242ac1c0002level0_row13\" class=\"row_heading level0 row13\" >442</th>\n",
              "                        <td id=\"T_a192f242_2556_11ec_a768_0242ac1c0002row13_col0\" class=\"data row13 col0\" >St. Francois County, Missouri</td>\n",
              "                        <td id=\"T_a192f242_2556_11ec_a768_0242ac1c0002row13_col1\" class=\"data row13 col1\" >65,359</td>\n",
              "                        <td id=\"T_a192f242_2556_11ec_a768_0242ac1c0002row13_col2\" class=\"data row13 col2\" >65,498</td>\n",
              "            </tr>\n",
              "            <tr>\n",
              "                        <th id=\"T_a192f242_2556_11ec_a768_0242ac1c0002level0_row14\" class=\"row_heading level0 row14\" >484</th>\n",
              "                        <td id=\"T_a192f242_2556_11ec_a768_0242ac1c0002row14_col0\" class=\"data row14 col0\" >Livingston County, New York</td>\n",
              "                        <td id=\"T_a192f242_2556_11ec_a768_0242ac1c0002row14_col1\" class=\"data row14 col1\" >65,393</td>\n",
              "                        <td id=\"T_a192f242_2556_11ec_a768_0242ac1c0002row14_col2\" class=\"data row14 col2\" >65,333</td>\n",
              "            </tr>\n",
              "            <tr>\n",
              "                        <th id=\"T_a192f242_2556_11ec_a768_0242ac1c0002level0_row15\" class=\"row_heading level0 row15\" >2388</th>\n",
              "                        <td id=\"T_a192f242_2556_11ec_a768_0242ac1c0002row15_col0\" class=\"data row15 col0\" >York County, Virginia</td>\n",
              "                        <td id=\"T_a192f242_2556_11ec_a768_0242ac1c0002row15_col1\" class=\"data row15 col1\" >65,464</td>\n",
              "                        <td id=\"T_a192f242_2556_11ec_a768_0242ac1c0002row15_col2\" class=\"data row15 col2\" >65,467</td>\n",
              "            </tr>\n",
              "            <tr>\n",
              "                        <th id=\"T_a192f242_2556_11ec_a768_0242ac1c0002level0_row16\" class=\"row_heading level0 row16\" >1513</th>\n",
              "                        <td id=\"T_a192f242_2556_11ec_a768_0242ac1c0002row16_col0\" class=\"data row16 col0\" >McCracken County, Kentucky</td>\n",
              "                        <td id=\"T_a192f242_2556_11ec_a768_0242ac1c0002row16_col1\" class=\"data row16 col1\" >65,565</td>\n",
              "                        <td id=\"T_a192f242_2556_11ec_a768_0242ac1c0002row16_col2\" class=\"data row16 col2\" >65,539</td>\n",
              "            </tr>\n",
              "            <tr>\n",
              "                        <th id=\"T_a192f242_2556_11ec_a768_0242ac1c0002level0_row17\" class=\"row_heading level0 row17\" >925</th>\n",
              "                        <td id=\"T_a192f242_2556_11ec_a768_0242ac1c0002row17_col0\" class=\"data row17 col0\" >Harrison County, Texas</td>\n",
              "                        <td id=\"T_a192f242_2556_11ec_a768_0242ac1c0002row17_col1\" class=\"data row17 col1\" >65,631</td>\n",
              "                        <td id=\"T_a192f242_2556_11ec_a768_0242ac1c0002row17_col2\" class=\"data row17 col2\" >65,766</td>\n",
              "            </tr>\n",
              "            <tr>\n",
              "                        <th id=\"T_a192f242_2556_11ec_a768_0242ac1c0002level0_row18\" class=\"row_heading level0 row18\" >623</th>\n",
              "                        <td id=\"T_a192f242_2556_11ec_a768_0242ac1c0002row18_col0\" class=\"data row18 col0\" >Chaves County, New Mexico</td>\n",
              "                        <td id=\"T_a192f242_2556_11ec_a768_0242ac1c0002row18_col1\" class=\"data row18 col1\" >65,645</td>\n",
              "                        <td id=\"T_a192f242_2556_11ec_a768_0242ac1c0002row18_col2\" class=\"data row18 col2\" >65,779</td>\n",
              "            </tr>\n",
              "            <tr>\n",
              "                        <th id=\"T_a192f242_2556_11ec_a768_0242ac1c0002level0_row19\" class=\"row_heading level0 row19\" >525</th>\n",
              "                        <td id=\"T_a192f242_2556_11ec_a768_0242ac1c0002row19_col0\" class=\"data row19 col0\" >Warren County, New York</td>\n",
              "                        <td id=\"T_a192f242_2556_11ec_a768_0242ac1c0002row19_col1\" class=\"data row19 col1\" >65,707</td>\n",
              "                        <td id=\"T_a192f242_2556_11ec_a768_0242ac1c0002row19_col2\" class=\"data row19 col2\" >65,697</td>\n",
              "            </tr>\n",
              "            <tr>\n",
              "                        <th id=\"T_a192f242_2556_11ec_a768_0242ac1c0002level0_row20\" class=\"row_heading level0 row20\" >1359</th>\n",
              "                        <td id=\"T_a192f242_2556_11ec_a768_0242ac1c0002row20_col0\" class=\"data row20 col0\" >Butler County, Kansas</td>\n",
              "                        <td id=\"T_a192f242_2556_11ec_a768_0242ac1c0002row20_col1\" class=\"data row20 col1\" >65,880</td>\n",
              "                        <td id=\"T_a192f242_2556_11ec_a768_0242ac1c0002row20_col2\" class=\"data row20 col2\" >65,923</td>\n",
              "            </tr>\n",
              "    </tbody></table>"
            ],
            "text/plain": [
              "<pandas.io.formats.style.Styler at 0x7f0d28742110>"
            ]
          },
          "metadata": {},
          "execution_count": 199
        }
      ]
    },
    {
      "cell_type": "markdown",
      "metadata": {
        "id": "X3b5HSvOvc35"
      },
      "source": [
        "## 4.2 Compare ACS Estimate with Decennial Census Parameter"
      ]
    },
    {
      "cell_type": "code",
      "metadata": {
        "colab": {
          "base_uri": "https://localhost:8080/",
          "height": 735
        },
        "id": "9wI60n2fwWpP",
        "outputId": "731251ef-1298-4a38-8d8d-b2a4b57ff7f5"
      },
      "source": [
        "import matplotlib.pyplot as plt\n",
        "\n",
        "# Scatter Plot\n",
        "plt.figure(figsize=(14, 12))\n",
        "plt.scatter(merge_pt2_df[\"Percent Male April 1 2010\"], merge_pt2_df[\"Percent Male Population ACS 2010 (estimate)\"])\n",
        "plt.title('Percent Male - Decennial Census vs ACS in 2010',  fontsize=20)\n",
        "plt.xlabel(\"Decennial Census\")\n",
        "plt.ylabel('ACS')\n",
        "plt.text(50, 60, \"Population Parameter is \\n correlated to Survey Estimate.\", size=20,\n",
        "         ha=\"center\", va=\"top\",\n",
        "         bbox=dict(boxstyle=\"square\",\n",
        "                   ec=(1., 0.5, 0.5),\n",
        "                   fc=(1., 0.8, 0.8),\n",
        "                   )\n",
        "         )\n",
        "plt.show()"
      ],
      "execution_count": 187,
      "outputs": [
        {
          "output_type": "display_data",
          "data": {
            "image/png": "[encoded data removed]",
            "text/plain": [
              "<Figure size 1008x864 with 1 Axes>"
            ]
          },
          "metadata": {
            "needs_background": "light"
          }
        }
      ]
    },
    {
      "cell_type": "markdown",
      "metadata": {
        "id": "LlaOZ8cOyHpT"
      },
      "source": [
        "### How often was the population parameter inside the estimate confidence interval?"
      ]
    },
    {
      "cell_type": "code",
      "metadata": {
        "colab": {
          "base_uri": "https://localhost:8080/",
          "height": 340
        },
        "id": "Hl-sPvrkyHBp",
        "outputId": "2e1ca26e-f5a0-40ac-f9d1-77fa45c7da80"
      },
      "source": [
        "merge_pt2_df.loc[:,'Estimate Lower Bound'] = merge_pt2_df[\"Percent Male Population ACS 2010 (estimate)\"] - merge_pt2_df[\"Percent Male Population ACS 2010 (MOE)\"]\n",
        "merge_pt2_df.loc[:,'Estimate Upper Bound'] = merge_pt2_df[\"Percent Male Population ACS 2010 (estimate)\"] + merge_pt2_df[\"Percent Male Population ACS 2010 (MOE)\"]\n",
        "merge_pt2_df.head()"
      ],
      "execution_count": 188,
      "outputs": [
        {
          "output_type": "execute_result",
          "data": {
            "text/html": [
              "<div>\n",
              "<style scoped>\n",
              "    .dataframe tbody tr th:only-of-type {\n",
              "        vertical-align: middle;\n",
              "    }\n",
              "\n",
              "    .dataframe tbody tr th {\n",
              "        vertical-align: top;\n",
              "    }\n",
              "\n",
              "    .dataframe thead th {\n",
              "        text-align: right;\n",
              "    }\n",
              "</style>\n",
              "<table border=\"1\" class=\"dataframe\">\n",
              "  <thead>\n",
              "    <tr style=\"text-align: right;\">\n",
              "      <th></th>\n",
              "      <th>GEO_ID</th>\n",
              "      <th>County Name</th>\n",
              "      <th>Total Population April 1 2010</th>\n",
              "      <th>Total Male Population April 1 2010</th>\n",
              "      <th>State FIPS Code</th>\n",
              "      <th>County FIPS Code</th>\n",
              "      <th>Percent Male April 1 2010</th>\n",
              "      <th>Total Population ACS 2010 (estimate)</th>\n",
              "      <th>Total Population ACS 2010 (MOE)</th>\n",
              "      <th>Total Male Population ACS 2010 (estimate)</th>\n",
              "      <th>Total Male Population ACS 2010 (MOE)</th>\n",
              "      <th>Percent Male Population ACS 2010 (estimate)</th>\n",
              "      <th>Percent Male Population ACS 2010 (MOE)</th>\n",
              "      <th>Sample Size ACS 2010</th>\n",
              "      <th>Estimate Lower Bound</th>\n",
              "      <th>Estimate Upper Bound</th>\n",
              "    </tr>\n",
              "  </thead>\n",
              "  <tbody>\n",
              "    <tr>\n",
              "      <th>1346</th>\n",
              "      <td>0500000US48301</td>\n",
              "      <td>Loving County, Texas</td>\n",
              "      <td>82</td>\n",
              "      <td>46</td>\n",
              "      <td>48</td>\n",
              "      <td>301</td>\n",
              "      <td>56.097561</td>\n",
              "      <td>NaN</td>\n",
              "      <td>NaN</td>\n",
              "      <td>NaN</td>\n",
              "      <td>NaN</td>\n",
              "      <td>NaN</td>\n",
              "      <td>NaN</td>\n",
              "      <td>NaN</td>\n",
              "      <td>NaN</td>\n",
              "      <td>NaN</td>\n",
              "    </tr>\n",
              "    <tr>\n",
              "      <th>2603</th>\n",
              "      <td>0500000US15005</td>\n",
              "      <td>Kalawao County, Hawaii</td>\n",
              "      <td>90</td>\n",
              "      <td>42</td>\n",
              "      <td>15</td>\n",
              "      <td>005</td>\n",
              "      <td>46.666667</td>\n",
              "      <td>NaN</td>\n",
              "      <td>NaN</td>\n",
              "      <td>NaN</td>\n",
              "      <td>NaN</td>\n",
              "      <td>NaN</td>\n",
              "      <td>NaN</td>\n",
              "      <td>NaN</td>\n",
              "      <td>NaN</td>\n",
              "      <td>NaN</td>\n",
              "    </tr>\n",
              "    <tr>\n",
              "      <th>1329</th>\n",
              "      <td>0500000US48269</td>\n",
              "      <td>King County, Texas</td>\n",
              "      <td>286</td>\n",
              "      <td>141</td>\n",
              "      <td>48</td>\n",
              "      <td>269</td>\n",
              "      <td>49.300699</td>\n",
              "      <td>NaN</td>\n",
              "      <td>NaN</td>\n",
              "      <td>NaN</td>\n",
              "      <td>NaN</td>\n",
              "      <td>NaN</td>\n",
              "      <td>NaN</td>\n",
              "      <td>NaN</td>\n",
              "      <td>NaN</td>\n",
              "      <td>NaN</td>\n",
              "    </tr>\n",
              "    <tr>\n",
              "      <th>1325</th>\n",
              "      <td>0500000US48261</td>\n",
              "      <td>Kenedy County, Texas</td>\n",
              "      <td>416</td>\n",
              "      <td>212</td>\n",
              "      <td>48</td>\n",
              "      <td>261</td>\n",
              "      <td>50.961538</td>\n",
              "      <td>NaN</td>\n",
              "      <td>NaN</td>\n",
              "      <td>NaN</td>\n",
              "      <td>NaN</td>\n",
              "      <td>NaN</td>\n",
              "      <td>NaN</td>\n",
              "      <td>NaN</td>\n",
              "      <td>NaN</td>\n",
              "      <td>NaN</td>\n",
              "    </tr>\n",
              "    <tr>\n",
              "      <th>2421</th>\n",
              "      <td>0500000US31005</td>\n",
              "      <td>Arthur County, Nebraska</td>\n",
              "      <td>460</td>\n",
              "      <td>228</td>\n",
              "      <td>31</td>\n",
              "      <td>005</td>\n",
              "      <td>49.565217</td>\n",
              "      <td>NaN</td>\n",
              "      <td>NaN</td>\n",
              "      <td>NaN</td>\n",
              "      <td>NaN</td>\n",
              "      <td>NaN</td>\n",
              "      <td>NaN</td>\n",
              "      <td>NaN</td>\n",
              "      <td>NaN</td>\n",
              "      <td>NaN</td>\n",
              "    </tr>\n",
              "  </tbody>\n",
              "</table>\n",
              "</div>"
            ],
            "text/plain": [
              "              GEO_ID  ... Estimate Upper Bound\n",
              "1346  0500000US48301  ...                  NaN\n",
              "2603  0500000US15005  ...                  NaN\n",
              "1329  0500000US48269  ...                  NaN\n",
              "1325  0500000US48261  ...                  NaN\n",
              "2421  0500000US31005  ...                  NaN\n",
              "\n",
              "[5 rows x 16 columns]"
            ]
          },
          "metadata": {},
          "execution_count": 188
        }
      ]
    },
    {
      "cell_type": "code",
      "metadata": {
        "colab": {
          "base_uri": "https://localhost:8080/"
        },
        "id": "oErAAYypvcd9",
        "outputId": "fe700c87-46df-452c-b6d8-39223271b51f"
      },
      "source": [
        "merge_pt2_df.loc[(merge_pt2_df[\"Percent Male April 1 2010\"] >= merge_pt2_df['Estimate Lower Bound']) &\n",
        "                 (merge_pt2_df[\"Percent Male April 1 2010\"] <= merge_pt2_df['Estimate Upper Bound']),'Parameter within Confidence Interval'] = 1\n",
        "merge_pt2_df.loc[(merge_pt2_df[\"Percent Male April 1 2010\"] < merge_pt2_df['Estimate Lower Bound']) ,'Parameter within Confidence Interval'] = 0\n",
        "merge_pt2_df.loc[(merge_pt2_df[\"Percent Male April 1 2010\"] > merge_pt2_df['Estimate Upper Bound']) ,'Parameter within Confidence Interval'] = 0\n",
        "merge_pt2_df.loc[(merge_pt2_df['Estimate Lower Bound'].isnull()) ,'Parameter within Confidence Interval'] = np.nan\n",
        "merge_pt2_df['Parameter within Confidence Interval'].describe()"
      ],
      "execution_count": 189,
      "outputs": [
        {
          "output_type": "execute_result",
          "data": {
            "text/plain": [
              "count    807.000000\n",
              "mean       0.824040\n",
              "std        0.381023\n",
              "min        0.000000\n",
              "25%        1.000000\n",
              "50%        1.000000\n",
              "75%        1.000000\n",
              "max        1.000000\n",
              "Name: Parameter within Confidence Interval, dtype: float64"
            ]
          },
          "metadata": {},
          "execution_count": 189
        }
      ]
    },
    {
      "cell_type": "code",
      "metadata": {
        "colab": {
          "base_uri": "https://localhost:8080/"
        },
        "id": "i5tpnvi-0jdm",
        "outputId": "f2fb20ac-75a0-4b21-c8ad-ce2b1b706770"
      },
      "source": [
        "merge_pt2_df.loc[:,'Parameter minus Estimate'] = merge_pt2_df[\"Percent Male April 1 2010\"] - merge_pt2_df[\"Percent Male Population ACS 2010 (estimate)\"]\n",
        "merge_pt2_df['Parameter minus Estimate'].describe()"
      ],
      "execution_count": 190,
      "outputs": [
        {
          "output_type": "execute_result",
          "data": {
            "text/plain": [
              "count    818.000000\n",
              "mean       0.008826\n",
              "std        0.419756\n",
              "min       -2.017828\n",
              "25%       -0.171638\n",
              "50%       -0.007309\n",
              "75%        0.184919\n",
              "max        1.811088\n",
              "Name: Parameter minus Estimate, dtype: float64"
            ]
          },
          "metadata": {},
          "execution_count": 190
        }
      ]
    },
    {
      "cell_type": "code",
      "metadata": {
        "colab": {
          "base_uri": "https://localhost:8080/",
          "height": 395
        },
        "id": "7g5_DsEE0v6O",
        "outputId": "fdc069b2-b7b7-42cc-bc67-28eb952189a2"
      },
      "source": [
        "plt.figure(figsize=(9, 6))\n",
        "plt.hist(merge_pt2_df['Parameter minus Estimate'],bins = 80)\n",
        "plt.title(\"Histogram of Differences between Population Parameter and Survey Estimate\",  fontsize=20)\n",
        "plt.show()"
      ],
      "execution_count": 191,
      "outputs": [
        {
          "output_type": "display_data",
          "data": {
            "image/png": "[encoded data removed]",
            "text/plain": [
              "<Figure size 648x432 with 1 Axes>"
            ]
          },
          "metadata": {
            "needs_background": "light"
          }
        }
      ]
    },
    {
      "cell_type": "code",
      "metadata": {
        "colab": {
          "base_uri": "https://localhost:8080/",
          "height": 409
        },
        "id": "stZdBVgB1dWm",
        "outputId": "693d0b56-24d0-4842-ffee-f59ffca3e8f1"
      },
      "source": [
        "# Scatter Plot\n",
        "plt.figure(figsize=(9, 6))\n",
        "plt.scatter(merge_pt2_df[\"Sample Size ACS 2010\"], merge_pt2_df[\"Parameter minus Estimate\"])\n",
        "plt.title('Sample Size vs Difference between Parameter minus Estimate',  fontsize=20)\n",
        "plt.xlabel(\"Sample Size\")\n",
        "plt.ylabel('Parameter minus Estimate')\n",
        "plt.show()"
      ],
      "execution_count": 192,
      "outputs": [
        {
          "output_type": "display_data",
          "data": {
            "image/png": "[encoded data removed]",
            "text/plain": [
              "<Figure size 648x432 with 1 Axes>"
            ]
          },
          "metadata": {
            "needs_background": "light"
          }
        }
      ]
    },
    {
      "cell_type": "markdown",
      "metadata": {
        "id": "uHDbMfFg7F8y"
      },
      "source": [
        "### Look at Standard Errors\n",
        "Instead of the difference between Population Paramter and Survey Estimate look at the number of Standard Errors the Population Parameter is from the survey estimate."
      ]
    },
    {
      "cell_type": "code",
      "metadata": {
        "colab": {
          "base_uri": "https://localhost:8080/"
        },
        "id": "uwCacdFK4RJ3",
        "outputId": "8c3edf15-bf1b-4430-d5bd-1fd3a50b537b"
      },
      "source": [
        "merge_pt2_df.loc[:,\"Percent Male Population ACS 2010 (SE)\"] = merge_pt2_df[\"Percent Male Population ACS 2010 (MOE)\"] / 1.645\n",
        "merge_pt2_df[\"Percent Male Population ACS 2010 (SE)\"].describe()"
      ],
      "execution_count": 193,
      "outputs": [
        {
          "output_type": "execute_result",
          "data": {
            "text/plain": [
              "count    807.000000\n",
              "mean       0.298452\n",
              "std        0.216620\n",
              "min        0.060790\n",
              "25%        0.121581\n",
              "50%        0.243161\n",
              "75%        0.425532\n",
              "max        1.458967\n",
              "Name: Percent Male Population ACS 2010 (SE), dtype: float64"
            ]
          },
          "metadata": {},
          "execution_count": 193
        }
      ]
    },
    {
      "cell_type": "code",
      "metadata": {
        "colab": {
          "base_uri": "https://localhost:8080/"
        },
        "id": "EHyGAHMF4lnh",
        "outputId": "70f1a982-4186-4c49-80e5-94752c59b868"
      },
      "source": [
        "merge_pt2_df.loc[:,'Parameter SE from Estimate'] = (merge_pt2_df['Parameter minus Estimate'] / merge_pt2_df[\"Percent Male Population ACS 2010 (SE)\"])\n",
        "merge_pt2_df['Parameter SE from Estimate'].describe()"
      ],
      "execution_count": 194,
      "outputs": [
        {
          "output_type": "execute_result",
          "data": {
            "text/plain": [
              "count    807.000000\n",
              "mean      -0.017162\n",
              "std        1.208013\n",
              "min       -3.333568\n",
              "25%       -0.812244\n",
              "50%       -0.066313\n",
              "75%        0.773236\n",
              "max        4.345792\n",
              "Name: Parameter SE from Estimate, dtype: float64"
            ]
          },
          "metadata": {},
          "execution_count": 194
        }
      ]
    },
    {
      "cell_type": "code",
      "metadata": {
        "colab": {
          "base_uri": "https://localhost:8080/",
          "height": 721
        },
        "id": "hGZDGVfT46oV",
        "outputId": "7d030195-6ade-4ed8-f00a-192b786f4002"
      },
      "source": [
        "plt.figure(figsize=(14, 12))\n",
        "plt.hist(merge_pt2_df['Parameter SE from Estimate'],bins = 80)\n",
        "plt.axvline(x=-1.645, color='red')\n",
        "plt.axvline(x=1.645, label='90% Confidence Interval', color='red')\n",
        "plt.legend(fontsize = 15)\n",
        "plt.title(\"Histogram of How Many SE's the Population Parameter is from the Survey Estimate\",  fontsize=20)\n",
        "plt.text(0, 8, \"About 90% of \\n population paramaters \\n are within 1.645 \\n Standard Errors  \\n from the Survey Estimate.\", size=20,\n",
        "         ha=\"center\", va=\"top\",\n",
        "         bbox=dict(boxstyle=\"square\",\n",
        "                   ec=(1., 0.5, 0.5),\n",
        "                   fc=(1., 0.8, 0.8),\n",
        "                   )\n",
        "         )\n",
        "plt.show()"
      ],
      "execution_count": 195,
      "outputs": [
        {
          "output_type": "display_data",
          "data": {
            "image/png": "[encoded data removed]",
            "text/plain": [
              "<Figure size 1008x864 with 1 Axes>"
            ]
          },
          "metadata": {
            "needs_background": "light"
          }
        }
      ]
    },
    {
      "cell_type": "code",
      "metadata": {
        "colab": {
          "base_uri": "https://localhost:8080/",
          "height": 735
        },
        "id": "XueNa9NW5G3_",
        "outputId": "3fd890bd-c8a4-41c1-e067-c9d89e2fbf41"
      },
      "source": [
        "# Scatter Plot\n",
        "plt.figure(figsize=(14, 12))\n",
        "plt.scatter(merge_pt2_df[\"Sample Size ACS 2010\"], merge_pt2_df['Parameter SE from Estimate'])\n",
        "plt.title(\"Sample Size vs How Many SE's the Population Parameter is from the Survey Estimate\",  fontsize=20)\n",
        "plt.xlabel(\"Sample Size\")\n",
        "plt.ylabel('Parameter SE from Estimate')\n",
        "plt.text(80000, 4, \"As sample size increases, \\n confidence increases!\", size=25,\n",
        "         ha=\"center\", va=\"top\",\n",
        "         bbox=dict(boxstyle=\"square\",\n",
        "                   ec=(1., 0.5, 0.5),\n",
        "                   fc=(1., 0.8, 0.8),\n",
        "                   )\n",
        "         )\n",
        "plt.show()"
      ],
      "execution_count": 196,
      "outputs": [
        {
          "output_type": "display_data",
          "data": {
            "image/png": "[encoded data removed]",
            "text/plain": [
              "<Figure size 1008x864 with 1 Axes>"
            ]
          },
          "metadata": {
            "needs_background": "light"
          }
        }
      ]
    },
    {
      "cell_type": "code",
      "metadata": {
        "colab": {
          "base_uri": "https://localhost:8080/",
          "height": 735
        },
        "id": "Gw3Zcap0Ir4w",
        "outputId": "e19f0001-3e07-4348-ee70-5be655dc7467"
      },
      "source": [
        "# Scatter Plot\n",
        "plt.figure(figsize=(14, 12))\n",
        "plt.scatter(merge_pt2_df[\"Percent Sample Size\"], merge_pt2_df['Parameter SE from Estimate'])\n",
        "plt.title(\"Sample Size vs How Many SE's the Population Parameter is from the Survey Estimate\",  fontsize=20)\n",
        "plt.xlabel(\"Percent Sample Size\")\n",
        "plt.ylabel('Parameter SE from Estimate')\n",
        "plt.text(3, 3, \"Random Sampling Leads to, \\n Random Confidence Level!\", size=25,\n",
        "         ha=\"center\", va=\"top\",\n",
        "         bbox=dict(boxstyle=\"square\",\n",
        "                   ec=(1., 0.5, 0.5),\n",
        "                   fc=(1., 0.8, 0.8),\n",
        "                   )\n",
        "         )\n",
        "plt.show()"
      ],
      "execution_count": 223,
      "outputs": [
        {
          "output_type": "display_data",
          "data": {
            "image/png": "[encoded data removed]",
            "text/plain": [
              "<Figure size 1008x864 with 1 Axes>"
            ]
          },
          "metadata": {
            "needs_background": "light"
          }
        }
      ]
    },
    {
      "cell_type": "markdown",
      "metadata": {
        "id": "t997mUnr9GR-"
      },
      "source": [
        "## As sample size increases confidence level increases!"
      ]
    },
    {
      "cell_type": "code",
      "metadata": {
        "colab": {
          "base_uri": "https://localhost:8080/"
        },
        "id": "UpjrZaVt6WNh",
        "outputId": "3ea48b4d-869e-4e75-bfa3-f7ad29ada7a3"
      },
      "source": [
        "merge_pt2_df['Parameter SE from Estimate'].quantile([0.01, 0.05, 0.1,0.90, 0.95, 0.99])"
      ],
      "execution_count": 197,
      "outputs": [
        {
          "output_type": "execute_result",
          "data": {
            "text/plain": [
              "0.01   -2.901389\n",
              "0.05   -1.989567\n",
              "0.10   -1.462797\n",
              "0.90    1.537681\n",
              "0.95    1.998981\n",
              "0.99    2.785686\n",
              "Name: Parameter SE from Estimate, dtype: float64"
            ]
          },
          "metadata": {},
          "execution_count": 197
        }
      ]
    },
    {
      "cell_type": "markdown",
      "metadata": {
        "id": "Ae1G4mlM8cFm"
      },
      "source": [
        "### Compare the percentiles to critical values\n",
        "Notice that the percentiles are close to the z-score critical values for desired level of confidence.\n",
        "\n",
        "- 1.645 for 90 perenct critical level\n",
        "- 1.960 for 95 percent critical level\n",
        "- 2.576 for 99 percent critical level"
      ]
    },
    {
      "cell_type": "code",
      "metadata": {
        "id": "Yd0U_0R8AvYY"
      },
      "source": [
        ""
      ],
      "execution_count": 197,
      "outputs": []
    }
  ]
}