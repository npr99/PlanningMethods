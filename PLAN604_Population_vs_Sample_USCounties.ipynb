{
  "nbformat": 4,
  "nbformat_minor": 0,
  "metadata": {
    "colab": {
      "name": "PLAN604_Population_vs_Sample_USCounties",
      "provenance": [],
      "collapsed_sections": [],
      "toc_visible": true,
      "authorship_tag": "ABX9TyOcyHvWVSQJLtRTibcgNGgx",
      "include_colab_link": true
    },
    "kernelspec": {
      "name": "python3",
      "display_name": "Python 3"
    }
  },
  "cells": [
    {
      "cell_type": "markdown",
      "metadata": {
        "id": "view-in-github",
        "colab_type": "text"
      },
      "source": [
        "<a href=\"https://colab.research.google.com/github/npr99/PlanningMethods/blob/master/PLAN604_Population_vs_Sample_USCounties.ipynb\" target=\"_parent\"><img src=\"https://colab.research.google.com/assets/colab-badge.svg\" alt=\"Open In Colab\"/></a>"
      ]
    },
    {
      "cell_type": "markdown",
      "metadata": {
        "id": "P-EggxqJwovL"
      },
      "source": [
        "# Application of Survey samples and confidence intervals in American Community Survey Data\n",
        " \n",
        "---\n",
        "This Google Colab Notebook provides a complete workflow (sequence of steps from start to finish) that will allow you to explore [US Census County and County Equivalents](https://www.census.gov/glossary/#term_Countyandequivalententity). \n",
        "\n",
        "This notebook has the fewest number of code blocks and minimal discussion. This notebook is designed to be modified and rerun for different proportions (% Hispanic, % Vacant Housing Units, etc) in the United States.\n",
        "\n",
        "This notebook compares population proportions found in the 2010 Decennial Census and the 2010 1-year ACS.\n",
        "\n",
        "This notebook introduces Python concepts of functions or modules and merging data.\n",
        "\n",
        "A function is a block of organized, reusable code that is used to perform a single, related action. Functions provide better modularity for your application and a high degree of code reusing.\n",
        "\n",
        "Python gives you many built-in functions like print(), etc. but you can also create your own functions. These functions are called user-defined functions.\n",
        "\n",
        "For more information on Python Functions see: \n",
        "1. https://towardsdatascience.com/function-definition-in-python-bae11c29f4cd\n",
        "\n",
        "For more help on how to merge data see:\n",
        "1. https://stackoverflow.com/questions/53645882/pandas-merging-101\n",
        "2. https://realpython.com/pandas-merge-join-and-concat/\n",
        "\n"
      ]
    },
    {
      "cell_type": "code",
      "metadata": {
        "id": "jxd6s7EZwjb6"
      },
      "source": [
        "# Python packages required to read in and Census API data\n",
        "import requests ## Required for the Census API\n",
        "import pandas as pd # For reading, writing and wrangling data"
      ],
      "execution_count": 1,
      "outputs": []
    },
    {
      "cell_type": "markdown",
      "metadata": {
        "id": "lwbY5z9jxDo7"
      },
      "source": [
        "## Step 1: Obtain Data\n",
        "The following is a function that provides resuable code to obtain data from Census API. The block of code with the function needs to be run first and then the function can be called in future blocks of code."
      ]
    },
    {
      "cell_type": "code",
      "metadata": {
        "id": "TrXui4kNw-QM"
      },
      "source": [
        "def obtain_census_api(\n",
        "                    state: str = \"*\",\n",
        "                    county: str = \"*\",\n",
        "                    census_geography: str = 'county:*',\n",
        "                    vintage: str = \"2010\", \n",
        "                    dataset_name: str = 'dec/sf1',\n",
        "                    get_vars: str = 'GEO_ID'):\n",
        "\n",
        "        \"\"\"General utility for obtaining census from Census API.\n",
        "\n",
        "        Args:\n",
        "            state (str): 2-digit FIPS code. Default * for all states\n",
        "            county (str): 3-digit FIPS code. Default * all counties\n",
        "            census_geography (str): example '&for=block:*' would be for all blocks\n",
        "              default is for all counties\n",
        "            vintage (str): Census Year. Default 2010\n",
        "            dataset_name (str): Census dataset name. Default Decennial SF1\n",
        "            for a list of all Census API\n",
        "            get_vars (str): list of variables to get from the API.\n",
        "\n",
        "        Returns:\n",
        "            obj, dict: A dataframe for with Census data\n",
        "\n",
        "        \"\"\"\n",
        "        # Set up hyperlink for Census API\n",
        "        api_hyperlink = ('https://api.census.gov/data/' + vintage + '/'+dataset_name + '?get=' + get_vars +\n",
        "                        '&in=state:' + state + '&in=county:' + county + '&for=' + census_geography)\n",
        "\n",
        "        print(\"Census API data from: \" + api_hyperlink)\n",
        "\n",
        "        # Obtain Census API JSON Data\n",
        "        apijson = requests.get(api_hyperlink)\n",
        "\n",
        "        # Convert the requested json into pandas dataframe\n",
        "        df = pd.DataFrame(columns=apijson.json()[0], data=apijson.json()[1:])\n",
        "\n",
        "        return df"
      ],
      "execution_count": 2,
      "outputs": []
    },
    {
      "cell_type": "markdown",
      "metadata": {
        "id": "0BnzQEKqWMeo"
      },
      "source": [
        "## Run Obtain Census API for 2010 Decennial Census\n",
        "The next block of code calls the function and gets varaibles related to total population and counts of population by sex by age.\n",
        "\n",
        "For more variables related to sex and age see:\n",
        "\n",
        "https://api.census.gov/data/2010/dec/sf1/groups/P12.html\n"
      ]
    },
    {
      "cell_type": "code",
      "metadata": {
        "colab": {
          "base_uri": "https://localhost:8080/",
          "height": 221
        },
        "id": "7XVk-5GbUdke",
        "outputId": "8a4223f4-d74d-4de3-b45f-498d1654595b"
      },
      "source": [
        "get_vars = 'GEO_ID,NAME,P012001,P012002'\n",
        "        # GEO_ID  = Geographic ID\n",
        "        # NAME    = Geographic Area Name\n",
        "        # P012001 = Total\n",
        "        # P012002 = Total!!Male\n",
        "dec10_df = obtain_census_api(get_vars = get_vars)\n",
        "dec10_df.head()"
      ],
      "execution_count": 3,
      "outputs": [
        {
          "output_type": "stream",
          "name": "stdout",
          "text": [
            "Census API data from: https://api.census.gov/data/2010/dec/sf1?get=GEO_ID,NAME,P012001,P012002&in=state:*&in=county:*&for=county:*\n"
          ]
        },
        {
          "output_type": "execute_result",
          "data": {
            "text/html": [
              "<div>\n",
              "<style scoped>\n",
              "    .dataframe tbody tr th:only-of-type {\n",
              "        vertical-align: middle;\n",
              "    }\n",
              "\n",
              "    .dataframe tbody tr th {\n",
              "        vertical-align: top;\n",
              "    }\n",
              "\n",
              "    .dataframe thead th {\n",
              "        text-align: right;\n",
              "    }\n",
              "</style>\n",
              "<table border=\"1\" class=\"dataframe\">\n",
              "  <thead>\n",
              "    <tr style=\"text-align: right;\">\n",
              "      <th></th>\n",
              "      <th>GEO_ID</th>\n",
              "      <th>NAME</th>\n",
              "      <th>P012001</th>\n",
              "      <th>P012002</th>\n",
              "      <th>state</th>\n",
              "      <th>county</th>\n",
              "    </tr>\n",
              "  </thead>\n",
              "  <tbody>\n",
              "    <tr>\n",
              "      <th>0</th>\n",
              "      <td>0500000US05131</td>\n",
              "      <td>Sebastian County, Arkansas</td>\n",
              "      <td>125744</td>\n",
              "      <td>61633</td>\n",
              "      <td>05</td>\n",
              "      <td>131</td>\n",
              "    </tr>\n",
              "    <tr>\n",
              "      <th>1</th>\n",
              "      <td>0500000US05133</td>\n",
              "      <td>Sevier County, Arkansas</td>\n",
              "      <td>17058</td>\n",
              "      <td>8464</td>\n",
              "      <td>05</td>\n",
              "      <td>133</td>\n",
              "    </tr>\n",
              "    <tr>\n",
              "      <th>2</th>\n",
              "      <td>0500000US05135</td>\n",
              "      <td>Sharp County, Arkansas</td>\n",
              "      <td>17264</td>\n",
              "      <td>8532</td>\n",
              "      <td>05</td>\n",
              "      <td>135</td>\n",
              "    </tr>\n",
              "    <tr>\n",
              "      <th>3</th>\n",
              "      <td>0500000US05137</td>\n",
              "      <td>Stone County, Arkansas</td>\n",
              "      <td>12394</td>\n",
              "      <td>6128</td>\n",
              "      <td>05</td>\n",
              "      <td>137</td>\n",
              "    </tr>\n",
              "    <tr>\n",
              "      <th>4</th>\n",
              "      <td>0500000US05139</td>\n",
              "      <td>Union County, Arkansas</td>\n",
              "      <td>41639</td>\n",
              "      <td>20259</td>\n",
              "      <td>05</td>\n",
              "      <td>139</td>\n",
              "    </tr>\n",
              "  </tbody>\n",
              "</table>\n",
              "</div>"
            ],
            "text/plain": [
              "           GEO_ID                        NAME P012001 P012002 state county\n",
              "0  0500000US05131  Sebastian County, Arkansas  125744   61633    05    131\n",
              "1  0500000US05133     Sevier County, Arkansas   17058    8464    05    133\n",
              "2  0500000US05135      Sharp County, Arkansas   17264    8532    05    135\n",
              "3  0500000US05137      Stone County, Arkansas   12394    6128    05    137\n",
              "4  0500000US05139      Union County, Arkansas   41639   20259    05    139"
            ]
          },
          "metadata": {},
          "execution_count": 3
        }
      ]
    },
    {
      "cell_type": "markdown",
      "metadata": {
        "id": "t-nLAe30WsWE"
      },
      "source": [
        "## Run Obtain Census API for 2010 1-year American Community Survey\n",
        "The next block of code calls the function and gets varaibles related to total population and counts of population by sex and age.\n",
        "The American Community Survey (ACS) is a survey that is conducted monthly with a random sample of the population. The ACS provides an estimate of the population data collected for the 2010 Census.\n",
        "\n",
        "The ACS variables include both an estimate and a margin of error.\n",
        "\n",
        "The ACS also provides detailed profile statistics that include percentages with margins of error.\n",
        "\n",
        "One example of a Detailed Profile Table is DP05 - Sex by Age:\n",
        "\n",
        "https://api.census.gov/data/2010/acs/acs1/profile/groups/DP05.html\n",
        "\n",
        "https://data.census.gov/cedsci/table?tid=ACSDP1Y2010.DP05\n",
        "\n",
        "\n"
      ]
    },
    {
      "cell_type": "code",
      "metadata": {
        "colab": {
          "base_uri": "https://localhost:8080/",
          "height": 221
        },
        "id": "VbAzds-nUduq",
        "outputId": "f0938c32-e100-408c-b80c-15e4769f56eb"
      },
      "source": [
        "# The default for the function is the decenial census. \n",
        "# For the ACS we need to change the dataset name\n",
        "# This information is from https://www.census.gov/data/developers/data-sets/acs-1year.2010.html\n",
        "\n",
        "dataset_name = 'acs/acs1/profile'\n",
        "get_vars = 'GEO_ID,NAME,DP05_0001E,DP05_0001M,DP05_0002E,DP05_0002M,DP05_0002PE,DP05_0002PM'\n",
        "        # GEO_ID  = Geographic ID\n",
        "        # NAME    = Geographic Area Name\n",
        "        # DP05_0001 = SEX AND AGE!!Total population\n",
        "        # DP05_0002 = SEX AND AGE!!Male\n",
        "        # Notice for ACS Variables we include the Estimate (E) and the \n",
        "        ## Margin of error (M)\n",
        "        # Notice the Data profiles also inlcude Percent Estimates (PE) and\n",
        "        ## Percent Margins of Error (PM)\n",
        "acs10_df = obtain_census_api(get_vars = get_vars, dataset_name = dataset_name)\n",
        "acs10_df.head()"
      ],
      "execution_count": 4,
      "outputs": [
        {
          "output_type": "stream",
          "name": "stdout",
          "text": [
            "Census API data from: https://api.census.gov/data/2010/acs/acs1/profile?get=GEO_ID,NAME,DP05_0001E,DP05_0001M,DP05_0002E,DP05_0002M,DP05_0002PE,DP05_0002PM&in=state:*&in=county:*&for=county:*\n"
          ]
        },
        {
          "output_type": "execute_result",
          "data": {
            "text/html": [
              "<div>\n",
              "<style scoped>\n",
              "    .dataframe tbody tr th:only-of-type {\n",
              "        vertical-align: middle;\n",
              "    }\n",
              "\n",
              "    .dataframe tbody tr th {\n",
              "        vertical-align: top;\n",
              "    }\n",
              "\n",
              "    .dataframe thead th {\n",
              "        text-align: right;\n",
              "    }\n",
              "</style>\n",
              "<table border=\"1\" class=\"dataframe\">\n",
              "  <thead>\n",
              "    <tr style=\"text-align: right;\">\n",
              "      <th></th>\n",
              "      <th>GEO_ID</th>\n",
              "      <th>NAME</th>\n",
              "      <th>DP05_0001E</th>\n",
              "      <th>DP05_0001M</th>\n",
              "      <th>DP05_0002E</th>\n",
              "      <th>DP05_0002M</th>\n",
              "      <th>DP05_0002PE</th>\n",
              "      <th>DP05_0002PM</th>\n",
              "      <th>state</th>\n",
              "      <th>county</th>\n",
              "    </tr>\n",
              "  </thead>\n",
              "  <tbody>\n",
              "    <tr>\n",
              "      <th>0</th>\n",
              "      <td>0500000US39151</td>\n",
              "      <td>Stark County, Ohio</td>\n",
              "      <td>375321</td>\n",
              "      <td>-555555555</td>\n",
              "      <td>182670</td>\n",
              "      <td>807</td>\n",
              "      <td>48.7</td>\n",
              "      <td>0.2</td>\n",
              "      <td>39</td>\n",
              "      <td>151</td>\n",
              "    </tr>\n",
              "    <tr>\n",
              "      <th>1</th>\n",
              "      <td>0500000US39153</td>\n",
              "      <td>Summit County, Ohio</td>\n",
              "      <td>541565</td>\n",
              "      <td>-555555555</td>\n",
              "      <td>261973</td>\n",
              "      <td>756</td>\n",
              "      <td>48.4</td>\n",
              "      <td>0.1</td>\n",
              "      <td>39</td>\n",
              "      <td>153</td>\n",
              "    </tr>\n",
              "    <tr>\n",
              "      <th>2</th>\n",
              "      <td>0500000US39155</td>\n",
              "      <td>Trumbull County, Ohio</td>\n",
              "      <td>209936</td>\n",
              "      <td>-555555555</td>\n",
              "      <td>101446</td>\n",
              "      <td>584</td>\n",
              "      <td>48.3</td>\n",
              "      <td>0.3</td>\n",
              "      <td>39</td>\n",
              "      <td>155</td>\n",
              "    </tr>\n",
              "    <tr>\n",
              "      <th>3</th>\n",
              "      <td>0500000US39157</td>\n",
              "      <td>Tuscarawas County, Ohio</td>\n",
              "      <td>92542</td>\n",
              "      <td>-555555555</td>\n",
              "      <td>45263</td>\n",
              "      <td>265</td>\n",
              "      <td>48.9</td>\n",
              "      <td>0.3</td>\n",
              "      <td>39</td>\n",
              "      <td>157</td>\n",
              "    </tr>\n",
              "    <tr>\n",
              "      <th>4</th>\n",
              "      <td>0500000US39165</td>\n",
              "      <td>Warren County, Ohio</td>\n",
              "      <td>213192</td>\n",
              "      <td>-555555555</td>\n",
              "      <td>107486</td>\n",
              "      <td>692</td>\n",
              "      <td>50.4</td>\n",
              "      <td>0.3</td>\n",
              "      <td>39</td>\n",
              "      <td>165</td>\n",
              "    </tr>\n",
              "  </tbody>\n",
              "</table>\n",
              "</div>"
            ],
            "text/plain": [
              "           GEO_ID                     NAME DP05_0001E  ... DP05_0002PM state county\n",
              "0  0500000US39151       Stark County, Ohio     375321  ...         0.2    39    151\n",
              "1  0500000US39153      Summit County, Ohio     541565  ...         0.1    39    153\n",
              "2  0500000US39155    Trumbull County, Ohio     209936  ...         0.3    39    155\n",
              "3  0500000US39157  Tuscarawas County, Ohio      92542  ...         0.3    39    157\n",
              "4  0500000US39165      Warren County, Ohio     213192  ...         0.3    39    165\n",
              "\n",
              "[5 rows x 10 columns]"
            ]
          },
          "metadata": {},
          "execution_count": 4
        }
      ]
    },
    {
      "cell_type": "code",
      "metadata": {
        "id": "hPMeWEOuftfg",
        "colab": {
          "base_uri": "https://localhost:8080/",
          "height": 221
        },
        "outputId": "fd62911b-1dcd-4bea-f058-834e809b0258"
      },
      "source": [
        "# The default for the function is the decenial census. \n",
        "# For the ACS we need to change the dataset name\n",
        "# This information is from https://www.census.gov/data/developers/data-sets/acs-1year.2010.html\n",
        "\n",
        "dataset_name = 'acs/acs1'\n",
        "get_vars = 'GEO_ID,NAME,B00001_001E'\n",
        "        # GEO_ID  = Geographic ID\n",
        "        # NAME    = Geographic Area Name\n",
        "        # B00001_001E = Sample Size\n",
        "acs10_samplesize_df = obtain_census_api(get_vars = get_vars, dataset_name = dataset_name)\n",
        "acs10_samplesize_df.head()"
      ],
      "execution_count": 5,
      "outputs": [
        {
          "output_type": "stream",
          "name": "stdout",
          "text": [
            "Census API data from: https://api.census.gov/data/2010/acs/acs1?get=GEO_ID,NAME,B00001_001E&in=state:*&in=county:*&for=county:*\n"
          ]
        },
        {
          "output_type": "execute_result",
          "data": {
            "text/html": [
              "<div>\n",
              "<style scoped>\n",
              "    .dataframe tbody tr th:only-of-type {\n",
              "        vertical-align: middle;\n",
              "    }\n",
              "\n",
              "    .dataframe tbody tr th {\n",
              "        vertical-align: top;\n",
              "    }\n",
              "\n",
              "    .dataframe thead th {\n",
              "        text-align: right;\n",
              "    }\n",
              "</style>\n",
              "<table border=\"1\" class=\"dataframe\">\n",
              "  <thead>\n",
              "    <tr style=\"text-align: right;\">\n",
              "      <th></th>\n",
              "      <th>GEO_ID</th>\n",
              "      <th>NAME</th>\n",
              "      <th>B00001_001E</th>\n",
              "      <th>state</th>\n",
              "      <th>county</th>\n",
              "    </tr>\n",
              "  </thead>\n",
              "  <tbody>\n",
              "    <tr>\n",
              "      <th>0</th>\n",
              "      <td>0500000US39109</td>\n",
              "      <td>Miami County, Ohio</td>\n",
              "      <td>1789</td>\n",
              "      <td>39</td>\n",
              "      <td>109</td>\n",
              "    </tr>\n",
              "    <tr>\n",
              "      <th>1</th>\n",
              "      <td>0500000US39113</td>\n",
              "      <td>Montgomery County, Ohio</td>\n",
              "      <td>7457</td>\n",
              "      <td>39</td>\n",
              "      <td>113</td>\n",
              "    </tr>\n",
              "    <tr>\n",
              "      <th>2</th>\n",
              "      <td>0500000US39119</td>\n",
              "      <td>Muskingum County, Ohio</td>\n",
              "      <td>1524</td>\n",
              "      <td>39</td>\n",
              "      <td>119</td>\n",
              "    </tr>\n",
              "    <tr>\n",
              "      <th>3</th>\n",
              "      <td>0500000US39133</td>\n",
              "      <td>Portage County, Ohio</td>\n",
              "      <td>2400</td>\n",
              "      <td>39</td>\n",
              "      <td>133</td>\n",
              "    </tr>\n",
              "    <tr>\n",
              "      <th>4</th>\n",
              "      <td>0500000US39139</td>\n",
              "      <td>Richland County, Ohio</td>\n",
              "      <td>1896</td>\n",
              "      <td>39</td>\n",
              "      <td>139</td>\n",
              "    </tr>\n",
              "  </tbody>\n",
              "</table>\n",
              "</div>"
            ],
            "text/plain": [
              "           GEO_ID                     NAME B00001_001E state county\n",
              "0  0500000US39109       Miami County, Ohio        1789    39    109\n",
              "1  0500000US39113  Montgomery County, Ohio        7457    39    113\n",
              "2  0500000US39119   Muskingum County, Ohio        1524    39    119\n",
              "3  0500000US39133     Portage County, Ohio        2400    39    133\n",
              "4  0500000US39139    Richland County, Ohio        1896    39    139"
            ]
          },
          "metadata": {},
          "execution_count": 5
        }
      ]
    },
    {
      "cell_type": "markdown",
      "metadata": {
        "id": "tckJOdRRyN44"
      },
      "source": [
        "## Step 2: Clean Data\n",
        "Data cleaning is an important step in the data science process. This step is often the hardest and most time consuming. "
      ]
    },
    {
      "cell_type": "markdown",
      "metadata": {
        "id": "ATWo6jczhU5i"
      },
      "source": [
        "### 2.1 Clean Decenial Census Data and Check Results\n",
        "#### 2.1.2 Make sure variable types are set correctly\n",
        "The Decenial Census data needs to be converted to integer type variables. Integers represent whole numbers. For Total Population and Total Male Population statistics each number represents a total count of people. "
      ]
    },
    {
      "cell_type": "code",
      "metadata": {
        "id": "Ow6ijpWEyPTu",
        "colab": {
          "base_uri": "https://localhost:8080/",
          "height": 204
        },
        "outputId": "0f8bab1e-ec33-4d92-aaa8-42939ad22258"
      },
      "source": [
        "### 2.1 Set the variable type\n",
        "dec10_df[\"P012001\"] = dec10_df[\"P012001\"].astype(int)\n",
        "dec10_df[\"P012002\"] = dec10_df[\"P012002\"].astype(int)\n",
        "\n",
        "# Generate new variable - Proportion\n",
        "dec10_df.loc[:,'Percent Male'] = dec10_df['P012002'] / dec10_df['P012001'] * 100\n",
        "dec10_df.head()"
      ],
      "execution_count": 30,
      "outputs": [
        {
          "output_type": "execute_result",
          "data": {
            "text/html": [
              "<div>\n",
              "<style scoped>\n",
              "    .dataframe tbody tr th:only-of-type {\n",
              "        vertical-align: middle;\n",
              "    }\n",
              "\n",
              "    .dataframe tbody tr th {\n",
              "        vertical-align: top;\n",
              "    }\n",
              "\n",
              "    .dataframe thead th {\n",
              "        text-align: right;\n",
              "    }\n",
              "</style>\n",
              "<table border=\"1\" class=\"dataframe\">\n",
              "  <thead>\n",
              "    <tr style=\"text-align: right;\">\n",
              "      <th></th>\n",
              "      <th>GEO_ID</th>\n",
              "      <th>NAME</th>\n",
              "      <th>P012001</th>\n",
              "      <th>P012002</th>\n",
              "      <th>state</th>\n",
              "      <th>county</th>\n",
              "      <th>Percent Male</th>\n",
              "    </tr>\n",
              "  </thead>\n",
              "  <tbody>\n",
              "    <tr>\n",
              "      <th>0</th>\n",
              "      <td>0500000US05131</td>\n",
              "      <td>Sebastian County, Arkansas</td>\n",
              "      <td>125744</td>\n",
              "      <td>61633</td>\n",
              "      <td>05</td>\n",
              "      <td>131</td>\n",
              "      <td>49.014665</td>\n",
              "    </tr>\n",
              "    <tr>\n",
              "      <th>1</th>\n",
              "      <td>0500000US05133</td>\n",
              "      <td>Sevier County, Arkansas</td>\n",
              "      <td>17058</td>\n",
              "      <td>8464</td>\n",
              "      <td>05</td>\n",
              "      <td>133</td>\n",
              "      <td>49.618947</td>\n",
              "    </tr>\n",
              "    <tr>\n",
              "      <th>2</th>\n",
              "      <td>0500000US05135</td>\n",
              "      <td>Sharp County, Arkansas</td>\n",
              "      <td>17264</td>\n",
              "      <td>8532</td>\n",
              "      <td>05</td>\n",
              "      <td>135</td>\n",
              "      <td>49.420760</td>\n",
              "    </tr>\n",
              "    <tr>\n",
              "      <th>3</th>\n",
              "      <td>0500000US05137</td>\n",
              "      <td>Stone County, Arkansas</td>\n",
              "      <td>12394</td>\n",
              "      <td>6128</td>\n",
              "      <td>05</td>\n",
              "      <td>137</td>\n",
              "      <td>49.443279</td>\n",
              "    </tr>\n",
              "    <tr>\n",
              "      <th>4</th>\n",
              "      <td>0500000US05139</td>\n",
              "      <td>Union County, Arkansas</td>\n",
              "      <td>41639</td>\n",
              "      <td>20259</td>\n",
              "      <td>05</td>\n",
              "      <td>139</td>\n",
              "      <td>48.653906</td>\n",
              "    </tr>\n",
              "  </tbody>\n",
              "</table>\n",
              "</div>"
            ],
            "text/plain": [
              "           GEO_ID                        NAME  ...  county  Percent Male\n",
              "0  0500000US05131  Sebastian County, Arkansas  ...     131     49.014665\n",
              "1  0500000US05133     Sevier County, Arkansas  ...     133     49.618947\n",
              "2  0500000US05135      Sharp County, Arkansas  ...     135     49.420760\n",
              "3  0500000US05137      Stone County, Arkansas  ...     137     49.443279\n",
              "4  0500000US05139      Union County, Arkansas  ...     139     48.653906\n",
              "\n",
              "[5 rows x 7 columns]"
            ]
          },
          "metadata": {},
          "execution_count": 30
        }
      ]
    },
    {
      "cell_type": "markdown",
      "metadata": {
        "id": "Ol-Z5Yjzhoma"
      },
      "source": [
        "#### 2.1.2 Use descriptive statistics to check cleaning\n",
        "A descriptive statistics table is a great way to check to make sure the variables have been created correctly. Descriptive methods summarize the data. Descriptive statistics summarize data with numbers, tables, and graphs. The following block of code creates and formats a table using the `describe` function. The table provides eight descriptive statistics. These include the count, the mean, the standard deviation (std), the minimum (min), the lower quartile (25%), the median (50%), the upper quartile (75%), and the maximum (max).\n"
      ]
    },
    {
      "cell_type": "code",
      "metadata": {
        "id": "i7TgMKgmygQc",
        "colab": {
          "base_uri": "https://localhost:8080/",
          "height": 137
        },
        "outputId": "91d3e303-f9fd-4d25-a9bb-3f78a51978a9"
      },
      "source": [
        "table1 = dec10_df[['P012001','P012002','Percent Male']].describe().T\n",
        "varformat = \"{:,.0f}\" # The variable format adds a comma and rounds up\n",
        "table_title = \"Table 1. Descriptive statistics for percent Male by county, 2010 Decennial Census.\"\n",
        "table1 = table1.style.set_caption(table_title).format(varformat).set_properties(**{'text-align': 'right'})\n",
        "table1"
      ],
      "execution_count": 7,
      "outputs": [
        {
          "output_type": "execute_result",
          "data": {
            "text/html": [
              "<style  type=\"text/css\" >\n",
              "#T_cbba86c6_2546_11ec_a768_0242ac1c0002row0_col0,#T_cbba86c6_2546_11ec_a768_0242ac1c0002row0_col1,#T_cbba86c6_2546_11ec_a768_0242ac1c0002row0_col2,#T_cbba86c6_2546_11ec_a768_0242ac1c0002row0_col3,#T_cbba86c6_2546_11ec_a768_0242ac1c0002row0_col4,#T_cbba86c6_2546_11ec_a768_0242ac1c0002row0_col5,#T_cbba86c6_2546_11ec_a768_0242ac1c0002row0_col6,#T_cbba86c6_2546_11ec_a768_0242ac1c0002row0_col7,#T_cbba86c6_2546_11ec_a768_0242ac1c0002row1_col0,#T_cbba86c6_2546_11ec_a768_0242ac1c0002row1_col1,#T_cbba86c6_2546_11ec_a768_0242ac1c0002row1_col2,#T_cbba86c6_2546_11ec_a768_0242ac1c0002row1_col3,#T_cbba86c6_2546_11ec_a768_0242ac1c0002row1_col4,#T_cbba86c6_2546_11ec_a768_0242ac1c0002row1_col5,#T_cbba86c6_2546_11ec_a768_0242ac1c0002row1_col6,#T_cbba86c6_2546_11ec_a768_0242ac1c0002row1_col7,#T_cbba86c6_2546_11ec_a768_0242ac1c0002row2_col0,#T_cbba86c6_2546_11ec_a768_0242ac1c0002row2_col1,#T_cbba86c6_2546_11ec_a768_0242ac1c0002row2_col2,#T_cbba86c6_2546_11ec_a768_0242ac1c0002row2_col3,#T_cbba86c6_2546_11ec_a768_0242ac1c0002row2_col4,#T_cbba86c6_2546_11ec_a768_0242ac1c0002row2_col5,#T_cbba86c6_2546_11ec_a768_0242ac1c0002row2_col6,#T_cbba86c6_2546_11ec_a768_0242ac1c0002row2_col7{\n",
              "            text-align:  right;\n",
              "        }</style><table id=\"T_cbba86c6_2546_11ec_a768_0242ac1c0002\" ><caption>Table 1. Descriptive statistics for percent Male by county, 2010 Decennial Census.</caption><thead>    <tr>        <th class=\"blank level0\" ></th>        <th class=\"col_heading level0 col0\" >count</th>        <th class=\"col_heading level0 col1\" >mean</th>        <th class=\"col_heading level0 col2\" >std</th>        <th class=\"col_heading level0 col3\" >min</th>        <th class=\"col_heading level0 col4\" >25%</th>        <th class=\"col_heading level0 col5\" >50%</th>        <th class=\"col_heading level0 col6\" >75%</th>        <th class=\"col_heading level0 col7\" >max</th>    </tr></thead><tbody>\n",
              "                <tr>\n",
              "                        <th id=\"T_cbba86c6_2546_11ec_a768_0242ac1c0002level0_row0\" class=\"row_heading level0 row0\" >P012001</th>\n",
              "                        <td id=\"T_cbba86c6_2546_11ec_a768_0242ac1c0002row0_col0\" class=\"data row0 col0\" >3,221</td>\n",
              "                        <td id=\"T_cbba86c6_2546_11ec_a768_0242ac1c0002row0_col1\" class=\"data row0 col1\" >97,011</td>\n",
              "                        <td id=\"T_cbba86c6_2546_11ec_a768_0242ac1c0002row0_col2\" class=\"data row0 col2\" >309,299</td>\n",
              "                        <td id=\"T_cbba86c6_2546_11ec_a768_0242ac1c0002row0_col3\" class=\"data row0 col3\" >82</td>\n",
              "                        <td id=\"T_cbba86c6_2546_11ec_a768_0242ac1c0002row0_col4\" class=\"data row0 col4\" >11,310</td>\n",
              "                        <td id=\"T_cbba86c6_2546_11ec_a768_0242ac1c0002row0_col5\" class=\"data row0 col5\" >26,076</td>\n",
              "                        <td id=\"T_cbba86c6_2546_11ec_a768_0242ac1c0002row0_col6\" class=\"data row0 col6\" >65,880</td>\n",
              "                        <td id=\"T_cbba86c6_2546_11ec_a768_0242ac1c0002row0_col7\" class=\"data row0 col7\" >9,818,605</td>\n",
              "            </tr>\n",
              "            <tr>\n",
              "                        <th id=\"T_cbba86c6_2546_11ec_a768_0242ac1c0002level0_row1\" class=\"row_heading level0 row1\" >P012002</th>\n",
              "                        <td id=\"T_cbba86c6_2546_11ec_a768_0242ac1c0002row1_col0\" class=\"data row1 col0\" >3,221</td>\n",
              "                        <td id=\"T_cbba86c6_2546_11ec_a768_0242ac1c0002row1_col1\" class=\"data row1 col1\" >47,677</td>\n",
              "                        <td id=\"T_cbba86c6_2546_11ec_a768_0242ac1c0002row1_col2\" class=\"data row1 col2\" >151,702</td>\n",
              "                        <td id=\"T_cbba86c6_2546_11ec_a768_0242ac1c0002row1_col3\" class=\"data row1 col3\" >42</td>\n",
              "                        <td id=\"T_cbba86c6_2546_11ec_a768_0242ac1c0002row1_col4\" class=\"data row1 col4\" >5,681</td>\n",
              "                        <td id=\"T_cbba86c6_2546_11ec_a768_0242ac1c0002row1_col5\" class=\"data row1 col5\" >12,928</td>\n",
              "                        <td id=\"T_cbba86c6_2546_11ec_a768_0242ac1c0002row1_col6\" class=\"data row1 col6\" >32,654</td>\n",
              "                        <td id=\"T_cbba86c6_2546_11ec_a768_0242ac1c0002row1_col7\" class=\"data row1 col7\" >4,839,654</td>\n",
              "            </tr>\n",
              "            <tr>\n",
              "                        <th id=\"T_cbba86c6_2546_11ec_a768_0242ac1c0002level0_row2\" class=\"row_heading level0 row2\" >Percent Male</th>\n",
              "                        <td id=\"T_cbba86c6_2546_11ec_a768_0242ac1c0002row2_col0\" class=\"data row2 col0\" >3,221</td>\n",
              "                        <td id=\"T_cbba86c6_2546_11ec_a768_0242ac1c0002row2_col1\" class=\"data row2 col1\" >50</td>\n",
              "                        <td id=\"T_cbba86c6_2546_11ec_a768_0242ac1c0002row2_col2\" class=\"data row2 col2\" >2</td>\n",
              "                        <td id=\"T_cbba86c6_2546_11ec_a768_0242ac1c0002row2_col3\" class=\"data row2 col3\" >43</td>\n",
              "                        <td id=\"T_cbba86c6_2546_11ec_a768_0242ac1c0002row2_col4\" class=\"data row2 col4\" >49</td>\n",
              "                        <td id=\"T_cbba86c6_2546_11ec_a768_0242ac1c0002row2_col5\" class=\"data row2 col5\" >50</td>\n",
              "                        <td id=\"T_cbba86c6_2546_11ec_a768_0242ac1c0002row2_col6\" class=\"data row2 col6\" >50</td>\n",
              "                        <td id=\"T_cbba86c6_2546_11ec_a768_0242ac1c0002row2_col7\" class=\"data row2 col7\" >72</td>\n",
              "            </tr>\n",
              "    </tbody></table>"
            ],
            "text/plain": [
              "<pandas.io.formats.style.Styler at 0x7f0d37afd450>"
            ]
          },
          "metadata": {},
          "execution_count": 7
        }
      ]
    },
    {
      "cell_type": "markdown",
      "metadata": {
        "id": "_uNWWSwgh_rK"
      },
      "source": [
        "### 2.2. Clean ACS Data\n",
        "#### 2.2.1 Make sure variable types are set correctly\n",
        "For the ACS data we have both population counts and precents. The percentage estiamtes are not integers - they are \"floats\" which refers the the decimal place that can float in the number between the integer and the fractional part. Here is more information on Python number types https://www.tutorialspoint.com/python/python_numbers.htm "
      ]
    },
    {
      "cell_type": "code",
      "metadata": {
        "id": "38oy4N0uayeJ"
      },
      "source": [
        "### 2.2 Set the variable type\n",
        "acs10_df[\"DP05_0001E\"] = acs10_df[\"DP05_0001E\"].astype(int)\n",
        "acs10_df[\"DP05_0001M\"] = acs10_df[\"DP05_0001M\"].astype(int)\n",
        "acs10_df[\"DP05_0002E\"] = acs10_df[\"DP05_0002E\"].astype(int)\n",
        "acs10_df[\"DP05_0002M\"] = acs10_df[\"DP05_0002M\"].astype(int)\n",
        "acs10_df[\"DP05_0002PE\"] = acs10_df[\"DP05_0002PE\"].astype(float)\n",
        "acs10_df[\"DP05_0002PM\"] = acs10_df[\"DP05_0002PM\"].astype(float)"
      ],
      "execution_count": 8,
      "outputs": []
    },
    {
      "cell_type": "markdown",
      "metadata": {
        "id": "K-Wdr-ATjcQW"
      },
      "source": [
        "#### 2.2.2 Use descriptive statistics to check cleaning\n",
        "A descriptive statistics table is a great way to check to make sure the variables have been created correctly."
      ]
    },
    {
      "cell_type": "code",
      "metadata": {
        "id": "rH_kXl4Eayho",
        "colab": {
          "base_uri": "https://localhost:8080/",
          "height": 183
        },
        "outputId": "532f5746-337f-4fea-ba67-61fbbb4e21bd"
      },
      "source": [
        "table2 = acs10_df[['DP05_0001E','DP05_0001M','DP05_0002E','DP05_0002M','DP05_0002PE','DP05_0002PM']].describe().T\n",
        "varformat = \"{:,.0f}\" # The variable format adds a comma and rounds up\n",
        "table_title = \"Table 2. Descriptive statistics for percent Male by county, 2010 1-year ACS.\"\n",
        "table2 = table2.style.set_caption(table_title).format(varformat).set_properties(**{'text-align': 'right'})\n",
        "table2"
      ],
      "execution_count": 9,
      "outputs": [
        {
          "output_type": "execute_result",
          "data": {
            "text/html": [
              "<style  type=\"text/css\" >\n",
              "#T_cbcbe722_2546_11ec_a768_0242ac1c0002row0_col0,#T_cbcbe722_2546_11ec_a768_0242ac1c0002row0_col1,#T_cbcbe722_2546_11ec_a768_0242ac1c0002row0_col2,#T_cbcbe722_2546_11ec_a768_0242ac1c0002row0_col3,#T_cbcbe722_2546_11ec_a768_0242ac1c0002row0_col4,#T_cbcbe722_2546_11ec_a768_0242ac1c0002row0_col5,#T_cbcbe722_2546_11ec_a768_0242ac1c0002row0_col6,#T_cbcbe722_2546_11ec_a768_0242ac1c0002row0_col7,#T_cbcbe722_2546_11ec_a768_0242ac1c0002row1_col0,#T_cbcbe722_2546_11ec_a768_0242ac1c0002row1_col1,#T_cbcbe722_2546_11ec_a768_0242ac1c0002row1_col2,#T_cbcbe722_2546_11ec_a768_0242ac1c0002row1_col3,#T_cbcbe722_2546_11ec_a768_0242ac1c0002row1_col4,#T_cbcbe722_2546_11ec_a768_0242ac1c0002row1_col5,#T_cbcbe722_2546_11ec_a768_0242ac1c0002row1_col6,#T_cbcbe722_2546_11ec_a768_0242ac1c0002row1_col7,#T_cbcbe722_2546_11ec_a768_0242ac1c0002row2_col0,#T_cbcbe722_2546_11ec_a768_0242ac1c0002row2_col1,#T_cbcbe722_2546_11ec_a768_0242ac1c0002row2_col2,#T_cbcbe722_2546_11ec_a768_0242ac1c0002row2_col3,#T_cbcbe722_2546_11ec_a768_0242ac1c0002row2_col4,#T_cbcbe722_2546_11ec_a768_0242ac1c0002row2_col5,#T_cbcbe722_2546_11ec_a768_0242ac1c0002row2_col6,#T_cbcbe722_2546_11ec_a768_0242ac1c0002row2_col7,#T_cbcbe722_2546_11ec_a768_0242ac1c0002row3_col0,#T_cbcbe722_2546_11ec_a768_0242ac1c0002row3_col1,#T_cbcbe722_2546_11ec_a768_0242ac1c0002row3_col2,#T_cbcbe722_2546_11ec_a768_0242ac1c0002row3_col3,#T_cbcbe722_2546_11ec_a768_0242ac1c0002row3_col4,#T_cbcbe722_2546_11ec_a768_0242ac1c0002row3_col5,#T_cbcbe722_2546_11ec_a768_0242ac1c0002row3_col6,#T_cbcbe722_2546_11ec_a768_0242ac1c0002row3_col7,#T_cbcbe722_2546_11ec_a768_0242ac1c0002row4_col0,#T_cbcbe722_2546_11ec_a768_0242ac1c0002row4_col1,#T_cbcbe722_2546_11ec_a768_0242ac1c0002row4_col2,#T_cbcbe722_2546_11ec_a768_0242ac1c0002row4_col3,#T_cbcbe722_2546_11ec_a768_0242ac1c0002row4_col4,#T_cbcbe722_2546_11ec_a768_0242ac1c0002row4_col5,#T_cbcbe722_2546_11ec_a768_0242ac1c0002row4_col6,#T_cbcbe722_2546_11ec_a768_0242ac1c0002row4_col7,#T_cbcbe722_2546_11ec_a768_0242ac1c0002row5_col0,#T_cbcbe722_2546_11ec_a768_0242ac1c0002row5_col1,#T_cbcbe722_2546_11ec_a768_0242ac1c0002row5_col2,#T_cbcbe722_2546_11ec_a768_0242ac1c0002row5_col3,#T_cbcbe722_2546_11ec_a768_0242ac1c0002row5_col4,#T_cbcbe722_2546_11ec_a768_0242ac1c0002row5_col5,#T_cbcbe722_2546_11ec_a768_0242ac1c0002row5_col6,#T_cbcbe722_2546_11ec_a768_0242ac1c0002row5_col7{\n",
              "            text-align:  right;\n",
              "        }</style><table id=\"T_cbcbe722_2546_11ec_a768_0242ac1c0002\" ><caption>Table 2. Descriptive statistics for percent Male by county, 2010 1-year ACS.</caption><thead>    <tr>        <th class=\"blank level0\" ></th>        <th class=\"col_heading level0 col0\" >count</th>        <th class=\"col_heading level0 col1\" >mean</th>        <th class=\"col_heading level0 col2\" >std</th>        <th class=\"col_heading level0 col3\" >min</th>        <th class=\"col_heading level0 col4\" >25%</th>        <th class=\"col_heading level0 col5\" >50%</th>        <th class=\"col_heading level0 col6\" >75%</th>        <th class=\"col_heading level0 col7\" >max</th>    </tr></thead><tbody>\n",
              "                <tr>\n",
              "                        <th id=\"T_cbcbe722_2546_11ec_a768_0242ac1c0002level0_row0\" class=\"row_heading level0 row0\" >DP05_0001E</th>\n",
              "                        <td id=\"T_cbcbe722_2546_11ec_a768_0242ac1c0002row0_col0\" class=\"data row0 col0\" >818</td>\n",
              "                        <td id=\"T_cbcbe722_2546_11ec_a768_0242ac1c0002row0_col1\" class=\"data row0 col1\" >318,861</td>\n",
              "                        <td id=\"T_cbcbe722_2546_11ec_a768_0242ac1c0002row0_col2\" class=\"data row0 col2\" >558,543</td>\n",
              "                        <td id=\"T_cbcbe722_2546_11ec_a768_0242ac1c0002row0_col3\" class=\"data row0 col3\" >62,971</td>\n",
              "                        <td id=\"T_cbcbe722_2546_11ec_a768_0242ac1c0002row0_col4\" class=\"data row0 col4\" >95,588</td>\n",
              "                        <td id=\"T_cbcbe722_2546_11ec_a768_0242ac1c0002row0_col5\" class=\"data row0 col5\" >154,018</td>\n",
              "                        <td id=\"T_cbcbe722_2546_11ec_a768_0242ac1c0002row0_col6\" class=\"data row0 col6\" >314,120</td>\n",
              "                        <td id=\"T_cbcbe722_2546_11ec_a768_0242ac1c0002row0_col7\" class=\"data row0 col7\" >9,830,420</td>\n",
              "            </tr>\n",
              "            <tr>\n",
              "                        <th id=\"T_cbcbe722_2546_11ec_a768_0242ac1c0002level0_row1\" class=\"row_heading level0 row1\" >DP05_0001M</th>\n",
              "                        <td id=\"T_cbcbe722_2546_11ec_a768_0242ac1c0002row1_col0\" class=\"data row1 col0\" >818</td>\n",
              "                        <td id=\"T_cbcbe722_2546_11ec_a768_0242ac1c0002row1_col1\" class=\"data row1 col1\" >-552,159,728</td>\n",
              "                        <td id=\"T_cbcbe722_2546_11ec_a768_0242ac1c0002row1_col2\" class=\"data row1 col2\" >43,328,275</td>\n",
              "                        <td id=\"T_cbcbe722_2546_11ec_a768_0242ac1c0002row1_col3\" class=\"data row1 col3\" >-555,555,555</td>\n",
              "                        <td id=\"T_cbcbe722_2546_11ec_a768_0242ac1c0002row1_col4\" class=\"data row1 col4\" >-555,555,555</td>\n",
              "                        <td id=\"T_cbcbe722_2546_11ec_a768_0242ac1c0002row1_col5\" class=\"data row1 col5\" >-555,555,555</td>\n",
              "                        <td id=\"T_cbcbe722_2546_11ec_a768_0242ac1c0002row1_col6\" class=\"data row1 col6\" >-555,555,555</td>\n",
              "                        <td id=\"T_cbcbe722_2546_11ec_a768_0242ac1c0002row1_col7\" class=\"data row1 col7\" >2,353</td>\n",
              "            </tr>\n",
              "            <tr>\n",
              "                        <th id=\"T_cbcbe722_2546_11ec_a768_0242ac1c0002level0_row2\" class=\"row_heading level0 row2\" >DP05_0002E</th>\n",
              "                        <td id=\"T_cbcbe722_2546_11ec_a768_0242ac1c0002row2_col0\" class=\"data row2 col0\" >818</td>\n",
              "                        <td id=\"T_cbcbe722_2546_11ec_a768_0242ac1c0002row2_col1\" class=\"data row2 col1\" >156,228</td>\n",
              "                        <td id=\"T_cbcbe722_2546_11ec_a768_0242ac1c0002row2_col2\" class=\"data row2 col2\" >274,174</td>\n",
              "                        <td id=\"T_cbcbe722_2546_11ec_a768_0242ac1c0002row2_col3\" class=\"data row2 col3\" >31,329</td>\n",
              "                        <td id=\"T_cbcbe722_2546_11ec_a768_0242ac1c0002row2_col4\" class=\"data row2 col4\" >46,472</td>\n",
              "                        <td id=\"T_cbcbe722_2546_11ec_a768_0242ac1c0002row2_col5\" class=\"data row2 col5\" >76,015</td>\n",
              "                        <td id=\"T_cbcbe722_2546_11ec_a768_0242ac1c0002row2_col6\" class=\"data row2 col6\" >154,579</td>\n",
              "                        <td id=\"T_cbcbe722_2546_11ec_a768_0242ac1c0002row2_col7\" class=\"data row2 col7\" >4,846,952</td>\n",
              "            </tr>\n",
              "            <tr>\n",
              "                        <th id=\"T_cbcbe722_2546_11ec_a768_0242ac1c0002level0_row3\" class=\"row_heading level0 row3\" >DP05_0002M</th>\n",
              "                        <td id=\"T_cbcbe722_2546_11ec_a768_0242ac1c0002row3_col0\" class=\"data row3 col0\" >818</td>\n",
              "                        <td id=\"T_cbcbe722_2546_11ec_a768_0242ac1c0002row3_col1\" class=\"data row3 col1\" >-7,470,112</td>\n",
              "                        <td id=\"T_cbcbe722_2546_11ec_a768_0242ac1c0002row3_col2\" class=\"data row3 col2\" >64,028,520</td>\n",
              "                        <td id=\"T_cbcbe722_2546_11ec_a768_0242ac1c0002row3_col3\" class=\"data row3 col3\" >-555,555,555</td>\n",
              "                        <td id=\"T_cbcbe722_2546_11ec_a768_0242ac1c0002row3_col4\" class=\"data row3 col4\" >522</td>\n",
              "                        <td id=\"T_cbcbe722_2546_11ec_a768_0242ac1c0002row3_col5\" class=\"data row3 col5\" >658</td>\n",
              "                        <td id=\"T_cbcbe722_2546_11ec_a768_0242ac1c0002row3_col6\" class=\"data row3 col6\" >819</td>\n",
              "                        <td id=\"T_cbcbe722_2546_11ec_a768_0242ac1c0002row3_col7\" class=\"data row3 col7\" >3,410</td>\n",
              "            </tr>\n",
              "            <tr>\n",
              "                        <th id=\"T_cbcbe722_2546_11ec_a768_0242ac1c0002level0_row4\" class=\"row_heading level0 row4\" >DP05_0002PE</th>\n",
              "                        <td id=\"T_cbcbe722_2546_11ec_a768_0242ac1c0002row4_col0\" class=\"data row4 col0\" >818</td>\n",
              "                        <td id=\"T_cbcbe722_2546_11ec_a768_0242ac1c0002row4_col1\" class=\"data row4 col1\" >49</td>\n",
              "                        <td id=\"T_cbcbe722_2546_11ec_a768_0242ac1c0002row4_col2\" class=\"data row4 col2\" >1</td>\n",
              "                        <td id=\"T_cbcbe722_2546_11ec_a768_0242ac1c0002row4_col3\" class=\"data row4 col3\" >46</td>\n",
              "                        <td id=\"T_cbcbe722_2546_11ec_a768_0242ac1c0002row4_col4\" class=\"data row4 col4\" >48</td>\n",
              "                        <td id=\"T_cbcbe722_2546_11ec_a768_0242ac1c0002row4_col5\" class=\"data row4 col5\" >49</td>\n",
              "                        <td id=\"T_cbcbe722_2546_11ec_a768_0242ac1c0002row4_col6\" class=\"data row4 col6\" >50</td>\n",
              "                        <td id=\"T_cbcbe722_2546_11ec_a768_0242ac1c0002row4_col7\" class=\"data row4 col7\" >60</td>\n",
              "            </tr>\n",
              "            <tr>\n",
              "                        <th id=\"T_cbcbe722_2546_11ec_a768_0242ac1c0002level0_row5\" class=\"row_heading level0 row5\" >DP05_0002PM</th>\n",
              "                        <td id=\"T_cbcbe722_2546_11ec_a768_0242ac1c0002row5_col0\" class=\"data row5 col0\" >818</td>\n",
              "                        <td id=\"T_cbcbe722_2546_11ec_a768_0242ac1c0002row5_col1\" class=\"data row5 col1\" >-7,470,795</td>\n",
              "                        <td id=\"T_cbcbe722_2546_11ec_a768_0242ac1c0002row5_col2\" class=\"data row5 col2\" >64,028,441</td>\n",
              "                        <td id=\"T_cbcbe722_2546_11ec_a768_0242ac1c0002row5_col3\" class=\"data row5 col3\" >-555,555,555</td>\n",
              "                        <td id=\"T_cbcbe722_2546_11ec_a768_0242ac1c0002row5_col4\" class=\"data row5 col4\" >0</td>\n",
              "                        <td id=\"T_cbcbe722_2546_11ec_a768_0242ac1c0002row5_col5\" class=\"data row5 col5\" >0</td>\n",
              "                        <td id=\"T_cbcbe722_2546_11ec_a768_0242ac1c0002row5_col6\" class=\"data row5 col6\" >1</td>\n",
              "                        <td id=\"T_cbcbe722_2546_11ec_a768_0242ac1c0002row5_col7\" class=\"data row5 col7\" >2</td>\n",
              "            </tr>\n",
              "    </tbody></table>"
            ],
            "text/plain": [
              "<pandas.io.formats.style.Styler at 0x7f0d381aa590>"
            ]
          },
          "metadata": {},
          "execution_count": 9
        }
      ]
    },
    {
      "cell_type": "markdown",
      "metadata": {
        "id": "-qg0Ydk_jfa3"
      },
      "source": [
        "**Notice strange values** The Descriptive Statistics Table shows that there are strange values. -555555555. These values represent missing values.\n",
        "\n",
        "List of Annotation Values:\n",
        "\n",
        "https://www.census.gov/data/developers/data-sets/acs-1year/notes-on-acs-estimate-and-annotation-values.html\n",
        "\n",
        "A '-555555555' entry in the margin of error column indicates that the estimate is controlled. A statistical test for sampling variability is not appropriate."
      ]
    },
    {
      "cell_type": "markdown",
      "metadata": {
        "id": "nlREG21UjTXf"
      },
      "source": [
        "#### 2.2.3 Replace Missing Data Codes\n",
        "To replace the missing values we can use a command that will locate (.loc) observations where the value is missing and replace the value with a new value. The new value will be a special case for values that should be missing. A missing value can be included using the Python Package Numpy, which has a function called nan which replaces the -5555555555 values with \"Not A Number\" constant. https://numpy.org/doc/stable/reference/constants.html "
      ]
    },
    {
      "cell_type": "code",
      "metadata": {
        "id": "gjTv2GRpaylU"
      },
      "source": [
        "import numpy as np\n",
        "acs10_df.loc[(acs10_df[\"DP05_0001M\"] == -555555555), \"DP05_0001M\"] = np.nan\n",
        "acs10_df.loc[(acs10_df[\"DP05_0002M\"] == -555555555), \"DP05_0002M\"] = np.nan\n",
        "acs10_df.loc[(acs10_df[\"DP05_0002PM\"] == -555555555), \"DP05_0002PM\"] = np.nan"
      ],
      "execution_count": 10,
      "outputs": []
    },
    {
      "cell_type": "markdown",
      "metadata": {
        "id": "3NqVPOD8lsVZ"
      },
      "source": [
        "#### 2.2.4 Recheck descriptive statistics to double check cleaning\n",
        "A new descriptive statistics table will help to show that the data cleaning step has worked succesfully."
      ]
    },
    {
      "cell_type": "code",
      "metadata": {
        "id": "bE58HC3vlsuv",
        "colab": {
          "base_uri": "https://localhost:8080/",
          "height": 183
        },
        "outputId": "c0697b67-4f4f-4523-8e06-7fcbb38d4f46"
      },
      "source": [
        "table3 = acs10_df[['DP05_0001E','DP05_0001M','DP05_0002E','DP05_0002M','DP05_0002PE','DP05_0002PM']].describe().T\n",
        "varformat = \"{:,.0f}\" # The variable format adds a comma and rounds up\n",
        "table_title = \"Table 3. Descriptive statistics for percent Male by county, 2010 1-year ACS.\"\n",
        "table3 = table3.style.set_caption(table_title).format(varformat).set_properties(**{'text-align': 'right'})\n",
        "table3"
      ],
      "execution_count": 11,
      "outputs": [
        {
          "output_type": "execute_result",
          "data": {
            "text/html": [
              "<style  type=\"text/css\" >\n",
              "#T_cbde3e68_2546_11ec_a768_0242ac1c0002row0_col0,#T_cbde3e68_2546_11ec_a768_0242ac1c0002row0_col1,#T_cbde3e68_2546_11ec_a768_0242ac1c0002row0_col2,#T_cbde3e68_2546_11ec_a768_0242ac1c0002row0_col3,#T_cbde3e68_2546_11ec_a768_0242ac1c0002row0_col4,#T_cbde3e68_2546_11ec_a768_0242ac1c0002row0_col5,#T_cbde3e68_2546_11ec_a768_0242ac1c0002row0_col6,#T_cbde3e68_2546_11ec_a768_0242ac1c0002row0_col7,#T_cbde3e68_2546_11ec_a768_0242ac1c0002row1_col0,#T_cbde3e68_2546_11ec_a768_0242ac1c0002row1_col1,#T_cbde3e68_2546_11ec_a768_0242ac1c0002row1_col2,#T_cbde3e68_2546_11ec_a768_0242ac1c0002row1_col3,#T_cbde3e68_2546_11ec_a768_0242ac1c0002row1_col4,#T_cbde3e68_2546_11ec_a768_0242ac1c0002row1_col5,#T_cbde3e68_2546_11ec_a768_0242ac1c0002row1_col6,#T_cbde3e68_2546_11ec_a768_0242ac1c0002row1_col7,#T_cbde3e68_2546_11ec_a768_0242ac1c0002row2_col0,#T_cbde3e68_2546_11ec_a768_0242ac1c0002row2_col1,#T_cbde3e68_2546_11ec_a768_0242ac1c0002row2_col2,#T_cbde3e68_2546_11ec_a768_0242ac1c0002row2_col3,#T_cbde3e68_2546_11ec_a768_0242ac1c0002row2_col4,#T_cbde3e68_2546_11ec_a768_0242ac1c0002row2_col5,#T_cbde3e68_2546_11ec_a768_0242ac1c0002row2_col6,#T_cbde3e68_2546_11ec_a768_0242ac1c0002row2_col7,#T_cbde3e68_2546_11ec_a768_0242ac1c0002row3_col0,#T_cbde3e68_2546_11ec_a768_0242ac1c0002row3_col1,#T_cbde3e68_2546_11ec_a768_0242ac1c0002row3_col2,#T_cbde3e68_2546_11ec_a768_0242ac1c0002row3_col3,#T_cbde3e68_2546_11ec_a768_0242ac1c0002row3_col4,#T_cbde3e68_2546_11ec_a768_0242ac1c0002row3_col5,#T_cbde3e68_2546_11ec_a768_0242ac1c0002row3_col6,#T_cbde3e68_2546_11ec_a768_0242ac1c0002row3_col7,#T_cbde3e68_2546_11ec_a768_0242ac1c0002row4_col0,#T_cbde3e68_2546_11ec_a768_0242ac1c0002row4_col1,#T_cbde3e68_2546_11ec_a768_0242ac1c0002row4_col2,#T_cbde3e68_2546_11ec_a768_0242ac1c0002row4_col3,#T_cbde3e68_2546_11ec_a768_0242ac1c0002row4_col4,#T_cbde3e68_2546_11ec_a768_0242ac1c0002row4_col5,#T_cbde3e68_2546_11ec_a768_0242ac1c0002row4_col6,#T_cbde3e68_2546_11ec_a768_0242ac1c0002row4_col7,#T_cbde3e68_2546_11ec_a768_0242ac1c0002row5_col0,#T_cbde3e68_2546_11ec_a768_0242ac1c0002row5_col1,#T_cbde3e68_2546_11ec_a768_0242ac1c0002row5_col2,#T_cbde3e68_2546_11ec_a768_0242ac1c0002row5_col3,#T_cbde3e68_2546_11ec_a768_0242ac1c0002row5_col4,#T_cbde3e68_2546_11ec_a768_0242ac1c0002row5_col5,#T_cbde3e68_2546_11ec_a768_0242ac1c0002row5_col6,#T_cbde3e68_2546_11ec_a768_0242ac1c0002row5_col7{\n",
              "            text-align:  right;\n",
              "        }</style><table id=\"T_cbde3e68_2546_11ec_a768_0242ac1c0002\" ><caption>Table 3. Descriptive statistics for percent Male by county, 2010 1-year ACS.</caption><thead>    <tr>        <th class=\"blank level0\" ></th>        <th class=\"col_heading level0 col0\" >count</th>        <th class=\"col_heading level0 col1\" >mean</th>        <th class=\"col_heading level0 col2\" >std</th>        <th class=\"col_heading level0 col3\" >min</th>        <th class=\"col_heading level0 col4\" >25%</th>        <th class=\"col_heading level0 col5\" >50%</th>        <th class=\"col_heading level0 col6\" >75%</th>        <th class=\"col_heading level0 col7\" >max</th>    </tr></thead><tbody>\n",
              "                <tr>\n",
              "                        <th id=\"T_cbde3e68_2546_11ec_a768_0242ac1c0002level0_row0\" class=\"row_heading level0 row0\" >DP05_0001E</th>\n",
              "                        <td id=\"T_cbde3e68_2546_11ec_a768_0242ac1c0002row0_col0\" class=\"data row0 col0\" >818</td>\n",
              "                        <td id=\"T_cbde3e68_2546_11ec_a768_0242ac1c0002row0_col1\" class=\"data row0 col1\" >318,861</td>\n",
              "                        <td id=\"T_cbde3e68_2546_11ec_a768_0242ac1c0002row0_col2\" class=\"data row0 col2\" >558,543</td>\n",
              "                        <td id=\"T_cbde3e68_2546_11ec_a768_0242ac1c0002row0_col3\" class=\"data row0 col3\" >62,971</td>\n",
              "                        <td id=\"T_cbde3e68_2546_11ec_a768_0242ac1c0002row0_col4\" class=\"data row0 col4\" >95,588</td>\n",
              "                        <td id=\"T_cbde3e68_2546_11ec_a768_0242ac1c0002row0_col5\" class=\"data row0 col5\" >154,018</td>\n",
              "                        <td id=\"T_cbde3e68_2546_11ec_a768_0242ac1c0002row0_col6\" class=\"data row0 col6\" >314,120</td>\n",
              "                        <td id=\"T_cbde3e68_2546_11ec_a768_0242ac1c0002row0_col7\" class=\"data row0 col7\" >9,830,420</td>\n",
              "            </tr>\n",
              "            <tr>\n",
              "                        <th id=\"T_cbde3e68_2546_11ec_a768_0242ac1c0002level0_row1\" class=\"row_heading level0 row1\" >DP05_0001M</th>\n",
              "                        <td id=\"T_cbde3e68_2546_11ec_a768_0242ac1c0002row1_col0\" class=\"data row1 col0\" >5</td>\n",
              "                        <td id=\"T_cbde3e68_2546_11ec_a768_0242ac1c0002row1_col1\" class=\"data row1 col1\" >1,682</td>\n",
              "                        <td id=\"T_cbde3e68_2546_11ec_a768_0242ac1c0002row1_col2\" class=\"data row1 col2\" >953</td>\n",
              "                        <td id=\"T_cbde3e68_2546_11ec_a768_0242ac1c0002row1_col3\" class=\"data row1 col3\" >45</td>\n",
              "                        <td id=\"T_cbde3e68_2546_11ec_a768_0242ac1c0002row1_col4\" class=\"data row1 col4\" >1,712</td>\n",
              "                        <td id=\"T_cbde3e68_2546_11ec_a768_0242ac1c0002row1_col5\" class=\"data row1 col5\" >1,966</td>\n",
              "                        <td id=\"T_cbde3e68_2546_11ec_a768_0242ac1c0002row1_col6\" class=\"data row1 col6\" >2,332</td>\n",
              "                        <td id=\"T_cbde3e68_2546_11ec_a768_0242ac1c0002row1_col7\" class=\"data row1 col7\" >2,353</td>\n",
              "            </tr>\n",
              "            <tr>\n",
              "                        <th id=\"T_cbde3e68_2546_11ec_a768_0242ac1c0002level0_row2\" class=\"row_heading level0 row2\" >DP05_0002E</th>\n",
              "                        <td id=\"T_cbde3e68_2546_11ec_a768_0242ac1c0002row2_col0\" class=\"data row2 col0\" >818</td>\n",
              "                        <td id=\"T_cbde3e68_2546_11ec_a768_0242ac1c0002row2_col1\" class=\"data row2 col1\" >156,228</td>\n",
              "                        <td id=\"T_cbde3e68_2546_11ec_a768_0242ac1c0002row2_col2\" class=\"data row2 col2\" >274,174</td>\n",
              "                        <td id=\"T_cbde3e68_2546_11ec_a768_0242ac1c0002row2_col3\" class=\"data row2 col3\" >31,329</td>\n",
              "                        <td id=\"T_cbde3e68_2546_11ec_a768_0242ac1c0002row2_col4\" class=\"data row2 col4\" >46,472</td>\n",
              "                        <td id=\"T_cbde3e68_2546_11ec_a768_0242ac1c0002row2_col5\" class=\"data row2 col5\" >76,015</td>\n",
              "                        <td id=\"T_cbde3e68_2546_11ec_a768_0242ac1c0002row2_col6\" class=\"data row2 col6\" >154,579</td>\n",
              "                        <td id=\"T_cbde3e68_2546_11ec_a768_0242ac1c0002row2_col7\" class=\"data row2 col7\" >4,846,952</td>\n",
              "            </tr>\n",
              "            <tr>\n",
              "                        <th id=\"T_cbde3e68_2546_11ec_a768_0242ac1c0002level0_row3\" class=\"row_heading level0 row3\" >DP05_0002M</th>\n",
              "                        <td id=\"T_cbde3e68_2546_11ec_a768_0242ac1c0002row3_col0\" class=\"data row3 col0\" >807</td>\n",
              "                        <td id=\"T_cbde3e68_2546_11ec_a768_0242ac1c0002row3_col1\" class=\"data row3 col1\" >693</td>\n",
              "                        <td id=\"T_cbde3e68_2546_11ec_a768_0242ac1c0002row3_col2\" class=\"data row3 col2\" >269</td>\n",
              "                        <td id=\"T_cbde3e68_2546_11ec_a768_0242ac1c0002row3_col3\" class=\"data row3 col3\" >129</td>\n",
              "                        <td id=\"T_cbde3e68_2546_11ec_a768_0242ac1c0002row3_col4\" class=\"data row3 col4\" >529</td>\n",
              "                        <td id=\"T_cbde3e68_2546_11ec_a768_0242ac1c0002row3_col5\" class=\"data row3 col5\" >662</td>\n",
              "                        <td id=\"T_cbde3e68_2546_11ec_a768_0242ac1c0002row3_col6\" class=\"data row3 col6\" >820</td>\n",
              "                        <td id=\"T_cbde3e68_2546_11ec_a768_0242ac1c0002row3_col7\" class=\"data row3 col7\" >3,410</td>\n",
              "            </tr>\n",
              "            <tr>\n",
              "                        <th id=\"T_cbde3e68_2546_11ec_a768_0242ac1c0002level0_row4\" class=\"row_heading level0 row4\" >DP05_0002PE</th>\n",
              "                        <td id=\"T_cbde3e68_2546_11ec_a768_0242ac1c0002row4_col0\" class=\"data row4 col0\" >818</td>\n",
              "                        <td id=\"T_cbde3e68_2546_11ec_a768_0242ac1c0002row4_col1\" class=\"data row4 col1\" >49</td>\n",
              "                        <td id=\"T_cbde3e68_2546_11ec_a768_0242ac1c0002row4_col2\" class=\"data row4 col2\" >1</td>\n",
              "                        <td id=\"T_cbde3e68_2546_11ec_a768_0242ac1c0002row4_col3\" class=\"data row4 col3\" >46</td>\n",
              "                        <td id=\"T_cbde3e68_2546_11ec_a768_0242ac1c0002row4_col4\" class=\"data row4 col4\" >48</td>\n",
              "                        <td id=\"T_cbde3e68_2546_11ec_a768_0242ac1c0002row4_col5\" class=\"data row4 col5\" >49</td>\n",
              "                        <td id=\"T_cbde3e68_2546_11ec_a768_0242ac1c0002row4_col6\" class=\"data row4 col6\" >50</td>\n",
              "                        <td id=\"T_cbde3e68_2546_11ec_a768_0242ac1c0002row4_col7\" class=\"data row4 col7\" >60</td>\n",
              "            </tr>\n",
              "            <tr>\n",
              "                        <th id=\"T_cbde3e68_2546_11ec_a768_0242ac1c0002level0_row5\" class=\"row_heading level0 row5\" >DP05_0002PM</th>\n",
              "                        <td id=\"T_cbde3e68_2546_11ec_a768_0242ac1c0002row5_col0\" class=\"data row5 col0\" >807</td>\n",
              "                        <td id=\"T_cbde3e68_2546_11ec_a768_0242ac1c0002row5_col1\" class=\"data row5 col1\" >0</td>\n",
              "                        <td id=\"T_cbde3e68_2546_11ec_a768_0242ac1c0002row5_col2\" class=\"data row5 col2\" >0</td>\n",
              "                        <td id=\"T_cbde3e68_2546_11ec_a768_0242ac1c0002row5_col3\" class=\"data row5 col3\" >0</td>\n",
              "                        <td id=\"T_cbde3e68_2546_11ec_a768_0242ac1c0002row5_col4\" class=\"data row5 col4\" >0</td>\n",
              "                        <td id=\"T_cbde3e68_2546_11ec_a768_0242ac1c0002row5_col5\" class=\"data row5 col5\" >0</td>\n",
              "                        <td id=\"T_cbde3e68_2546_11ec_a768_0242ac1c0002row5_col6\" class=\"data row5 col6\" >1</td>\n",
              "                        <td id=\"T_cbde3e68_2546_11ec_a768_0242ac1c0002row5_col7\" class=\"data row5 col7\" >2</td>\n",
              "            </tr>\n",
              "    </tbody></table>"
            ],
            "text/plain": [
              "<pandas.io.formats.style.Styler at 0x7f0d381b2250>"
            ]
          },
          "metadata": {},
          "execution_count": 11
        }
      ]
    },
    {
      "cell_type": "markdown",
      "metadata": {
        "id": "y8GF2GxKmr58"
      },
      "source": [
        "### 2.3 Clean ACS Sample Size Data"
      ]
    },
    {
      "cell_type": "code",
      "metadata": {
        "id": "ToSmG-IRmq8n",
        "colab": {
          "base_uri": "https://localhost:8080/",
          "height": 95
        },
        "outputId": "2a5c8410-4ed6-4df5-bff9-31d8b0069323"
      },
      "source": [
        "### 2.3 Set the variable type\n",
        "acs10_samplesize_df[\"B00001_001E\"] = acs10_samplesize_df[\"B00001_001E\"].astype(int)\n",
        "\n",
        "table4 = acs10_samplesize_df[['B00001_001E']].describe().T\n",
        "varformat = \"{:,.0f}\" # The variable format adds a comma and rounds up\n",
        "table_title = \"Table 4. Descriptive statistics for sample size by county, 2010 1-year ACS.\"\n",
        "table4 = table4.style.set_caption(table_title).format(varformat).set_properties(**{'text-align': 'right'})\n",
        "table4"
      ],
      "execution_count": 12,
      "outputs": [
        {
          "output_type": "execute_result",
          "data": {
            "text/html": [
              "<style  type=\"text/css\" >\n",
              "#T_cbe97300_2546_11ec_a768_0242ac1c0002row0_col0,#T_cbe97300_2546_11ec_a768_0242ac1c0002row0_col1,#T_cbe97300_2546_11ec_a768_0242ac1c0002row0_col2,#T_cbe97300_2546_11ec_a768_0242ac1c0002row0_col3,#T_cbe97300_2546_11ec_a768_0242ac1c0002row0_col4,#T_cbe97300_2546_11ec_a768_0242ac1c0002row0_col5,#T_cbe97300_2546_11ec_a768_0242ac1c0002row0_col6,#T_cbe97300_2546_11ec_a768_0242ac1c0002row0_col7{\n",
              "            text-align:  right;\n",
              "        }</style><table id=\"T_cbe97300_2546_11ec_a768_0242ac1c0002\" ><caption>Table 4. Descriptive statistics for sample size by county, 2010 1-year ACS.</caption><thead>    <tr>        <th class=\"blank level0\" ></th>        <th class=\"col_heading level0 col0\" >count</th>        <th class=\"col_heading level0 col1\" >mean</th>        <th class=\"col_heading level0 col2\" >std</th>        <th class=\"col_heading level0 col3\" >min</th>        <th class=\"col_heading level0 col4\" >25%</th>        <th class=\"col_heading level0 col5\" >50%</th>        <th class=\"col_heading level0 col6\" >75%</th>        <th class=\"col_heading level0 col7\" >max</th>    </tr></thead><tbody>\n",
              "                <tr>\n",
              "                        <th id=\"T_cbe97300_2546_11ec_a768_0242ac1c0002level0_row0\" class=\"row_heading level0 row0\" >B00001_001E</th>\n",
              "                        <td id=\"T_cbe97300_2546_11ec_a768_0242ac1c0002row0_col0\" class=\"data row0 col0\" >818</td>\n",
              "                        <td id=\"T_cbe97300_2546_11ec_a768_0242ac1c0002row0_col1\" class=\"data row0 col1\" >4,272</td>\n",
              "                        <td id=\"T_cbe97300_2546_11ec_a768_0242ac1c0002row0_col2\" class=\"data row0 col2\" >6,853</td>\n",
              "                        <td id=\"T_cbe97300_2546_11ec_a768_0242ac1c0002row0_col3\" class=\"data row0 col3\" >637</td>\n",
              "                        <td id=\"T_cbe97300_2546_11ec_a768_0242ac1c0002row0_col4\" class=\"data row0 col4\" >1,456</td>\n",
              "                        <td id=\"T_cbe97300_2546_11ec_a768_0242ac1c0002row0_col5\" class=\"data row0 col5\" >2,295</td>\n",
              "                        <td id=\"T_cbe97300_2546_11ec_a768_0242ac1c0002row0_col6\" class=\"data row0 col6\" >4,329</td>\n",
              "                        <td id=\"T_cbe97300_2546_11ec_a768_0242ac1c0002row0_col7\" class=\"data row0 col7\" >123,731</td>\n",
              "            </tr>\n",
              "    </tbody></table>"
            ],
            "text/plain": [
              "<pandas.io.formats.style.Styler at 0x7f0d37530c50>"
            ]
          },
          "metadata": {},
          "execution_count": 12
        }
      ]
    },
    {
      "cell_type": "markdown",
      "metadata": {
        "id": "i1EAKmFmyk5J"
      },
      "source": [
        "## Step 3: Merge Data together\n",
        "Merging data together is a powerful tool in data science workflows. Merge data refers to combining data that represent the same unit of analysis. In this example all three datasets represent counties in the US. Each dataframe has a common variable called GEO_ID which uniquely identifies the counties.\n",
        "\n",
        "Here is a good overview of data merging in python:\n",
        "https://towardsdatascience.com/why-and-how-to-use-merge-with-pandas-in-python-548600f7e738"
      ]
    },
    {
      "cell_type": "markdown",
      "metadata": {
        "id": "vmgLuIi6otsX"
      },
      "source": [
        "### 3.1 - Merge Part 1 - Combine Decennial Census with ACS Data"
      ]
    },
    {
      "cell_type": "code",
      "metadata": {
        "id": "rcg3Wo9to1Sj",
        "colab": {
          "base_uri": "https://localhost:8080/",
          "height": 204
        },
        "outputId": "00a6bd4d-fe5d-4f0b-a16c-1bb403a1cc13"
      },
      "source": [
        "dec10_df.head()"
      ],
      "execution_count": 13,
      "outputs": [
        {
          "output_type": "execute_result",
          "data": {
            "text/html": [
              "<div>\n",
              "<style scoped>\n",
              "    .dataframe tbody tr th:only-of-type {\n",
              "        vertical-align: middle;\n",
              "    }\n",
              "\n",
              "    .dataframe tbody tr th {\n",
              "        vertical-align: top;\n",
              "    }\n",
              "\n",
              "    .dataframe thead th {\n",
              "        text-align: right;\n",
              "    }\n",
              "</style>\n",
              "<table border=\"1\" class=\"dataframe\">\n",
              "  <thead>\n",
              "    <tr style=\"text-align: right;\">\n",
              "      <th></th>\n",
              "      <th>GEO_ID</th>\n",
              "      <th>NAME</th>\n",
              "      <th>P012001</th>\n",
              "      <th>P012002</th>\n",
              "      <th>state</th>\n",
              "      <th>county</th>\n",
              "      <th>Percent Male</th>\n",
              "    </tr>\n",
              "  </thead>\n",
              "  <tbody>\n",
              "    <tr>\n",
              "      <th>0</th>\n",
              "      <td>0500000US05131</td>\n",
              "      <td>Sebastian County, Arkansas</td>\n",
              "      <td>125744</td>\n",
              "      <td>61633</td>\n",
              "      <td>05</td>\n",
              "      <td>131</td>\n",
              "      <td>49.014665</td>\n",
              "    </tr>\n",
              "    <tr>\n",
              "      <th>1</th>\n",
              "      <td>0500000US05133</td>\n",
              "      <td>Sevier County, Arkansas</td>\n",
              "      <td>17058</td>\n",
              "      <td>8464</td>\n",
              "      <td>05</td>\n",
              "      <td>133</td>\n",
              "      <td>49.618947</td>\n",
              "    </tr>\n",
              "    <tr>\n",
              "      <th>2</th>\n",
              "      <td>0500000US05135</td>\n",
              "      <td>Sharp County, Arkansas</td>\n",
              "      <td>17264</td>\n",
              "      <td>8532</td>\n",
              "      <td>05</td>\n",
              "      <td>135</td>\n",
              "      <td>49.420760</td>\n",
              "    </tr>\n",
              "    <tr>\n",
              "      <th>3</th>\n",
              "      <td>0500000US05137</td>\n",
              "      <td>Stone County, Arkansas</td>\n",
              "      <td>12394</td>\n",
              "      <td>6128</td>\n",
              "      <td>05</td>\n",
              "      <td>137</td>\n",
              "      <td>49.443279</td>\n",
              "    </tr>\n",
              "    <tr>\n",
              "      <th>4</th>\n",
              "      <td>0500000US05139</td>\n",
              "      <td>Union County, Arkansas</td>\n",
              "      <td>41639</td>\n",
              "      <td>20259</td>\n",
              "      <td>05</td>\n",
              "      <td>139</td>\n",
              "      <td>48.653906</td>\n",
              "    </tr>\n",
              "  </tbody>\n",
              "</table>\n",
              "</div>"
            ],
            "text/plain": [
              "           GEO_ID                        NAME  ...  county  Percent Male\n",
              "0  0500000US05131  Sebastian County, Arkansas  ...     131     49.014665\n",
              "1  0500000US05133     Sevier County, Arkansas  ...     133     49.618947\n",
              "2  0500000US05135      Sharp County, Arkansas  ...     135     49.420760\n",
              "3  0500000US05137      Stone County, Arkansas  ...     137     49.443279\n",
              "4  0500000US05139      Union County, Arkansas  ...     139     48.653906\n",
              "\n",
              "[5 rows x 7 columns]"
            ]
          },
          "metadata": {},
          "execution_count": 13
        }
      ]
    },
    {
      "cell_type": "code",
      "metadata": {
        "id": "1sTUBFDPo1mu",
        "colab": {
          "base_uri": "https://localhost:8080/",
          "height": 204
        },
        "outputId": "74b01102-cce7-4371-e36e-4771811f2d5a"
      },
      "source": [
        "acs10_df.head()"
      ],
      "execution_count": 14,
      "outputs": [
        {
          "output_type": "execute_result",
          "data": {
            "text/html": [
              "<div>\n",
              "<style scoped>\n",
              "    .dataframe tbody tr th:only-of-type {\n",
              "        vertical-align: middle;\n",
              "    }\n",
              "\n",
              "    .dataframe tbody tr th {\n",
              "        vertical-align: top;\n",
              "    }\n",
              "\n",
              "    .dataframe thead th {\n",
              "        text-align: right;\n",
              "    }\n",
              "</style>\n",
              "<table border=\"1\" class=\"dataframe\">\n",
              "  <thead>\n",
              "    <tr style=\"text-align: right;\">\n",
              "      <th></th>\n",
              "      <th>GEO_ID</th>\n",
              "      <th>NAME</th>\n",
              "      <th>DP05_0001E</th>\n",
              "      <th>DP05_0001M</th>\n",
              "      <th>DP05_0002E</th>\n",
              "      <th>DP05_0002M</th>\n",
              "      <th>DP05_0002PE</th>\n",
              "      <th>DP05_0002PM</th>\n",
              "      <th>state</th>\n",
              "      <th>county</th>\n",
              "    </tr>\n",
              "  </thead>\n",
              "  <tbody>\n",
              "    <tr>\n",
              "      <th>0</th>\n",
              "      <td>0500000US39151</td>\n",
              "      <td>Stark County, Ohio</td>\n",
              "      <td>375321</td>\n",
              "      <td>NaN</td>\n",
              "      <td>182670</td>\n",
              "      <td>807.0</td>\n",
              "      <td>48.7</td>\n",
              "      <td>0.2</td>\n",
              "      <td>39</td>\n",
              "      <td>151</td>\n",
              "    </tr>\n",
              "    <tr>\n",
              "      <th>1</th>\n",
              "      <td>0500000US39153</td>\n",
              "      <td>Summit County, Ohio</td>\n",
              "      <td>541565</td>\n",
              "      <td>NaN</td>\n",
              "      <td>261973</td>\n",
              "      <td>756.0</td>\n",
              "      <td>48.4</td>\n",
              "      <td>0.1</td>\n",
              "      <td>39</td>\n",
              "      <td>153</td>\n",
              "    </tr>\n",
              "    <tr>\n",
              "      <th>2</th>\n",
              "      <td>0500000US39155</td>\n",
              "      <td>Trumbull County, Ohio</td>\n",
              "      <td>209936</td>\n",
              "      <td>NaN</td>\n",
              "      <td>101446</td>\n",
              "      <td>584.0</td>\n",
              "      <td>48.3</td>\n",
              "      <td>0.3</td>\n",
              "      <td>39</td>\n",
              "      <td>155</td>\n",
              "    </tr>\n",
              "    <tr>\n",
              "      <th>3</th>\n",
              "      <td>0500000US39157</td>\n",
              "      <td>Tuscarawas County, Ohio</td>\n",
              "      <td>92542</td>\n",
              "      <td>NaN</td>\n",
              "      <td>45263</td>\n",
              "      <td>265.0</td>\n",
              "      <td>48.9</td>\n",
              "      <td>0.3</td>\n",
              "      <td>39</td>\n",
              "      <td>157</td>\n",
              "    </tr>\n",
              "    <tr>\n",
              "      <th>4</th>\n",
              "      <td>0500000US39165</td>\n",
              "      <td>Warren County, Ohio</td>\n",
              "      <td>213192</td>\n",
              "      <td>NaN</td>\n",
              "      <td>107486</td>\n",
              "      <td>692.0</td>\n",
              "      <td>50.4</td>\n",
              "      <td>0.3</td>\n",
              "      <td>39</td>\n",
              "      <td>165</td>\n",
              "    </tr>\n",
              "  </tbody>\n",
              "</table>\n",
              "</div>"
            ],
            "text/plain": [
              "           GEO_ID                     NAME  ...  state  county\n",
              "0  0500000US39151       Stark County, Ohio  ...     39     151\n",
              "1  0500000US39153      Summit County, Ohio  ...     39     153\n",
              "2  0500000US39155    Trumbull County, Ohio  ...     39     155\n",
              "3  0500000US39157  Tuscarawas County, Ohio  ...     39     157\n",
              "4  0500000US39165      Warren County, Ohio  ...     39     165\n",
              "\n",
              "[5 rows x 10 columns]"
            ]
          },
          "metadata": {},
          "execution_count": 14
        }
      ]
    },
    {
      "cell_type": "code",
      "metadata": {
        "id": "-SccRvo6oYw7",
        "colab": {
          "base_uri": "https://localhost:8080/",
          "height": 204
        },
        "outputId": "f764520f-a4fa-4ef6-9869-556dd00d9ce8"
      },
      "source": [
        "merge_pt1_df = pd.merge(left = dec10_df,\n",
        "                    right = acs10_df,\n",
        "                    left_on = 'GEO_ID',\n",
        "                    right_on = 'GEO_ID',\n",
        "                    how = 'outer')\n",
        "merge_pt1_df.head()"
      ],
      "execution_count": 15,
      "outputs": [
        {
          "output_type": "execute_result",
          "data": {
            "text/html": [
              "<div>\n",
              "<style scoped>\n",
              "    .dataframe tbody tr th:only-of-type {\n",
              "        vertical-align: middle;\n",
              "    }\n",
              "\n",
              "    .dataframe tbody tr th {\n",
              "        vertical-align: top;\n",
              "    }\n",
              "\n",
              "    .dataframe thead th {\n",
              "        text-align: right;\n",
              "    }\n",
              "</style>\n",
              "<table border=\"1\" class=\"dataframe\">\n",
              "  <thead>\n",
              "    <tr style=\"text-align: right;\">\n",
              "      <th></th>\n",
              "      <th>GEO_ID</th>\n",
              "      <th>NAME_x</th>\n",
              "      <th>P012001</th>\n",
              "      <th>P012002</th>\n",
              "      <th>state_x</th>\n",
              "      <th>county_x</th>\n",
              "      <th>Percent Male</th>\n",
              "      <th>NAME_y</th>\n",
              "      <th>DP05_0001E</th>\n",
              "      <th>DP05_0001M</th>\n",
              "      <th>DP05_0002E</th>\n",
              "      <th>DP05_0002M</th>\n",
              "      <th>DP05_0002PE</th>\n",
              "      <th>DP05_0002PM</th>\n",
              "      <th>state_y</th>\n",
              "      <th>county_y</th>\n",
              "    </tr>\n",
              "  </thead>\n",
              "  <tbody>\n",
              "    <tr>\n",
              "      <th>0</th>\n",
              "      <td>0500000US05131</td>\n",
              "      <td>Sebastian County, Arkansas</td>\n",
              "      <td>125744</td>\n",
              "      <td>61633</td>\n",
              "      <td>05</td>\n",
              "      <td>131</td>\n",
              "      <td>49.014665</td>\n",
              "      <td>Sebastian County, Arkansas</td>\n",
              "      <td>125920.0</td>\n",
              "      <td>NaN</td>\n",
              "      <td>61024.0</td>\n",
              "      <td>840.0</td>\n",
              "      <td>48.5</td>\n",
              "      <td>0.7</td>\n",
              "      <td>05</td>\n",
              "      <td>131</td>\n",
              "    </tr>\n",
              "    <tr>\n",
              "      <th>1</th>\n",
              "      <td>0500000US05133</td>\n",
              "      <td>Sevier County, Arkansas</td>\n",
              "      <td>17058</td>\n",
              "      <td>8464</td>\n",
              "      <td>05</td>\n",
              "      <td>133</td>\n",
              "      <td>49.618947</td>\n",
              "      <td>NaN</td>\n",
              "      <td>NaN</td>\n",
              "      <td>NaN</td>\n",
              "      <td>NaN</td>\n",
              "      <td>NaN</td>\n",
              "      <td>NaN</td>\n",
              "      <td>NaN</td>\n",
              "      <td>NaN</td>\n",
              "      <td>NaN</td>\n",
              "    </tr>\n",
              "    <tr>\n",
              "      <th>2</th>\n",
              "      <td>0500000US05135</td>\n",
              "      <td>Sharp County, Arkansas</td>\n",
              "      <td>17264</td>\n",
              "      <td>8532</td>\n",
              "      <td>05</td>\n",
              "      <td>135</td>\n",
              "      <td>49.420760</td>\n",
              "      <td>NaN</td>\n",
              "      <td>NaN</td>\n",
              "      <td>NaN</td>\n",
              "      <td>NaN</td>\n",
              "      <td>NaN</td>\n",
              "      <td>NaN</td>\n",
              "      <td>NaN</td>\n",
              "      <td>NaN</td>\n",
              "      <td>NaN</td>\n",
              "    </tr>\n",
              "    <tr>\n",
              "      <th>3</th>\n",
              "      <td>0500000US05137</td>\n",
              "      <td>Stone County, Arkansas</td>\n",
              "      <td>12394</td>\n",
              "      <td>6128</td>\n",
              "      <td>05</td>\n",
              "      <td>137</td>\n",
              "      <td>49.443279</td>\n",
              "      <td>NaN</td>\n",
              "      <td>NaN</td>\n",
              "      <td>NaN</td>\n",
              "      <td>NaN</td>\n",
              "      <td>NaN</td>\n",
              "      <td>NaN</td>\n",
              "      <td>NaN</td>\n",
              "      <td>NaN</td>\n",
              "      <td>NaN</td>\n",
              "    </tr>\n",
              "    <tr>\n",
              "      <th>4</th>\n",
              "      <td>0500000US05139</td>\n",
              "      <td>Union County, Arkansas</td>\n",
              "      <td>41639</td>\n",
              "      <td>20259</td>\n",
              "      <td>05</td>\n",
              "      <td>139</td>\n",
              "      <td>48.653906</td>\n",
              "      <td>NaN</td>\n",
              "      <td>NaN</td>\n",
              "      <td>NaN</td>\n",
              "      <td>NaN</td>\n",
              "      <td>NaN</td>\n",
              "      <td>NaN</td>\n",
              "      <td>NaN</td>\n",
              "      <td>NaN</td>\n",
              "      <td>NaN</td>\n",
              "    </tr>\n",
              "  </tbody>\n",
              "</table>\n",
              "</div>"
            ],
            "text/plain": [
              "           GEO_ID                      NAME_x  ...  state_y  county_y\n",
              "0  0500000US05131  Sebastian County, Arkansas  ...       05       131\n",
              "1  0500000US05133     Sevier County, Arkansas  ...      NaN       NaN\n",
              "2  0500000US05135      Sharp County, Arkansas  ...      NaN       NaN\n",
              "3  0500000US05137      Stone County, Arkansas  ...      NaN       NaN\n",
              "4  0500000US05139      Union County, Arkansas  ...      NaN       NaN\n",
              "\n",
              "[5 rows x 16 columns]"
            ]
          },
          "metadata": {},
          "execution_count": 15
        }
      ]
    },
    {
      "cell_type": "markdown",
      "metadata": {
        "id": "u14zJPcRpgzF"
      },
      "source": [
        "### 3.2 - Merge Part 2 - Combine Merge Part 1 with ACS Sample Size Data"
      ]
    },
    {
      "cell_type": "code",
      "metadata": {
        "id": "Di7uwbLcpBZ1",
        "colab": {
          "base_uri": "https://localhost:8080/",
          "height": 204
        },
        "outputId": "f9038194-78bf-4d74-c060-a342ebbfd455"
      },
      "source": [
        "acs10_samplesize_df.head()"
      ],
      "execution_count": 16,
      "outputs": [
        {
          "output_type": "execute_result",
          "data": {
            "text/html": [
              "<div>\n",
              "<style scoped>\n",
              "    .dataframe tbody tr th:only-of-type {\n",
              "        vertical-align: middle;\n",
              "    }\n",
              "\n",
              "    .dataframe tbody tr th {\n",
              "        vertical-align: top;\n",
              "    }\n",
              "\n",
              "    .dataframe thead th {\n",
              "        text-align: right;\n",
              "    }\n",
              "</style>\n",
              "<table border=\"1\" class=\"dataframe\">\n",
              "  <thead>\n",
              "    <tr style=\"text-align: right;\">\n",
              "      <th></th>\n",
              "      <th>GEO_ID</th>\n",
              "      <th>NAME</th>\n",
              "      <th>B00001_001E</th>\n",
              "      <th>state</th>\n",
              "      <th>county</th>\n",
              "    </tr>\n",
              "  </thead>\n",
              "  <tbody>\n",
              "    <tr>\n",
              "      <th>0</th>\n",
              "      <td>0500000US39109</td>\n",
              "      <td>Miami County, Ohio</td>\n",
              "      <td>1789</td>\n",
              "      <td>39</td>\n",
              "      <td>109</td>\n",
              "    </tr>\n",
              "    <tr>\n",
              "      <th>1</th>\n",
              "      <td>0500000US39113</td>\n",
              "      <td>Montgomery County, Ohio</td>\n",
              "      <td>7457</td>\n",
              "      <td>39</td>\n",
              "      <td>113</td>\n",
              "    </tr>\n",
              "    <tr>\n",
              "      <th>2</th>\n",
              "      <td>0500000US39119</td>\n",
              "      <td>Muskingum County, Ohio</td>\n",
              "      <td>1524</td>\n",
              "      <td>39</td>\n",
              "      <td>119</td>\n",
              "    </tr>\n",
              "    <tr>\n",
              "      <th>3</th>\n",
              "      <td>0500000US39133</td>\n",
              "      <td>Portage County, Ohio</td>\n",
              "      <td>2400</td>\n",
              "      <td>39</td>\n",
              "      <td>133</td>\n",
              "    </tr>\n",
              "    <tr>\n",
              "      <th>4</th>\n",
              "      <td>0500000US39139</td>\n",
              "      <td>Richland County, Ohio</td>\n",
              "      <td>1896</td>\n",
              "      <td>39</td>\n",
              "      <td>139</td>\n",
              "    </tr>\n",
              "  </tbody>\n",
              "</table>\n",
              "</div>"
            ],
            "text/plain": [
              "           GEO_ID                     NAME  B00001_001E state county\n",
              "0  0500000US39109       Miami County, Ohio         1789    39    109\n",
              "1  0500000US39113  Montgomery County, Ohio         7457    39    113\n",
              "2  0500000US39119   Muskingum County, Ohio         1524    39    119\n",
              "3  0500000US39133     Portage County, Ohio         2400    39    133\n",
              "4  0500000US39139    Richland County, Ohio         1896    39    139"
            ]
          },
          "metadata": {},
          "execution_count": 16
        }
      ]
    },
    {
      "cell_type": "code",
      "metadata": {
        "id": "jaIZ9mm_pF6_",
        "colab": {
          "base_uri": "https://localhost:8080/",
          "height": 204
        },
        "outputId": "8a61563e-6db9-4f8d-f7ae-321424b2e9d1"
      },
      "source": [
        "merge_pt2_df = pd.merge(left = merge_pt1_df,\n",
        "                    right = acs10_samplesize_df,\n",
        "                    left_on = 'GEO_ID',\n",
        "                    right_on = 'GEO_ID',\n",
        "                    how = 'outer')\n",
        "merge_pt2_df.head()"
      ],
      "execution_count": 17,
      "outputs": [
        {
          "output_type": "execute_result",
          "data": {
            "text/html": [
              "<div>\n",
              "<style scoped>\n",
              "    .dataframe tbody tr th:only-of-type {\n",
              "        vertical-align: middle;\n",
              "    }\n",
              "\n",
              "    .dataframe tbody tr th {\n",
              "        vertical-align: top;\n",
              "    }\n",
              "\n",
              "    .dataframe thead th {\n",
              "        text-align: right;\n",
              "    }\n",
              "</style>\n",
              "<table border=\"1\" class=\"dataframe\">\n",
              "  <thead>\n",
              "    <tr style=\"text-align: right;\">\n",
              "      <th></th>\n",
              "      <th>GEO_ID</th>\n",
              "      <th>NAME_x</th>\n",
              "      <th>P012001</th>\n",
              "      <th>P012002</th>\n",
              "      <th>state_x</th>\n",
              "      <th>county_x</th>\n",
              "      <th>Percent Male</th>\n",
              "      <th>NAME_y</th>\n",
              "      <th>DP05_0001E</th>\n",
              "      <th>DP05_0001M</th>\n",
              "      <th>DP05_0002E</th>\n",
              "      <th>DP05_0002M</th>\n",
              "      <th>DP05_0002PE</th>\n",
              "      <th>DP05_0002PM</th>\n",
              "      <th>state_y</th>\n",
              "      <th>county_y</th>\n",
              "      <th>NAME</th>\n",
              "      <th>B00001_001E</th>\n",
              "      <th>state</th>\n",
              "      <th>county</th>\n",
              "    </tr>\n",
              "  </thead>\n",
              "  <tbody>\n",
              "    <tr>\n",
              "      <th>0</th>\n",
              "      <td>0500000US05131</td>\n",
              "      <td>Sebastian County, Arkansas</td>\n",
              "      <td>125744</td>\n",
              "      <td>61633</td>\n",
              "      <td>05</td>\n",
              "      <td>131</td>\n",
              "      <td>49.014665</td>\n",
              "      <td>Sebastian County, Arkansas</td>\n",
              "      <td>125920.0</td>\n",
              "      <td>NaN</td>\n",
              "      <td>61024.0</td>\n",
              "      <td>840.0</td>\n",
              "      <td>48.5</td>\n",
              "      <td>0.7</td>\n",
              "      <td>05</td>\n",
              "      <td>131</td>\n",
              "      <td>Sebastian County, Arkansas</td>\n",
              "      <td>1518.0</td>\n",
              "      <td>05</td>\n",
              "      <td>131</td>\n",
              "    </tr>\n",
              "    <tr>\n",
              "      <th>1</th>\n",
              "      <td>0500000US05133</td>\n",
              "      <td>Sevier County, Arkansas</td>\n",
              "      <td>17058</td>\n",
              "      <td>8464</td>\n",
              "      <td>05</td>\n",
              "      <td>133</td>\n",
              "      <td>49.618947</td>\n",
              "      <td>NaN</td>\n",
              "      <td>NaN</td>\n",
              "      <td>NaN</td>\n",
              "      <td>NaN</td>\n",
              "      <td>NaN</td>\n",
              "      <td>NaN</td>\n",
              "      <td>NaN</td>\n",
              "      <td>NaN</td>\n",
              "      <td>NaN</td>\n",
              "      <td>NaN</td>\n",
              "      <td>NaN</td>\n",
              "      <td>NaN</td>\n",
              "      <td>NaN</td>\n",
              "    </tr>\n",
              "    <tr>\n",
              "      <th>2</th>\n",
              "      <td>0500000US05135</td>\n",
              "      <td>Sharp County, Arkansas</td>\n",
              "      <td>17264</td>\n",
              "      <td>8532</td>\n",
              "      <td>05</td>\n",
              "      <td>135</td>\n",
              "      <td>49.420760</td>\n",
              "      <td>NaN</td>\n",
              "      <td>NaN</td>\n",
              "      <td>NaN</td>\n",
              "      <td>NaN</td>\n",
              "      <td>NaN</td>\n",
              "      <td>NaN</td>\n",
              "      <td>NaN</td>\n",
              "      <td>NaN</td>\n",
              "      <td>NaN</td>\n",
              "      <td>NaN</td>\n",
              "      <td>NaN</td>\n",
              "      <td>NaN</td>\n",
              "      <td>NaN</td>\n",
              "    </tr>\n",
              "    <tr>\n",
              "      <th>3</th>\n",
              "      <td>0500000US05137</td>\n",
              "      <td>Stone County, Arkansas</td>\n",
              "      <td>12394</td>\n",
              "      <td>6128</td>\n",
              "      <td>05</td>\n",
              "      <td>137</td>\n",
              "      <td>49.443279</td>\n",
              "      <td>NaN</td>\n",
              "      <td>NaN</td>\n",
              "      <td>NaN</td>\n",
              "      <td>NaN</td>\n",
              "      <td>NaN</td>\n",
              "      <td>NaN</td>\n",
              "      <td>NaN</td>\n",
              "      <td>NaN</td>\n",
              "      <td>NaN</td>\n",
              "      <td>NaN</td>\n",
              "      <td>NaN</td>\n",
              "      <td>NaN</td>\n",
              "      <td>NaN</td>\n",
              "    </tr>\n",
              "    <tr>\n",
              "      <th>4</th>\n",
              "      <td>0500000US05139</td>\n",
              "      <td>Union County, Arkansas</td>\n",
              "      <td>41639</td>\n",
              "      <td>20259</td>\n",
              "      <td>05</td>\n",
              "      <td>139</td>\n",
              "      <td>48.653906</td>\n",
              "      <td>NaN</td>\n",
              "      <td>NaN</td>\n",
              "      <td>NaN</td>\n",
              "      <td>NaN</td>\n",
              "      <td>NaN</td>\n",
              "      <td>NaN</td>\n",
              "      <td>NaN</td>\n",
              "      <td>NaN</td>\n",
              "      <td>NaN</td>\n",
              "      <td>NaN</td>\n",
              "      <td>NaN</td>\n",
              "      <td>NaN</td>\n",
              "      <td>NaN</td>\n",
              "    </tr>\n",
              "  </tbody>\n",
              "</table>\n",
              "</div>"
            ],
            "text/plain": [
              "           GEO_ID                      NAME_x  ...  state  county\n",
              "0  0500000US05131  Sebastian County, Arkansas  ...     05     131\n",
              "1  0500000US05133     Sevier County, Arkansas  ...    NaN     NaN\n",
              "2  0500000US05135      Sharp County, Arkansas  ...    NaN     NaN\n",
              "3  0500000US05137      Stone County, Arkansas  ...    NaN     NaN\n",
              "4  0500000US05139      Union County, Arkansas  ...    NaN     NaN\n",
              "\n",
              "[5 rows x 20 columns]"
            ]
          },
          "metadata": {},
          "execution_count": 17
        }
      ]
    },
    {
      "cell_type": "markdown",
      "metadata": {
        "id": "3q0qFN6opdyS"
      },
      "source": [
        "### 3.3 Clean Up Merge File\n",
        "Notice that the merge file has several columns (variables) that have repeated information. All three datafiles had a column called `name`. The name column is a good way to see that the merge has worked correctly. In this step we will also rename the columns."
      ]
    },
    {
      "cell_type": "code",
      "metadata": {
        "id": "-grIzjgEqOUG",
        "colab": {
          "base_uri": "https://localhost:8080/",
          "height": 111
        },
        "outputId": "973bf15d-c2c6-47ad-e11b-e9adcd509010"
      },
      "source": [
        "# Check that the names match\n",
        "merge_pt2_df.loc[(merge_pt2_df['NAME_x']==merge_pt2_df['NAME_y']),'Name Matches pt 1'] = 1\n",
        "merge_pt2_df.loc[(merge_pt2_df['NAME_x']==merge_pt2_df['NAME']),'Name Matches pt 2'] = 1\n",
        "merge_pt2_df[['Name Matches pt 1','Name Matches pt 2']].describe().T"
      ],
      "execution_count": 18,
      "outputs": [
        {
          "output_type": "execute_result",
          "data": {
            "text/html": [
              "<div>\n",
              "<style scoped>\n",
              "    .dataframe tbody tr th:only-of-type {\n",
              "        vertical-align: middle;\n",
              "    }\n",
              "\n",
              "    .dataframe tbody tr th {\n",
              "        vertical-align: top;\n",
              "    }\n",
              "\n",
              "    .dataframe thead th {\n",
              "        text-align: right;\n",
              "    }\n",
              "</style>\n",
              "<table border=\"1\" class=\"dataframe\">\n",
              "  <thead>\n",
              "    <tr style=\"text-align: right;\">\n",
              "      <th></th>\n",
              "      <th>count</th>\n",
              "      <th>mean</th>\n",
              "      <th>std</th>\n",
              "      <th>min</th>\n",
              "      <th>25%</th>\n",
              "      <th>50%</th>\n",
              "      <th>75%</th>\n",
              "      <th>max</th>\n",
              "    </tr>\n",
              "  </thead>\n",
              "  <tbody>\n",
              "    <tr>\n",
              "      <th>Name Matches pt 1</th>\n",
              "      <td>817.0</td>\n",
              "      <td>1.0</td>\n",
              "      <td>0.0</td>\n",
              "      <td>1.0</td>\n",
              "      <td>1.0</td>\n",
              "      <td>1.0</td>\n",
              "      <td>1.0</td>\n",
              "      <td>1.0</td>\n",
              "    </tr>\n",
              "    <tr>\n",
              "      <th>Name Matches pt 2</th>\n",
              "      <td>817.0</td>\n",
              "      <td>1.0</td>\n",
              "      <td>0.0</td>\n",
              "      <td>1.0</td>\n",
              "      <td>1.0</td>\n",
              "      <td>1.0</td>\n",
              "      <td>1.0</td>\n",
              "      <td>1.0</td>\n",
              "    </tr>\n",
              "  </tbody>\n",
              "</table>\n",
              "</div>"
            ],
            "text/plain": [
              "                   count  mean  std  min  25%  50%  75%  max\n",
              "Name Matches pt 1  817.0   1.0  0.0  1.0  1.0  1.0  1.0  1.0\n",
              "Name Matches pt 2  817.0   1.0  0.0  1.0  1.0  1.0  1.0  1.0"
            ]
          },
          "metadata": {},
          "execution_count": 18
        }
      ]
    },
    {
      "cell_type": "code",
      "metadata": {
        "id": "d70ZdT9gq8mw",
        "colab": {
          "base_uri": "https://localhost:8080/",
          "height": 204
        },
        "outputId": "6cf34ef4-3874-4c1d-b542-a2702304ad67"
      },
      "source": [
        "## The name columns match - we can drop the repeated columns\n",
        "merge_pt2_df = merge_pt2_df.drop(['NAME_y','NAME','Name Matches pt 1','Name Matches pt 2'], axis = 1)\n",
        "merge_pt2_df.head()"
      ],
      "execution_count": 19,
      "outputs": [
        {
          "output_type": "execute_result",
          "data": {
            "text/html": [
              "<div>\n",
              "<style scoped>\n",
              "    .dataframe tbody tr th:only-of-type {\n",
              "        vertical-align: middle;\n",
              "    }\n",
              "\n",
              "    .dataframe tbody tr th {\n",
              "        vertical-align: top;\n",
              "    }\n",
              "\n",
              "    .dataframe thead th {\n",
              "        text-align: right;\n",
              "    }\n",
              "</style>\n",
              "<table border=\"1\" class=\"dataframe\">\n",
              "  <thead>\n",
              "    <tr style=\"text-align: right;\">\n",
              "      <th></th>\n",
              "      <th>GEO_ID</th>\n",
              "      <th>NAME_x</th>\n",
              "      <th>P012001</th>\n",
              "      <th>P012002</th>\n",
              "      <th>state_x</th>\n",
              "      <th>county_x</th>\n",
              "      <th>Percent Male</th>\n",
              "      <th>DP05_0001E</th>\n",
              "      <th>DP05_0001M</th>\n",
              "      <th>DP05_0002E</th>\n",
              "      <th>DP05_0002M</th>\n",
              "      <th>DP05_0002PE</th>\n",
              "      <th>DP05_0002PM</th>\n",
              "      <th>state_y</th>\n",
              "      <th>county_y</th>\n",
              "      <th>B00001_001E</th>\n",
              "      <th>state</th>\n",
              "      <th>county</th>\n",
              "    </tr>\n",
              "  </thead>\n",
              "  <tbody>\n",
              "    <tr>\n",
              "      <th>0</th>\n",
              "      <td>0500000US05131</td>\n",
              "      <td>Sebastian County, Arkansas</td>\n",
              "      <td>125744</td>\n",
              "      <td>61633</td>\n",
              "      <td>05</td>\n",
              "      <td>131</td>\n",
              "      <td>49.014665</td>\n",
              "      <td>125920.0</td>\n",
              "      <td>NaN</td>\n",
              "      <td>61024.0</td>\n",
              "      <td>840.0</td>\n",
              "      <td>48.5</td>\n",
              "      <td>0.7</td>\n",
              "      <td>05</td>\n",
              "      <td>131</td>\n",
              "      <td>1518.0</td>\n",
              "      <td>05</td>\n",
              "      <td>131</td>\n",
              "    </tr>\n",
              "    <tr>\n",
              "      <th>1</th>\n",
              "      <td>0500000US05133</td>\n",
              "      <td>Sevier County, Arkansas</td>\n",
              "      <td>17058</td>\n",
              "      <td>8464</td>\n",
              "      <td>05</td>\n",
              "      <td>133</td>\n",
              "      <td>49.618947</td>\n",
              "      <td>NaN</td>\n",
              "      <td>NaN</td>\n",
              "      <td>NaN</td>\n",
              "      <td>NaN</td>\n",
              "      <td>NaN</td>\n",
              "      <td>NaN</td>\n",
              "      <td>NaN</td>\n",
              "      <td>NaN</td>\n",
              "      <td>NaN</td>\n",
              "      <td>NaN</td>\n",
              "      <td>NaN</td>\n",
              "    </tr>\n",
              "    <tr>\n",
              "      <th>2</th>\n",
              "      <td>0500000US05135</td>\n",
              "      <td>Sharp County, Arkansas</td>\n",
              "      <td>17264</td>\n",
              "      <td>8532</td>\n",
              "      <td>05</td>\n",
              "      <td>135</td>\n",
              "      <td>49.420760</td>\n",
              "      <td>NaN</td>\n",
              "      <td>NaN</td>\n",
              "      <td>NaN</td>\n",
              "      <td>NaN</td>\n",
              "      <td>NaN</td>\n",
              "      <td>NaN</td>\n",
              "      <td>NaN</td>\n",
              "      <td>NaN</td>\n",
              "      <td>NaN</td>\n",
              "      <td>NaN</td>\n",
              "      <td>NaN</td>\n",
              "    </tr>\n",
              "    <tr>\n",
              "      <th>3</th>\n",
              "      <td>0500000US05137</td>\n",
              "      <td>Stone County, Arkansas</td>\n",
              "      <td>12394</td>\n",
              "      <td>6128</td>\n",
              "      <td>05</td>\n",
              "      <td>137</td>\n",
              "      <td>49.443279</td>\n",
              "      <td>NaN</td>\n",
              "      <td>NaN</td>\n",
              "      <td>NaN</td>\n",
              "      <td>NaN</td>\n",
              "      <td>NaN</td>\n",
              "      <td>NaN</td>\n",
              "      <td>NaN</td>\n",
              "      <td>NaN</td>\n",
              "      <td>NaN</td>\n",
              "      <td>NaN</td>\n",
              "      <td>NaN</td>\n",
              "    </tr>\n",
              "    <tr>\n",
              "      <th>4</th>\n",
              "      <td>0500000US05139</td>\n",
              "      <td>Union County, Arkansas</td>\n",
              "      <td>41639</td>\n",
              "      <td>20259</td>\n",
              "      <td>05</td>\n",
              "      <td>139</td>\n",
              "      <td>48.653906</td>\n",
              "      <td>NaN</td>\n",
              "      <td>NaN</td>\n",
              "      <td>NaN</td>\n",
              "      <td>NaN</td>\n",
              "      <td>NaN</td>\n",
              "      <td>NaN</td>\n",
              "      <td>NaN</td>\n",
              "      <td>NaN</td>\n",
              "      <td>NaN</td>\n",
              "      <td>NaN</td>\n",
              "      <td>NaN</td>\n",
              "    </tr>\n",
              "  </tbody>\n",
              "</table>\n",
              "</div>"
            ],
            "text/plain": [
              "           GEO_ID                      NAME_x  ...  state  county\n",
              "0  0500000US05131  Sebastian County, Arkansas  ...     05     131\n",
              "1  0500000US05133     Sevier County, Arkansas  ...    NaN     NaN\n",
              "2  0500000US05135      Sharp County, Arkansas  ...    NaN     NaN\n",
              "3  0500000US05137      Stone County, Arkansas  ...    NaN     NaN\n",
              "4  0500000US05139      Union County, Arkansas  ...    NaN     NaN\n",
              "\n",
              "[5 rows x 18 columns]"
            ]
          },
          "metadata": {},
          "execution_count": 19
        }
      ]
    },
    {
      "cell_type": "code",
      "metadata": {
        "id": "UtkICtZfrmLJ",
        "colab": {
          "base_uri": "https://localhost:8080/",
          "height": 204
        },
        "outputId": "e2b2ffa5-1c98-46fe-bdc0-eede70e57743"
      },
      "source": [
        "## The state and county columns also match - we can drop the repeated columns\n",
        "merge_pt2_df = merge_pt2_df.drop(['state_y','county_y','state','county'], axis = 1)\n",
        "merge_pt2_df.head()"
      ],
      "execution_count": 20,
      "outputs": [
        {
          "output_type": "execute_result",
          "data": {
            "text/html": [
              "<div>\n",
              "<style scoped>\n",
              "    .dataframe tbody tr th:only-of-type {\n",
              "        vertical-align: middle;\n",
              "    }\n",
              "\n",
              "    .dataframe tbody tr th {\n",
              "        vertical-align: top;\n",
              "    }\n",
              "\n",
              "    .dataframe thead th {\n",
              "        text-align: right;\n",
              "    }\n",
              "</style>\n",
              "<table border=\"1\" class=\"dataframe\">\n",
              "  <thead>\n",
              "    <tr style=\"text-align: right;\">\n",
              "      <th></th>\n",
              "      <th>GEO_ID</th>\n",
              "      <th>NAME_x</th>\n",
              "      <th>P012001</th>\n",
              "      <th>P012002</th>\n",
              "      <th>state_x</th>\n",
              "      <th>county_x</th>\n",
              "      <th>Percent Male</th>\n",
              "      <th>DP05_0001E</th>\n",
              "      <th>DP05_0001M</th>\n",
              "      <th>DP05_0002E</th>\n",
              "      <th>DP05_0002M</th>\n",
              "      <th>DP05_0002PE</th>\n",
              "      <th>DP05_0002PM</th>\n",
              "      <th>B00001_001E</th>\n",
              "    </tr>\n",
              "  </thead>\n",
              "  <tbody>\n",
              "    <tr>\n",
              "      <th>0</th>\n",
              "      <td>0500000US05131</td>\n",
              "      <td>Sebastian County, Arkansas</td>\n",
              "      <td>125744</td>\n",
              "      <td>61633</td>\n",
              "      <td>05</td>\n",
              "      <td>131</td>\n",
              "      <td>49.014665</td>\n",
              "      <td>125920.0</td>\n",
              "      <td>NaN</td>\n",
              "      <td>61024.0</td>\n",
              "      <td>840.0</td>\n",
              "      <td>48.5</td>\n",
              "      <td>0.7</td>\n",
              "      <td>1518.0</td>\n",
              "    </tr>\n",
              "    <tr>\n",
              "      <th>1</th>\n",
              "      <td>0500000US05133</td>\n",
              "      <td>Sevier County, Arkansas</td>\n",
              "      <td>17058</td>\n",
              "      <td>8464</td>\n",
              "      <td>05</td>\n",
              "      <td>133</td>\n",
              "      <td>49.618947</td>\n",
              "      <td>NaN</td>\n",
              "      <td>NaN</td>\n",
              "      <td>NaN</td>\n",
              "      <td>NaN</td>\n",
              "      <td>NaN</td>\n",
              "      <td>NaN</td>\n",
              "      <td>NaN</td>\n",
              "    </tr>\n",
              "    <tr>\n",
              "      <th>2</th>\n",
              "      <td>0500000US05135</td>\n",
              "      <td>Sharp County, Arkansas</td>\n",
              "      <td>17264</td>\n",
              "      <td>8532</td>\n",
              "      <td>05</td>\n",
              "      <td>135</td>\n",
              "      <td>49.420760</td>\n",
              "      <td>NaN</td>\n",
              "      <td>NaN</td>\n",
              "      <td>NaN</td>\n",
              "      <td>NaN</td>\n",
              "      <td>NaN</td>\n",
              "      <td>NaN</td>\n",
              "      <td>NaN</td>\n",
              "    </tr>\n",
              "    <tr>\n",
              "      <th>3</th>\n",
              "      <td>0500000US05137</td>\n",
              "      <td>Stone County, Arkansas</td>\n",
              "      <td>12394</td>\n",
              "      <td>6128</td>\n",
              "      <td>05</td>\n",
              "      <td>137</td>\n",
              "      <td>49.443279</td>\n",
              "      <td>NaN</td>\n",
              "      <td>NaN</td>\n",
              "      <td>NaN</td>\n",
              "      <td>NaN</td>\n",
              "      <td>NaN</td>\n",
              "      <td>NaN</td>\n",
              "      <td>NaN</td>\n",
              "    </tr>\n",
              "    <tr>\n",
              "      <th>4</th>\n",
              "      <td>0500000US05139</td>\n",
              "      <td>Union County, Arkansas</td>\n",
              "      <td>41639</td>\n",
              "      <td>20259</td>\n",
              "      <td>05</td>\n",
              "      <td>139</td>\n",
              "      <td>48.653906</td>\n",
              "      <td>NaN</td>\n",
              "      <td>NaN</td>\n",
              "      <td>NaN</td>\n",
              "      <td>NaN</td>\n",
              "      <td>NaN</td>\n",
              "      <td>NaN</td>\n",
              "      <td>NaN</td>\n",
              "    </tr>\n",
              "  </tbody>\n",
              "</table>\n",
              "</div>"
            ],
            "text/plain": [
              "           GEO_ID                      NAME_x  ...  DP05_0002PM  B00001_001E\n",
              "0  0500000US05131  Sebastian County, Arkansas  ...          0.7       1518.0\n",
              "1  0500000US05133     Sevier County, Arkansas  ...          NaN          NaN\n",
              "2  0500000US05135      Sharp County, Arkansas  ...          NaN          NaN\n",
              "3  0500000US05137      Stone County, Arkansas  ...          NaN          NaN\n",
              "4  0500000US05139      Union County, Arkansas  ...          NaN          NaN\n",
              "\n",
              "[5 rows x 14 columns]"
            ]
          },
          "metadata": {},
          "execution_count": 20
        }
      ]
    },
    {
      "cell_type": "markdown",
      "metadata": {
        "id": "SOHHjefKsNBd"
      },
      "source": [
        "### 3.4 Rename Columns"
      ]
    },
    {
      "cell_type": "code",
      "metadata": {
        "id": "GAKPqxcBsPxt",
        "colab": {
          "base_uri": "https://localhost:8080/",
          "height": 323
        },
        "outputId": "acc9a25d-95bb-4ed7-e530-cefeeb8b0a3e"
      },
      "source": [
        "merge_pt2_df = merge_pt2_df.rename(columns={\"NAME_x\": \"County Name\", \n",
        "                                            \"state_x\": \"State FIPS Code\",\n",
        "                                            \"county_x\": \"County FIPS Code\",\n",
        "                                            \"P012001\": \"Total Population April 1 2010\", \n",
        "                                            \"P012002\": \"Total Male Population April 1 2010\",\n",
        "                                            \"Percent Male\": \"Percent Male April 1 2010\",\n",
        "                                            \"DP05_0001E\": \"Total Population ACS 2010 (estimate)\",\n",
        "                                            \"DP05_0001M\":  \"Total Population ACS 2010 (MOE)\",\n",
        "                                            \"DP05_0002E\": \"Total Male Population ACS 2010 (estimate)\",\n",
        "                                            \"DP05_0002M\":  \"Total Male Population ACS 2010 (MOE)\",\n",
        "                                            \"DP05_0002PE\": \"Percent Male Population ACS 2010 (estimate)\",\n",
        "                                            \"DP05_0002PM\":  \"Percent Male Population ACS 2010 (MOE)\",\n",
        "                                            \"B00001_001E\": \"Sample Size ACS 2010\"\n",
        "                                            })\n",
        "merge_pt2_df.head()"
      ],
      "execution_count": 21,
      "outputs": [
        {
          "output_type": "execute_result",
          "data": {
            "text/html": [
              "<div>\n",
              "<style scoped>\n",
              "    .dataframe tbody tr th:only-of-type {\n",
              "        vertical-align: middle;\n",
              "    }\n",
              "\n",
              "    .dataframe tbody tr th {\n",
              "        vertical-align: top;\n",
              "    }\n",
              "\n",
              "    .dataframe thead th {\n",
              "        text-align: right;\n",
              "    }\n",
              "</style>\n",
              "<table border=\"1\" class=\"dataframe\">\n",
              "  <thead>\n",
              "    <tr style=\"text-align: right;\">\n",
              "      <th></th>\n",
              "      <th>GEO_ID</th>\n",
              "      <th>County Name</th>\n",
              "      <th>Total Population April 1 2010</th>\n",
              "      <th>Total Male Population April 1 2010</th>\n",
              "      <th>State FIPS Code</th>\n",
              "      <th>County FIPS Code</th>\n",
              "      <th>Percent Male April 1 2010</th>\n",
              "      <th>Total Population ACS 2010 (estimate)</th>\n",
              "      <th>Total Population ACS 2010 (MOE)</th>\n",
              "      <th>Total Male Population ACS 2010 (estimate)</th>\n",
              "      <th>Total Male Population ACS 2010 (MOE)</th>\n",
              "      <th>Percent Male Population ACS 2010 (estimate)</th>\n",
              "      <th>Percent Male Population ACS 2010 (MOE)</th>\n",
              "      <th>Sample Size ACS 2010</th>\n",
              "    </tr>\n",
              "  </thead>\n",
              "  <tbody>\n",
              "    <tr>\n",
              "      <th>0</th>\n",
              "      <td>0500000US05131</td>\n",
              "      <td>Sebastian County, Arkansas</td>\n",
              "      <td>125744</td>\n",
              "      <td>61633</td>\n",
              "      <td>05</td>\n",
              "      <td>131</td>\n",
              "      <td>49.014665</td>\n",
              "      <td>125920.0</td>\n",
              "      <td>NaN</td>\n",
              "      <td>61024.0</td>\n",
              "      <td>840.0</td>\n",
              "      <td>48.5</td>\n",
              "      <td>0.7</td>\n",
              "      <td>1518.0</td>\n",
              "    </tr>\n",
              "    <tr>\n",
              "      <th>1</th>\n",
              "      <td>0500000US05133</td>\n",
              "      <td>Sevier County, Arkansas</td>\n",
              "      <td>17058</td>\n",
              "      <td>8464</td>\n",
              "      <td>05</td>\n",
              "      <td>133</td>\n",
              "      <td>49.618947</td>\n",
              "      <td>NaN</td>\n",
              "      <td>NaN</td>\n",
              "      <td>NaN</td>\n",
              "      <td>NaN</td>\n",
              "      <td>NaN</td>\n",
              "      <td>NaN</td>\n",
              "      <td>NaN</td>\n",
              "    </tr>\n",
              "    <tr>\n",
              "      <th>2</th>\n",
              "      <td>0500000US05135</td>\n",
              "      <td>Sharp County, Arkansas</td>\n",
              "      <td>17264</td>\n",
              "      <td>8532</td>\n",
              "      <td>05</td>\n",
              "      <td>135</td>\n",
              "      <td>49.420760</td>\n",
              "      <td>NaN</td>\n",
              "      <td>NaN</td>\n",
              "      <td>NaN</td>\n",
              "      <td>NaN</td>\n",
              "      <td>NaN</td>\n",
              "      <td>NaN</td>\n",
              "      <td>NaN</td>\n",
              "    </tr>\n",
              "    <tr>\n",
              "      <th>3</th>\n",
              "      <td>0500000US05137</td>\n",
              "      <td>Stone County, Arkansas</td>\n",
              "      <td>12394</td>\n",
              "      <td>6128</td>\n",
              "      <td>05</td>\n",
              "      <td>137</td>\n",
              "      <td>49.443279</td>\n",
              "      <td>NaN</td>\n",
              "      <td>NaN</td>\n",
              "      <td>NaN</td>\n",
              "      <td>NaN</td>\n",
              "      <td>NaN</td>\n",
              "      <td>NaN</td>\n",
              "      <td>NaN</td>\n",
              "    </tr>\n",
              "    <tr>\n",
              "      <th>4</th>\n",
              "      <td>0500000US05139</td>\n",
              "      <td>Union County, Arkansas</td>\n",
              "      <td>41639</td>\n",
              "      <td>20259</td>\n",
              "      <td>05</td>\n",
              "      <td>139</td>\n",
              "      <td>48.653906</td>\n",
              "      <td>NaN</td>\n",
              "      <td>NaN</td>\n",
              "      <td>NaN</td>\n",
              "      <td>NaN</td>\n",
              "      <td>NaN</td>\n",
              "      <td>NaN</td>\n",
              "      <td>NaN</td>\n",
              "    </tr>\n",
              "  </tbody>\n",
              "</table>\n",
              "</div>"
            ],
            "text/plain": [
              "           GEO_ID  ... Sample Size ACS 2010\n",
              "0  0500000US05131  ...               1518.0\n",
              "1  0500000US05133  ...                  NaN\n",
              "2  0500000US05135  ...                  NaN\n",
              "3  0500000US05137  ...                  NaN\n",
              "4  0500000US05139  ...                  NaN\n",
              "\n",
              "[5 rows x 14 columns]"
            ]
          },
          "metadata": {},
          "execution_count": 21
        }
      ]
    },
    {
      "cell_type": "markdown",
      "metadata": {
        "id": "pZSllxtht4A5"
      },
      "source": [
        "## Step 4: Explore Data\n",
        "### 4.1 - Why do some counties have ACS data and others do not?"
      ]
    },
    {
      "cell_type": "code",
      "metadata": {
        "colab": {
          "base_uri": "https://localhost:8080/",
          "height": 99
        },
        "id": "_5aB8Y-HuBGT",
        "outputId": "8de188de-d7ca-4d1d-8e7e-909ea26012e6"
      },
      "source": [
        "table5 = merge_pt2_df[['Total Population April 1 2010','Total Population ACS 2010 (estimate)']].loc[(merge_pt2_df['Total Population ACS 2010 (estimate)'].isnull())].describe().T\n",
        "varformat = \"{:,.0f}\" # The variable format adds a comma and rounds up\n",
        "table_title = \"Table 5. Descriptive statistics for total population for counties without ACS data, 2010 Decennial.\"\n",
        "table5 = table5.style.set_caption(table_title).format(varformat).set_properties(**{'text-align': 'right'})\n",
        "table5"
      ],
      "execution_count": 27,
      "outputs": [
        {
          "output_type": "execute_result",
          "data": {
            "text/html": [
              "<style  type=\"text/css\" >\n",
              "#T_b3b03052_2547_11ec_a768_0242ac1c0002row0_col0,#T_b3b03052_2547_11ec_a768_0242ac1c0002row0_col1,#T_b3b03052_2547_11ec_a768_0242ac1c0002row0_col2,#T_b3b03052_2547_11ec_a768_0242ac1c0002row0_col3,#T_b3b03052_2547_11ec_a768_0242ac1c0002row0_col4,#T_b3b03052_2547_11ec_a768_0242ac1c0002row0_col5,#T_b3b03052_2547_11ec_a768_0242ac1c0002row0_col6,#T_b3b03052_2547_11ec_a768_0242ac1c0002row0_col7,#T_b3b03052_2547_11ec_a768_0242ac1c0002row1_col0,#T_b3b03052_2547_11ec_a768_0242ac1c0002row1_col1,#T_b3b03052_2547_11ec_a768_0242ac1c0002row1_col2,#T_b3b03052_2547_11ec_a768_0242ac1c0002row1_col3,#T_b3b03052_2547_11ec_a768_0242ac1c0002row1_col4,#T_b3b03052_2547_11ec_a768_0242ac1c0002row1_col5,#T_b3b03052_2547_11ec_a768_0242ac1c0002row1_col6,#T_b3b03052_2547_11ec_a768_0242ac1c0002row1_col7{\n",
              "            text-align:  right;\n",
              "        }</style><table id=\"T_b3b03052_2547_11ec_a768_0242ac1c0002\" ><caption>Table 5. Descriptive statistics for total population for counties without ACS data, 2010 Decennial.</caption><thead>    <tr>        <th class=\"blank level0\" ></th>        <th class=\"col_heading level0 col0\" >count</th>        <th class=\"col_heading level0 col1\" >mean</th>        <th class=\"col_heading level0 col2\" >std</th>        <th class=\"col_heading level0 col3\" >min</th>        <th class=\"col_heading level0 col4\" >25%</th>        <th class=\"col_heading level0 col5\" >50%</th>        <th class=\"col_heading level0 col6\" >75%</th>        <th class=\"col_heading level0 col7\" >max</th>    </tr></thead><tbody>\n",
              "                <tr>\n",
              "                        <th id=\"T_b3b03052_2547_11ec_a768_0242ac1c0002level0_row0\" class=\"row_heading level0 row0\" >Total Population April 1 2010</th>\n",
              "                        <td id=\"T_b3b03052_2547_11ec_a768_0242ac1c0002row0_col0\" class=\"data row0 col0\" >2,403</td>\n",
              "                        <td id=\"T_b3b03052_2547_11ec_a768_0242ac1c0002row0_col1\" class=\"data row0 col1\" >21,730</td>\n",
              "                        <td id=\"T_b3b03052_2547_11ec_a768_0242ac1c0002row0_col2\" class=\"data row0 col2\" >16,010</td>\n",
              "                        <td id=\"T_b3b03052_2547_11ec_a768_0242ac1c0002row0_col3\" class=\"data row0 col3\" >82</td>\n",
              "                        <td id=\"T_b3b03052_2547_11ec_a768_0242ac1c0002row0_col4\" class=\"data row0 col4\" >8,785</td>\n",
              "                        <td id=\"T_b3b03052_2547_11ec_a768_0242ac1c0002row0_col5\" class=\"data row0 col5\" >17,457</td>\n",
              "                        <td id=\"T_b3b03052_2547_11ec_a768_0242ac1c0002row0_col6\" class=\"data row0 col6\" >32,466</td>\n",
              "                        <td id=\"T_b3b03052_2547_11ec_a768_0242ac1c0002row0_col7\" class=\"data row0 col7\" >64,757</td>\n",
              "            </tr>\n",
              "            <tr>\n",
              "                        <th id=\"T_b3b03052_2547_11ec_a768_0242ac1c0002level0_row1\" class=\"row_heading level0 row1\" >Total Population ACS 2010 (estimate)</th>\n",
              "                        <td id=\"T_b3b03052_2547_11ec_a768_0242ac1c0002row1_col0\" class=\"data row1 col0\" >0</td>\n",
              "                        <td id=\"T_b3b03052_2547_11ec_a768_0242ac1c0002row1_col1\" class=\"data row1 col1\" >nan</td>\n",
              "                        <td id=\"T_b3b03052_2547_11ec_a768_0242ac1c0002row1_col2\" class=\"data row1 col2\" >nan</td>\n",
              "                        <td id=\"T_b3b03052_2547_11ec_a768_0242ac1c0002row1_col3\" class=\"data row1 col3\" >nan</td>\n",
              "                        <td id=\"T_b3b03052_2547_11ec_a768_0242ac1c0002row1_col4\" class=\"data row1 col4\" >nan</td>\n",
              "                        <td id=\"T_b3b03052_2547_11ec_a768_0242ac1c0002row1_col5\" class=\"data row1 col5\" >nan</td>\n",
              "                        <td id=\"T_b3b03052_2547_11ec_a768_0242ac1c0002row1_col6\" class=\"data row1 col6\" >nan</td>\n",
              "                        <td id=\"T_b3b03052_2547_11ec_a768_0242ac1c0002row1_col7\" class=\"data row1 col7\" >nan</td>\n",
              "            </tr>\n",
              "    </tbody></table>"
            ],
            "text/plain": [
              "<pandas.io.formats.style.Styler at 0x7f0d32f67a10>"
            ]
          },
          "metadata": {},
          "execution_count": 27
        }
      ]
    },
    {
      "cell_type": "markdown",
      "metadata": {
        "id": "X3b5HSvOvc35"
      },
      "source": [
        "## 4.2 Compare ACS Estimate with Decennial Census Parameter"
      ]
    },
    {
      "cell_type": "code",
      "metadata": {
        "colab": {
          "base_uri": "https://localhost:8080/",
          "height": 295
        },
        "id": "9wI60n2fwWpP",
        "outputId": "470ec6fa-4b3b-4e14-8f65-2ce327486df5"
      },
      "source": [
        "import matplotlib.pyplot as plt\n",
        "\n",
        "# Scatter Plot\n",
        "plt.scatter(merge_pt2_df[\"Percent Male April 1 2010\"], merge_pt2_df[\"Percent Male Population ACS 2010 (estimate)\"])\n",
        "plt.title('Percent Male - Decennial Census vs ACS in 2010')\n",
        "plt.xlabel(\"Decennial Census\")\n",
        "plt.ylabel('ACS')\n",
        "plt.show()"
      ],
      "execution_count": 29,
      "outputs": [
        {
          "output_type": "display_data",
          "data": {
            "image/png": "[encoded data removed]",
            "text/plain": [
              "<Figure size 432x288 with 1 Axes>"
            ]
          },
          "metadata": {
            "needs_background": "light"
          }
        }
      ]
    },
    {
      "cell_type": "markdown",
      "metadata": {
        "id": "LlaOZ8cOyHpT"
      },
      "source": [
        "### How often was the population parameter inside the estimate confidence interval?"
      ]
    },
    {
      "cell_type": "code",
      "metadata": {
        "colab": {
          "base_uri": "https://localhost:8080/",
          "height": 340
        },
        "id": "Hl-sPvrkyHBp",
        "outputId": "321a3d4e-f4e0-4581-987d-6fd5040c995a"
      },
      "source": [
        "merge_pt2_df.loc[:,'Estimate Lower Bound'] = merge_pt2_df[\"Percent Male Population ACS 2010 (estimate)\"] - merge_pt2_df[\"Percent Male Population ACS 2010 (MOE)\"]\n",
        "merge_pt2_df.loc[:,'Estimate Upper Bound'] = merge_pt2_df[\"Percent Male Population ACS 2010 (estimate)\"] + merge_pt2_df[\"Percent Male Population ACS 2010 (MOE)\"]\n",
        "merge_pt2_df.head()"
      ],
      "execution_count": 37,
      "outputs": [
        {
          "output_type": "execute_result",
          "data": {
            "text/html": [
              "<div>\n",
              "<style scoped>\n",
              "    .dataframe tbody tr th:only-of-type {\n",
              "        vertical-align: middle;\n",
              "    }\n",
              "\n",
              "    .dataframe tbody tr th {\n",
              "        vertical-align: top;\n",
              "    }\n",
              "\n",
              "    .dataframe thead th {\n",
              "        text-align: right;\n",
              "    }\n",
              "</style>\n",
              "<table border=\"1\" class=\"dataframe\">\n",
              "  <thead>\n",
              "    <tr style=\"text-align: right;\">\n",
              "      <th></th>\n",
              "      <th>GEO_ID</th>\n",
              "      <th>County Name</th>\n",
              "      <th>Total Population April 1 2010</th>\n",
              "      <th>Total Male Population April 1 2010</th>\n",
              "      <th>State FIPS Code</th>\n",
              "      <th>County FIPS Code</th>\n",
              "      <th>Percent Male April 1 2010</th>\n",
              "      <th>Total Population ACS 2010 (estimate)</th>\n",
              "      <th>Total Population ACS 2010 (MOE)</th>\n",
              "      <th>Total Male Population ACS 2010 (estimate)</th>\n",
              "      <th>Total Male Population ACS 2010 (MOE)</th>\n",
              "      <th>Percent Male Population ACS 2010 (estimate)</th>\n",
              "      <th>Percent Male Population ACS 2010 (MOE)</th>\n",
              "      <th>Sample Size ACS 2010</th>\n",
              "      <th>Estimate Lower Bound</th>\n",
              "      <th>Estimate Upper Bound</th>\n",
              "    </tr>\n",
              "  </thead>\n",
              "  <tbody>\n",
              "    <tr>\n",
              "      <th>0</th>\n",
              "      <td>0500000US05131</td>\n",
              "      <td>Sebastian County, Arkansas</td>\n",
              "      <td>125744</td>\n",
              "      <td>61633</td>\n",
              "      <td>05</td>\n",
              "      <td>131</td>\n",
              "      <td>49.014665</td>\n",
              "      <td>125920.0</td>\n",
              "      <td>NaN</td>\n",
              "      <td>61024.0</td>\n",
              "      <td>840.0</td>\n",
              "      <td>48.5</td>\n",
              "      <td>0.7</td>\n",
              "      <td>1518.0</td>\n",
              "      <td>47.8</td>\n",
              "      <td>49.2</td>\n",
              "    </tr>\n",
              "    <tr>\n",
              "      <th>1</th>\n",
              "      <td>0500000US05133</td>\n",
              "      <td>Sevier County, Arkansas</td>\n",
              "      <td>17058</td>\n",
              "      <td>8464</td>\n",
              "      <td>05</td>\n",
              "      <td>133</td>\n",
              "      <td>49.618947</td>\n",
              "      <td>NaN</td>\n",
              "      <td>NaN</td>\n",
              "      <td>NaN</td>\n",
              "      <td>NaN</td>\n",
              "      <td>NaN</td>\n",
              "      <td>NaN</td>\n",
              "      <td>NaN</td>\n",
              "      <td>NaN</td>\n",
              "      <td>NaN</td>\n",
              "    </tr>\n",
              "    <tr>\n",
              "      <th>2</th>\n",
              "      <td>0500000US05135</td>\n",
              "      <td>Sharp County, Arkansas</td>\n",
              "      <td>17264</td>\n",
              "      <td>8532</td>\n",
              "      <td>05</td>\n",
              "      <td>135</td>\n",
              "      <td>49.420760</td>\n",
              "      <td>NaN</td>\n",
              "      <td>NaN</td>\n",
              "      <td>NaN</td>\n",
              "      <td>NaN</td>\n",
              "      <td>NaN</td>\n",
              "      <td>NaN</td>\n",
              "      <td>NaN</td>\n",
              "      <td>NaN</td>\n",
              "      <td>NaN</td>\n",
              "    </tr>\n",
              "    <tr>\n",
              "      <th>3</th>\n",
              "      <td>0500000US05137</td>\n",
              "      <td>Stone County, Arkansas</td>\n",
              "      <td>12394</td>\n",
              "      <td>6128</td>\n",
              "      <td>05</td>\n",
              "      <td>137</td>\n",
              "      <td>49.443279</td>\n",
              "      <td>NaN</td>\n",
              "      <td>NaN</td>\n",
              "      <td>NaN</td>\n",
              "      <td>NaN</td>\n",
              "      <td>NaN</td>\n",
              "      <td>NaN</td>\n",
              "      <td>NaN</td>\n",
              "      <td>NaN</td>\n",
              "      <td>NaN</td>\n",
              "    </tr>\n",
              "    <tr>\n",
              "      <th>4</th>\n",
              "      <td>0500000US05139</td>\n",
              "      <td>Union County, Arkansas</td>\n",
              "      <td>41639</td>\n",
              "      <td>20259</td>\n",
              "      <td>05</td>\n",
              "      <td>139</td>\n",
              "      <td>48.653906</td>\n",
              "      <td>NaN</td>\n",
              "      <td>NaN</td>\n",
              "      <td>NaN</td>\n",
              "      <td>NaN</td>\n",
              "      <td>NaN</td>\n",
              "      <td>NaN</td>\n",
              "      <td>NaN</td>\n",
              "      <td>NaN</td>\n",
              "      <td>NaN</td>\n",
              "    </tr>\n",
              "  </tbody>\n",
              "</table>\n",
              "</div>"
            ],
            "text/plain": [
              "           GEO_ID  ... Estimate Upper Bound\n",
              "0  0500000US05131  ...                 49.2\n",
              "1  0500000US05133  ...                  NaN\n",
              "2  0500000US05135  ...                  NaN\n",
              "3  0500000US05137  ...                  NaN\n",
              "4  0500000US05139  ...                  NaN\n",
              "\n",
              "[5 rows x 16 columns]"
            ]
          },
          "metadata": {},
          "execution_count": 37
        }
      ]
    },
    {
      "cell_type": "code",
      "metadata": {
        "colab": {
          "base_uri": "https://localhost:8080/"
        },
        "id": "oErAAYypvcd9",
        "outputId": "fc8dc7be-e9a3-4852-e8d1-3311015ac9a2"
      },
      "source": [
        "merge_pt2_df.loc[(merge_pt2_df[\"Percent Male April 1 2010\"] >= merge_pt2_df['Estimate Lower Bound']) &\n",
        "                 (merge_pt2_df[\"Percent Male April 1 2010\"] <= merge_pt2_df['Estimate Upper Bound']),'Parameter within Confidence Interval'] = 1\n",
        "merge_pt2_df.loc[(merge_pt2_df[\"Percent Male April 1 2010\"] < merge_pt2_df['Estimate Lower Bound']) ,'Parameter within Confidence Interval'] = 0\n",
        "merge_pt2_df.loc[(merge_pt2_df[\"Percent Male April 1 2010\"] > merge_pt2_df['Estimate Upper Bound']) ,'Parameter within Confidence Interval'] = 0\n",
        "merge_pt2_df.loc[(merge_pt2_df['Estimate Lower Bound'].isnull()) ,'Parameter within Confidence Interval'] = np.nan\n",
        "merge_pt2_df['Parameter within Confidence Interval'].describe()"
      ],
      "execution_count": 39,
      "outputs": [
        {
          "output_type": "execute_result",
          "data": {
            "text/plain": [
              "count    807.000000\n",
              "mean       0.824040\n",
              "std        0.381023\n",
              "min        0.000000\n",
              "25%        1.000000\n",
              "50%        1.000000\n",
              "75%        1.000000\n",
              "max        1.000000\n",
              "Name: Parameter within Confidence Interval, dtype: float64"
            ]
          },
          "metadata": {},
          "execution_count": 39
        }
      ]
    },
    {
      "cell_type": "code",
      "metadata": {
        "colab": {
          "base_uri": "https://localhost:8080/"
        },
        "id": "i5tpnvi-0jdm",
        "outputId": "7764e21f-d797-4809-9390-622cd10f1156"
      },
      "source": [
        "merge_pt2_df.loc[:,'Parameter minus Estimate'] = merge_pt2_df[\"Percent Male April 1 2010\"] - merge_pt2_df[\"Percent Male Population ACS 2010 (estimate)\"]\n",
        "merge_pt2_df['Parameter minus Estimate'].describe()"
      ],
      "execution_count": 40,
      "outputs": [
        {
          "output_type": "execute_result",
          "data": {
            "text/plain": [
              "count    818.000000\n",
              "mean       0.008826\n",
              "std        0.419756\n",
              "min       -2.017828\n",
              "25%       -0.171638\n",
              "50%       -0.007309\n",
              "75%        0.184919\n",
              "max        1.811088\n",
              "Name: Parameter minus Estimate, dtype: float64"
            ]
          },
          "metadata": {},
          "execution_count": 40
        }
      ]
    },
    {
      "cell_type": "code",
      "metadata": {
        "colab": {
          "base_uri": "https://localhost:8080/",
          "height": 281
        },
        "id": "7g5_DsEE0v6O",
        "outputId": "ca29231e-0781-49a0-a8df-37be93ec5123"
      },
      "source": [
        "plt.hist(merge_pt2_df['Parameter minus Estimate'],bins = 80)\n",
        "plt.title(\"Histogram of Differences between Parameter and Estimate\")\n",
        "plt.show()"
      ],
      "execution_count": 43,
      "outputs": [
        {
          "output_type": "display_data",
          "data": {
            "image/png": "[encoded data removed]",
            "text/plain": [
              "<Figure size 432x288 with 1 Axes>"
            ]
          },
          "metadata": {
            "needs_background": "light"
          }
        }
      ]
    },
    {
      "cell_type": "code",
      "metadata": {
        "colab": {
          "base_uri": "https://localhost:8080/",
          "height": 295
        },
        "id": "stZdBVgB1dWm",
        "outputId": "88b5a01f-20c4-4b3b-f90e-770f3b64391f"
      },
      "source": [
        "# Scatter Plot\n",
        "plt.scatter(merge_pt2_df[\"Sample Size ACS 2010\"], merge_pt2_df[\"Parameter minus Estimate\"])\n",
        "plt.title('Sample Size vs Difference between Parameter minus Estimate')\n",
        "plt.xlabel(\"Sample Size\")\n",
        "plt.ylabel('Parameter minus Estimate')\n",
        "plt.show()"
      ],
      "execution_count": 44,
      "outputs": [
        {
          "output_type": "display_data",
          "data": {
            "image/png": "[encoded data removed]",
            "text/plain": [
              "<Figure size 432x288 with 1 Axes>"
            ]
          },
          "metadata": {
            "needs_background": "light"
          }
        }
      ]
    }
  ]
}