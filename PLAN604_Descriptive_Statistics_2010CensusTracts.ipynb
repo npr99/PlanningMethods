{
  "nbformat": 4,
  "nbformat_minor": 0,
  "metadata": {
    "colab": {
      "name": "PLAN604_Descriptive_Statistics_CensusTracts",
      "provenance": [],
      "toc_visible": true,
      "authorship_tag": "ABX9TyMycxFVpttoWHPXaHksDTla",
      "include_colab_link": true
    },
    "kernelspec": {
      "name": "python3",
      "display_name": "Python 3"
    }
  },
  "cells": [
    {
      "cell_type": "markdown",
      "metadata": {
        "id": "view-in-github",
        "colab_type": "text"
      },
      "source": [
        "<a href=\"https://colab.research.google.com/github/npr99/PlanningMethods/blob/master/PLAN604_Descriptive_Statistics_CensusTracts.ipynb\" target=\"_parent\"><img src=\"https://colab.research.google.com/assets/colab-badge.svg\" alt=\"Open In Colab\"/></a>"
      ]
    },
    {
      "cell_type": "markdown",
      "metadata": {
        "id": "QbMmz5adRauc"
      },
      "source": [
        "# Application of Descriptive Statistics: Finding US Census Tract Outliers\n",
        " \n",
        "---\n",
        "This Google Colab Notebook provides a complete workflow (sequence of steps from start to finish) that will allow you to explore [US Census Tracts](https://www.census.gov/glossary/#term_Censustract). \n",
        " \n",
        "A census tract is a statistical subdivision of a county, with around 4,000 people and 1,600 housing units. This boundary may change with each decennial census (every 10 years). Census tract population size provides an application for understanding descriptive statistics such as outliers. Outliers are observations (census tracts) that fall outside of the normal distribution. These might be census tracts with no population or very large populations. \n",
        " \n",
        "This notebook will demonstrate how to read in data from the US Census website. Clean the data for use in this statistical software environment (python). Explore the data using histograms and descriptive statistics and mapping. This program brings together publicly available data, US Census geography, and descriptive statistics. \n",
        " \n",
        "This notebook assumes that you have some basic experience with Google Colab and running blocks of code. Users of this notebook do not need to have any python programming background. A basic introduction and curiosity about descriptive statistics and US Census geography is helpful."
      ]
    },
    {
      "cell_type": "markdown",
      "metadata": {
        "id": "nARUWOcSSWxz"
      },
      "source": [
        "## Step 1: Obtain Data with Census API\n",
        "\n",
        "The following section sets up and reads in data from the Census API. For more details on using Census API in Google Colab for Urban Planning see:\n",
        "\n",
        "> Gu, Donghwan, and Rosenheim, Nathanael. *Demographic Analysis Workflow using Census API  in Jupyter Notebook: 1990-2000 Population Size and Change.* Ann Arbor, MI: Inter-university Consortium for Political and Social Research [distributor], 2020-07-30. https://doi.org/10.3886/E120381V1\n",
        "\n",
        "> Goodman, Cooper, Rosenheim, Nathanael, Day, Wayne, Gu, Donghwan, and Korukonda, Jayasaree. *Population Distribution Workflow using Census API in Jupyter Notebook: Dynamic Map of Census Tracts in Boone County, KY, 2000.* Ann Arbor, MI: Inter-university Consortium for Political and Social Research [distributor], 2020-07-31. https://doi.org/10.3886/E120382V1\n",
        "\n",
        "For this notebook we will obtain data from the Census API in the fewest number of lines.\n"
      ]
    },
    {
      "cell_type": "code",
      "metadata": {
        "id": "MrqwYfRDQ7ZH"
      },
      "source": [
        "# Python packages required to read in and Census API data\n",
        "import requests ## Required for the Census API\n",
        "import pandas as pd # For reading, writing and wrangling data"
      ],
      "execution_count": 1,
      "outputs": []
    },
    {
      "cell_type": "markdown",
      "metadata": {
        "id": "t1riCQuczR-G"
      },
      "source": [
        "## What does the next block of code do?\n",
        "The following block of code does three things:\n",
        "### 1. Line 1 requests data\n",
        "The first line requests data from the Census API (`https:// api.census.gov / data`).\n",
        "\n",
        "From the 2010 Decennial Census (`/ 2010 / dec/`), summary file 1 (`sf1`), which means the [short form](https://www.census.gov/history/pdf/2010questionnaire.pdf). \n",
        "\n",
        "The Census API needs three parameters (`params={`) in order to find the correct data for the right geography.\n",
        "1.   `'get' :` the following variables:\n",
        "> Total Housing Units (`H001001`) and Total Population (`P001001`)\n",
        "2.   `'for' : ` the following Census Geography \n",
        "> Census tracts (`'tract:*'`)\n",
        "3.   `'in' : ` the following state\n",
        "> Texas (`'state:48'`)\n",
        "\n",
        "You can actually see the same data by going to this weblink:\n",
        "\n",
        "https://api.census.gov/data/2010/dec/sf1?get=H001001,P001001&for=tract:*&in=state:48\n",
        "\n",
        "After the `requests.get` command gets the data from api.census.gov, the data is stored in the varaible names `apijson`. The variable name indicates the data source (`api`) and the file type (`json`). [`JSON`](https://www.json.org/json-en.html) (pronounced JAY-son) is a format, like [CSV](https://www.kaggle.com/rtatman/an-intro-to-json-vs-csv).\n",
        "\n",
        "The last two lines convert the `json` file into a `pandas` [dataframe](https://towardsdatascience.com/pandas-dataframe-a-lightweight-intro-680e3a212b96). The last line tells Google Colab to display the first 5 rows of the dataframe `tractdf`."
      ]
    },
    {
      "cell_type": "code",
      "metadata": {
        "id": "CCVf3M61gNKu",
        "colab": {
          "base_uri": "https://localhost:8080/",
          "height": 204
        },
        "outputId": "a40b225b-6a54-4f7d-fc93-746df106f25a"
      },
      "source": [
        "apijson = requests.get('https://api.census.gov/data/2010/dec/sf1',\n",
        "                       params={'get': 'H001001,P001001',\n",
        "                               'for': 'tract:*',\n",
        "                                'in': 'state:48'})\n",
        "# Convert the requested json into pandas dataframe\n",
        "tractdf = pd.DataFrame(columns=apijson.json()[0], data=apijson.json()[1:])\n",
        "tractdf.head()"
      ],
      "execution_count": 2,
      "outputs": [
        {
          "output_type": "execute_result",
          "data": {
            "text/html": [
              "<div>\n",
              "<style scoped>\n",
              "    .dataframe tbody tr th:only-of-type {\n",
              "        vertical-align: middle;\n",
              "    }\n",
              "\n",
              "    .dataframe tbody tr th {\n",
              "        vertical-align: top;\n",
              "    }\n",
              "\n",
              "    .dataframe thead th {\n",
              "        text-align: right;\n",
              "    }\n",
              "</style>\n",
              "<table border=\"1\" class=\"dataframe\">\n",
              "  <thead>\n",
              "    <tr style=\"text-align: right;\">\n",
              "      <th></th>\n",
              "      <th>H001001</th>\n",
              "      <th>P001001</th>\n",
              "      <th>state</th>\n",
              "      <th>county</th>\n",
              "      <th>tract</th>\n",
              "    </tr>\n",
              "  </thead>\n",
              "  <tbody>\n",
              "    <tr>\n",
              "      <th>0</th>\n",
              "      <td>2713</td>\n",
              "      <td>7464</td>\n",
              "      <td>48</td>\n",
              "      <td>141</td>\n",
              "      <td>000101</td>\n",
              "    </tr>\n",
              "    <tr>\n",
              "      <th>1</th>\n",
              "      <td>1198</td>\n",
              "      <td>2587</td>\n",
              "      <td>48</td>\n",
              "      <td>141</td>\n",
              "      <td>000111</td>\n",
              "    </tr>\n",
              "    <tr>\n",
              "      <th>2</th>\n",
              "      <td>1732</td>\n",
              "      <td>4248</td>\n",
              "      <td>48</td>\n",
              "      <td>141</td>\n",
              "      <td>000205</td>\n",
              "    </tr>\n",
              "    <tr>\n",
              "      <th>3</th>\n",
              "      <td>1126</td>\n",
              "      <td>3429</td>\n",
              "      <td>48</td>\n",
              "      <td>141</td>\n",
              "      <td>000208</td>\n",
              "    </tr>\n",
              "    <tr>\n",
              "      <th>4</th>\n",
              "      <td>2374</td>\n",
              "      <td>6417</td>\n",
              "      <td>48</td>\n",
              "      <td>141</td>\n",
              "      <td>000301</td>\n",
              "    </tr>\n",
              "  </tbody>\n",
              "</table>\n",
              "</div>"
            ],
            "text/plain": [
              "  H001001 P001001 state county   tract\n",
              "0    2713    7464    48    141  000101\n",
              "1    1198    2587    48    141  000111\n",
              "2    1732    4248    48    141  000205\n",
              "3    1126    3429    48    141  000208\n",
              "4    2374    6417    48    141  000301"
            ]
          },
          "metadata": {},
          "execution_count": 2
        }
      ]
    },
    {
      "cell_type": "markdown",
      "metadata": {
        "id": "BobiJ2au4GUk"
      },
      "source": [
        "The parameters for the Census API can be modified to request data for other Census Surveys, variables, geographies, and states.\n",
        "For more information on Census API:\n",
        "*   [Census Data API User Guide](https://www.census.gov/content/dam/Census/data/developers/api-user-guide/api-guide.pdf)\n",
        "*   [List of available Census APIs](https://www.census.gov/data/developers/data-sets/decennial-census.2010.html)\n",
        "*   [A list of variables available just from the 2010 short form](https://api.census.gov/data/2010/dec/sf1/variables.html)\n",
        "*   [A list of State FIPS codes](https://www.nrcs.usda.gov/wps/portal/nrcs/detail/?cid=nrcs143_013696)"
      ]
    },
    {
      "cell_type": "markdown",
      "metadata": {
        "id": "oJusBkLGnMZg"
      },
      "source": [
        "## Step 2: Clean Data\n",
        "Data cleaning is an important step in the data science process. This step is often the hardest and most time consuming. The follow section provides three examples of data cleaning. \n",
        "1. Set the variable type\n",
        "2. Label variables\n",
        "3. Add a unique id"
      ]
    },
    {
      "cell_type": "markdown",
      "metadata": {
        "id": "uzJ5ZB3gUgAT"
      },
      "source": [
        "### 2.1 Set the variable type\n",
        "\n",
        "The data obtained from the Census API is not in the right format. For example, right now the statistical software does not recognize the H001001 variable is a discrete quantitative number.\n",
        "\n",
        "If we try to look at the descriptive statistics (min, max, mean, median etc.) for the total housing units by census tract the describe command does not work."
      ]
    },
    {
      "cell_type": "code",
      "metadata": {
        "id": "Low3NQDRjuL7",
        "colab": {
          "base_uri": "https://localhost:8080/"
        },
        "outputId": "684a7e66-9dfd-4b45-a9c7-dd165cb4e7cd"
      },
      "source": [
        "tractdf['H001001'].describe()"
      ],
      "execution_count": 3,
      "outputs": [
        {
          "output_type": "execute_result",
          "data": {
            "text/plain": [
              "count     5265\n",
              "unique    2489\n",
              "top          0\n",
              "freq        32\n",
              "Name: H001001, dtype: object"
            ]
          },
          "metadata": {},
          "execution_count": 3
        }
      ]
    },
    {
      "cell_type": "markdown",
      "metadata": {
        "id": "SiTSggsEoGPj"
      },
      "source": [
        "Converting variables into the correct data type is a regular data cleaning step. The next codeblock changest the variable type to integer using the `astype(int)` command."
      ]
    },
    {
      "cell_type": "code",
      "metadata": {
        "id": "e-cDC_h9oFl5"
      },
      "source": [
        "tractdf[\"H001001\"] = tractdf[\"H001001\"].astype(int)\n",
        "tractdf[\"P001001\"] = tractdf[\"P001001\"].astype(int)"
      ],
      "execution_count": 4,
      "outputs": []
    },
    {
      "cell_type": "markdown",
      "metadata": {
        "id": "qWXqJ3eLoeiT"
      },
      "source": [
        "Now that the statistical software knows that the variables for total housing units and population are integers (discrete numbers) we can use the `describe` command to get the descriptive statistics. "
      ]
    },
    {
      "cell_type": "markdown",
      "metadata": {
        "id": "dSFZpnlLVKKW"
      },
      "source": [
        "### 2.2 Label variables\n",
        "Variable labels are an important form of metadata (data about the data). In this example `H00100` is the variable name and the variable lable is `Total Housing Units`. In python we can rename the variable using the variable label. This will make it easier to remember what the data is about."
      ]
    },
    {
      "cell_type": "code",
      "metadata": {
        "id": "4nP5SemvUG5e",
        "colab": {
          "base_uri": "https://localhost:8080/",
          "height": 204
        },
        "outputId": "25405315-bedd-4935-d1fe-9ab1d821e5bb"
      },
      "source": [
        "tractdf = tractdf.rename(columns={\"H001001\": \"Total Housing Units\", \n",
        "                                  \"P001001\": \"Total Population\"})\n",
        "tractdf.head()"
      ],
      "execution_count": 5,
      "outputs": [
        {
          "output_type": "execute_result",
          "data": {
            "text/html": [
              "<div>\n",
              "<style scoped>\n",
              "    .dataframe tbody tr th:only-of-type {\n",
              "        vertical-align: middle;\n",
              "    }\n",
              "\n",
              "    .dataframe tbody tr th {\n",
              "        vertical-align: top;\n",
              "    }\n",
              "\n",
              "    .dataframe thead th {\n",
              "        text-align: right;\n",
              "    }\n",
              "</style>\n",
              "<table border=\"1\" class=\"dataframe\">\n",
              "  <thead>\n",
              "    <tr style=\"text-align: right;\">\n",
              "      <th></th>\n",
              "      <th>Total Housing Units</th>\n",
              "      <th>Total Population</th>\n",
              "      <th>state</th>\n",
              "      <th>county</th>\n",
              "      <th>tract</th>\n",
              "    </tr>\n",
              "  </thead>\n",
              "  <tbody>\n",
              "    <tr>\n",
              "      <th>0</th>\n",
              "      <td>2713</td>\n",
              "      <td>7464</td>\n",
              "      <td>48</td>\n",
              "      <td>141</td>\n",
              "      <td>000101</td>\n",
              "    </tr>\n",
              "    <tr>\n",
              "      <th>1</th>\n",
              "      <td>1198</td>\n",
              "      <td>2587</td>\n",
              "      <td>48</td>\n",
              "      <td>141</td>\n",
              "      <td>000111</td>\n",
              "    </tr>\n",
              "    <tr>\n",
              "      <th>2</th>\n",
              "      <td>1732</td>\n",
              "      <td>4248</td>\n",
              "      <td>48</td>\n",
              "      <td>141</td>\n",
              "      <td>000205</td>\n",
              "    </tr>\n",
              "    <tr>\n",
              "      <th>3</th>\n",
              "      <td>1126</td>\n",
              "      <td>3429</td>\n",
              "      <td>48</td>\n",
              "      <td>141</td>\n",
              "      <td>000208</td>\n",
              "    </tr>\n",
              "    <tr>\n",
              "      <th>4</th>\n",
              "      <td>2374</td>\n",
              "      <td>6417</td>\n",
              "      <td>48</td>\n",
              "      <td>141</td>\n",
              "      <td>000301</td>\n",
              "    </tr>\n",
              "  </tbody>\n",
              "</table>\n",
              "</div>"
            ],
            "text/plain": [
              "   Total Housing Units  Total Population state county   tract\n",
              "0                 2713              7464    48    141  000101\n",
              "1                 1198              2587    48    141  000111\n",
              "2                 1732              4248    48    141  000205\n",
              "3                 1126              3429    48    141  000208\n",
              "4                 2374              6417    48    141  000301"
            ]
          },
          "metadata": {},
          "execution_count": 5
        }
      ]
    },
    {
      "cell_type": "markdown",
      "metadata": {
        "id": "K_9bBgQ9V9f_"
      },
      "source": [
        "### 2.3 Add a unique id\n",
        "A unique id is an important part of a good data file. The current list of census tracts does not have a unique id, but we can create one using the state, county, and tract variables. For US Census Geographies this code is called the  [Geographic Identifier (GEOID)](https://www.census.gov/programs-surveys/geography/guidance/geo-identifiers.html).\n",
        "\n",
        "The `describe` command provides a count of the number of unique values for the state, county, and tract variables."
      ]
    },
    {
      "cell_type": "code",
      "metadata": {
        "id": "bS3XfqlNW6SC",
        "colab": {
          "base_uri": "https://localhost:8080/",
          "height": 173
        },
        "outputId": "2d1aa6d5-6638-450d-ac2b-c3cc186d9c08"
      },
      "source": [
        "tractdf[['state','county','tract']].describe()"
      ],
      "execution_count": 6,
      "outputs": [
        {
          "output_type": "execute_result",
          "data": {
            "text/html": [
              "<div>\n",
              "<style scoped>\n",
              "    .dataframe tbody tr th:only-of-type {\n",
              "        vertical-align: middle;\n",
              "    }\n",
              "\n",
              "    .dataframe tbody tr th {\n",
              "        vertical-align: top;\n",
              "    }\n",
              "\n",
              "    .dataframe thead th {\n",
              "        text-align: right;\n",
              "    }\n",
              "</style>\n",
              "<table border=\"1\" class=\"dataframe\">\n",
              "  <thead>\n",
              "    <tr style=\"text-align: right;\">\n",
              "      <th></th>\n",
              "      <th>state</th>\n",
              "      <th>county</th>\n",
              "      <th>tract</th>\n",
              "    </tr>\n",
              "  </thead>\n",
              "  <tbody>\n",
              "    <tr>\n",
              "      <th>count</th>\n",
              "      <td>5265</td>\n",
              "      <td>5265</td>\n",
              "      <td>5265</td>\n",
              "    </tr>\n",
              "    <tr>\n",
              "      <th>unique</th>\n",
              "      <td>1</td>\n",
              "      <td>254</td>\n",
              "      <td>3688</td>\n",
              "    </tr>\n",
              "    <tr>\n",
              "      <th>top</th>\n",
              "      <td>48</td>\n",
              "      <td>201</td>\n",
              "      <td>950100</td>\n",
              "    </tr>\n",
              "    <tr>\n",
              "      <th>freq</th>\n",
              "      <td>5265</td>\n",
              "      <td>786</td>\n",
              "      <td>110</td>\n",
              "    </tr>\n",
              "  </tbody>\n",
              "</table>\n",
              "</div>"
            ],
            "text/plain": [
              "       state county   tract\n",
              "count   5265   5265    5265\n",
              "unique     1    254    3688\n",
              "top       48    201  950100\n",
              "freq    5265    786     110"
            ]
          },
          "metadata": {},
          "execution_count": 6
        }
      ]
    },
    {
      "cell_type": "markdown",
      "metadata": {
        "id": "Y08vk1BMXOmE"
      },
      "source": [
        "Notice that there is 1 unique value for state (all the census tracts are in the same state). There are 254 unique values for county (thre are 254 counties in Texas), and there are 3,688 unique values for the tract code, but there are 5,265 total tracts. The count of unique values needs to be equal to the total count."
      ]
    },
    {
      "cell_type": "markdown",
      "metadata": {
        "id": "Y6X5VXAKX7o8"
      },
      "source": [
        "The three variables state, county, and tract may look like numbers, but they are actually not quantitative variables, they are actually categorical and ordinal. Python will treat these variables like strings or letters. The next code block combines the three variables into a new variable called GEOID. "
      ]
    },
    {
      "cell_type": "code",
      "metadata": {
        "id": "eQo_vcD8Xplj",
        "colab": {
          "base_uri": "https://localhost:8080/",
          "height": 204
        },
        "outputId": "e86ef2ee-48e6-4e8a-efae-0608981c5a92"
      },
      "source": [
        "tractdf['GEOID'] = tractdf['state']+tractdf['county']+tractdf['tract']\n",
        "tractdf.head()"
      ],
      "execution_count": 7,
      "outputs": [
        {
          "output_type": "execute_result",
          "data": {
            "text/html": [
              "<div>\n",
              "<style scoped>\n",
              "    .dataframe tbody tr th:only-of-type {\n",
              "        vertical-align: middle;\n",
              "    }\n",
              "\n",
              "    .dataframe tbody tr th {\n",
              "        vertical-align: top;\n",
              "    }\n",
              "\n",
              "    .dataframe thead th {\n",
              "        text-align: right;\n",
              "    }\n",
              "</style>\n",
              "<table border=\"1\" class=\"dataframe\">\n",
              "  <thead>\n",
              "    <tr style=\"text-align: right;\">\n",
              "      <th></th>\n",
              "      <th>Total Housing Units</th>\n",
              "      <th>Total Population</th>\n",
              "      <th>state</th>\n",
              "      <th>county</th>\n",
              "      <th>tract</th>\n",
              "      <th>GEOID</th>\n",
              "    </tr>\n",
              "  </thead>\n",
              "  <tbody>\n",
              "    <tr>\n",
              "      <th>0</th>\n",
              "      <td>2713</td>\n",
              "      <td>7464</td>\n",
              "      <td>48</td>\n",
              "      <td>141</td>\n",
              "      <td>000101</td>\n",
              "      <td>48141000101</td>\n",
              "    </tr>\n",
              "    <tr>\n",
              "      <th>1</th>\n",
              "      <td>1198</td>\n",
              "      <td>2587</td>\n",
              "      <td>48</td>\n",
              "      <td>141</td>\n",
              "      <td>000111</td>\n",
              "      <td>48141000111</td>\n",
              "    </tr>\n",
              "    <tr>\n",
              "      <th>2</th>\n",
              "      <td>1732</td>\n",
              "      <td>4248</td>\n",
              "      <td>48</td>\n",
              "      <td>141</td>\n",
              "      <td>000205</td>\n",
              "      <td>48141000205</td>\n",
              "    </tr>\n",
              "    <tr>\n",
              "      <th>3</th>\n",
              "      <td>1126</td>\n",
              "      <td>3429</td>\n",
              "      <td>48</td>\n",
              "      <td>141</td>\n",
              "      <td>000208</td>\n",
              "      <td>48141000208</td>\n",
              "    </tr>\n",
              "    <tr>\n",
              "      <th>4</th>\n",
              "      <td>2374</td>\n",
              "      <td>6417</td>\n",
              "      <td>48</td>\n",
              "      <td>141</td>\n",
              "      <td>000301</td>\n",
              "      <td>48141000301</td>\n",
              "    </tr>\n",
              "  </tbody>\n",
              "</table>\n",
              "</div>"
            ],
            "text/plain": [
              "   Total Housing Units  Total Population state county   tract        GEOID\n",
              "0                 2713              7464    48    141  000101  48141000101\n",
              "1                 1198              2587    48    141  000111  48141000111\n",
              "2                 1732              4248    48    141  000205  48141000205\n",
              "3                 1126              3429    48    141  000208  48141000208\n",
              "4                 2374              6417    48    141  000301  48141000301"
            ]
          },
          "metadata": {},
          "execution_count": 7
        }
      ]
    },
    {
      "cell_type": "markdown",
      "metadata": {
        "id": "1pawHeMHYuOc"
      },
      "source": [
        "GEOID now uniquely identifies each census tract in the data."
      ]
    },
    {
      "cell_type": "code",
      "metadata": {
        "id": "viXXa-rqY_sC",
        "colab": {
          "base_uri": "https://localhost:8080/"
        },
        "outputId": "1a2f0d2b-a5f2-4c70-a717-8a40a8051fe3"
      },
      "source": [
        "tractdf['GEOID'].describe()"
      ],
      "execution_count": 8,
      "outputs": [
        {
          "output_type": "execute_result",
          "data": {
            "text/plain": [
              "count            5265\n",
              "unique           5265\n",
              "top       48201343600\n",
              "freq                1\n",
              "Name: GEOID, dtype: object"
            ]
          },
          "metadata": {},
          "execution_count": 8
        }
      ]
    },
    {
      "cell_type": "markdown",
      "metadata": {
        "id": "B1rw7rQAZqkq"
      },
      "source": [
        "## Step 3: Describe the data\n",
        "Descriptive methods summarize the data. Descriptive statistics summarize data with numbers, tables, and graphs. The following block of code creates and formats a table using the `describe` function. The table provides eight descriptive statistics. These include the count, the mean, the standard deviation (std), the minimum (min), the lower quartile (25%), the median (50%), the upper quartile (75%), and the maximum (max)."
      ]
    },
    {
      "cell_type": "code",
      "metadata": {
        "id": "Yg5w-twMo0rq",
        "colab": {
          "base_uri": "https://localhost:8080/",
          "height": 116
        },
        "outputId": "adb246ee-680c-45b0-ba70-e74e407daccc"
      },
      "source": [
        "table1 = tractdf[['Total Housing Units','Total Population']].describe().T\n",
        "varformat = \"{:,.0f}\" # The variable format adds a comma and rounds up\n",
        "table_title = \"Table 1. Descriptive statistics for total housing units and population by census tract in Texas, 2010.\"\n",
        "table1 = table1.style.set_caption(table_title).format(varformat).set_properties(**{'text-align': 'right'})\n",
        "table1"
      ],
      "execution_count": 10,
      "outputs": [
        {
          "output_type": "execute_result",
          "data": {
            "text/html": [
              "<style  type=\"text/css\" >\n",
              "#T_f7a850ae_1a2b_11ec_9126_0242ac1c0002row0_col0,#T_f7a850ae_1a2b_11ec_9126_0242ac1c0002row0_col1,#T_f7a850ae_1a2b_11ec_9126_0242ac1c0002row0_col2,#T_f7a850ae_1a2b_11ec_9126_0242ac1c0002row0_col3,#T_f7a850ae_1a2b_11ec_9126_0242ac1c0002row0_col4,#T_f7a850ae_1a2b_11ec_9126_0242ac1c0002row0_col5,#T_f7a850ae_1a2b_11ec_9126_0242ac1c0002row0_col6,#T_f7a850ae_1a2b_11ec_9126_0242ac1c0002row0_col7,#T_f7a850ae_1a2b_11ec_9126_0242ac1c0002row1_col0,#T_f7a850ae_1a2b_11ec_9126_0242ac1c0002row1_col1,#T_f7a850ae_1a2b_11ec_9126_0242ac1c0002row1_col2,#T_f7a850ae_1a2b_11ec_9126_0242ac1c0002row1_col3,#T_f7a850ae_1a2b_11ec_9126_0242ac1c0002row1_col4,#T_f7a850ae_1a2b_11ec_9126_0242ac1c0002row1_col5,#T_f7a850ae_1a2b_11ec_9126_0242ac1c0002row1_col6,#T_f7a850ae_1a2b_11ec_9126_0242ac1c0002row1_col7{\n",
              "            text-align:  right;\n",
              "        }</style><table id=\"T_f7a850ae_1a2b_11ec_9126_0242ac1c0002\" ><caption>Table 1. Descriptive statistics for total housing units and population by census tract in Texas, 2010.</caption><thead>    <tr>        <th class=\"blank level0\" ></th>        <th class=\"col_heading level0 col0\" >count</th>        <th class=\"col_heading level0 col1\" >mean</th>        <th class=\"col_heading level0 col2\" >std</th>        <th class=\"col_heading level0 col3\" >min</th>        <th class=\"col_heading level0 col4\" >25%</th>        <th class=\"col_heading level0 col5\" >50%</th>        <th class=\"col_heading level0 col6\" >75%</th>        <th class=\"col_heading level0 col7\" >max</th>    </tr></thead><tbody>\n",
              "                <tr>\n",
              "                        <th id=\"T_f7a850ae_1a2b_11ec_9126_0242ac1c0002level0_row0\" class=\"row_heading level0 row0\" >Total Housing Units</th>\n",
              "                        <td id=\"T_f7a850ae_1a2b_11ec_9126_0242ac1c0002row0_col0\" class=\"data row0 col0\" >5,265</td>\n",
              "                        <td id=\"T_f7a850ae_1a2b_11ec_9126_0242ac1c0002row0_col1\" class=\"data row0 col1\" >1,895</td>\n",
              "                        <td id=\"T_f7a850ae_1a2b_11ec_9126_0242ac1c0002row0_col2\" class=\"data row0 col2\" >898</td>\n",
              "                        <td id=\"T_f7a850ae_1a2b_11ec_9126_0242ac1c0002row0_col3\" class=\"data row0 col3\" >0</td>\n",
              "                        <td id=\"T_f7a850ae_1a2b_11ec_9126_0242ac1c0002row0_col4\" class=\"data row0 col4\" >1,278</td>\n",
              "                        <td id=\"T_f7a850ae_1a2b_11ec_9126_0242ac1c0002row0_col5\" class=\"data row0 col5\" >1,793</td>\n",
              "                        <td id=\"T_f7a850ae_1a2b_11ec_9126_0242ac1c0002row0_col6\" class=\"data row0 col6\" >2,378</td>\n",
              "                        <td id=\"T_f7a850ae_1a2b_11ec_9126_0242ac1c0002row0_col7\" class=\"data row0 col7\" >10,736</td>\n",
              "            </tr>\n",
              "            <tr>\n",
              "                        <th id=\"T_f7a850ae_1a2b_11ec_9126_0242ac1c0002level0_row1\" class=\"row_heading level0 row1\" >Total Population</th>\n",
              "                        <td id=\"T_f7a850ae_1a2b_11ec_9126_0242ac1c0002row1_col0\" class=\"data row1 col0\" >5,265</td>\n",
              "                        <td id=\"T_f7a850ae_1a2b_11ec_9126_0242ac1c0002row1_col1\" class=\"data row1 col1\" >4,776</td>\n",
              "                        <td id=\"T_f7a850ae_1a2b_11ec_9126_0242ac1c0002row1_col2\" class=\"data row1 col2\" >2,440</td>\n",
              "                        <td id=\"T_f7a850ae_1a2b_11ec_9126_0242ac1c0002row1_col3\" class=\"data row1 col3\" >0</td>\n",
              "                        <td id=\"T_f7a850ae_1a2b_11ec_9126_0242ac1c0002row1_col4\" class=\"data row1 col4\" >3,156</td>\n",
              "                        <td id=\"T_f7a850ae_1a2b_11ec_9126_0242ac1c0002row1_col5\" class=\"data row1 col5\" >4,446</td>\n",
              "                        <td id=\"T_f7a850ae_1a2b_11ec_9126_0242ac1c0002row1_col6\" class=\"data row1 col6\" >5,971</td>\n",
              "                        <td id=\"T_f7a850ae_1a2b_11ec_9126_0242ac1c0002row1_col7\" class=\"data row1 col7\" >33,201</td>\n",
              "            </tr>\n",
              "    </tbody></table>"
            ],
            "text/plain": [
              "<pandas.io.formats.style.Styler at 0x7f7986471e90>"
            ]
          },
          "metadata": {},
          "execution_count": 10
        }
      ]
    },
    {
      "cell_type": "markdown",
      "metadata": {
        "id": "TgElfJW6o2bs"
      },
      "source": [
        "### 3.1 Summary of descriptive statistics for Census Tracts in Texas, 2010.\n",
        "\n",
        "In 2010 Texas had 5,265 Census Tracts. The average tract had 1,895 housing units and 4,776 people. These values are slightly higher than the expected 1,600 housing units and 4,000 people. The median values are smaller that then mean, therefore the distribution is skewed to the right, with very large outliers pulling the mean to the right. The standard deviation 898 for total housing units and 2,440 for the total population. The largest census tract in Texas had 33,201 people."
      ]
    },
    {
      "cell_type": "markdown",
      "metadata": {
        "id": "4MZ8MD2brwtZ"
      },
      "source": [
        "### 3.2 Histograms and Boxplots\n",
        "Histograms and boxplots are tools to help describe the distribution (range and variability) in data. \n",
        "\n",
        "In python the `matplotlib` package provides commands to create graphs."
      ]
    },
    {
      "cell_type": "code",
      "metadata": {
        "id": "yYlFkvaswfZ7"
      },
      "source": [
        "import matplotlib.pyplot as plt # required for graphs (histogram, boxplot)"
      ],
      "execution_count": 11,
      "outputs": []
    },
    {
      "cell_type": "code",
      "metadata": {
        "id": "Rr52vnVvqdH6",
        "colab": {
          "base_uri": "https://localhost:8080/",
          "height": 295
        },
        "outputId": "fe13fe51-9780-4690-9e8b-3253266c5185"
      },
      "source": [
        "plt.hist(tractdf['Total Housing Units'], bins=100)\n",
        "plt.title(\"Figure 3.1. Histogram of total housing units by census tract in Texas, 2010.\")\n",
        "plt.xlabel('Total Housing Units')\n",
        "plt.ylabel('Count')\n",
        "plt.show()"
      ],
      "execution_count": 12,
      "outputs": [
        {
          "output_type": "display_data",
          "data": {
            "image/png": "[encoded data removed]",
            "text/plain": [
              "<Figure size 432x288 with 1 Axes>"
            ]
          },
          "metadata": {
            "needs_background": "light"
          }
        }
      ]
    },
    {
      "cell_type": "markdown",
      "metadata": {
        "id": "mLUawb6vb3hY"
      },
      "source": [
        "Figure 3.1 provides a graph of the frequency distribution for the total housing units. Each interval has a bar over it, with a height representing the number of observations in that interval. The distribution \"peaks\" around the mean value of 1,895."
      ]
    },
    {
      "cell_type": "code",
      "metadata": {
        "id": "tME6GlltsF3i",
        "colab": {
          "base_uri": "https://localhost:8080/",
          "height": 295
        },
        "outputId": "908eb35c-235a-4880-8c93-85ead73b8024"
      },
      "source": [
        "plt.boxplot(tractdf['Total Housing Units'], vert=False)\n",
        "plt.title(\"Figure 3.2. Boxplot of total housing units by census tract in Texas, 2010.\")\n",
        "plt.xlabel('Total Housing Units')\n",
        "plt.show()"
      ],
      "execution_count": 13,
      "outputs": [
        {
          "output_type": "display_data",
          "data": {
            "image/png": "[encoded data removed]",
            "text/plain": [
              "<Figure size 432x288 with 1 Axes>"
            ]
          },
          "metadata": {
            "needs_background": "light"
          }
        }
      ]
    },
    {
      "cell_type": "code",
      "metadata": {
        "id": "UPYTt7VxsdyM",
        "colab": {
          "base_uri": "https://localhost:8080/",
          "height": 308
        },
        "outputId": "f9bd7120-49ab-4934-8eab-4079e760e464"
      },
      "source": [
        "# This block of code combines two plots into one image\n",
        "fig, (ax1, ax2) = plt.subplots(2, 1)\n",
        "fig.suptitle('Figure 3.3. Histogram and Boxplot of total population by census tract in Texas, 2010.')\n",
        "ax1.hist(tractdf['Total Population'], bins=100)\n",
        "ax1.set_ylabel('Count')\n",
        "ax2.boxplot(tractdf['Total Population'], vert=False)\n",
        "ax2.set_xlabel('Total Population')\n",
        "plt.show()"
      ],
      "execution_count": 14,
      "outputs": [
        {
          "output_type": "display_data",
          "data": {
            "image/png": "[encoded data removed]",
            "text/plain": [
              "<Figure size 432x288 with 2 Axes>"
            ]
          },
          "metadata": {
            "needs_background": "light"
          }
        }
      ]
    },
    {
      "cell_type": "markdown",
      "metadata": {
        "id": "E1S0h-JfZgt0"
      },
      "source": [
        "#### 3.2.1 Discussion of histograms and boxplots\n",
        "Figure 3.1 is a histogram of total housing units in each census tract in Texas. Notice that the distribution is skewed to the right.\n",
        "\n",
        "Figure 3.2 is a boxplot of the same data that is in Figure 3.1. The box plot uses the descriptive statistics to show the variability of the data. The boxplot highlights that many census tracts are outliers.\n",
        "\n",
        "Figure 3.3 combines a historgram with the boxplot for the total population in each census tract in Texas. Notice that the boxplot highlights the median value, around 4,446 people."
      ]
    },
    {
      "cell_type": "markdown",
      "metadata": {
        "id": "rWE6oRNVTWbx"
      },
      "source": [
        "### 3.3 Scatter Plots, Correlations, and Regression\n",
        "\n",
        "You can construct scatterplots and find correlations and regression prediction equations using the following functions:\n",
        "\n",
        "*   List item\n",
        "*   List item\n",
        "\n",
        "\n",
        "\n",
        "`scatter` from matplotlib\n",
        "\n",
        "`corr` from pandas\n",
        "\n",
        "`OLS` from the statsmodels package"
      ]
    },
    {
      "cell_type": "code",
      "metadata": {
        "id": "c-i1i6d6TkiU",
        "colab": {
          "base_uri": "https://localhost:8080/",
          "height": 295
        },
        "outputId": "7d0247e2-e251-4b4d-dec0-6238dd827048"
      },
      "source": [
        "# Scatter Plot\n",
        "plt.scatter(tractdf['Total Population'], tractdf['Total Housing Units'])\n",
        "plt.title('Figure 3.5. Scatter plot total housing units vs population by census tract in Texas, 2010.')\n",
        "plt.xlabel('Total Housing Units')\n",
        "plt.ylabel('Total Population')\n",
        "plt.show()"
      ],
      "execution_count": 15,
      "outputs": [
        {
          "output_type": "display_data",
          "data": {
            "image/png": "[encoded data removed]",
            "text/plain": [
              "<Figure size 432x288 with 1 Axes>"
            ]
          },
          "metadata": {
            "needs_background": "light"
          }
        }
      ]
    },
    {
      "cell_type": "markdown",
      "metadata": {
        "id": "5qej1q2he_BR"
      },
      "source": [
        "### 3.3.1 Discussion of scatter plots\n",
        "\n",
        "Figure 3.5 is an example of a scatterplot, that compares the relationship between total housing units and total population. Total housing units are plotted on the horizontal axis. Total population are plotted on the vertical axis. The figure plots the 5,265 census tracts as 5,265 points. The scatter plot shows that census tracts with more housing units have higher populations."
      ]
    },
    {
      "cell_type": "code",
      "metadata": {
        "id": "lcGZhbBXbolh",
        "colab": {
          "base_uri": "https://localhost:8080/",
          "height": 111
        },
        "outputId": "91cec30d-e1ec-4662-a590-078ae67e7b41"
      },
      "source": [
        "# Correlation\n",
        "tractdf[['Total Population','Total Housing Units']].corr()"
      ],
      "execution_count": 16,
      "outputs": [
        {
          "output_type": "execute_result",
          "data": {
            "text/html": [
              "<div>\n",
              "<style scoped>\n",
              "    .dataframe tbody tr th:only-of-type {\n",
              "        vertical-align: middle;\n",
              "    }\n",
              "\n",
              "    .dataframe tbody tr th {\n",
              "        vertical-align: top;\n",
              "    }\n",
              "\n",
              "    .dataframe thead th {\n",
              "        text-align: right;\n",
              "    }\n",
              "</style>\n",
              "<table border=\"1\" class=\"dataframe\">\n",
              "  <thead>\n",
              "    <tr style=\"text-align: right;\">\n",
              "      <th></th>\n",
              "      <th>Total Population</th>\n",
              "      <th>Total Housing Units</th>\n",
              "    </tr>\n",
              "  </thead>\n",
              "  <tbody>\n",
              "    <tr>\n",
              "      <th>Total Population</th>\n",
              "      <td>1.00000</td>\n",
              "      <td>0.86494</td>\n",
              "    </tr>\n",
              "    <tr>\n",
              "      <th>Total Housing Units</th>\n",
              "      <td>0.86494</td>\n",
              "      <td>1.00000</td>\n",
              "    </tr>\n",
              "  </tbody>\n",
              "</table>\n",
              "</div>"
            ],
            "text/plain": [
              "                     Total Population  Total Housing Units\n",
              "Total Population              1.00000              0.86494\n",
              "Total Housing Units           0.86494              1.00000"
            ]
          },
          "metadata": {},
          "execution_count": 16
        }
      ]
    },
    {
      "cell_type": "markdown",
      "metadata": {
        "id": "PdGQemlYgY8m"
      },
      "source": [
        "### 3.3.2 Discussion of correlation\n",
        "Correlation describes how strong the association is between two varaibles. For total population and total housing units the correlation is 0.86. The postive value means that total population tends to go up as total housing units goes up. "
      ]
    },
    {
      "cell_type": "code",
      "metadata": {
        "id": "l_yxK_UPb0n1",
        "colab": {
          "base_uri": "https://localhost:8080/"
        },
        "outputId": "1037f43a-37e3-4de9-c4dd-4c2242764b7d"
      },
      "source": [
        "# Regression Prediction\n",
        "from sklearn.linear_model import LinearRegression\n",
        "\n",
        "# Data must be reshaped to work with the Linear Regression Model\n",
        "x = tractdf['Total Housing Units'].values.reshape(-1,1)\n",
        "y = tractdf['Total Population'].values.reshape(-1,1)\n",
        "\n",
        "# Fit and summarize OLS model\n",
        "model = LinearRegression()  \n",
        "model.fit(x, y) "
      ],
      "execution_count": 17,
      "outputs": [
        {
          "output_type": "execute_result",
          "data": {
            "text/plain": [
              "LinearRegression(copy_X=True, fit_intercept=True, n_jobs=None, normalize=False)"
            ]
          },
          "metadata": {},
          "execution_count": 17
        }
      ]
    },
    {
      "cell_type": "code",
      "metadata": {
        "id": "85bqjxLNb_EB",
        "colab": {
          "base_uri": "https://localhost:8080/"
        },
        "outputId": "2e89efdf-d59a-434b-a781-4996520afad1"
      },
      "source": [
        "#To retrieve the intercept:\n",
        "intercept = model.intercept_\n",
        "print(intercept)"
      ],
      "execution_count": 18,
      "outputs": [
        {
          "output_type": "stream",
          "name": "stdout",
          "text": [
            "[320.23947347]\n"
          ]
        }
      ]
    },
    {
      "cell_type": "code",
      "metadata": {
        "id": "dfQP29EscBGA",
        "colab": {
          "base_uri": "https://localhost:8080/"
        },
        "outputId": "64470e91-12fe-4a12-f550-ff6fc919bdc6"
      },
      "source": [
        "#For retrieving the slope:\n",
        "slope = model.coef_\n",
        "print(slope)"
      ],
      "execution_count": 19,
      "outputs": [
        {
          "output_type": "stream",
          "name": "stdout",
          "text": [
            "[[2.35125539]]\n"
          ]
        }
      ]
    },
    {
      "cell_type": "markdown",
      "metadata": {
        "id": "6hIQVp7nhTEr"
      },
      "source": [
        "### 3.3.3 Discussion of regression\n",
        "Regression analysis describes is a useful tool for describing the trend between varaibles. The example above treats total population as the response variable (y) and total housing units as the explanatory variable (x). The equation assumest that the number of housing units explains the number of people. The results of the regression analysis show that for each additional housing unit in a census tract the population will increase by 2.35."
      ]
    },
    {
      "cell_type": "markdown",
      "metadata": {
        "id": "IYzY-ffkitF7"
      },
      "source": [
        "### 3.4 Finding outliers\n",
        "The following section provides the steps needed to identify potential outliers within the data. This section will look at two approaches. First, observations that fall more than 1.5 times the interquartile range (IQR) above the upper quartile will be identified. Second, observations with a z-score greater than 3 will be identified."
      ]
    },
    {
      "cell_type": "markdown",
      "metadata": {
        "id": "Nj-o8ohPqpmR"
      },
      "source": [
        "#### 3.4.1 IQR Outliers"
      ]
    },
    {
      "cell_type": "code",
      "metadata": {
        "id": "GyydnXAOj0ia",
        "colab": {
          "base_uri": "https://localhost:8080/"
        },
        "outputId": "138b085d-214f-4c1f-8707-ce8f915954ab"
      },
      "source": [
        "lower_quartile_pop = tractdf['Total Population'].quantile(.25)\n",
        "upper_quartile_pop = tractdf['Total Population'].quantile(.75)\n",
        "IQR_pop = upper_quartile_pop - lower_quartile_pop\n",
        "print('The Interquartile range is ',IQR_pop)"
      ],
      "execution_count": 20,
      "outputs": [
        {
          "output_type": "stream",
          "name": "stdout",
          "text": [
            "The Interquartile range is  2815.0\n"
          ]
        }
      ]
    },
    {
      "cell_type": "code",
      "metadata": {
        "id": "jkaOQzzrok7K",
        "colab": {
          "base_uri": "https://localhost:8080/"
        },
        "outputId": "862fb6db-4562-486f-cf7c-8adf3a4bcd81"
      },
      "source": [
        "# How many people need to be in a census tract to be an outlier?\n",
        "upper_bound = upper_quartile_pop + 1.5*IQR_pop\n",
        "lower_bound = lower_quartile_pop - 1.5*IQR_pop\n",
        "print('If a census tract has more than',upper_bound,'people it is an outlier.')\n",
        "print('If a census tract has less than',lower_bound,'people it is an outlier.')"
      ],
      "execution_count": 21,
      "outputs": [
        {
          "output_type": "stream",
          "name": "stdout",
          "text": [
            "If a census tract has more than 10193.5 people it is an outlier.\n",
            "If a census tract has less than -1066.5 people it is an outlier.\n"
          ]
        }
      ]
    },
    {
      "cell_type": "code",
      "metadata": {
        "id": "cKhz1uxtjqk2",
        "colab": {
          "base_uri": "https://localhost:8080/"
        },
        "outputId": "8a01989f-2585-477d-b903-d0c43109108f"
      },
      "source": [
        "# Create a new variable to identify outliers\n",
        "tractdf['IQR Outlier Total Population'] = 0\n",
        "tractdf.loc[tractdf['Total Population'] > upper_quartile_pop + 1.5*IQR_pop, \n",
        "            'IQR Outlier Total Population'] = 1\n",
        "tractdf.loc[tractdf['Total Population'] < lower_quartile_pop - 1.5*IQR_pop, \n",
        "            'IQR Outlier Total Population'] = 1\n",
        "tractdf['IQR Outlier Total Population'].describe()"
      ],
      "execution_count": 22,
      "outputs": [
        {
          "output_type": "execute_result",
          "data": {
            "text/plain": [
              "count    5265.000000\n",
              "mean        0.023552\n",
              "std         0.151662\n",
              "min         0.000000\n",
              "25%         0.000000\n",
              "50%         0.000000\n",
              "75%         0.000000\n",
              "max         1.000000\n",
              "Name: IQR Outlier Total Population, dtype: float64"
            ]
          },
          "metadata": {},
          "execution_count": 22
        }
      ]
    },
    {
      "cell_type": "markdown",
      "metadata": {
        "id": "V9aXBrpcjp_g"
      },
      "source": [
        "##### 3.4.1.1 Discussion of IQR outliers\n",
        "Now that we have identified which census tracts are outliers based on the IQR definition, we can see that there are 124 census tracts that are have a population greater than 10,193."
      ]
    },
    {
      "cell_type": "code",
      "metadata": {
        "id": "DfcKvWBgoMZa",
        "colab": {
          "base_uri": "https://localhost:8080/",
          "height": 120
        },
        "outputId": "46e149e9-bc35-4491-88c6-803c8827c224"
      },
      "source": [
        "table2 = tractdf.loc[tractdf['IQR Outlier Total Population'] == 1].describe().T\n",
        "varformat = \"{:,.0f}\" # The variable format adds a comma and rounds up\n",
        "table_title = \"Table 2. Descriptive statistics for IQR outlier census tracts in Texas, 2010.\"\n",
        "table2 = table2.style.set_caption(table_title).format(varformat).set_properties(**{'text-align': 'right'})\n",
        "table2"
      ],
      "execution_count": 24,
      "outputs": [
        {
          "output_type": "execute_result",
          "data": {
            "text/html": [
              "<style  type=\"text/css\" >\n",
              "#T_3d9fb0d4_1a2c_11ec_9126_0242ac1c0002row0_col0,#T_3d9fb0d4_1a2c_11ec_9126_0242ac1c0002row0_col1,#T_3d9fb0d4_1a2c_11ec_9126_0242ac1c0002row0_col2,#T_3d9fb0d4_1a2c_11ec_9126_0242ac1c0002row0_col3,#T_3d9fb0d4_1a2c_11ec_9126_0242ac1c0002row0_col4,#T_3d9fb0d4_1a2c_11ec_9126_0242ac1c0002row0_col5,#T_3d9fb0d4_1a2c_11ec_9126_0242ac1c0002row0_col6,#T_3d9fb0d4_1a2c_11ec_9126_0242ac1c0002row0_col7,#T_3d9fb0d4_1a2c_11ec_9126_0242ac1c0002row1_col0,#T_3d9fb0d4_1a2c_11ec_9126_0242ac1c0002row1_col1,#T_3d9fb0d4_1a2c_11ec_9126_0242ac1c0002row1_col2,#T_3d9fb0d4_1a2c_11ec_9126_0242ac1c0002row1_col3,#T_3d9fb0d4_1a2c_11ec_9126_0242ac1c0002row1_col4,#T_3d9fb0d4_1a2c_11ec_9126_0242ac1c0002row1_col5,#T_3d9fb0d4_1a2c_11ec_9126_0242ac1c0002row1_col6,#T_3d9fb0d4_1a2c_11ec_9126_0242ac1c0002row1_col7,#T_3d9fb0d4_1a2c_11ec_9126_0242ac1c0002row2_col0,#T_3d9fb0d4_1a2c_11ec_9126_0242ac1c0002row2_col1,#T_3d9fb0d4_1a2c_11ec_9126_0242ac1c0002row2_col2,#T_3d9fb0d4_1a2c_11ec_9126_0242ac1c0002row2_col3,#T_3d9fb0d4_1a2c_11ec_9126_0242ac1c0002row2_col4,#T_3d9fb0d4_1a2c_11ec_9126_0242ac1c0002row2_col5,#T_3d9fb0d4_1a2c_11ec_9126_0242ac1c0002row2_col6,#T_3d9fb0d4_1a2c_11ec_9126_0242ac1c0002row2_col7{\n",
              "            text-align:  right;\n",
              "        }</style><table id=\"T_3d9fb0d4_1a2c_11ec_9126_0242ac1c0002\" ><caption>Table 2. Descriptive statistics for IQR outlier census tracts in Texas, 2010.</caption><thead>    <tr>        <th class=\"blank level0\" ></th>        <th class=\"col_heading level0 col0\" >count</th>        <th class=\"col_heading level0 col1\" >mean</th>        <th class=\"col_heading level0 col2\" >std</th>        <th class=\"col_heading level0 col3\" >min</th>        <th class=\"col_heading level0 col4\" >25%</th>        <th class=\"col_heading level0 col5\" >50%</th>        <th class=\"col_heading level0 col6\" >75%</th>        <th class=\"col_heading level0 col7\" >max</th>    </tr></thead><tbody>\n",
              "                <tr>\n",
              "                        <th id=\"T_3d9fb0d4_1a2c_11ec_9126_0242ac1c0002level0_row0\" class=\"row_heading level0 row0\" >Total Housing Units</th>\n",
              "                        <td id=\"T_3d9fb0d4_1a2c_11ec_9126_0242ac1c0002row0_col0\" class=\"data row0 col0\" >124</td>\n",
              "                        <td id=\"T_3d9fb0d4_1a2c_11ec_9126_0242ac1c0002row0_col1\" class=\"data row0 col1\" >4,489</td>\n",
              "                        <td id=\"T_3d9fb0d4_1a2c_11ec_9126_0242ac1c0002row0_col2\" class=\"data row0 col2\" >1,345</td>\n",
              "                        <td id=\"T_3d9fb0d4_1a2c_11ec_9126_0242ac1c0002row0_col3\" class=\"data row0 col3\" >1,760</td>\n",
              "                        <td id=\"T_3d9fb0d4_1a2c_11ec_9126_0242ac1c0002row0_col4\" class=\"data row0 col4\" >3,700</td>\n",
              "                        <td id=\"T_3d9fb0d4_1a2c_11ec_9126_0242ac1c0002row0_col5\" class=\"data row0 col5\" >4,210</td>\n",
              "                        <td id=\"T_3d9fb0d4_1a2c_11ec_9126_0242ac1c0002row0_col6\" class=\"data row0 col6\" >5,051</td>\n",
              "                        <td id=\"T_3d9fb0d4_1a2c_11ec_9126_0242ac1c0002row0_col7\" class=\"data row0 col7\" >10,736</td>\n",
              "            </tr>\n",
              "            <tr>\n",
              "                        <th id=\"T_3d9fb0d4_1a2c_11ec_9126_0242ac1c0002level0_row1\" class=\"row_heading level0 row1\" >Total Population</th>\n",
              "                        <td id=\"T_3d9fb0d4_1a2c_11ec_9126_0242ac1c0002row1_col0\" class=\"data row1 col0\" >124</td>\n",
              "                        <td id=\"T_3d9fb0d4_1a2c_11ec_9126_0242ac1c0002row1_col1\" class=\"data row1 col1\" >13,550</td>\n",
              "                        <td id=\"T_3d9fb0d4_1a2c_11ec_9126_0242ac1c0002row1_col2\" class=\"data row1 col2\" >3,705</td>\n",
              "                        <td id=\"T_3d9fb0d4_1a2c_11ec_9126_0242ac1c0002row1_col3\" class=\"data row1 col3\" >10,214</td>\n",
              "                        <td id=\"T_3d9fb0d4_1a2c_11ec_9126_0242ac1c0002row1_col4\" class=\"data row1 col4\" >11,160</td>\n",
              "                        <td id=\"T_3d9fb0d4_1a2c_11ec_9126_0242ac1c0002row1_col5\" class=\"data row1 col5\" >12,357</td>\n",
              "                        <td id=\"T_3d9fb0d4_1a2c_11ec_9126_0242ac1c0002row1_col6\" class=\"data row1 col6\" >15,276</td>\n",
              "                        <td id=\"T_3d9fb0d4_1a2c_11ec_9126_0242ac1c0002row1_col7\" class=\"data row1 col7\" >33,201</td>\n",
              "            </tr>\n",
              "            <tr>\n",
              "                        <th id=\"T_3d9fb0d4_1a2c_11ec_9126_0242ac1c0002level0_row2\" class=\"row_heading level0 row2\" >IQR Outlier Total Population</th>\n",
              "                        <td id=\"T_3d9fb0d4_1a2c_11ec_9126_0242ac1c0002row2_col0\" class=\"data row2 col0\" >124</td>\n",
              "                        <td id=\"T_3d9fb0d4_1a2c_11ec_9126_0242ac1c0002row2_col1\" class=\"data row2 col1\" >1</td>\n",
              "                        <td id=\"T_3d9fb0d4_1a2c_11ec_9126_0242ac1c0002row2_col2\" class=\"data row2 col2\" >0</td>\n",
              "                        <td id=\"T_3d9fb0d4_1a2c_11ec_9126_0242ac1c0002row2_col3\" class=\"data row2 col3\" >1</td>\n",
              "                        <td id=\"T_3d9fb0d4_1a2c_11ec_9126_0242ac1c0002row2_col4\" class=\"data row2 col4\" >1</td>\n",
              "                        <td id=\"T_3d9fb0d4_1a2c_11ec_9126_0242ac1c0002row2_col5\" class=\"data row2 col5\" >1</td>\n",
              "                        <td id=\"T_3d9fb0d4_1a2c_11ec_9126_0242ac1c0002row2_col6\" class=\"data row2 col6\" >1</td>\n",
              "                        <td id=\"T_3d9fb0d4_1a2c_11ec_9126_0242ac1c0002row2_col7\" class=\"data row2 col7\" >1</td>\n",
              "            </tr>\n",
              "    </tbody></table>"
            ],
            "text/plain": [
              "<pandas.io.formats.style.Styler at 0x7f79752153d0>"
            ]
          },
          "metadata": {},
          "execution_count": 24
        }
      ]
    },
    {
      "cell_type": "markdown",
      "metadata": {
        "id": "OyF80Mu_q036"
      },
      "source": [
        "#### 3.4.2 Z-Score Outliers\n",
        "Another way to identify outliers is by looking at the z-score, or the number of standard deviations an observation falls from the mean. \n",
        "The formula for z-score is\n",
        "\n",
        ">$z = \\frac{observation - mean}{{standard deviation}}$\n",
        "\n",
        "If a census tracts z-score is greater than or less than 3 it would be considered an outlier.\n"
      ]
    },
    {
      "cell_type": "code",
      "metadata": {
        "id": "1-3sz4KArc98",
        "colab": {
          "base_uri": "https://localhost:8080/"
        },
        "outputId": "d3b9d30c-7c5a-4060-82dd-edf8549d6f59"
      },
      "source": [
        "mean = tractdf['Total Population'].mean()\n",
        "standard_deviation = tractdf['Total Population'].std()\n",
        "print('The average census tract had a total population of', mean)\n",
        "print('The standard deviation for the distribution was', standard_deviation)"
      ],
      "execution_count": 25,
      "outputs": [
        {
          "output_type": "stream",
          "name": "stdout",
          "text": [
            "The average census tract had a total population of 4775.9849952516615\n",
            "The standard deviation for the distribution was 2440.375210630077\n"
          ]
        }
      ]
    },
    {
      "cell_type": "code",
      "metadata": {
        "id": "aQ85qH-Wq74H",
        "colab": {
          "base_uri": "https://localhost:8080/"
        },
        "outputId": "870d584b-41a9-48e2-f3e3-55cfd9cc70b4"
      },
      "source": [
        "tractdf['Total Population Z-score'] = (tractdf['Total Population'] - mean)/standard_deviation\n",
        "tractdf['Total Population Z-score'].describe()"
      ],
      "execution_count": 26,
      "outputs": [
        {
          "output_type": "execute_result",
          "data": {
            "text/plain": [
              "count    5.265000e+03\n",
              "mean     1.933243e-16\n",
              "std      1.000000e+00\n",
              "min     -1.957070e+00\n",
              "25%     -6.638262e-01\n",
              "50%     -1.352190e-01\n",
              "75%      4.896849e-01\n",
              "max      1.164781e+01\n",
              "Name: Total Population Z-score, dtype: float64"
            ]
          },
          "metadata": {},
          "execution_count": 26
        }
      ]
    },
    {
      "cell_type": "code",
      "metadata": {
        "id": "UDDDRP_CtECJ",
        "colab": {
          "base_uri": "https://localhost:8080/"
        },
        "outputId": "d3da3067-2e7f-49ca-daab-087fdcad9987"
      },
      "source": [
        "# Create a new variable to identify outliers\n",
        "tractdf['Z-score Outlier Total Population'] = 0\n",
        "tractdf.loc[abs(tractdf['Total Population Z-score']) > 3, \n",
        "            'Z-score Outlier Total Population'] = 1\n",
        "tractdf['Z-score Outlier Total Population'].describe()"
      ],
      "execution_count": 27,
      "outputs": [
        {
          "output_type": "execute_result",
          "data": {
            "text/plain": [
              "count    5265.000000\n",
              "mean        0.013295\n",
              "std         0.114547\n",
              "min         0.000000\n",
              "25%         0.000000\n",
              "50%         0.000000\n",
              "75%         0.000000\n",
              "max         1.000000\n",
              "Name: Z-score Outlier Total Population, dtype: float64"
            ]
          },
          "metadata": {},
          "execution_count": 27
        }
      ]
    },
    {
      "cell_type": "code",
      "metadata": {
        "id": "YWeozm-atnf6",
        "colab": {
          "base_uri": "https://localhost:8080/",
          "height": 162
        },
        "outputId": "d9a8c580-749c-42ab-b708-a17cad564338"
      },
      "source": [
        "table3 = tractdf.loc[tractdf['Z-score Outlier Total Population'] == 1].describe().T\n",
        "varformat = \"{:,.0f}\" # The variable format adds a comma and rounds up\n",
        "table_title = \"Table 3. Descriptive statistics for Z-score outlier census tracts in Texas, 2010.\"\n",
        "table3 = table3.style.set_caption(table_title).format(varformat).set_properties(**{'text-align': 'right'})\n",
        "table3"
      ],
      "execution_count": 28,
      "outputs": [
        {
          "output_type": "execute_result",
          "data": {
            "text/html": [
              "<style  type=\"text/css\" >\n",
              "#T_5124c496_1a2c_11ec_9126_0242ac1c0002row0_col0,#T_5124c496_1a2c_11ec_9126_0242ac1c0002row0_col1,#T_5124c496_1a2c_11ec_9126_0242ac1c0002row0_col2,#T_5124c496_1a2c_11ec_9126_0242ac1c0002row0_col3,#T_5124c496_1a2c_11ec_9126_0242ac1c0002row0_col4,#T_5124c496_1a2c_11ec_9126_0242ac1c0002row0_col5,#T_5124c496_1a2c_11ec_9126_0242ac1c0002row0_col6,#T_5124c496_1a2c_11ec_9126_0242ac1c0002row0_col7,#T_5124c496_1a2c_11ec_9126_0242ac1c0002row1_col0,#T_5124c496_1a2c_11ec_9126_0242ac1c0002row1_col1,#T_5124c496_1a2c_11ec_9126_0242ac1c0002row1_col2,#T_5124c496_1a2c_11ec_9126_0242ac1c0002row1_col3,#T_5124c496_1a2c_11ec_9126_0242ac1c0002row1_col4,#T_5124c496_1a2c_11ec_9126_0242ac1c0002row1_col5,#T_5124c496_1a2c_11ec_9126_0242ac1c0002row1_col6,#T_5124c496_1a2c_11ec_9126_0242ac1c0002row1_col7,#T_5124c496_1a2c_11ec_9126_0242ac1c0002row2_col0,#T_5124c496_1a2c_11ec_9126_0242ac1c0002row2_col1,#T_5124c496_1a2c_11ec_9126_0242ac1c0002row2_col2,#T_5124c496_1a2c_11ec_9126_0242ac1c0002row2_col3,#T_5124c496_1a2c_11ec_9126_0242ac1c0002row2_col4,#T_5124c496_1a2c_11ec_9126_0242ac1c0002row2_col5,#T_5124c496_1a2c_11ec_9126_0242ac1c0002row2_col6,#T_5124c496_1a2c_11ec_9126_0242ac1c0002row2_col7,#T_5124c496_1a2c_11ec_9126_0242ac1c0002row3_col0,#T_5124c496_1a2c_11ec_9126_0242ac1c0002row3_col1,#T_5124c496_1a2c_11ec_9126_0242ac1c0002row3_col2,#T_5124c496_1a2c_11ec_9126_0242ac1c0002row3_col3,#T_5124c496_1a2c_11ec_9126_0242ac1c0002row3_col4,#T_5124c496_1a2c_11ec_9126_0242ac1c0002row3_col5,#T_5124c496_1a2c_11ec_9126_0242ac1c0002row3_col6,#T_5124c496_1a2c_11ec_9126_0242ac1c0002row3_col7,#T_5124c496_1a2c_11ec_9126_0242ac1c0002row4_col0,#T_5124c496_1a2c_11ec_9126_0242ac1c0002row4_col1,#T_5124c496_1a2c_11ec_9126_0242ac1c0002row4_col2,#T_5124c496_1a2c_11ec_9126_0242ac1c0002row4_col3,#T_5124c496_1a2c_11ec_9126_0242ac1c0002row4_col4,#T_5124c496_1a2c_11ec_9126_0242ac1c0002row4_col5,#T_5124c496_1a2c_11ec_9126_0242ac1c0002row4_col6,#T_5124c496_1a2c_11ec_9126_0242ac1c0002row4_col7{\n",
              "            text-align:  right;\n",
              "        }</style><table id=\"T_5124c496_1a2c_11ec_9126_0242ac1c0002\" ><caption>Table 3. Descriptive statistics for Z-score outlier census tracts in Texas, 2010.</caption><thead>    <tr>        <th class=\"blank level0\" ></th>        <th class=\"col_heading level0 col0\" >count</th>        <th class=\"col_heading level0 col1\" >mean</th>        <th class=\"col_heading level0 col2\" >std</th>        <th class=\"col_heading level0 col3\" >min</th>        <th class=\"col_heading level0 col4\" >25%</th>        <th class=\"col_heading level0 col5\" >50%</th>        <th class=\"col_heading level0 col6\" >75%</th>        <th class=\"col_heading level0 col7\" >max</th>    </tr></thead><tbody>\n",
              "                <tr>\n",
              "                        <th id=\"T_5124c496_1a2c_11ec_9126_0242ac1c0002level0_row0\" class=\"row_heading level0 row0\" >Total Housing Units</th>\n",
              "                        <td id=\"T_5124c496_1a2c_11ec_9126_0242ac1c0002row0_col0\" class=\"data row0 col0\" >70</td>\n",
              "                        <td id=\"T_5124c496_1a2c_11ec_9126_0242ac1c0002row0_col1\" class=\"data row0 col1\" >5,111</td>\n",
              "                        <td id=\"T_5124c496_1a2c_11ec_9126_0242ac1c0002row0_col2\" class=\"data row0 col2\" >1,450</td>\n",
              "                        <td id=\"T_5124c496_1a2c_11ec_9126_0242ac1c0002row0_col3\" class=\"data row0 col3\" >2,166</td>\n",
              "                        <td id=\"T_5124c496_1a2c_11ec_9126_0242ac1c0002row0_col4\" class=\"data row0 col4\" >4,266</td>\n",
              "                        <td id=\"T_5124c496_1a2c_11ec_9126_0242ac1c0002row0_col5\" class=\"data row0 col5\" >4,924</td>\n",
              "                        <td id=\"T_5124c496_1a2c_11ec_9126_0242ac1c0002row0_col6\" class=\"data row0 col6\" >5,427</td>\n",
              "                        <td id=\"T_5124c496_1a2c_11ec_9126_0242ac1c0002row0_col7\" class=\"data row0 col7\" >10,736</td>\n",
              "            </tr>\n",
              "            <tr>\n",
              "                        <th id=\"T_5124c496_1a2c_11ec_9126_0242ac1c0002level0_row1\" class=\"row_heading level0 row1\" >Total Population</th>\n",
              "                        <td id=\"T_5124c496_1a2c_11ec_9126_0242ac1c0002row1_col0\" class=\"data row1 col0\" >70</td>\n",
              "                        <td id=\"T_5124c496_1a2c_11ec_9126_0242ac1c0002row1_col1\" class=\"data row1 col1\" >15,566</td>\n",
              "                        <td id=\"T_5124c496_1a2c_11ec_9126_0242ac1c0002row1_col2\" class=\"data row1 col2\" >3,846</td>\n",
              "                        <td id=\"T_5124c496_1a2c_11ec_9126_0242ac1c0002row1_col3\" class=\"data row1 col3\" >12,134</td>\n",
              "                        <td id=\"T_5124c496_1a2c_11ec_9126_0242ac1c0002row1_col4\" class=\"data row1 col4\" >12,989</td>\n",
              "                        <td id=\"T_5124c496_1a2c_11ec_9126_0242ac1c0002row1_col5\" class=\"data row1 col5\" >14,778</td>\n",
              "                        <td id=\"T_5124c496_1a2c_11ec_9126_0242ac1c0002row1_col6\" class=\"data row1 col6\" >16,523</td>\n",
              "                        <td id=\"T_5124c496_1a2c_11ec_9126_0242ac1c0002row1_col7\" class=\"data row1 col7\" >33,201</td>\n",
              "            </tr>\n",
              "            <tr>\n",
              "                        <th id=\"T_5124c496_1a2c_11ec_9126_0242ac1c0002level0_row2\" class=\"row_heading level0 row2\" >IQR Outlier Total Population</th>\n",
              "                        <td id=\"T_5124c496_1a2c_11ec_9126_0242ac1c0002row2_col0\" class=\"data row2 col0\" >70</td>\n",
              "                        <td id=\"T_5124c496_1a2c_11ec_9126_0242ac1c0002row2_col1\" class=\"data row2 col1\" >1</td>\n",
              "                        <td id=\"T_5124c496_1a2c_11ec_9126_0242ac1c0002row2_col2\" class=\"data row2 col2\" >0</td>\n",
              "                        <td id=\"T_5124c496_1a2c_11ec_9126_0242ac1c0002row2_col3\" class=\"data row2 col3\" >1</td>\n",
              "                        <td id=\"T_5124c496_1a2c_11ec_9126_0242ac1c0002row2_col4\" class=\"data row2 col4\" >1</td>\n",
              "                        <td id=\"T_5124c496_1a2c_11ec_9126_0242ac1c0002row2_col5\" class=\"data row2 col5\" >1</td>\n",
              "                        <td id=\"T_5124c496_1a2c_11ec_9126_0242ac1c0002row2_col6\" class=\"data row2 col6\" >1</td>\n",
              "                        <td id=\"T_5124c496_1a2c_11ec_9126_0242ac1c0002row2_col7\" class=\"data row2 col7\" >1</td>\n",
              "            </tr>\n",
              "            <tr>\n",
              "                        <th id=\"T_5124c496_1a2c_11ec_9126_0242ac1c0002level0_row3\" class=\"row_heading level0 row3\" >Total Population Z-score</th>\n",
              "                        <td id=\"T_5124c496_1a2c_11ec_9126_0242ac1c0002row3_col0\" class=\"data row3 col0\" >70</td>\n",
              "                        <td id=\"T_5124c496_1a2c_11ec_9126_0242ac1c0002row3_col1\" class=\"data row3 col1\" >4</td>\n",
              "                        <td id=\"T_5124c496_1a2c_11ec_9126_0242ac1c0002row3_col2\" class=\"data row3 col2\" >2</td>\n",
              "                        <td id=\"T_5124c496_1a2c_11ec_9126_0242ac1c0002row3_col3\" class=\"data row3 col3\" >3</td>\n",
              "                        <td id=\"T_5124c496_1a2c_11ec_9126_0242ac1c0002row3_col4\" class=\"data row3 col4\" >3</td>\n",
              "                        <td id=\"T_5124c496_1a2c_11ec_9126_0242ac1c0002row3_col5\" class=\"data row3 col5\" >4</td>\n",
              "                        <td id=\"T_5124c496_1a2c_11ec_9126_0242ac1c0002row3_col6\" class=\"data row3 col6\" >5</td>\n",
              "                        <td id=\"T_5124c496_1a2c_11ec_9126_0242ac1c0002row3_col7\" class=\"data row3 col7\" >12</td>\n",
              "            </tr>\n",
              "            <tr>\n",
              "                        <th id=\"T_5124c496_1a2c_11ec_9126_0242ac1c0002level0_row4\" class=\"row_heading level0 row4\" >Z-score Outlier Total Population</th>\n",
              "                        <td id=\"T_5124c496_1a2c_11ec_9126_0242ac1c0002row4_col0\" class=\"data row4 col0\" >70</td>\n",
              "                        <td id=\"T_5124c496_1a2c_11ec_9126_0242ac1c0002row4_col1\" class=\"data row4 col1\" >1</td>\n",
              "                        <td id=\"T_5124c496_1a2c_11ec_9126_0242ac1c0002row4_col2\" class=\"data row4 col2\" >0</td>\n",
              "                        <td id=\"T_5124c496_1a2c_11ec_9126_0242ac1c0002row4_col3\" class=\"data row4 col3\" >1</td>\n",
              "                        <td id=\"T_5124c496_1a2c_11ec_9126_0242ac1c0002row4_col4\" class=\"data row4 col4\" >1</td>\n",
              "                        <td id=\"T_5124c496_1a2c_11ec_9126_0242ac1c0002row4_col5\" class=\"data row4 col5\" >1</td>\n",
              "                        <td id=\"T_5124c496_1a2c_11ec_9126_0242ac1c0002row4_col6\" class=\"data row4 col6\" >1</td>\n",
              "                        <td id=\"T_5124c496_1a2c_11ec_9126_0242ac1c0002row4_col7\" class=\"data row4 col7\" >1</td>\n",
              "            </tr>\n",
              "    </tbody></table>"
            ],
            "text/plain": [
              "<pandas.io.formats.style.Styler at 0x7f79728a8e90>"
            ]
          },
          "metadata": {},
          "execution_count": 28
        }
      ]
    },
    {
      "cell_type": "markdown",
      "metadata": {
        "id": "rZIaPbACuBp1"
      },
      "source": [
        "##### 3.4.1.2 Discussion of Z-score outliers\n",
        "Now that we have identified which census tracts are outliers based on the Z-scores definition, we can see that there are only 70 census tracts that are are more than 3 standard deviations from the mean. These census tracts have populations greater than 12,134 people. Notice that all of the z-score outliers are also IQR outliers."
      ]
    },
    {
      "cell_type": "markdown",
      "metadata": {
        "id": "0hVvf-KluaHh"
      },
      "source": [
        "## Step 4: Save results\n",
        "The final step in this notebook is to save the results as a csv file. In Google Colab the file will be saved into a temporary folder and can be found by clicking on the file icon to right of the window. The file can be downloaded to your computer."
      ]
    },
    {
      "cell_type": "code",
      "metadata": {
        "id": "WDpw8rHbuZJ1"
      },
      "source": [
        "tractdf.to_csv('tract_outliers_texas2010.csv')"
      ],
      "execution_count": 29,
      "outputs": []
    },
    {
      "cell_type": "markdown",
      "metadata": {
        "id": "f4D4ZPtJRDgG"
      },
      "source": [
        "# Just in case.... Python Version Information\n",
        "Python is an open source programming language, which means that it is not owned or maintained by a private company. Programmers create packages (collections of programs) and make them publicly available. \n",
        "The versions of python and packages can change frequently. Sometimes, when a version changes the code also needs to change. The program above was based on the following versions:\n",
        "* Python Version      3.7.12 (default, Sep 10 2021, 00:21:48) \n",
        "* pandas version:     1.1.5\n",
        "* requests version:      2.23.0\n",
        "* matplotlib: 3.2.2\n",
        "\n",
        "If there are errors in the code, it is most likely due to changes in the versions."
      ]
    },
    {
      "cell_type": "code",
      "metadata": {
        "id": "S1AEFgCUka9l",
        "colab": {
          "base_uri": "https://localhost:8080/"
        },
        "outputId": "c8cb31f2-2cf8-4d52-e487-38272e93e071"
      },
      "source": [
        "# Import packages\n",
        "import sys # For checking version of python for replication\n",
        "import matplotlib # required to see the version of matplotlib\n",
        "\n",
        "# It is important to know the versions being used - this will help with debugging\n",
        "print(\"Python Version     \", sys.version)\n",
        "print(\"pandas version:    \", pd.__version__)\n",
        "print(\"requests version:     \", requests.__version__)\n",
        "print(\"matplotlib: \", matplotlib.__version__)"
      ],
      "execution_count": 30,
      "outputs": [
        {
          "output_type": "stream",
          "name": "stdout",
          "text": [
            "Python Version      3.7.12 (default, Sep 10 2021, 00:21:48) \n",
            "[GCC 7.5.0]\n",
            "pandas version:     1.1.5\n",
            "requests version:      2.23.0\n",
            "matplotlib:  3.2.2\n"
          ]
        }
      ]
    }
  ]
}
