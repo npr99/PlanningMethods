{
  "nbformat": 4,
  "nbformat_minor": 0,
  "metadata": {
    "colab": {
      "name": "Google Colab and Python for Statistical Analyses.ipynb",
      "provenance": [],
      "toc_visible": true,
      "authorship_tag": "ABX9TyPt5t8175Jv24bZZZT8BU18",
      "include_colab_link": true
    },
    "kernelspec": {
      "name": "python3",
      "display_name": "Python 3"
    }
  },
  "cells": [
    {
      "cell_type": "markdown",
      "metadata": {
        "id": "view-in-github",
        "colab_type": "text"
      },
      "source": [
        "<a href=\"https://colab.research.google.com/github/npr99/PlanningMethods/blob/master/Google_Colab_and_Python_for_Statistical_Analyses.ipynb\" target=\"_parent\"><img src=\"https://colab.research.google.com/assets/colab-badge.svg\" alt=\"Open In Colab\"/></a>"
      ]
    },
    {
      "cell_type": "markdown",
      "metadata": {
        "id": "vu4FrXliNrCS",
        "colab_type": "text"
      },
      "source": [
        "# Google Colab and Python for Statistical Analyses\n",
        "\n",
        "Major statistical software packages have procedures for the methods presented in Agresti (2018). This Google Colab Notebook (also called a Jupyter Notebook) discusses and illustrates the use of Python for these methods. We deal with basic use of the software rather than the great variety of options provided by the procedures. For ease of reference, the material is organized by chapter of presentation in this text. The full data files for most of the text examples and exercises are a vailable at:\n",
        "\n",
        "http://users.stat.ufl.edu/~aa/smss/data/\n",
        "\n",
        "Sections of this notebook are adapted from Agresit (2018) Appendix on Major Statitical Packages.\n",
        "\n",
        "Agresti, A. (2018). Statistical Methods for the Social Sciences. 5th Edition. Upper Saddle River, NJ: Pearson, Inc."
      ]
    },
    {
      "cell_type": "markdown",
      "metadata": {
        "id": "gdNb39GCOmmA",
        "colab_type": "text"
      },
      "source": [
        "## Introduction to Python\n",
        "\n",
        "Python is a free software maintained and regularly updated by many volunteers. \n",
        "\n",
        "You can get help abut Python with many books tailored to implementing statistcal methods using Python and at many sites on the Internet, such as:\n",
        "\n",
        "Lavanya Vijayan (2019) Python Quick Start. Available on LinkedIn Learning\n",
        "https://www.linkedin.com/learning/python-quick-start/advance-your-career-with-python\n"
      ]
    },
    {
      "cell_type": "markdown",
      "metadata": {
        "id": "BU0QH9jjP2RC",
        "colab_type": "text"
      },
      "source": [
        "### Python Packages\n",
        "\n",
        "Many packages have been created to perform analyses in Python. Each package must be imported into Google Colab (Jupyter Notebook) in order to use commands available in the package.\n",
        "A primary package required for working with datafiles is Pandas (https://pandas.pydata.org/)\n",
        "\n",
        "The next block of code imports pandas as \"pd\". When you see \"pd\" in a code block Python is calling on the Pandas library of commands."
      ]
    },
    {
      "cell_type": "code",
      "metadata": {
        "id": "X6hJAL6BOu1S",
        "colab_type": "code",
        "colab": {}
      },
      "source": [
        "import pandas as pd # For reading, writing and wrangling data"
      ],
      "execution_count": 2,
      "outputs": []
    },
    {
      "cell_type": "markdown",
      "metadata": {
        "id": "y-rEFTw9THz2",
        "colab_type": "text"
      },
      "source": [
        "## Read in an Agresti (2018) data file\n",
        "The next block of code reads a data file from the Agresti (2018) website.\n",
        "\n",
        "Often one of the most challanging parts of working with data is getting the data into the statistical software. Agresti (2018) presents an intersesting challange. The datafiles are in the .dat format. This format is basically a text file with the data seperated by whitespace.\n",
        "\n",
        "The Pandas (pd) command read table (read_table) provides the tools needed to read in textfiles with whitespace. This is a bit tricky (a [Google search resulted in a solution](https://stackoverflow.com/questions/16578573/python-pandas-with-large-disordered-text-files)). The seperator (sep) is set to \\s+ which is a regular expression for \"any amount of whitespace\". \n",
        "\n",
        "The next codeblock will work for any of the .dat data files on the Agresti (2018) website. The command reads in the [Crime.dat](http://users.stat.ufl.edu/~aa/smss/data/Crime.dat) file, seperates the data values into three columns:\n",
        "\n",
        "*   state = Two letter abbreviation for each state (AK = Alaska)\n",
        "*   violent = Violent crime rate in the state\n",
        "*   murder = Murder rate in the state\n",
        "\n",
        "The datafile is stored in the Pandas dataframe called Crime.\n",
        "\n",
        "The command Crime.head() provides a preview of the first 5 lines in the dataframe. Notice that for "
      ]
    },
    {
      "cell_type": "code",
      "metadata": {
        "id": "rX4XGVhqRgPE",
        "colab_type": "code",
        "colab": {
          "base_uri": "https://localhost:8080/",
          "height": 202
        },
        "outputId": "9c6131c7-1cc3-4de0-a65d-0a51de4b23c8"
      },
      "source": [
        "Crime = pd.read_table(\"http://users.stat.ufl.edu/~aa/smss/data/Crime.dat\", sep=\"\\s+\")\n",
        "Crime.head()"
      ],
      "execution_count": 54,
      "outputs": [
        {
          "output_type": "execute_result",
          "data": {
            "text/html": [
              "<div>\n",
              "<style scoped>\n",
              "    .dataframe tbody tr th:only-of-type {\n",
              "        vertical-align: middle;\n",
              "    }\n",
              "\n",
              "    .dataframe tbody tr th {\n",
              "        vertical-align: top;\n",
              "    }\n",
              "\n",
              "    .dataframe thead th {\n",
              "        text-align: right;\n",
              "    }\n",
              "</style>\n",
              "<table border=\"1\" class=\"dataframe\">\n",
              "  <thead>\n",
              "    <tr style=\"text-align: right;\">\n",
              "      <th></th>\n",
              "      <th>state</th>\n",
              "      <th>violent</th>\n",
              "      <th>murder</th>\n",
              "    </tr>\n",
              "  </thead>\n",
              "  <tbody>\n",
              "    <tr>\n",
              "      <th>0</th>\n",
              "      <td>AK</td>\n",
              "      <td>64</td>\n",
              "      <td>4.6</td>\n",
              "    </tr>\n",
              "    <tr>\n",
              "      <th>1</th>\n",
              "      <td>AL</td>\n",
              "      <td>43</td>\n",
              "      <td>7.2</td>\n",
              "    </tr>\n",
              "    <tr>\n",
              "      <th>2</th>\n",
              "      <td>AR</td>\n",
              "      <td>46</td>\n",
              "      <td>5.4</td>\n",
              "    </tr>\n",
              "    <tr>\n",
              "      <th>3</th>\n",
              "      <td>AZ</td>\n",
              "      <td>42</td>\n",
              "      <td>5.4</td>\n",
              "    </tr>\n",
              "    <tr>\n",
              "      <th>4</th>\n",
              "      <td>CA</td>\n",
              "      <td>40</td>\n",
              "      <td>4.6</td>\n",
              "    </tr>\n",
              "  </tbody>\n",
              "</table>\n",
              "</div>"
            ],
            "text/plain": [
              "  state  violent  murder\n",
              "0    AK       64     4.6\n",
              "1    AL       43     7.2\n",
              "2    AR       46     5.4\n",
              "3    AZ       42     5.4\n",
              "4    CA       40     4.6"
            ]
          },
          "metadata": {
            "tags": []
          },
          "execution_count": 54
        }
      ]
    },
    {
      "cell_type": "markdown",
      "metadata": {
        "id": "qJ9zmVGgf_mH",
        "colab_type": "text"
      },
      "source": [
        "## Chapter 2: Sampling and Measurement\n",
        "\n",
        "On page 16, we showed how to select a simple random sample, to select four people from a population numbered 1 to 60.\n",
        "\n",
        "In Python we will need the package `random` and the function `sample`."
      ]
    },
    {
      "cell_type": "code",
      "metadata": {
        "id": "_0VdzIrff_7F",
        "colab_type": "code",
        "colab": {}
      },
      "source": [
        "import random  \n",
        "from random import sample "
      ],
      "execution_count": 35,
      "outputs": []
    },
    {
      "cell_type": "code",
      "metadata": {
        "id": "plMGuDBagDsf",
        "colab_type": "code",
        "colab": {
          "base_uri": "https://localhost:8080/",
          "height": 55
        },
        "outputId": "cdff56b0-7924-4e08-be45-a9897f91bc85"
      },
      "source": [
        "# Create a list from 1 to 60\n",
        "list.extend(range(1, 60)) \n",
        "print(list) "
      ],
      "execution_count": 51,
      "outputs": [
        {
          "output_type": "stream",
          "text": [
            "[1, 2, 3, 4, 5, 6, 7, 8, 9, 10, 11, 12, 13, 14, 15, 16, 17, 18, 19, 20, 21, 22, 23, 24, 25, 26, 27, 28, 29, 30, 31, 32, 33, 34, 35, 36, 37, 38, 39, 40, 41, 42, 43, 44, 45, 46, 47, 48, 49, 50, 51, 52, 53, 54, 55, 56, 57, 58, 59, 1, 2, 3, 4, 5, 6, 7, 8, 9, 10, 11, 12, 13, 14, 15, 16, 17, 18, 19, 20, 21, 22, 23, 24, 25, 26, 27, 28, 29, 30, 31, 32, 33, 34, 35, 36, 37, 38, 39, 40, 41, 42, 43, 44, 45, 46, 47, 48, 49, 50, 51, 52, 53, 54, 55, 56, 57, 58, 59, 1, 2, 3, 4, 5, 6, 7, 8, 9, 10, 11, 12, 13, 14, 15, 16, 17, 18, 19, 20, 21, 22, 23, 24, 25, 26, 27, 28, 29, 30, 31, 32, 33, 34, 35, 36, 37, 38, 39, 40, 41, 42, 43, 44, 45, 46, 47, 48, 49, 50, 51, 52, 53, 54, 55, 56, 57, 58, 59]\n"
          ],
          "name": "stdout"
        }
      ]
    },
    {
      "cell_type": "code",
      "metadata": {
        "id": "_QlRSKJghcVE",
        "colab_type": "code",
        "colab": {
          "base_uri": "https://localhost:8080/",
          "height": 35
        },
        "outputId": "71fd181c-acf4-4ab1-8916-2c82e131cd9d"
      },
      "source": [
        "# Randomly sample four people from the list \n",
        "random.sample(list, 4)"
      ],
      "execution_count": 53,
      "outputs": [
        {
          "output_type": "execute_result",
          "data": {
            "text/plain": [
              "[19, 45, 57, 12]"
            ]
          },
          "metadata": {
            "tags": []
          },
          "execution_count": 53
        }
      ]
    },
    {
      "cell_type": "markdown",
      "metadata": {
        "id": "SapbpTjbXBFo",
        "colab_type": "text"
      },
      "source": [
        "## Chapter 3: Descriptive Statistics\n",
        "After loading the data file Crime, here is how to request a historgram and a box plot for the violent crime rates in Table 3.2."
      ]
    },
    {
      "cell_type": "markdown",
      "metadata": {
        "id": "z9ajQplteoX-",
        "colab_type": "text"
      },
      "source": [
        "### Histogram and Boxplots"
      ]
    },
    {
      "cell_type": "markdown",
      "metadata": {
        "id": "iepiEfAjWbJE",
        "colab_type": "text"
      },
      "source": [
        "For help with how to make a histogram I Googled \"python historgram\" and found this link to be helpful: https://datatofish.com/plot-histogram-python/\n",
        "\n",
        "For help with how to make a boxplot I Googled \"matplotlib boxplot\" and found this link to be helpful: https://www.geeksforgeeks.org/box-plot-in-python-using-matplotlib/\"\n",
        "\n",
        "To make a histogram and boxplots the package matplotlib needs to be imported."
      ]
    },
    {
      "cell_type": "markdown",
      "metadata": {
        "id": "__nUT4b2ewr0",
        "colab_type": "text"
      },
      "source": [
        ""
      ]
    },
    {
      "cell_type": "code",
      "metadata": {
        "id": "8soPzEsUVq4r",
        "colab_type": "code",
        "colab": {}
      },
      "source": [
        "import matplotlib.pyplot as plt"
      ],
      "execution_count": 55,
      "outputs": []
    },
    {
      "cell_type": "code",
      "metadata": {
        "id": "n-S29jEOV-XB",
        "colab_type": "code",
        "colab": {
          "base_uri": "https://localhost:8080/",
          "height": 281
        },
        "outputId": "d3179574-12b8-4504-8da4-fa1e60206ff9"
      },
      "source": [
        "plt.hist(Crime['violent'])  # arguments are passed to np.histogram\n",
        "plt.title(\"Histogram of Violent Crime Rate\")\n",
        "plt.show()"
      ],
      "execution_count": 57,
      "outputs": [
        {
          "output_type": "display_data",
          "data": {
            "image/png": "[encoded data removed]",
            "text/plain": [
              "<Figure size 432x288 with 1 Axes>"
            ]
          },
          "metadata": {
            "tags": [],
            "needs_background": "light"
          }
        }
      ]
    },
    {
      "cell_type": "code",
      "metadata": {
        "id": "yVzIKjxMXt2F",
        "colab_type": "code",
        "colab": {
          "base_uri": "https://localhost:8080/",
          "height": 281
        },
        "outputId": "27a0f7a5-44b9-4d3c-dc6e-5e164fb4263e"
      },
      "source": [
        "plt.boxplot(Crime['violent'], vert=False)\n",
        "plt.title(\"Boxplot of Violent Crime Rates of U.S. States. (D.C. not included)\")\n",
        "plt.show()"
      ],
      "execution_count": 59,
      "outputs": [
        {
          "output_type": "display_data",
          "data": {
            "image/png": "[encoded data removed]",
            "text/plain": [
              "<Figure size 432x288 with 1 Axes>"
            ]
          },
          "metadata": {
            "tags": [],
            "needs_background": "light"
          }
        }
      ]
    },
    {
      "cell_type": "markdown",
      "metadata": {
        "id": "T1YER-6LZ-I9",
        "colab_type": "text"
      },
      "source": [
        "### Basic Descriptive Statistics\n",
        "\n",
        "The `describe` function provides eight basic descriptive statistics. These include the count, the mean, the standard deviation (std), the minimum (min), the lower quartile (25%), the median (50%), the upper quartile (75%), and the maximum (max)."
      ]
    },
    {
      "cell_type": "code",
      "metadata": {
        "id": "Idg0xQRBaS3Q",
        "colab_type": "code",
        "colab": {
          "base_uri": "https://localhost:8080/",
          "height": 173
        },
        "outputId": "5baca1a1-006b-4993-cfa4-72c460951525"
      },
      "source": [
        "Crime['violent'].describe()"
      ],
      "execution_count": 60,
      "outputs": [
        {
          "output_type": "execute_result",
          "data": {
            "text/plain": [
              "count    50.000000\n",
              "mean     34.900000\n",
              "std      12.436369\n",
              "min      12.000000\n",
              "25%      26.000000\n",
              "50%      33.000000\n",
              "75%      43.000000\n",
              "max      64.000000\n",
              "Name: violent, dtype: float64"
            ]
          },
          "metadata": {
            "tags": []
          },
          "execution_count": 60
        }
      ]
    },
    {
      "cell_type": "markdown",
      "metadata": {
        "id": "AMXIRvdmbE9f",
        "colab_type": "text"
      },
      "source": [
        "You can also get the mean and standard deviation with the `mean` and `std` functions."
      ]
    },
    {
      "cell_type": "code",
      "metadata": {
        "id": "Zp0YcKKybEC-",
        "colab_type": "code",
        "colab": {
          "base_uri": "https://localhost:8080/",
          "height": 35
        },
        "outputId": "a130aee5-dc06-4840-ddc4-7bf628754860"
      },
      "source": [
        "Crime['violent'].mean()"
      ],
      "execution_count": 61,
      "outputs": [
        {
          "output_type": "execute_result",
          "data": {
            "text/plain": [
              "34.9"
            ]
          },
          "metadata": {
            "tags": []
          },
          "execution_count": 61
        }
      ]
    },
    {
      "cell_type": "code",
      "metadata": {
        "id": "u1Dr57wmbLt2",
        "colab_type": "code",
        "colab": {
          "base_uri": "https://localhost:8080/",
          "height": 35
        },
        "outputId": "9af7f921-2440-443d-89b0-7d674743b410"
      },
      "source": [
        "Crime['violent'].std()"
      ],
      "execution_count": 62,
      "outputs": [
        {
          "output_type": "execute_result",
          "data": {
            "text/plain": [
              "12.436368654318771"
            ]
          },
          "metadata": {
            "tags": []
          },
          "execution_count": 62
        }
      ]
    },
    {
      "cell_type": "markdown",
      "metadata": {
        "id": "QiMOFBa0bmyw",
        "colab_type": "text"
      },
      "source": [
        "### Percentiles\n",
        "\n",
        "You can obtain percentiles using the `quantile` pandas function, such as for a variable `violent`."
      ]
    },
    {
      "cell_type": "code",
      "metadata": {
        "id": "SGLeSm8mbwt4",
        "colab_type": "code",
        "colab": {
          "base_uri": "https://localhost:8080/",
          "height": 87
        },
        "outputId": "31998c51-87fd-475f-db4c-ff4a6daa2cab"
      },
      "source": [
        "Crime['violent'].quantile([0.25, 0.50, 0.75])"
      ],
      "execution_count": 63,
      "outputs": [
        {
          "output_type": "execute_result",
          "data": {
            "text/plain": [
              "0.25    26.0\n",
              "0.50    33.0\n",
              "0.75    43.0\n",
              "Name: violent, dtype: float64"
            ]
          },
          "metadata": {
            "tags": []
          },
          "execution_count": 63
        }
      ]
    },
    {
      "cell_type": "markdown",
      "metadata": {
        "id": "6r8L673Mifx8",
        "colab_type": "text"
      },
      "source": [
        "### Boxplot inlcuding D.C.\n",
        "To include D.C. (which is an outlier) we will need to read in a new data file.\n",
        "\n",
        "Notice that the count for the CrimeDC dataframe is 51 - 1 more than the Crime dataframe.\n",
        "\n",
        "The boxplot for CrimeDC has an outlier."
      ]
    },
    {
      "cell_type": "code",
      "metadata": {
        "id": "oUc6FDBeis9Q",
        "colab_type": "code",
        "colab": {
          "base_uri": "https://localhost:8080/",
          "height": 202
        },
        "outputId": "1b18c39e-c42f-47bf-de1f-8643d8d8e0f1"
      },
      "source": [
        "CrimeDC = pd.read_table(\"http://users.stat.ufl.edu/~aa/smss/data/Crime-DC.dat\", sep=\"\\s+\")\n",
        "CrimeDC.head()"
      ],
      "execution_count": 65,
      "outputs": [
        {
          "output_type": "execute_result",
          "data": {
            "text/html": [
              "<div>\n",
              "<style scoped>\n",
              "    .dataframe tbody tr th:only-of-type {\n",
              "        vertical-align: middle;\n",
              "    }\n",
              "\n",
              "    .dataframe tbody tr th {\n",
              "        vertical-align: top;\n",
              "    }\n",
              "\n",
              "    .dataframe thead th {\n",
              "        text-align: right;\n",
              "    }\n",
              "</style>\n",
              "<table border=\"1\" class=\"dataframe\">\n",
              "  <thead>\n",
              "    <tr style=\"text-align: right;\">\n",
              "      <th></th>\n",
              "      <th>state</th>\n",
              "      <th>violent</th>\n",
              "      <th>murder</th>\n",
              "    </tr>\n",
              "  </thead>\n",
              "  <tbody>\n",
              "    <tr>\n",
              "      <th>0</th>\n",
              "      <td>AK</td>\n",
              "      <td>64</td>\n",
              "      <td>4.6</td>\n",
              "    </tr>\n",
              "    <tr>\n",
              "      <th>1</th>\n",
              "      <td>AL</td>\n",
              "      <td>43</td>\n",
              "      <td>7.2</td>\n",
              "    </tr>\n",
              "    <tr>\n",
              "      <th>2</th>\n",
              "      <td>AR</td>\n",
              "      <td>46</td>\n",
              "      <td>5.4</td>\n",
              "    </tr>\n",
              "    <tr>\n",
              "      <th>3</th>\n",
              "      <td>AZ</td>\n",
              "      <td>42</td>\n",
              "      <td>5.4</td>\n",
              "    </tr>\n",
              "    <tr>\n",
              "      <th>4</th>\n",
              "      <td>CA</td>\n",
              "      <td>40</td>\n",
              "      <td>4.6</td>\n",
              "    </tr>\n",
              "  </tbody>\n",
              "</table>\n",
              "</div>"
            ],
            "text/plain": [
              "  state  violent  murder\n",
              "0    AK       64     4.6\n",
              "1    AL       43     7.2\n",
              "2    AR       46     5.4\n",
              "3    AZ       42     5.4\n",
              "4    CA       40     4.6"
            ]
          },
          "metadata": {
            "tags": []
          },
          "execution_count": 65
        }
      ]
    },
    {
      "cell_type": "code",
      "metadata": {
        "id": "c_Kw3e55i3F6",
        "colab_type": "code",
        "colab": {
          "base_uri": "https://localhost:8080/",
          "height": 173
        },
        "outputId": "41e11177-8b6a-4155-bef1-ef0159922ac5"
      },
      "source": [
        "CrimeDC['violent'].describe()"
      ],
      "execution_count": 66,
      "outputs": [
        {
          "output_type": "execute_result",
          "data": {
            "text/plain": [
              "count     51.000000\n",
              "mean      36.764706\n",
              "std       18.135698\n",
              "min       12.000000\n",
              "25%       26.000000\n",
              "50%       34.000000\n",
              "75%       43.500000\n",
              "max      130.000000\n",
              "Name: violent, dtype: float64"
            ]
          },
          "metadata": {
            "tags": []
          },
          "execution_count": 66
        }
      ]
    },
    {
      "cell_type": "code",
      "metadata": {
        "id": "bZL9C7t5i6VT",
        "colab_type": "code",
        "colab": {
          "base_uri": "https://localhost:8080/",
          "height": 281
        },
        "outputId": "c00da29a-fdfe-4ca0-fb47-2faeeddf4dbd"
      },
      "source": [
        "plt.boxplot(CrimeDC['violent'], vert=False)\n",
        "plt.title(\"Boxplot of Violent Crime Rates of U.S. States. The outlied is the observation for D.C.\")\n",
        "plt.show()"
      ],
      "execution_count": 67,
      "outputs": [
        {
          "output_type": "display_data",
          "data": {
            "image/png": "[encoded data removed]",
            "text/plain": [
              "<Figure size 432x288 with 1 Axes>"
            ]
          },
          "metadata": {
            "tags": [],
            "needs_background": "light"
          }
        }
      ]
    },
    {
      "cell_type": "markdown",
      "metadata": {
        "id": "eh-Z_7L9ceZC",
        "colab_type": "text"
      },
      "source": [
        "### Scatter Plots, Correlations, and Regression\n",
        "You can construct scatterplots and find correlations and regression prediction equations using the following functtions:\n",
        "\n",
        "`scatter` from matplotlib\n",
        "\n",
        "`corr` from pandas\n",
        "\n",
        "`OLS` from the statsmodels package\n",
        "\n",
        "For this example we will use the UN data file.\n"
      ]
    },
    {
      "cell_type": "code",
      "metadata": {
        "id": "GJBLws7aju0i",
        "colab_type": "code",
        "colab": {
          "base_uri": "https://localhost:8080/",
          "height": 202
        },
        "outputId": "08d7b941-1400-4b33-efc9-9a50bcc29490"
      },
      "source": [
        "UN = pd.read_table(\"http://users.stat.ufl.edu/~aa/smss/data/UN.dat\", sep=\"\\s+\")\n",
        "UN.head()"
      ],
      "execution_count": 69,
      "outputs": [
        {
          "output_type": "execute_result",
          "data": {
            "text/html": [
              "<div>\n",
              "<style scoped>\n",
              "    .dataframe tbody tr th:only-of-type {\n",
              "        vertical-align: middle;\n",
              "    }\n",
              "\n",
              "    .dataframe tbody tr th {\n",
              "        vertical-align: top;\n",
              "    }\n",
              "\n",
              "    .dataframe thead th {\n",
              "        text-align: right;\n",
              "    }\n",
              "</style>\n",
              "<table border=\"1\" class=\"dataframe\">\n",
              "  <thead>\n",
              "    <tr style=\"text-align: right;\">\n",
              "      <th></th>\n",
              "      <th>Nation</th>\n",
              "      <th>GDP</th>\n",
              "      <th>HDI</th>\n",
              "      <th>GII</th>\n",
              "      <th>Fertility</th>\n",
              "      <th>C02</th>\n",
              "      <th>Homicide</th>\n",
              "      <th>Prison</th>\n",
              "      <th>Internet</th>\n",
              "    </tr>\n",
              "  </thead>\n",
              "  <tbody>\n",
              "    <tr>\n",
              "      <th>0</th>\n",
              "      <td>Algeria</td>\n",
              "      <td>12.8</td>\n",
              "      <td>0.72</td>\n",
              "      <td>0.42</td>\n",
              "      <td>2.8</td>\n",
              "      <td>3.2</td>\n",
              "      <td>0.8</td>\n",
              "      <td>162</td>\n",
              "      <td>17</td>\n",
              "    </tr>\n",
              "    <tr>\n",
              "      <th>1</th>\n",
              "      <td>Argentina</td>\n",
              "      <td>14.7</td>\n",
              "      <td>0.81</td>\n",
              "      <td>0.38</td>\n",
              "      <td>2.2</td>\n",
              "      <td>4.7</td>\n",
              "      <td>5.5</td>\n",
              "      <td>147</td>\n",
              "      <td>60</td>\n",
              "    </tr>\n",
              "    <tr>\n",
              "      <th>2</th>\n",
              "      <td>Australia</td>\n",
              "      <td>42.3</td>\n",
              "      <td>0.93</td>\n",
              "      <td>0.11</td>\n",
              "      <td>1.9</td>\n",
              "      <td>16.5</td>\n",
              "      <td>1.1</td>\n",
              "      <td>130</td>\n",
              "      <td>83</td>\n",
              "    </tr>\n",
              "    <tr>\n",
              "      <th>3</th>\n",
              "      <td>Austria</td>\n",
              "      <td>43.1</td>\n",
              "      <td>0.88</td>\n",
              "      <td>0.06</td>\n",
              "      <td>1.4</td>\n",
              "      <td>7.8</td>\n",
              "      <td>0.8</td>\n",
              "      <td>98</td>\n",
              "      <td>81</td>\n",
              "    </tr>\n",
              "    <tr>\n",
              "      <th>4</th>\n",
              "      <td>Belgium</td>\n",
              "      <td>39.5</td>\n",
              "      <td>0.88</td>\n",
              "      <td>0.07</td>\n",
              "      <td>1.8</td>\n",
              "      <td>8.8</td>\n",
              "      <td>1.8</td>\n",
              "      <td>108</td>\n",
              "      <td>82</td>\n",
              "    </tr>\n",
              "  </tbody>\n",
              "</table>\n",
              "</div>"
            ],
            "text/plain": [
              "      Nation   GDP   HDI   GII  Fertility   C02  Homicide  Prison  Internet\n",
              "0    Algeria  12.8  0.72  0.42        2.8   3.2       0.8     162        17\n",
              "1  Argentina  14.7  0.81  0.38        2.2   4.7       5.5     147        60\n",
              "2  Australia  42.3  0.93  0.11        1.9  16.5       1.1     130        83\n",
              "3    Austria  43.1  0.88  0.06        1.4   7.8       0.8      98        81\n",
              "4    Belgium  39.5  0.88  0.07        1.8   8.8       1.8     108        82"
            ]
          },
          "metadata": {
            "tags": []
          },
          "execution_count": 69
        }
      ]
    },
    {
      "cell_type": "code",
      "metadata": {
        "id": "pTx8SzmscTP6",
        "colab_type": "code",
        "colab": {
          "base_uri": "https://localhost:8080/",
          "height": 295
        },
        "outputId": "3441c5d3-ae5b-4eb5-b923-28c46362b9d6"
      },
      "source": [
        "# Scatter Plot\n",
        "plt.scatter(UN['GDP'], UN['Fertility'])\n",
        "plt.title('Scatter plot GDP vs Fertility')\n",
        "plt.xlabel('GDP')\n",
        "plt.ylabel('Fertility')\n",
        "plt.show()"
      ],
      "execution_count": 70,
      "outputs": [
        {
          "output_type": "display_data",
          "data": {
            "image/png": "[encoded data removed]",
            "text/plain": [
              "<Figure size 432x288 with 1 Axes>"
            ]
          },
          "metadata": {
            "tags": [],
            "needs_background": "light"
          }
        }
      ]
    },
    {
      "cell_type": "code",
      "metadata": {
        "id": "FdW8C-SScKrg",
        "colab_type": "code",
        "colab": {
          "base_uri": "https://localhost:8080/",
          "height": 110
        },
        "outputId": "4b2620e9-7771-4c8c-9c9a-065bae6896bd"
      },
      "source": [
        "# Correlation\n",
        "UN[['GDP','Fertility']].corr()"
      ],
      "execution_count": 73,
      "outputs": [
        {
          "output_type": "execute_result",
          "data": {
            "text/html": [
              "<div>\n",
              "<style scoped>\n",
              "    .dataframe tbody tr th:only-of-type {\n",
              "        vertical-align: middle;\n",
              "    }\n",
              "\n",
              "    .dataframe tbody tr th {\n",
              "        vertical-align: top;\n",
              "    }\n",
              "\n",
              "    .dataframe thead th {\n",
              "        text-align: right;\n",
              "    }\n",
              "</style>\n",
              "<table border=\"1\" class=\"dataframe\">\n",
              "  <thead>\n",
              "    <tr style=\"text-align: right;\">\n",
              "      <th></th>\n",
              "      <th>GDP</th>\n",
              "      <th>Fertility</th>\n",
              "    </tr>\n",
              "  </thead>\n",
              "  <tbody>\n",
              "    <tr>\n",
              "      <th>GDP</th>\n",
              "      <td>1.000000</td>\n",
              "      <td>-0.486159</td>\n",
              "    </tr>\n",
              "    <tr>\n",
              "      <th>Fertility</th>\n",
              "      <td>-0.486159</td>\n",
              "      <td>1.000000</td>\n",
              "    </tr>\n",
              "  </tbody>\n",
              "</table>\n",
              "</div>"
            ],
            "text/plain": [
              "                GDP  Fertility\n",
              "GDP        1.000000  -0.486159\n",
              "Fertility -0.486159   1.000000"
            ]
          },
          "metadata": {
            "tags": []
          },
          "execution_count": 73
        }
      ]
    },
    {
      "cell_type": "code",
      "metadata": {
        "id": "RmmF_v0JkIdv",
        "colab_type": "code",
        "colab": {
          "base_uri": "https://localhost:8080/",
          "height": 110
        },
        "outputId": "95cc3163-4579-431f-9f3b-6b746fa2a638"
      },
      "source": [
        "# Correlation\n",
        "UN[['GDP','Internet']].corr()"
      ],
      "execution_count": 76,
      "outputs": [
        {
          "output_type": "execute_result",
          "data": {
            "text/html": [
              "<div>\n",
              "<style scoped>\n",
              "    .dataframe tbody tr th:only-of-type {\n",
              "        vertical-align: middle;\n",
              "    }\n",
              "\n",
              "    .dataframe tbody tr th {\n",
              "        vertical-align: top;\n",
              "    }\n",
              "\n",
              "    .dataframe thead th {\n",
              "        text-align: right;\n",
              "    }\n",
              "</style>\n",
              "<table border=\"1\" class=\"dataframe\">\n",
              "  <thead>\n",
              "    <tr style=\"text-align: right;\">\n",
              "      <th></th>\n",
              "      <th>GDP</th>\n",
              "      <th>Internet</th>\n",
              "    </tr>\n",
              "  </thead>\n",
              "  <tbody>\n",
              "    <tr>\n",
              "      <th>GDP</th>\n",
              "      <td>1.000000</td>\n",
              "      <td>0.877199</td>\n",
              "    </tr>\n",
              "    <tr>\n",
              "      <th>Internet</th>\n",
              "      <td>0.877199</td>\n",
              "      <td>1.000000</td>\n",
              "    </tr>\n",
              "  </tbody>\n",
              "</table>\n",
              "</div>"
            ],
            "text/plain": [
              "               GDP  Internet\n",
              "GDP       1.000000  0.877199\n",
              "Internet  0.877199  1.000000"
            ]
          },
          "metadata": {
            "tags": []
          },
          "execution_count": 76
        }
      ]
    },
    {
      "cell_type": "code",
      "metadata": {
        "id": "r-CVznlJkLE-",
        "colab_type": "code",
        "colab": {
          "base_uri": "https://localhost:8080/",
          "height": 110
        },
        "outputId": "a6ab54b1-d51f-4aa4-f721-b18e93a06c23"
      },
      "source": [
        "# Correlation\n",
        "UN[['GDP','GII']].corr()"
      ],
      "execution_count": 77,
      "outputs": [
        {
          "output_type": "execute_result",
          "data": {
            "text/html": [
              "<div>\n",
              "<style scoped>\n",
              "    .dataframe tbody tr th:only-of-type {\n",
              "        vertical-align: middle;\n",
              "    }\n",
              "\n",
              "    .dataframe tbody tr th {\n",
              "        vertical-align: top;\n",
              "    }\n",
              "\n",
              "    .dataframe thead th {\n",
              "        text-align: right;\n",
              "    }\n",
              "</style>\n",
              "<table border=\"1\" class=\"dataframe\">\n",
              "  <thead>\n",
              "    <tr style=\"text-align: right;\">\n",
              "      <th></th>\n",
              "      <th>GDP</th>\n",
              "      <th>GII</th>\n",
              "    </tr>\n",
              "  </thead>\n",
              "  <tbody>\n",
              "    <tr>\n",
              "      <th>GDP</th>\n",
              "      <td>1.000000</td>\n",
              "      <td>-0.850669</td>\n",
              "    </tr>\n",
              "    <tr>\n",
              "      <th>GII</th>\n",
              "      <td>-0.850669</td>\n",
              "      <td>1.000000</td>\n",
              "    </tr>\n",
              "  </tbody>\n",
              "</table>\n",
              "</div>"
            ],
            "text/plain": [
              "          GDP       GII\n",
              "GDP  1.000000 -0.850669\n",
              "GII -0.850669  1.000000"
            ]
          },
          "metadata": {
            "tags": []
          },
          "execution_count": 77
        }
      ]
    },
    {
      "cell_type": "code",
      "metadata": {
        "id": "S5kZC8LPdJ7Z",
        "colab_type": "code",
        "colab": {
          "base_uri": "https://localhost:8080/",
          "height": 35
        },
        "outputId": "457eb789-97bd-41f0-c5a8-4cb74cdf787b"
      },
      "source": [
        "# Regression Prediction\n",
        "from sklearn.linear_model import LinearRegression\n",
        "\n",
        "# Data must be reshaped to work with the Linear Regression Model\n",
        "x = UN['GDP'].values.reshape(-1,1)\n",
        "y = UN['Fertility'].values.reshape(-1,1)\n",
        "\n",
        "# Fit and summarize OLS model\n",
        "model = LinearRegression()  \n",
        "model.fit(x, y) "
      ],
      "execution_count": 88,
      "outputs": [
        {
          "output_type": "execute_result",
          "data": {
            "text/plain": [
              "LinearRegression(copy_X=True, fit_intercept=True, n_jobs=None, normalize=False)"
            ]
          },
          "metadata": {
            "tags": []
          },
          "execution_count": 88
        }
      ]
    },
    {
      "cell_type": "code",
      "metadata": {
        "id": "MK6g8ucllt4H",
        "colab_type": "code",
        "colab": {
          "base_uri": "https://localhost:8080/",
          "height": 35
        },
        "outputId": "60f1308b-fe1a-427c-bb3f-304221c11b41"
      },
      "source": [
        "#To retrieve the intercept:\n",
        "print(model.intercept_)"
      ],
      "execution_count": 84,
      "outputs": [
        {
          "output_type": "stream",
          "text": [
            "[2.71401159]\n"
          ],
          "name": "stdout"
        }
      ]
    },
    {
      "cell_type": "code",
      "metadata": {
        "id": "Ty2v7VuNlx4h",
        "colab_type": "code",
        "colab": {
          "base_uri": "https://localhost:8080/",
          "height": 35
        },
        "outputId": "0568b71e-880f-4ff9-932f-7b6bd797119c"
      },
      "source": [
        "#For retrieving the slope:\n",
        "print(model.coef_)"
      ],
      "execution_count": 85,
      "outputs": [
        {
          "output_type": "stream",
          "text": [
            "[[-0.02519166]]\n"
          ],
          "name": "stdout"
        }
      ]
    }
  ]
}