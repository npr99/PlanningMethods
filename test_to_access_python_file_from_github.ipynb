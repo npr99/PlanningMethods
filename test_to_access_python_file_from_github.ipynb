{
  "nbformat": 4,
  "nbformat_minor": 0,
  "metadata": {
    "colab": {
      "name": "test to access python file from github.ipynb",
      "provenance": [],
      "authorship_tag": "ABX9TyPu48o5gV6cVOGG68VVUXCr",
      "include_colab_link": true
    },
    "kernelspec": {
      "name": "python3",
      "display_name": "Python 3"
    },
    "language_info": {
      "name": "python"
    }
  },
  "cells": [
    {
      "cell_type": "markdown",
      "metadata": {
        "id": "view-in-github",
        "colab_type": "text"
      },
      "source": [
        "<a href=\"https://colab.research.google.com/github/npr99/PlanningMethods/blob/master/test_to_access_python_file_from_github.ipynb\" target=\"_parent\"><img src=\"https://colab.research.google.com/assets/colab-badge.svg\" alt=\"Open In Colab\"/></a>"
      ]
    },
    {
      "cell_type": "code",
      "metadata": {
        "colab": {
          "base_uri": "https://localhost:8080/"
        },
        "id": "H2uGFtVsyq-1",
        "outputId": "327109ac-596c-449d-c1e6-660bb48f1515"
      },
      "source": [
        "# Downloading and running python script from github\n",
        "# https://jckantor.github.io/cbe61622/A.02-Downloading_Python_source_files_from_github.html\n",
        "# Make sure the url is the raw version of the file on GitHub\n",
        "\n",
        "user = \"jckantor\"\n",
        "repo = \"cbe-virtual-laboratory\"\n",
        "src_dir = \"src\"\n",
        "pyfile = \"hello_world.py\"\n",
        "\n",
        "url = f\"https://raw.githubusercontent.com/{user}/{repo}/main/{src_dir}/{pyfile}\"\n",
        "!wget --no-cache --backups=1 {url}"
      ],
      "execution_count": 44,
      "outputs": [
        {
          "output_type": "stream",
          "name": "stdout",
          "text": [
            "--2021-09-21 15:00:19--  https://raw.githubusercontent.com/jckantor/cbe-virtual-laboratory/main/src/hello_world.py\n",
            "Resolving raw.githubusercontent.com (raw.githubusercontent.com)... 185.199.108.133, 185.199.109.133, 185.199.110.133, ...\n",
            "Connecting to raw.githubusercontent.com (raw.githubusercontent.com)|185.199.108.133|:443... connected.\n",
            "HTTP request sent, awaiting response... 200 OK\n",
            "Length: 123 [text/plain]\n",
            "Saving to: ‘hello_world.py’\n",
            "\n",
            "hello_world.py      100%[===================>]     123  --.-KB/s    in 0s      \n",
            "\n",
            "2021-09-21 15:00:19 (4.83 MB/s) - ‘hello_world.py’ saved [123/123]\n",
            "\n"
          ]
        }
      ]
    },
    {
      "cell_type": "code",
      "metadata": {
        "id": "fq_XdGVcyv7A"
      },
      "source": [
        "exec(open(\"hello_world.py\").read())"
      ],
      "execution_count": 42,
      "outputs": []
    },
    {
      "cell_type": "code",
      "metadata": {
        "colab": {
          "base_uri": "https://localhost:8080/"
        },
        "id": "0P5ZJaV2y1se",
        "outputId": "8bb3138b-20a1-4f9e-9325-1dcd9cba0c4a"
      },
      "source": [
        "hello()"
      ],
      "execution_count": 43,
      "outputs": [
        {
          "output_type": "stream",
          "name": "stdout",
          "text": [
            "Hello, World test\n"
          ]
        }
      ]
    }
  ]
}