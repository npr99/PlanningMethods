{
  "nbformat": 4,
  "nbformat_minor": 0,
  "metadata": {
    "colab": {
      "name": "PLAN604_Comparison_of_two_proportions",
      "provenance": [],
      "collapsed_sections": [],
      "authorship_tag": "ABX9TyOtBpzvlnrQZTBzVykdYqKx",
      "include_colab_link": true
    },
    "kernelspec": {
      "name": "python3",
      "display_name": "Python 3"
    }
  },
  "cells": [
    {
      "cell_type": "markdown",
      "metadata": {
        "id": "view-in-github",
        "colab_type": "text"
      },
      "source": [
        "<a href=\"https://colab.research.google.com/github/npr99/PlanningMethods/blob/master/PLAN604_Comparison_of_two_proportions.ipynb\" target=\"_parent\"><img src=\"https://colab.research.google.com/assets/colab-badge.svg\" alt=\"Open In Colab\"/></a>"
      ]
    },
    {
      "cell_type": "markdown",
      "metadata": {
        "id": "P-EggxqJwovL"
      },
      "source": [
        "# Application of Comparing two Proportions from ACS Data\n",
        " \n",
        "---\n",
        "This Google Colab Notebook provides a complete workflow (sequence of steps from start to finish) that will allow you to explore two proportions found in ACS Data. \n",
        "\n",
        "This notebook compares population proportions found in the 2012 5-year ACS and the 2019 5-year ACS. The research question what census geographies have a stastically significant difference between two proportions found in two different ACS surveys. The 2012 5-year ACS includes random samples of households between 2008, 2009, 2010, 2011, and 2012. The 2019 5-year ACS includes random samples of households between 2015, 2016, 2017, 2018, and 2019.\n",
        "\n",
        "### Two New python features in this notebook:\n",
        "\n",
        "#### 1. Resuing code\n",
        "This notebook introduces Python concepts of reading in and running a python file that includes reusable code. The code in the python file is stored on GitHub and has code that was introduced in earlier notebooks.\n",
        "\n",
        "When a new pacakge is imported - such as `import pandas as pd` - the notebook is reading in python files that have been shared as open source. The python programming enviroment is simply many python files (`.py`) being referenced. Each (`.py`) is created and maintained by users across the globe.\n",
        "\n",
        "#### 2. Loops\n",
        "Loops are a powerful way to repeat functions across different values. In this notebook we will loop over multiple ACS years.\n",
        "\n"
      ]
    },
    {
      "cell_type": "code",
      "metadata": {
        "id": "jxd6s7EZwjb6"
      },
      "source": [
        "# Python packages required to read in and Census API data\n",
        "import requests ## Required for the Census API\n",
        "import pandas as pd # For reading, writing and wrangling data\n",
        "import matplotlib.pyplot as plt # For plotting and making graphs"
      ],
      "execution_count": 1,
      "outputs": []
    },
    {
      "cell_type": "code",
      "metadata": {
        "colab": {
          "base_uri": "https://localhost:8080/"
        },
        "id": "Qa1Vw4MQEUxQ",
        "outputId": "dc4e5a00-dc29-4676-b115-10424d8131ab"
      },
      "source": [
        "# Downloading and running python script from github\n",
        "# https://jckantor.github.io/cbe61622/A.02-Downloading_Python_source_files_from_github.html\n",
        "# Make sure the url is the raw version of the file on GitHub\n",
        "\n",
        "user = \"npr99\"\n",
        "repo = \"PlanningMethods\"\n",
        "pyfile = \"_planning_methods.py\"\n",
        "url = f\"https://raw.githubusercontent.com/{user}/{repo}/master/{pyfile}\"\n",
        "!wget --no-cache --quiet --backups=1 {url}\n",
        "print(\"Reading in python file from\",url)\n",
        "exec(open(pyfile).read())"
      ],
      "execution_count": 14,
      "outputs": [
        {
          "output_type": "stream",
          "name": "stdout",
          "text": [
            "Reading in python file from https://raw.githubusercontent.com/npr99/PlanningMethods/master/_planning_methods.py\n"
          ]
        }
      ]
    },
    {
      "cell_type": "markdown",
      "metadata": {
        "id": "lwbY5z9jxDo7"
      },
      "source": [
        "## Step 1: Obtain Data\n",
        "The previous step read in a python file with the Obtain Data function presented in the notebook on [Sample Size and Confidence Intervals](https://github.com/npr99/PlanningMethods/blob/master/PLAN604_Population_vs_Sample_USCounties.ipynb) The block of code with the python functions needs to be run first and then the function can be called in future blocks of code."
      ]
    },
    {
      "cell_type": "markdown",
      "metadata": {
        "id": "0BnzQEKqWMeo"
      },
      "source": [
        "## Run Obtain Census API for 2012 and 2019 5-year ACS\n",
        "The next block of code calls the function and gets varaibles related to public transportation use. The code is called in a loop.\n",
        "\n",
        "For more variables see:\n",
        "\n",
        "https://www.census.gov/data/developers/data-sets/acs-5year.2012.html\n",
        "\n",
        "https://api.census.gov/data/2012/acs/acs5/subject/groups/S0801.html\n"
      ]
    },
    {
      "cell_type": "code",
      "metadata": {
        "colab": {
          "base_uri": "https://localhost:8080/"
        },
        "id": "vO1ebSiBIn_Y",
        "outputId": "23b204c8-932a-48d9-9e0b-61b2fb2661a2"
      },
      "source": [
        "help(obtain_census_api)"
      ],
      "execution_count": 15,
      "outputs": [
        {
          "output_type": "stream",
          "name": "stdout",
          "text": [
            "Help on function obtain_census_api in module __main__:\n",
            "\n",
            "obtain_census_api(state: str = '*', county: str = '*', census_geography: str = 'county:*', vintage: str = '2010', dataset_name: str = 'dec/sf1', get_vars: str = 'GEO_ID')\n",
            "    General utility for obtaining census from Census API.\n",
            "    \n",
            "    Args:\n",
            "        state (str): 2-digit FIPS code. Default * for all states\n",
            "        county (str): 3-digit FIPS code. Default * all counties\n",
            "        census_geography (str): example '&for=block:*' would be for all blocks\n",
            "          default is for all counties\n",
            "        vintage (str): Census Year. Default 2010\n",
            "        dataset_name (str): Census dataset name. Default Decennial SF1\n",
            "        for a list of all Census API\n",
            "        get_vars (str): list of variables to get from the API.\n",
            "    \n",
            "    Returns:\n",
            "        obj, dict: A dataframe for with Census data\n",
            "\n"
          ]
        }
      ]
    },
    {
      "cell_type": "code",
      "metadata": {
        "colab": {
          "base_uri": "https://localhost:8080/"
        },
        "id": "eLZuHLRYKITB",
        "outputId": "8083d28f-da01-4f34-f4c7-6204ade2bfcd"
      },
      "source": [
        "# Loop example\n",
        "for year in ['2012','2013','2014','2015']:\n",
        "  print(year)"
      ],
      "execution_count": 18,
      "outputs": [
        {
          "output_type": "stream",
          "name": "stdout",
          "text": [
            "2012\n",
            "2013\n",
            "2014\n",
            "2015\n"
          ]
        }
      ]
    },
    {
      "cell_type": "code",
      "metadata": {
        "colab": {
          "base_uri": "https://localhost:8080/"
        },
        "id": "7XVk-5GbUdke",
        "outputId": "30cafd02-5929-4e95-f349-f12d9da3e5d8"
      },
      "source": [
        "# Create an empty \"container\" to store multiple ACS years for the data\n",
        "acs_df = {} \n",
        "\n",
        "dataset_name = 'acs/acs5/subject'\n",
        "vintages = ['2012','2019']\n",
        "get_vars = 'GEO_ID,NAME,S0801_C01_001E,S0801_C01_001M,S0801_C01_009E,S0801_C01_009M'\n",
        "for vintage in vintages:\n",
        "  acs_df[vintage] = obtain_census_api(get_vars = get_vars, dataset_name = dataset_name, vintage = vintage)"
      ],
      "execution_count": 71,
      "outputs": [
        {
          "output_type": "stream",
          "name": "stdout",
          "text": [
            "Census API data from: https://api.census.gov/data/2012/acs/acs5/subject?get=GEO_ID,NAME,S0801_C01_001E,S0801_C01_001M,S0801_C01_009E,S0801_C01_009M&in=state:*&in=county:*&for=county:*\n",
            "Census API data from: https://api.census.gov/data/2019/acs/acs5/subject?get=GEO_ID,NAME,S0801_C01_001E,S0801_C01_001M,S0801_C01_009E,S0801_C01_009M&in=state:*&in=county:*&for=county:*\n"
          ]
        }
      ]
    },
    {
      "cell_type": "code",
      "metadata": {
        "colab": {
          "base_uri": "https://localhost:8080/",
          "height": 204
        },
        "id": "YnFP7lUUKtSe",
        "outputId": "7735f026-4332-4120-84b4-e7b8428abd1f"
      },
      "source": [
        "acs_df['2012'].head()"
      ],
      "execution_count": 22,
      "outputs": [
        {
          "output_type": "execute_result",
          "data": {
            "text/html": [
              "<div>\n",
              "<style scoped>\n",
              "    .dataframe tbody tr th:only-of-type {\n",
              "        vertical-align: middle;\n",
              "    }\n",
              "\n",
              "    .dataframe tbody tr th {\n",
              "        vertical-align: top;\n",
              "    }\n",
              "\n",
              "    .dataframe thead th {\n",
              "        text-align: right;\n",
              "    }\n",
              "</style>\n",
              "<table border=\"1\" class=\"dataframe\">\n",
              "  <thead>\n",
              "    <tr style=\"text-align: right;\">\n",
              "      <th></th>\n",
              "      <th>GEO_ID</th>\n",
              "      <th>NAME</th>\n",
              "      <th>S0801_C01_001E</th>\n",
              "      <th>S0801_C01_001M</th>\n",
              "      <th>S0801_C01_009E</th>\n",
              "      <th>S0801_C01_009M</th>\n",
              "      <th>state</th>\n",
              "      <th>county</th>\n",
              "    </tr>\n",
              "  </thead>\n",
              "  <tbody>\n",
              "    <tr>\n",
              "      <th>0</th>\n",
              "      <td>0500000US29115</td>\n",
              "      <td>Linn County, Missouri</td>\n",
              "      <td>5052</td>\n",
              "      <td>234</td>\n",
              "      <td>0.0</td>\n",
              "      <td>0.1</td>\n",
              "      <td>29</td>\n",
              "      <td>115</td>\n",
              "    </tr>\n",
              "    <tr>\n",
              "      <th>1</th>\n",
              "      <td>0500000US29091</td>\n",
              "      <td>Howell County, Missouri</td>\n",
              "      <td>15623</td>\n",
              "      <td>560</td>\n",
              "      <td>0.3</td>\n",
              "      <td>0.3</td>\n",
              "      <td>29</td>\n",
              "      <td>091</td>\n",
              "    </tr>\n",
              "    <tr>\n",
              "      <th>2</th>\n",
              "      <td>0500000US29101</td>\n",
              "      <td>Johnson County, Missouri</td>\n",
              "      <td>25227</td>\n",
              "      <td>677</td>\n",
              "      <td>0.3</td>\n",
              "      <td>0.2</td>\n",
              "      <td>29</td>\n",
              "      <td>101</td>\n",
              "    </tr>\n",
              "    <tr>\n",
              "      <th>3</th>\n",
              "      <td>0500000US29105</td>\n",
              "      <td>Laclede County, Missouri</td>\n",
              "      <td>15019</td>\n",
              "      <td>481</td>\n",
              "      <td>0.1</td>\n",
              "      <td>0.2</td>\n",
              "      <td>29</td>\n",
              "      <td>105</td>\n",
              "    </tr>\n",
              "    <tr>\n",
              "      <th>4</th>\n",
              "      <td>0500000US29125</td>\n",
              "      <td>Maries County, Missouri</td>\n",
              "      <td>3830</td>\n",
              "      <td>246</td>\n",
              "      <td>0.4</td>\n",
              "      <td>0.6</td>\n",
              "      <td>29</td>\n",
              "      <td>125</td>\n",
              "    </tr>\n",
              "  </tbody>\n",
              "</table>\n",
              "</div>"
            ],
            "text/plain": [
              "           GEO_ID                      NAME  ... state county\n",
              "0  0500000US29115     Linn County, Missouri  ...    29    115\n",
              "1  0500000US29091   Howell County, Missouri  ...    29    091\n",
              "2  0500000US29101  Johnson County, Missouri  ...    29    101\n",
              "3  0500000US29105  Laclede County, Missouri  ...    29    105\n",
              "4  0500000US29125   Maries County, Missouri  ...    29    125\n",
              "\n",
              "[5 rows x 8 columns]"
            ]
          },
          "metadata": {},
          "execution_count": 22
        }
      ]
    },
    {
      "cell_type": "code",
      "metadata": {
        "colab": {
          "base_uri": "https://localhost:8080/",
          "height": 204
        },
        "id": "7sDLtdyjKtCb",
        "outputId": "76ac59e6-ef83-4265-87d2-7fc271e3f070"
      },
      "source": [
        "acs_df['2019'].head()"
      ],
      "execution_count": 68,
      "outputs": [
        {
          "output_type": "execute_result",
          "data": {
            "text/html": [
              "<div>\n",
              "<style scoped>\n",
              "    .dataframe tbody tr th:only-of-type {\n",
              "        vertical-align: middle;\n",
              "    }\n",
              "\n",
              "    .dataframe tbody tr th {\n",
              "        vertical-align: top;\n",
              "    }\n",
              "\n",
              "    .dataframe thead th {\n",
              "        text-align: right;\n",
              "    }\n",
              "</style>\n",
              "<table border=\"1\" class=\"dataframe\">\n",
              "  <thead>\n",
              "    <tr style=\"text-align: right;\">\n",
              "      <th></th>\n",
              "      <th>GEO_ID</th>\n",
              "      <th>NAME</th>\n",
              "      <th>S0801_C01_001E</th>\n",
              "      <th>S0801_C01_001M</th>\n",
              "      <th>S0801_C01_009E</th>\n",
              "      <th>S0801_C01_009M</th>\n",
              "      <th>state</th>\n",
              "      <th>county</th>\n",
              "    </tr>\n",
              "  </thead>\n",
              "  <tbody>\n",
              "    <tr>\n",
              "      <th>0</th>\n",
              "      <td>0500000US17051</td>\n",
              "      <td>Fayette County, Illinois</td>\n",
              "      <td>8633</td>\n",
              "      <td>353</td>\n",
              "      <td>0.8</td>\n",
              "      <td>0.4</td>\n",
              "      <td>17</td>\n",
              "      <td>051</td>\n",
              "    </tr>\n",
              "    <tr>\n",
              "      <th>1</th>\n",
              "      <td>0500000US17107</td>\n",
              "      <td>Logan County, Illinois</td>\n",
              "      <td>12211</td>\n",
              "      <td>378</td>\n",
              "      <td>0.4</td>\n",
              "      <td>0.3</td>\n",
              "      <td>17</td>\n",
              "      <td>107</td>\n",
              "    </tr>\n",
              "    <tr>\n",
              "      <th>2</th>\n",
              "      <td>0500000US17165</td>\n",
              "      <td>Saline County, Illinois</td>\n",
              "      <td>9631</td>\n",
              "      <td>334</td>\n",
              "      <td>0.9</td>\n",
              "      <td>0.6</td>\n",
              "      <td>17</td>\n",
              "      <td>165</td>\n",
              "    </tr>\n",
              "    <tr>\n",
              "      <th>3</th>\n",
              "      <td>0500000US17097</td>\n",
              "      <td>Lake County, Illinois</td>\n",
              "      <td>355918</td>\n",
              "      <td>2280</td>\n",
              "      <td>4.4</td>\n",
              "      <td>0.2</td>\n",
              "      <td>17</td>\n",
              "      <td>097</td>\n",
              "    </tr>\n",
              "    <tr>\n",
              "      <th>4</th>\n",
              "      <td>0500000US17127</td>\n",
              "      <td>Massac County, Illinois</td>\n",
              "      <td>5602</td>\n",
              "      <td>268</td>\n",
              "      <td>0.3</td>\n",
              "      <td>0.5</td>\n",
              "      <td>17</td>\n",
              "      <td>127</td>\n",
              "    </tr>\n",
              "  </tbody>\n",
              "</table>\n",
              "</div>"
            ],
            "text/plain": [
              "           GEO_ID                      NAME  ...  state  county\n",
              "0  0500000US17051  Fayette County, Illinois  ...     17     051\n",
              "1  0500000US17107    Logan County, Illinois  ...     17     107\n",
              "2  0500000US17165   Saline County, Illinois  ...     17     165\n",
              "3  0500000US17097     Lake County, Illinois  ...     17     097\n",
              "4  0500000US17127   Massac County, Illinois  ...     17     127\n",
              "\n",
              "[5 rows x 8 columns]"
            ]
          },
          "metadata": {},
          "execution_count": 68
        }
      ]
    },
    {
      "cell_type": "markdown",
      "metadata": {
        "id": "tckJOdRRyN44"
      },
      "source": [
        "## Step 2: Clean Data\n",
        "Data cleaning is an important step in the data science process. This step is often the hardest and most time consuming. "
      ]
    },
    {
      "cell_type": "markdown",
      "metadata": {
        "id": "_uNWWSwgh_rK"
      },
      "source": [
        "### 2.1. Clean ACS Data\n",
        "#### 2.1.1 Make sure variable types are set correctly\n",
        "For the ACS data we have both population counts and precents. The percentage estiamtes are not integers - they are \"floats\" which refers the the decimal place that can float in the number between the integer and the fractional part. Here is more information on Python number types https://www.tutorialspoint.com/python/python_numbers.htm "
      ]
    },
    {
      "cell_type": "code",
      "metadata": {
        "id": "38oy4N0uayeJ",
        "colab": {
          "base_uri": "https://localhost:8080/"
        },
        "outputId": "93bfc150-d844-47bf-de42-16ba52803ec8"
      },
      "source": [
        "for vintage in vintages:\n",
        "  for variable in get_vars.split(\",\"):\n",
        "    variable_metadata_hyperlink = (f'https://api.census.gov/data/{vintage}/{dataset_name}/variables/{variable}.json')\n",
        "    # Obtain Census API JSON Data\n",
        "    !wget --no-cache --quiet --backups=1 {variable_metadata_hyperlink}\n",
        "\n",
        "    with open(f\"{variable}.json\", \"r\") as rf:\n",
        "      variable_metadata = json.load(rf)\n",
        "\n",
        "    # Find the variable label \n",
        "    census_label_string = str(variable_metadata[\"label\"])\n",
        "    last_exclamation_point_position = census_label_string.rfind(\"!!\")\n",
        "    if last_exclamation_point_position >= 0:\n",
        "      last_exclamation_point_position = last_exclamation_point_position + 2\n",
        "    else:\n",
        "      last_exclamation_point_position = 0\n",
        "    label = census_label_string[last_exclamation_point_position:] \n",
        "\n",
        "    # Add vintage to label name (skip geo_id and name variables)\n",
        "    if variable not in ['GEO_ID','NAME']:\n",
        "      label_addvintage = label + f' {vintage}'\n",
        "    else:\n",
        "      label_addvintage = label\n",
        "\n",
        "    # Add estimate or Margin of Error to label\n",
        "    last_letter_of_variable = variable[-1]\n",
        "    if variable not in ['GEO_ID','NAME']:\n",
        "      if last_letter_of_variable == 'E':\n",
        "        label_addvintage_addtype = label_addvintage + ' (Estimate)'\n",
        "      if last_letter_of_variable == 'M':\n",
        "        label_addvintage_addtype = label_addvintage + ' (MOE)'\n",
        "    else:\n",
        "      label_addvintage_addtype = label_addvintage\n",
        "    print(vintage,\"Renameing\",variable,\" = \",label_addvintage_addtype,\"Changing type to\",variable_metadata[\"predicateType\"])\n",
        "\n",
        "    # Change variable type\n",
        "    acs_df[vintage][variable] = acs_df[vintage][variable].astype(variable_metadata[\"predicateType\"])\n",
        "\n",
        "    acs_df[vintage] = acs_df[vintage].rename(columns={variable: label_addvintage_addtype}) \n",
        "\n",
        "\n"
      ],
      "execution_count": 73,
      "outputs": [
        {
          "output_type": "stream",
          "name": "stdout",
          "text": [
            "2012 GEO_ID Geography string\n",
            "2012 NAME Geographic Area Name string\n",
            "2012 S0801_C01_001E Workers 16 years and over 2012 (Estimate) int\n",
            "2012 S0801_C01_001M Workers 16 years and over 2012 (MOE) int\n",
            "2012 S0801_C01_009E Public transportation (excluding taxicab) 2012 (Estimate) float\n",
            "2012 S0801_C01_009M Public transportation (excluding taxicab) 2012 (MOE) float\n",
            "2019 GEO_ID Geography string\n",
            "2019 NAME Geographic Area Name string\n",
            "2019 S0801_C01_001E Workers 16 years and over 2019 (Estimate) int\n",
            "2019 S0801_C01_001M Workers 16 years and over 2019 (MOE) int\n",
            "2019 S0801_C01_009E Public transportation (excluding taxicab) 2019 (Estimate) float\n",
            "2019 S0801_C01_009M Public transportation (excluding taxicab) 2019 (MOE) float\n"
          ]
        }
      ]
    },
    {
      "cell_type": "code",
      "metadata": {
        "colab": {
          "base_uri": "https://localhost:8080/",
          "height": 306
        },
        "id": "icSyuOHiVkRm",
        "outputId": "3b766e94-92f8-4b8a-cb23-26961a5081ed"
      },
      "source": [
        "acs_df['2012'].head()"
      ],
      "execution_count": 74,
      "outputs": [
        {
          "output_type": "execute_result",
          "data": {
            "text/html": [
              "<div>\n",
              "<style scoped>\n",
              "    .dataframe tbody tr th:only-of-type {\n",
              "        vertical-align: middle;\n",
              "    }\n",
              "\n",
              "    .dataframe tbody tr th {\n",
              "        vertical-align: top;\n",
              "    }\n",
              "\n",
              "    .dataframe thead th {\n",
              "        text-align: right;\n",
              "    }\n",
              "</style>\n",
              "<table border=\"1\" class=\"dataframe\">\n",
              "  <thead>\n",
              "    <tr style=\"text-align: right;\">\n",
              "      <th></th>\n",
              "      <th>Geography</th>\n",
              "      <th>Geographic Area Name</th>\n",
              "      <th>Workers 16 years and over 2012 (Estimate)</th>\n",
              "      <th>Workers 16 years and over 2012 (MOE)</th>\n",
              "      <th>Public transportation (excluding taxicab) 2012 (Estimate)</th>\n",
              "      <th>Public transportation (excluding taxicab) 2012 (MOE)</th>\n",
              "      <th>state</th>\n",
              "      <th>county</th>\n",
              "    </tr>\n",
              "  </thead>\n",
              "  <tbody>\n",
              "    <tr>\n",
              "      <th>0</th>\n",
              "      <td>0500000US29115</td>\n",
              "      <td>Linn County, Missouri</td>\n",
              "      <td>5052</td>\n",
              "      <td>234</td>\n",
              "      <td>0.0</td>\n",
              "      <td>0.1</td>\n",
              "      <td>29</td>\n",
              "      <td>115</td>\n",
              "    </tr>\n",
              "    <tr>\n",
              "      <th>1</th>\n",
              "      <td>0500000US29091</td>\n",
              "      <td>Howell County, Missouri</td>\n",
              "      <td>15623</td>\n",
              "      <td>560</td>\n",
              "      <td>0.3</td>\n",
              "      <td>0.3</td>\n",
              "      <td>29</td>\n",
              "      <td>091</td>\n",
              "    </tr>\n",
              "    <tr>\n",
              "      <th>2</th>\n",
              "      <td>0500000US29101</td>\n",
              "      <td>Johnson County, Missouri</td>\n",
              "      <td>25227</td>\n",
              "      <td>677</td>\n",
              "      <td>0.3</td>\n",
              "      <td>0.2</td>\n",
              "      <td>29</td>\n",
              "      <td>101</td>\n",
              "    </tr>\n",
              "    <tr>\n",
              "      <th>3</th>\n",
              "      <td>0500000US29105</td>\n",
              "      <td>Laclede County, Missouri</td>\n",
              "      <td>15019</td>\n",
              "      <td>481</td>\n",
              "      <td>0.1</td>\n",
              "      <td>0.2</td>\n",
              "      <td>29</td>\n",
              "      <td>105</td>\n",
              "    </tr>\n",
              "    <tr>\n",
              "      <th>4</th>\n",
              "      <td>0500000US29125</td>\n",
              "      <td>Maries County, Missouri</td>\n",
              "      <td>3830</td>\n",
              "      <td>246</td>\n",
              "      <td>0.4</td>\n",
              "      <td>0.6</td>\n",
              "      <td>29</td>\n",
              "      <td>125</td>\n",
              "    </tr>\n",
              "  </tbody>\n",
              "</table>\n",
              "</div>"
            ],
            "text/plain": [
              "        Geography      Geographic Area Name  ...  state  county\n",
              "0  0500000US29115     Linn County, Missouri  ...     29     115\n",
              "1  0500000US29091   Howell County, Missouri  ...     29     091\n",
              "2  0500000US29101  Johnson County, Missouri  ...     29     101\n",
              "3  0500000US29105  Laclede County, Missouri  ...     29     105\n",
              "4  0500000US29125   Maries County, Missouri  ...     29     125\n",
              "\n",
              "[5 rows x 8 columns]"
            ]
          },
          "metadata": {},
          "execution_count": 74
        }
      ]
    },
    {
      "cell_type": "markdown",
      "metadata": {
        "id": "K-Wdr-ATjcQW"
      },
      "source": [
        "#### 2.1.2 Use descriptive statistics to check cleaning\n",
        "A descriptive statistics table is a great way to check to make sure the variables have been created correctly."
      ]
    },
    {
      "cell_type": "code",
      "metadata": {
        "id": "rH_kXl4Eayho",
        "colab": {
          "base_uri": "https://localhost:8080/",
          "height": 99
        },
        "outputId": "08ebf861-fc85-4328-8baf-bf1e9eff025a"
      },
      "source": [
        "float_col_list = list(acs_df['2012'].select_dtypes(include=['float']).columns)\n",
        "table1 = acs_df['2012'][float_col_list].describe().T\n",
        "varformat = \"{:,.2f}\" # The variable format adds a comma and rounds up\n",
        "table_title = \"Table 1. Descriptive statistics for variables by county, 2012 5-year ACS.\"\n",
        "table1 = table1.style.set_caption(table_title).format(varformat).set_properties(**{'text-align': 'right'})\n",
        "table1"
      ],
      "execution_count": 78,
      "outputs": [
        {
          "output_type": "execute_result",
          "data": {
            "text/html": [
              "<style  type=\"text/css\" >\n",
              "#T_c43cce3e_2782_11ec_9636_0242ac1c0002row0_col0,#T_c43cce3e_2782_11ec_9636_0242ac1c0002row0_col1,#T_c43cce3e_2782_11ec_9636_0242ac1c0002row0_col2,#T_c43cce3e_2782_11ec_9636_0242ac1c0002row0_col3,#T_c43cce3e_2782_11ec_9636_0242ac1c0002row0_col4,#T_c43cce3e_2782_11ec_9636_0242ac1c0002row0_col5,#T_c43cce3e_2782_11ec_9636_0242ac1c0002row0_col6,#T_c43cce3e_2782_11ec_9636_0242ac1c0002row0_col7,#T_c43cce3e_2782_11ec_9636_0242ac1c0002row1_col0,#T_c43cce3e_2782_11ec_9636_0242ac1c0002row1_col1,#T_c43cce3e_2782_11ec_9636_0242ac1c0002row1_col2,#T_c43cce3e_2782_11ec_9636_0242ac1c0002row1_col3,#T_c43cce3e_2782_11ec_9636_0242ac1c0002row1_col4,#T_c43cce3e_2782_11ec_9636_0242ac1c0002row1_col5,#T_c43cce3e_2782_11ec_9636_0242ac1c0002row1_col6,#T_c43cce3e_2782_11ec_9636_0242ac1c0002row1_col7{\n",
              "            text-align:  right;\n",
              "        }</style><table id=\"T_c43cce3e_2782_11ec_9636_0242ac1c0002\" ><caption>Table 1. Descriptive statistics for variables by county, 2012 5-year ACS.</caption><thead>    <tr>        <th class=\"blank level0\" ></th>        <th class=\"col_heading level0 col0\" >count</th>        <th class=\"col_heading level0 col1\" >mean</th>        <th class=\"col_heading level0 col2\" >std</th>        <th class=\"col_heading level0 col3\" >min</th>        <th class=\"col_heading level0 col4\" >25%</th>        <th class=\"col_heading level0 col5\" >50%</th>        <th class=\"col_heading level0 col6\" >75%</th>        <th class=\"col_heading level0 col7\" >max</th>    </tr></thead><tbody>\n",
              "                <tr>\n",
              "                        <th id=\"T_c43cce3e_2782_11ec_9636_0242ac1c0002level0_row0\" class=\"row_heading level0 row0\" >Public transportation (excluding taxicab) 2012 (Estimate)</th>\n",
              "                        <td id=\"T_c43cce3e_2782_11ec_9636_0242ac1c0002row0_col0\" class=\"data row0 col0\" >3,221.00</td>\n",
              "                        <td id=\"T_c43cce3e_2782_11ec_9636_0242ac1c0002row0_col1\" class=\"data row0 col1\" >0.97</td>\n",
              "                        <td id=\"T_c43cce3e_2782_11ec_9636_0242ac1c0002row0_col2\" class=\"data row0 col2\" >3.00</td>\n",
              "                        <td id=\"T_c43cce3e_2782_11ec_9636_0242ac1c0002row0_col3\" class=\"data row0 col3\" >0.00</td>\n",
              "                        <td id=\"T_c43cce3e_2782_11ec_9636_0242ac1c0002row0_col4\" class=\"data row0 col4\" >0.10</td>\n",
              "                        <td id=\"T_c43cce3e_2782_11ec_9636_0242ac1c0002row0_col5\" class=\"data row0 col5\" >0.40</td>\n",
              "                        <td id=\"T_c43cce3e_2782_11ec_9636_0242ac1c0002row0_col6\" class=\"data row0 col6\" >0.80</td>\n",
              "                        <td id=\"T_c43cce3e_2782_11ec_9636_0242ac1c0002row0_col7\" class=\"data row0 col7\" >60.80</td>\n",
              "            </tr>\n",
              "            <tr>\n",
              "                        <th id=\"T_c43cce3e_2782_11ec_9636_0242ac1c0002level0_row1\" class=\"row_heading level0 row1\" >Public transportation (excluding taxicab) 2012 (MOE)</th>\n",
              "                        <td id=\"T_c43cce3e_2782_11ec_9636_0242ac1c0002row1_col0\" class=\"data row1 col0\" >3,221.00</td>\n",
              "                        <td id=\"T_c43cce3e_2782_11ec_9636_0242ac1c0002row1_col1\" class=\"data row1 col1\" >0.66</td>\n",
              "                        <td id=\"T_c43cce3e_2782_11ec_9636_0242ac1c0002row1_col2\" class=\"data row1 col2\" >1.46</td>\n",
              "                        <td id=\"T_c43cce3e_2782_11ec_9636_0242ac1c0002row1_col3\" class=\"data row1 col3\" >0.10</td>\n",
              "                        <td id=\"T_c43cce3e_2782_11ec_9636_0242ac1c0002row1_col4\" class=\"data row1 col4\" >0.20</td>\n",
              "                        <td id=\"T_c43cce3e_2782_11ec_9636_0242ac1c0002row1_col5\" class=\"data row1 col5\" >0.30</td>\n",
              "                        <td id=\"T_c43cce3e_2782_11ec_9636_0242ac1c0002row1_col6\" class=\"data row1 col6\" >0.70</td>\n",
              "                        <td id=\"T_c43cce3e_2782_11ec_9636_0242ac1c0002row1_col7\" class=\"data row1 col7\" >40.00</td>\n",
              "            </tr>\n",
              "    </tbody></table>"
            ],
            "text/plain": [
              "<pandas.io.formats.style.Styler at 0x7f47781c7bd0>"
            ]
          },
          "metadata": {},
          "execution_count": 78
        }
      ]
    },
    {
      "cell_type": "code",
      "metadata": {
        "colab": {
          "base_uri": "https://localhost:8080/",
          "height": 99
        },
        "id": "_3i_unltW9Hj",
        "outputId": "db78a4e6-67c9-4102-975d-d546d8f120f1"
      },
      "source": [
        "float_col_list = list(acs_df['2019'].select_dtypes(include=['float']).columns)\n",
        "table2 = acs_df['2019'][float_col_list].describe().T\n",
        "varformat = \"{:,.2f}\" # The variable format adds a comma and rounds up\n",
        "table_title = \"Table 2. Descriptive statistics for variables by county, 2019 5-year ACS.\"\n",
        "table2 = table2.style.set_caption(table_title).format(varformat).set_properties(**{'text-align': 'right'})\n",
        "table2"
      ],
      "execution_count": 79,
      "outputs": [
        {
          "output_type": "execute_result",
          "data": {
            "text/html": [
              "<style  type=\"text/css\" >\n",
              "#T_d9b3c452_2782_11ec_9636_0242ac1c0002row0_col0,#T_d9b3c452_2782_11ec_9636_0242ac1c0002row0_col1,#T_d9b3c452_2782_11ec_9636_0242ac1c0002row0_col2,#T_d9b3c452_2782_11ec_9636_0242ac1c0002row0_col3,#T_d9b3c452_2782_11ec_9636_0242ac1c0002row0_col4,#T_d9b3c452_2782_11ec_9636_0242ac1c0002row0_col5,#T_d9b3c452_2782_11ec_9636_0242ac1c0002row0_col6,#T_d9b3c452_2782_11ec_9636_0242ac1c0002row0_col7,#T_d9b3c452_2782_11ec_9636_0242ac1c0002row1_col0,#T_d9b3c452_2782_11ec_9636_0242ac1c0002row1_col1,#T_d9b3c452_2782_11ec_9636_0242ac1c0002row1_col2,#T_d9b3c452_2782_11ec_9636_0242ac1c0002row1_col3,#T_d9b3c452_2782_11ec_9636_0242ac1c0002row1_col4,#T_d9b3c452_2782_11ec_9636_0242ac1c0002row1_col5,#T_d9b3c452_2782_11ec_9636_0242ac1c0002row1_col6,#T_d9b3c452_2782_11ec_9636_0242ac1c0002row1_col7{\n",
              "            text-align:  right;\n",
              "        }</style><table id=\"T_d9b3c452_2782_11ec_9636_0242ac1c0002\" ><caption>Table 2. Descriptive statistics for variables by county, 2019 5-year ACS.</caption><thead>    <tr>        <th class=\"blank level0\" ></th>        <th class=\"col_heading level0 col0\" >count</th>        <th class=\"col_heading level0 col1\" >mean</th>        <th class=\"col_heading level0 col2\" >std</th>        <th class=\"col_heading level0 col3\" >min</th>        <th class=\"col_heading level0 col4\" >25%</th>        <th class=\"col_heading level0 col5\" >50%</th>        <th class=\"col_heading level0 col6\" >75%</th>        <th class=\"col_heading level0 col7\" >max</th>    </tr></thead><tbody>\n",
              "                <tr>\n",
              "                        <th id=\"T_d9b3c452_2782_11ec_9636_0242ac1c0002level0_row0\" class=\"row_heading level0 row0\" >Public transportation (excluding taxicab) 2019 (Estimate)</th>\n",
              "                        <td id=\"T_d9b3c452_2782_11ec_9636_0242ac1c0002row0_col0\" class=\"data row0 col0\" >3,220.00</td>\n",
              "                        <td id=\"T_d9b3c452_2782_11ec_9636_0242ac1c0002row0_col1\" class=\"data row0 col1\" >0.91</td>\n",
              "                        <td id=\"T_d9b3c452_2782_11ec_9636_0242ac1c0002row0_col2\" class=\"data row0 col2\" >3.05</td>\n",
              "                        <td id=\"T_d9b3c452_2782_11ec_9636_0242ac1c0002row0_col3\" class=\"data row0 col3\" >0.00</td>\n",
              "                        <td id=\"T_d9b3c452_2782_11ec_9636_0242ac1c0002row0_col4\" class=\"data row0 col4\" >0.10</td>\n",
              "                        <td id=\"T_d9b3c452_2782_11ec_9636_0242ac1c0002row0_col5\" class=\"data row0 col5\" >0.30</td>\n",
              "                        <td id=\"T_d9b3c452_2782_11ec_9636_0242ac1c0002row0_col6\" class=\"data row0 col6\" >0.70</td>\n",
              "                        <td id=\"T_d9b3c452_2782_11ec_9636_0242ac1c0002row0_col7\" class=\"data row0 col7\" >61.20</td>\n",
              "            </tr>\n",
              "            <tr>\n",
              "                        <th id=\"T_d9b3c452_2782_11ec_9636_0242ac1c0002level0_row1\" class=\"row_heading level0 row1\" >Public transportation (excluding taxicab) 2019 (MOE)</th>\n",
              "                        <td id=\"T_d9b3c452_2782_11ec_9636_0242ac1c0002row1_col0\" class=\"data row1 col0\" >3,220.00</td>\n",
              "                        <td id=\"T_d9b3c452_2782_11ec_9636_0242ac1c0002row1_col1\" class=\"data row1 col1\" >0.67</td>\n",
              "                        <td id=\"T_d9b3c452_2782_11ec_9636_0242ac1c0002row1_col2\" class=\"data row1 col2\" >1.55</td>\n",
              "                        <td id=\"T_d9b3c452_2782_11ec_9636_0242ac1c0002row1_col3\" class=\"data row1 col3\" >0.10</td>\n",
              "                        <td id=\"T_d9b3c452_2782_11ec_9636_0242ac1c0002row1_col4\" class=\"data row1 col4\" >0.20</td>\n",
              "                        <td id=\"T_d9b3c452_2782_11ec_9636_0242ac1c0002row1_col5\" class=\"data row1 col5\" >0.30</td>\n",
              "                        <td id=\"T_d9b3c452_2782_11ec_9636_0242ac1c0002row1_col6\" class=\"data row1 col6\" >0.60</td>\n",
              "                        <td id=\"T_d9b3c452_2782_11ec_9636_0242ac1c0002row1_col7\" class=\"data row1 col7\" >59.00</td>\n",
              "            </tr>\n",
              "    </tbody></table>"
            ],
            "text/plain": [
              "<pandas.io.formats.style.Styler at 0x7f47783ce0d0>"
            ]
          },
          "metadata": {},
          "execution_count": 79
        }
      ]
    },
    {
      "cell_type": "markdown",
      "metadata": {
        "id": "i1EAKmFmyk5J"
      },
      "source": [
        "## Step 3: Merge Data together\n",
        "Merging data together is a powerful tool in data science workflows. Merge data refers to combining data that represent the same unit of analysis. In this example all three datasets represent counties in the US. Each dataframe has a common variable called GEO_ID which uniquely identifies the counties.\n",
        "\n",
        "Here is a good overview of data merging in python:\n",
        "https://towardsdatascience.com/why-and-how-to-use-merge-with-pandas-in-python-548600f7e738"
      ]
    },
    {
      "cell_type": "markdown",
      "metadata": {
        "id": "vmgLuIi6otsX"
      },
      "source": [
        "### 3.1 - Merge Part 1 - Combine ACS Data"
      ]
    },
    {
      "cell_type": "code",
      "metadata": {
        "id": "rcg3Wo9to1Sj",
        "colab": {
          "base_uri": "https://localhost:8080/",
          "height": 306
        },
        "outputId": "38d18d89-5c7d-4a5f-f359-efa7733ca963"
      },
      "source": [
        "acs_df['2012'].head()"
      ],
      "execution_count": 80,
      "outputs": [
        {
          "output_type": "execute_result",
          "data": {
            "text/html": [
              "<div>\n",
              "<style scoped>\n",
              "    .dataframe tbody tr th:only-of-type {\n",
              "        vertical-align: middle;\n",
              "    }\n",
              "\n",
              "    .dataframe tbody tr th {\n",
              "        vertical-align: top;\n",
              "    }\n",
              "\n",
              "    .dataframe thead th {\n",
              "        text-align: right;\n",
              "    }\n",
              "</style>\n",
              "<table border=\"1\" class=\"dataframe\">\n",
              "  <thead>\n",
              "    <tr style=\"text-align: right;\">\n",
              "      <th></th>\n",
              "      <th>Geography</th>\n",
              "      <th>Geographic Area Name</th>\n",
              "      <th>Workers 16 years and over 2012 (Estimate)</th>\n",
              "      <th>Workers 16 years and over 2012 (MOE)</th>\n",
              "      <th>Public transportation (excluding taxicab) 2012 (Estimate)</th>\n",
              "      <th>Public transportation (excluding taxicab) 2012 (MOE)</th>\n",
              "      <th>state</th>\n",
              "      <th>county</th>\n",
              "    </tr>\n",
              "  </thead>\n",
              "  <tbody>\n",
              "    <tr>\n",
              "      <th>0</th>\n",
              "      <td>0500000US29115</td>\n",
              "      <td>Linn County, Missouri</td>\n",
              "      <td>5052</td>\n",
              "      <td>234</td>\n",
              "      <td>0.0</td>\n",
              "      <td>0.1</td>\n",
              "      <td>29</td>\n",
              "      <td>115</td>\n",
              "    </tr>\n",
              "    <tr>\n",
              "      <th>1</th>\n",
              "      <td>0500000US29091</td>\n",
              "      <td>Howell County, Missouri</td>\n",
              "      <td>15623</td>\n",
              "      <td>560</td>\n",
              "      <td>0.3</td>\n",
              "      <td>0.3</td>\n",
              "      <td>29</td>\n",
              "      <td>091</td>\n",
              "    </tr>\n",
              "    <tr>\n",
              "      <th>2</th>\n",
              "      <td>0500000US29101</td>\n",
              "      <td>Johnson County, Missouri</td>\n",
              "      <td>25227</td>\n",
              "      <td>677</td>\n",
              "      <td>0.3</td>\n",
              "      <td>0.2</td>\n",
              "      <td>29</td>\n",
              "      <td>101</td>\n",
              "    </tr>\n",
              "    <tr>\n",
              "      <th>3</th>\n",
              "      <td>0500000US29105</td>\n",
              "      <td>Laclede County, Missouri</td>\n",
              "      <td>15019</td>\n",
              "      <td>481</td>\n",
              "      <td>0.1</td>\n",
              "      <td>0.2</td>\n",
              "      <td>29</td>\n",
              "      <td>105</td>\n",
              "    </tr>\n",
              "    <tr>\n",
              "      <th>4</th>\n",
              "      <td>0500000US29125</td>\n",
              "      <td>Maries County, Missouri</td>\n",
              "      <td>3830</td>\n",
              "      <td>246</td>\n",
              "      <td>0.4</td>\n",
              "      <td>0.6</td>\n",
              "      <td>29</td>\n",
              "      <td>125</td>\n",
              "    </tr>\n",
              "  </tbody>\n",
              "</table>\n",
              "</div>"
            ],
            "text/plain": [
              "        Geography      Geographic Area Name  ...  state  county\n",
              "0  0500000US29115     Linn County, Missouri  ...     29     115\n",
              "1  0500000US29091   Howell County, Missouri  ...     29     091\n",
              "2  0500000US29101  Johnson County, Missouri  ...     29     101\n",
              "3  0500000US29105  Laclede County, Missouri  ...     29     105\n",
              "4  0500000US29125   Maries County, Missouri  ...     29     125\n",
              "\n",
              "[5 rows x 8 columns]"
            ]
          },
          "metadata": {},
          "execution_count": 80
        }
      ]
    },
    {
      "cell_type": "code",
      "metadata": {
        "id": "1sTUBFDPo1mu",
        "colab": {
          "base_uri": "https://localhost:8080/",
          "height": 306
        },
        "outputId": "655db5bc-6375-406e-8031-ef9a3174d86c"
      },
      "source": [
        "acs_df['2019'].head()"
      ],
      "execution_count": 81,
      "outputs": [
        {
          "output_type": "execute_result",
          "data": {
            "text/html": [
              "<div>\n",
              "<style scoped>\n",
              "    .dataframe tbody tr th:only-of-type {\n",
              "        vertical-align: middle;\n",
              "    }\n",
              "\n",
              "    .dataframe tbody tr th {\n",
              "        vertical-align: top;\n",
              "    }\n",
              "\n",
              "    .dataframe thead th {\n",
              "        text-align: right;\n",
              "    }\n",
              "</style>\n",
              "<table border=\"1\" class=\"dataframe\">\n",
              "  <thead>\n",
              "    <tr style=\"text-align: right;\">\n",
              "      <th></th>\n",
              "      <th>Geography</th>\n",
              "      <th>Geographic Area Name</th>\n",
              "      <th>Workers 16 years and over 2019 (Estimate)</th>\n",
              "      <th>Workers 16 years and over 2019 (MOE)</th>\n",
              "      <th>Public transportation (excluding taxicab) 2019 (Estimate)</th>\n",
              "      <th>Public transportation (excluding taxicab) 2019 (MOE)</th>\n",
              "      <th>state</th>\n",
              "      <th>county</th>\n",
              "    </tr>\n",
              "  </thead>\n",
              "  <tbody>\n",
              "    <tr>\n",
              "      <th>0</th>\n",
              "      <td>0500000US17051</td>\n",
              "      <td>Fayette County, Illinois</td>\n",
              "      <td>8633</td>\n",
              "      <td>353</td>\n",
              "      <td>0.8</td>\n",
              "      <td>0.4</td>\n",
              "      <td>17</td>\n",
              "      <td>051</td>\n",
              "    </tr>\n",
              "    <tr>\n",
              "      <th>1</th>\n",
              "      <td>0500000US17107</td>\n",
              "      <td>Logan County, Illinois</td>\n",
              "      <td>12211</td>\n",
              "      <td>378</td>\n",
              "      <td>0.4</td>\n",
              "      <td>0.3</td>\n",
              "      <td>17</td>\n",
              "      <td>107</td>\n",
              "    </tr>\n",
              "    <tr>\n",
              "      <th>2</th>\n",
              "      <td>0500000US17165</td>\n",
              "      <td>Saline County, Illinois</td>\n",
              "      <td>9631</td>\n",
              "      <td>334</td>\n",
              "      <td>0.9</td>\n",
              "      <td>0.6</td>\n",
              "      <td>17</td>\n",
              "      <td>165</td>\n",
              "    </tr>\n",
              "    <tr>\n",
              "      <th>3</th>\n",
              "      <td>0500000US17097</td>\n",
              "      <td>Lake County, Illinois</td>\n",
              "      <td>355918</td>\n",
              "      <td>2280</td>\n",
              "      <td>4.4</td>\n",
              "      <td>0.2</td>\n",
              "      <td>17</td>\n",
              "      <td>097</td>\n",
              "    </tr>\n",
              "    <tr>\n",
              "      <th>4</th>\n",
              "      <td>0500000US17127</td>\n",
              "      <td>Massac County, Illinois</td>\n",
              "      <td>5602</td>\n",
              "      <td>268</td>\n",
              "      <td>0.3</td>\n",
              "      <td>0.5</td>\n",
              "      <td>17</td>\n",
              "      <td>127</td>\n",
              "    </tr>\n",
              "  </tbody>\n",
              "</table>\n",
              "</div>"
            ],
            "text/plain": [
              "        Geography      Geographic Area Name  ...  state  county\n",
              "0  0500000US17051  Fayette County, Illinois  ...     17     051\n",
              "1  0500000US17107    Logan County, Illinois  ...     17     107\n",
              "2  0500000US17165   Saline County, Illinois  ...     17     165\n",
              "3  0500000US17097     Lake County, Illinois  ...     17     097\n",
              "4  0500000US17127   Massac County, Illinois  ...     17     127\n",
              "\n",
              "[5 rows x 8 columns]"
            ]
          },
          "metadata": {},
          "execution_count": 81
        }
      ]
    },
    {
      "cell_type": "code",
      "metadata": {
        "id": "-SccRvo6oYw7",
        "colab": {
          "base_uri": "https://localhost:8080/",
          "height": 496
        },
        "outputId": "a9c8d5ef-840f-43f9-f2af-f12ce062eb0b"
      },
      "source": [
        "merge_df = pd.merge(left = acs_df['2012'],\n",
        "                    right = acs_df['2019'],\n",
        "                    left_on = ['Geography','Geographic Area Name'],\n",
        "                    right_on = ['Geography','Geographic Area Name'],\n",
        "                    how = 'inner')\n",
        "merge_df.head()"
      ],
      "execution_count": 91,
      "outputs": [
        {
          "output_type": "execute_result",
          "data": {
            "text/html": [
              "<div>\n",
              "<style scoped>\n",
              "    .dataframe tbody tr th:only-of-type {\n",
              "        vertical-align: middle;\n",
              "    }\n",
              "\n",
              "    .dataframe tbody tr th {\n",
              "        vertical-align: top;\n",
              "    }\n",
              "\n",
              "    .dataframe thead th {\n",
              "        text-align: right;\n",
              "    }\n",
              "</style>\n",
              "<table border=\"1\" class=\"dataframe\">\n",
              "  <thead>\n",
              "    <tr style=\"text-align: right;\">\n",
              "      <th></th>\n",
              "      <th>Geography</th>\n",
              "      <th>Geographic Area Name</th>\n",
              "      <th>Workers 16 years and over 2012 (Estimate)</th>\n",
              "      <th>Workers 16 years and over 2012 (MOE)</th>\n",
              "      <th>Public transportation (excluding taxicab) 2012 (Estimate)</th>\n",
              "      <th>Public transportation (excluding taxicab) 2012 (MOE)</th>\n",
              "      <th>state_x</th>\n",
              "      <th>county_x</th>\n",
              "      <th>Workers 16 years and over 2019 (Estimate)</th>\n",
              "      <th>Workers 16 years and over 2019 (MOE)</th>\n",
              "      <th>Public transportation (excluding taxicab) 2019 (Estimate)</th>\n",
              "      <th>Public transportation (excluding taxicab) 2019 (MOE)</th>\n",
              "      <th>state_y</th>\n",
              "      <th>county_y</th>\n",
              "    </tr>\n",
              "  </thead>\n",
              "  <tbody>\n",
              "    <tr>\n",
              "      <th>0</th>\n",
              "      <td>0500000US29115</td>\n",
              "      <td>Linn County, Missouri</td>\n",
              "      <td>5052</td>\n",
              "      <td>234</td>\n",
              "      <td>0.0</td>\n",
              "      <td>0.1</td>\n",
              "      <td>29</td>\n",
              "      <td>115</td>\n",
              "      <td>5579</td>\n",
              "      <td>158</td>\n",
              "      <td>0.0</td>\n",
              "      <td>0.5</td>\n",
              "      <td>29</td>\n",
              "      <td>115</td>\n",
              "    </tr>\n",
              "    <tr>\n",
              "      <th>1</th>\n",
              "      <td>0500000US29091</td>\n",
              "      <td>Howell County, Missouri</td>\n",
              "      <td>15623</td>\n",
              "      <td>560</td>\n",
              "      <td>0.3</td>\n",
              "      <td>0.3</td>\n",
              "      <td>29</td>\n",
              "      <td>091</td>\n",
              "      <td>16210</td>\n",
              "      <td>514</td>\n",
              "      <td>0.4</td>\n",
              "      <td>0.4</td>\n",
              "      <td>29</td>\n",
              "      <td>091</td>\n",
              "    </tr>\n",
              "    <tr>\n",
              "      <th>2</th>\n",
              "      <td>0500000US29101</td>\n",
              "      <td>Johnson County, Missouri</td>\n",
              "      <td>25227</td>\n",
              "      <td>677</td>\n",
              "      <td>0.3</td>\n",
              "      <td>0.2</td>\n",
              "      <td>29</td>\n",
              "      <td>101</td>\n",
              "      <td>26742</td>\n",
              "      <td>682</td>\n",
              "      <td>0.2</td>\n",
              "      <td>0.1</td>\n",
              "      <td>29</td>\n",
              "      <td>101</td>\n",
              "    </tr>\n",
              "    <tr>\n",
              "      <th>3</th>\n",
              "      <td>0500000US29105</td>\n",
              "      <td>Laclede County, Missouri</td>\n",
              "      <td>15019</td>\n",
              "      <td>481</td>\n",
              "      <td>0.1</td>\n",
              "      <td>0.2</td>\n",
              "      <td>29</td>\n",
              "      <td>105</td>\n",
              "      <td>15395</td>\n",
              "      <td>663</td>\n",
              "      <td>0.0</td>\n",
              "      <td>0.2</td>\n",
              "      <td>29</td>\n",
              "      <td>105</td>\n",
              "    </tr>\n",
              "    <tr>\n",
              "      <th>4</th>\n",
              "      <td>0500000US29125</td>\n",
              "      <td>Maries County, Missouri</td>\n",
              "      <td>3830</td>\n",
              "      <td>246</td>\n",
              "      <td>0.4</td>\n",
              "      <td>0.6</td>\n",
              "      <td>29</td>\n",
              "      <td>125</td>\n",
              "      <td>3716</td>\n",
              "      <td>254</td>\n",
              "      <td>0.2</td>\n",
              "      <td>0.3</td>\n",
              "      <td>29</td>\n",
              "      <td>125</td>\n",
              "    </tr>\n",
              "  </tbody>\n",
              "</table>\n",
              "</div>"
            ],
            "text/plain": [
              "        Geography      Geographic Area Name  ...  state_y  county_y\n",
              "0  0500000US29115     Linn County, Missouri  ...       29       115\n",
              "1  0500000US29091   Howell County, Missouri  ...       29       091\n",
              "2  0500000US29101  Johnson County, Missouri  ...       29       101\n",
              "3  0500000US29105  Laclede County, Missouri  ...       29       105\n",
              "4  0500000US29125   Maries County, Missouri  ...       29       125\n",
              "\n",
              "[5 rows x 14 columns]"
            ]
          },
          "metadata": {},
          "execution_count": 91
        }
      ]
    },
    {
      "cell_type": "code",
      "metadata": {
        "colab": {
          "base_uri": "https://localhost:8080/",
          "height": 141
        },
        "id": "GTnjDizMXi5C",
        "outputId": "ae0a4212-1a13-4de9-bfd3-308d8f44b890"
      },
      "source": [
        "float_col_list = list(merge_df.select_dtypes(include=['float']).columns)\n",
        "table3 = merge_df[float_col_list].describe().T\n",
        "varformat = \"{:,.2f}\" # The variable format adds a comma and rounds up\n",
        "table_title = \"Table 3. Descriptive statistics for variables by county, 2012 & 2019 5-year ACS.\"\n",
        "table3 = table3.style.set_caption(table_title).format(varformat).set_properties(**{'text-align': 'right'})\n",
        "table3"
      ],
      "execution_count": 96,
      "outputs": [
        {
          "output_type": "execute_result",
          "data": {
            "text/html": [
              "<style  type=\"text/css\" >\n",
              "#T_7603cc48_2784_11ec_9636_0242ac1c0002row0_col0,#T_7603cc48_2784_11ec_9636_0242ac1c0002row0_col1,#T_7603cc48_2784_11ec_9636_0242ac1c0002row0_col2,#T_7603cc48_2784_11ec_9636_0242ac1c0002row0_col3,#T_7603cc48_2784_11ec_9636_0242ac1c0002row0_col4,#T_7603cc48_2784_11ec_9636_0242ac1c0002row0_col5,#T_7603cc48_2784_11ec_9636_0242ac1c0002row0_col6,#T_7603cc48_2784_11ec_9636_0242ac1c0002row0_col7,#T_7603cc48_2784_11ec_9636_0242ac1c0002row1_col0,#T_7603cc48_2784_11ec_9636_0242ac1c0002row1_col1,#T_7603cc48_2784_11ec_9636_0242ac1c0002row1_col2,#T_7603cc48_2784_11ec_9636_0242ac1c0002row1_col3,#T_7603cc48_2784_11ec_9636_0242ac1c0002row1_col4,#T_7603cc48_2784_11ec_9636_0242ac1c0002row1_col5,#T_7603cc48_2784_11ec_9636_0242ac1c0002row1_col6,#T_7603cc48_2784_11ec_9636_0242ac1c0002row1_col7,#T_7603cc48_2784_11ec_9636_0242ac1c0002row2_col0,#T_7603cc48_2784_11ec_9636_0242ac1c0002row2_col1,#T_7603cc48_2784_11ec_9636_0242ac1c0002row2_col2,#T_7603cc48_2784_11ec_9636_0242ac1c0002row2_col3,#T_7603cc48_2784_11ec_9636_0242ac1c0002row2_col4,#T_7603cc48_2784_11ec_9636_0242ac1c0002row2_col5,#T_7603cc48_2784_11ec_9636_0242ac1c0002row2_col6,#T_7603cc48_2784_11ec_9636_0242ac1c0002row2_col7,#T_7603cc48_2784_11ec_9636_0242ac1c0002row3_col0,#T_7603cc48_2784_11ec_9636_0242ac1c0002row3_col1,#T_7603cc48_2784_11ec_9636_0242ac1c0002row3_col2,#T_7603cc48_2784_11ec_9636_0242ac1c0002row3_col3,#T_7603cc48_2784_11ec_9636_0242ac1c0002row3_col4,#T_7603cc48_2784_11ec_9636_0242ac1c0002row3_col5,#T_7603cc48_2784_11ec_9636_0242ac1c0002row3_col6,#T_7603cc48_2784_11ec_9636_0242ac1c0002row3_col7{\n",
              "            text-align:  right;\n",
              "        }</style><table id=\"T_7603cc48_2784_11ec_9636_0242ac1c0002\" ><caption>Table 3. Descriptive statistics for variables by county, 2012 & 2019 5-year ACS.</caption><thead>    <tr>        <th class=\"blank level0\" ></th>        <th class=\"col_heading level0 col0\" >count</th>        <th class=\"col_heading level0 col1\" >mean</th>        <th class=\"col_heading level0 col2\" >std</th>        <th class=\"col_heading level0 col3\" >min</th>        <th class=\"col_heading level0 col4\" >25%</th>        <th class=\"col_heading level0 col5\" >50%</th>        <th class=\"col_heading level0 col6\" >75%</th>        <th class=\"col_heading level0 col7\" >max</th>    </tr></thead><tbody>\n",
              "                <tr>\n",
              "                        <th id=\"T_7603cc48_2784_11ec_9636_0242ac1c0002level0_row0\" class=\"row_heading level0 row0\" >Public transportation (excluding taxicab) 2012 (Estimate)</th>\n",
              "                        <td id=\"T_7603cc48_2784_11ec_9636_0242ac1c0002row0_col0\" class=\"data row0 col0\" >3,217.00</td>\n",
              "                        <td id=\"T_7603cc48_2784_11ec_9636_0242ac1c0002row0_col1\" class=\"data row0 col1\" >0.97</td>\n",
              "                        <td id=\"T_7603cc48_2784_11ec_9636_0242ac1c0002row0_col2\" class=\"data row0 col2\" >3.00</td>\n",
              "                        <td id=\"T_7603cc48_2784_11ec_9636_0242ac1c0002row0_col3\" class=\"data row0 col3\" >0.00</td>\n",
              "                        <td id=\"T_7603cc48_2784_11ec_9636_0242ac1c0002row0_col4\" class=\"data row0 col4\" >0.10</td>\n",
              "                        <td id=\"T_7603cc48_2784_11ec_9636_0242ac1c0002row0_col5\" class=\"data row0 col5\" >0.40</td>\n",
              "                        <td id=\"T_7603cc48_2784_11ec_9636_0242ac1c0002row0_col6\" class=\"data row0 col6\" >0.80</td>\n",
              "                        <td id=\"T_7603cc48_2784_11ec_9636_0242ac1c0002row0_col7\" class=\"data row0 col7\" >60.80</td>\n",
              "            </tr>\n",
              "            <tr>\n",
              "                        <th id=\"T_7603cc48_2784_11ec_9636_0242ac1c0002level0_row1\" class=\"row_heading level0 row1\" >Public transportation (excluding taxicab) 2012 (MOE)</th>\n",
              "                        <td id=\"T_7603cc48_2784_11ec_9636_0242ac1c0002row1_col0\" class=\"data row1 col0\" >3,217.00</td>\n",
              "                        <td id=\"T_7603cc48_2784_11ec_9636_0242ac1c0002row1_col1\" class=\"data row1 col1\" >0.66</td>\n",
              "                        <td id=\"T_7603cc48_2784_11ec_9636_0242ac1c0002row1_col2\" class=\"data row1 col2\" >1.46</td>\n",
              "                        <td id=\"T_7603cc48_2784_11ec_9636_0242ac1c0002row1_col3\" class=\"data row1 col3\" >0.10</td>\n",
              "                        <td id=\"T_7603cc48_2784_11ec_9636_0242ac1c0002row1_col4\" class=\"data row1 col4\" >0.20</td>\n",
              "                        <td id=\"T_7603cc48_2784_11ec_9636_0242ac1c0002row1_col5\" class=\"data row1 col5\" >0.30</td>\n",
              "                        <td id=\"T_7603cc48_2784_11ec_9636_0242ac1c0002row1_col6\" class=\"data row1 col6\" >0.70</td>\n",
              "                        <td id=\"T_7603cc48_2784_11ec_9636_0242ac1c0002row1_col7\" class=\"data row1 col7\" >40.00</td>\n",
              "            </tr>\n",
              "            <tr>\n",
              "                        <th id=\"T_7603cc48_2784_11ec_9636_0242ac1c0002level0_row2\" class=\"row_heading level0 row2\" >Public transportation (excluding taxicab) 2019 (Estimate)</th>\n",
              "                        <td id=\"T_7603cc48_2784_11ec_9636_0242ac1c0002row2_col0\" class=\"data row2 col0\" >3,217.00</td>\n",
              "                        <td id=\"T_7603cc48_2784_11ec_9636_0242ac1c0002row2_col1\" class=\"data row2 col1\" >0.91</td>\n",
              "                        <td id=\"T_7603cc48_2784_11ec_9636_0242ac1c0002row2_col2\" class=\"data row2 col2\" >3.05</td>\n",
              "                        <td id=\"T_7603cc48_2784_11ec_9636_0242ac1c0002row2_col3\" class=\"data row2 col3\" >0.00</td>\n",
              "                        <td id=\"T_7603cc48_2784_11ec_9636_0242ac1c0002row2_col4\" class=\"data row2 col4\" >0.10</td>\n",
              "                        <td id=\"T_7603cc48_2784_11ec_9636_0242ac1c0002row2_col5\" class=\"data row2 col5\" >0.30</td>\n",
              "                        <td id=\"T_7603cc48_2784_11ec_9636_0242ac1c0002row2_col6\" class=\"data row2 col6\" >0.70</td>\n",
              "                        <td id=\"T_7603cc48_2784_11ec_9636_0242ac1c0002row2_col7\" class=\"data row2 col7\" >61.20</td>\n",
              "            </tr>\n",
              "            <tr>\n",
              "                        <th id=\"T_7603cc48_2784_11ec_9636_0242ac1c0002level0_row3\" class=\"row_heading level0 row3\" >Public transportation (excluding taxicab) 2019 (MOE)</th>\n",
              "                        <td id=\"T_7603cc48_2784_11ec_9636_0242ac1c0002row3_col0\" class=\"data row3 col0\" >3,217.00</td>\n",
              "                        <td id=\"T_7603cc48_2784_11ec_9636_0242ac1c0002row3_col1\" class=\"data row3 col1\" >0.67</td>\n",
              "                        <td id=\"T_7603cc48_2784_11ec_9636_0242ac1c0002row3_col2\" class=\"data row3 col2\" >1.55</td>\n",
              "                        <td id=\"T_7603cc48_2784_11ec_9636_0242ac1c0002row3_col3\" class=\"data row3 col3\" >0.10</td>\n",
              "                        <td id=\"T_7603cc48_2784_11ec_9636_0242ac1c0002row3_col4\" class=\"data row3 col4\" >0.20</td>\n",
              "                        <td id=\"T_7603cc48_2784_11ec_9636_0242ac1c0002row3_col5\" class=\"data row3 col5\" >0.30</td>\n",
              "                        <td id=\"T_7603cc48_2784_11ec_9636_0242ac1c0002row3_col6\" class=\"data row3 col6\" >0.60</td>\n",
              "                        <td id=\"T_7603cc48_2784_11ec_9636_0242ac1c0002row3_col7\" class=\"data row3 col7\" >59.00</td>\n",
              "            </tr>\n",
              "    </tbody></table>"
            ],
            "text/plain": [
              "<pandas.io.formats.style.Styler at 0x7f47783f6e50>"
            ]
          },
          "metadata": {},
          "execution_count": 96
        }
      ]
    },
    {
      "cell_type": "markdown",
      "metadata": {
        "id": "3q0qFN6opdyS"
      },
      "source": [
        "### 3.3 Clean Up Merge File\n",
        "Notice that the merge file has several columns (variables) that have repeated information. All three datafiles had a column called `name`. The name column is a good way to see that the merge has worked correctly. In this step we will also rename the columns."
      ]
    },
    {
      "cell_type": "markdown",
      "metadata": {
        "id": "vnIMKNioYKds"
      },
      "source": [
        "### 3.3.1 Remove repeated columns"
      ]
    },
    {
      "cell_type": "code",
      "metadata": {
        "id": "UtkICtZfrmLJ",
        "colab": {
          "base_uri": "https://localhost:8080/",
          "height": 425
        },
        "outputId": "c465dadd-74d0-4df5-b41d-91961670fa92"
      },
      "source": [
        "## The state and county columns also match - we can drop the repeated columns\n",
        "merge_df = merge_df.drop(['state_y','county_y'], axis = 1)\n",
        "merge_df.head()"
      ],
      "execution_count": 93,
      "outputs": [
        {
          "output_type": "execute_result",
          "data": {
            "text/html": [
              "<div>\n",
              "<style scoped>\n",
              "    .dataframe tbody tr th:only-of-type {\n",
              "        vertical-align: middle;\n",
              "    }\n",
              "\n",
              "    .dataframe tbody tr th {\n",
              "        vertical-align: top;\n",
              "    }\n",
              "\n",
              "    .dataframe thead th {\n",
              "        text-align: right;\n",
              "    }\n",
              "</style>\n",
              "<table border=\"1\" class=\"dataframe\">\n",
              "  <thead>\n",
              "    <tr style=\"text-align: right;\">\n",
              "      <th></th>\n",
              "      <th>Geography</th>\n",
              "      <th>Geographic Area Name</th>\n",
              "      <th>Workers 16 years and over 2012 (Estimate)</th>\n",
              "      <th>Workers 16 years and over 2012 (MOE)</th>\n",
              "      <th>Public transportation (excluding taxicab) 2012 (Estimate)</th>\n",
              "      <th>Public transportation (excluding taxicab) 2012 (MOE)</th>\n",
              "      <th>county_x</th>\n",
              "      <th>Workers 16 years and over 2019 (Estimate)</th>\n",
              "      <th>Workers 16 years and over 2019 (MOE)</th>\n",
              "      <th>Public transportation (excluding taxicab) 2019 (Estimate)</th>\n",
              "      <th>Public transportation (excluding taxicab) 2019 (MOE)</th>\n",
              "    </tr>\n",
              "  </thead>\n",
              "  <tbody>\n",
              "    <tr>\n",
              "      <th>0</th>\n",
              "      <td>0500000US29115</td>\n",
              "      <td>Linn County, Missouri</td>\n",
              "      <td>5052</td>\n",
              "      <td>234</td>\n",
              "      <td>0.0</td>\n",
              "      <td>0.1</td>\n",
              "      <td>115</td>\n",
              "      <td>5579</td>\n",
              "      <td>158</td>\n",
              "      <td>0.0</td>\n",
              "      <td>0.5</td>\n",
              "    </tr>\n",
              "    <tr>\n",
              "      <th>1</th>\n",
              "      <td>0500000US29091</td>\n",
              "      <td>Howell County, Missouri</td>\n",
              "      <td>15623</td>\n",
              "      <td>560</td>\n",
              "      <td>0.3</td>\n",
              "      <td>0.3</td>\n",
              "      <td>091</td>\n",
              "      <td>16210</td>\n",
              "      <td>514</td>\n",
              "      <td>0.4</td>\n",
              "      <td>0.4</td>\n",
              "    </tr>\n",
              "    <tr>\n",
              "      <th>2</th>\n",
              "      <td>0500000US29101</td>\n",
              "      <td>Johnson County, Missouri</td>\n",
              "      <td>25227</td>\n",
              "      <td>677</td>\n",
              "      <td>0.3</td>\n",
              "      <td>0.2</td>\n",
              "      <td>101</td>\n",
              "      <td>26742</td>\n",
              "      <td>682</td>\n",
              "      <td>0.2</td>\n",
              "      <td>0.1</td>\n",
              "    </tr>\n",
              "    <tr>\n",
              "      <th>3</th>\n",
              "      <td>0500000US29105</td>\n",
              "      <td>Laclede County, Missouri</td>\n",
              "      <td>15019</td>\n",
              "      <td>481</td>\n",
              "      <td>0.1</td>\n",
              "      <td>0.2</td>\n",
              "      <td>105</td>\n",
              "      <td>15395</td>\n",
              "      <td>663</td>\n",
              "      <td>0.0</td>\n",
              "      <td>0.2</td>\n",
              "    </tr>\n",
              "    <tr>\n",
              "      <th>4</th>\n",
              "      <td>0500000US29125</td>\n",
              "      <td>Maries County, Missouri</td>\n",
              "      <td>3830</td>\n",
              "      <td>246</td>\n",
              "      <td>0.4</td>\n",
              "      <td>0.6</td>\n",
              "      <td>125</td>\n",
              "      <td>3716</td>\n",
              "      <td>254</td>\n",
              "      <td>0.2</td>\n",
              "      <td>0.3</td>\n",
              "    </tr>\n",
              "  </tbody>\n",
              "</table>\n",
              "</div>"
            ],
            "text/plain": [
              "        Geography  ... Public transportation (excluding taxicab) 2019 (MOE)\n",
              "0  0500000US29115  ...                                                0.5  \n",
              "1  0500000US29091  ...                                                0.4  \n",
              "2  0500000US29101  ...                                                0.1  \n",
              "3  0500000US29105  ...                                                0.2  \n",
              "4  0500000US29125  ...                                                0.3  \n",
              "\n",
              "[5 rows x 11 columns]"
            ]
          },
          "metadata": {},
          "execution_count": 93
        }
      ]
    },
    {
      "cell_type": "markdown",
      "metadata": {
        "id": "Fqp0Ji4yYF4s"
      },
      "source": [
        "### 3.3.2 Add new variable\n",
        "Add difference between ACS statiscs"
      ]
    },
    {
      "cell_type": "code",
      "metadata": {
        "colab": {
          "base_uri": "https://localhost:8080/"
        },
        "id": "K0kUJd26YFVC",
        "outputId": "b7c681c3-5523-416c-cb6e-e41bcdde8ff9"
      },
      "source": [
        "percent1 = 'Public transportation (excluding taxicab) 2019 (Estimate)'\n",
        "percent2 = 'Public transportation (excluding taxicab) 2012 (Estimate)'\n",
        "merge_df.loc[:,'Difference between Percent'] = (merge_df[percent1]) - (merge_df[percent2])\n",
        "merge_df['Difference between Percents'].describe()"
      ],
      "execution_count": 123,
      "outputs": [
        {
          "output_type": "execute_result",
          "data": {
            "text/plain": [
              "count    3217.000000\n",
              "mean       -0.067454\n",
              "std         0.810308\n",
              "min       -17.000000\n",
              "25%        -0.300000\n",
              "50%         0.000000\n",
              "75%         0.200000\n",
              "max        18.400000\n",
              "Name: Difference between Percents, dtype: float64"
            ]
          },
          "metadata": {},
          "execution_count": 123
        }
      ]
    },
    {
      "cell_type": "markdown",
      "metadata": {
        "id": "t4vgRLTiagNe"
      },
      "source": [
        "Add standard error for the pooled estimate"
      ]
    },
    {
      "cell_type": "code",
      "metadata": {
        "colab": {
          "base_uri": "https://localhost:8080/"
        },
        "id": "Sra6lKdKYFLC",
        "outputId": "de184891-f653-4bd2-a2dc-5f9343bec388"
      },
      "source": [
        "moe1 = 'Public transportation (excluding taxicab) 2019 (MOE)'\n",
        "moe2 = 'Public transportation (excluding taxicab) 2012 (MOE)'\n",
        "census_critical_value = 1.645\n",
        "merge_df.loc[:,'Standard Error 1'] = (merge_df[moe1])/census_critical_value\n",
        "merge_df.loc[:,'Standard Error 2'] = (merge_df[moe2])/census_critical_value\n",
        "merge_df.loc[:,'Difference Standard Error'] = (merge_df['Standard Error 1']**2 + merge_df['Standard Error 2']**2)**(-1/2)\n",
        "merge_df['Difference Standard Error'].describe()"
      ],
      "execution_count": 124,
      "outputs": [
        {
          "output_type": "execute_result",
          "data": {
            "text/plain": [
              "count    3217.000000\n",
              "mean        3.725210\n",
              "std         2.794229\n",
              "min         0.023168\n",
              "25%         1.661701\n",
              "50%         3.054688\n",
              "75%         5.201947\n",
              "max        11.631907\n",
              "Name: Difference Standard Error, dtype: float64"
            ]
          },
          "metadata": {},
          "execution_count": 124
        }
      ]
    },
    {
      "cell_type": "markdown",
      "metadata": {
        "id": "LpiNRVTGdRRH"
      },
      "source": [
        "Add test statistic for difference"
      ]
    },
    {
      "cell_type": "code",
      "metadata": {
        "colab": {
          "base_uri": "https://localhost:8080/"
        },
        "id": "dCQZgzKndQyZ",
        "outputId": "533e75c3-c1d4-4585-ecc9-80b14a14be0c"
      },
      "source": [
        "merge_df.loc[:,'Test Statistic'] = abs(merge_df['Difference between Percents'] / merge_df['Difference Standard Error'])\n",
        "merge_df['Test Statistic'].describe()"
      ],
      "execution_count": 125,
      "outputs": [
        {
          "output_type": "execute_result",
          "data": {
            "text/plain": [
              "count    3217.000000\n",
              "mean        0.419156\n",
              "std         2.664195\n",
              "min         0.000000\n",
              "25%         0.017194\n",
              "50%         0.060790\n",
              "75%         0.203897\n",
              "max        74.078825\n",
              "Name: Test Statistic, dtype: float64"
            ]
          },
          "metadata": {},
          "execution_count": 125
        }
      ]
    },
    {
      "cell_type": "markdown",
      "metadata": {
        "id": "pZSllxtht4A5"
      },
      "source": [
        "## Step 4: Explore Data\n",
        "### 4.1 - Which Counties had significant changes?"
      ]
    },
    {
      "cell_type": "code",
      "metadata": {
        "colab": {
          "base_uri": "https://localhost:8080/",
          "height": 1000
        },
        "id": "3se4cCbdfy-C",
        "outputId": "b9d8ba46-df00-4e1c-f949-447c182a061d"
      },
      "source": [
        "merge_df.loc[(merge_df['Test Statistic'] >= 1.645) & \n",
        "             (merge_df['Difference between Percents'] > 0) &\n",
        "             ()]"
      ],
      "execution_count": 126,
      "outputs": [
        {
          "output_type": "execute_result",
          "data": {
            "text/html": [
              "<div>\n",
              "<style scoped>\n",
              "    .dataframe tbody tr th:only-of-type {\n",
              "        vertical-align: middle;\n",
              "    }\n",
              "\n",
              "    .dataframe tbody tr th {\n",
              "        vertical-align: top;\n",
              "    }\n",
              "\n",
              "    .dataframe thead th {\n",
              "        text-align: right;\n",
              "    }\n",
              "</style>\n",
              "<table border=\"1\" class=\"dataframe\">\n",
              "  <thead>\n",
              "    <tr style=\"text-align: right;\">\n",
              "      <th></th>\n",
              "      <th>Geography</th>\n",
              "      <th>Geographic Area Name</th>\n",
              "      <th>Workers 16 years and over 2012 (Estimate)</th>\n",
              "      <th>Workers 16 years and over 2012 (MOE)</th>\n",
              "      <th>Public transportation (excluding taxicab) 2012 (Estimate)</th>\n",
              "      <th>Public transportation (excluding taxicab) 2012 (MOE)</th>\n",
              "      <th>county_x</th>\n",
              "      <th>Workers 16 years and over 2019 (Estimate)</th>\n",
              "      <th>Workers 16 years and over 2019 (MOE)</th>\n",
              "      <th>Public transportation (excluding taxicab) 2019 (Estimate)</th>\n",
              "      <th>Public transportation (excluding taxicab) 2019 (MOE)</th>\n",
              "      <th>Difference between Proportions</th>\n",
              "      <th>Difference between Percents</th>\n",
              "      <th>Difference Standard Error</th>\n",
              "      <th>Standard Error 1</th>\n",
              "      <th>Standard Error 2</th>\n",
              "      <th>Test Statistic</th>\n",
              "      <th>Difference between Percent</th>\n",
              "    </tr>\n",
              "  </thead>\n",
              "  <tbody>\n",
              "    <tr>\n",
              "      <th>39</th>\n",
              "      <td>0500000US30097</td>\n",
              "      <td>Sweet Grass County, Montana</td>\n",
              "      <td>1712</td>\n",
              "      <td>122</td>\n",
              "      <td>2.9</td>\n",
              "      <td>1.4</td>\n",
              "      <td>097</td>\n",
              "      <td>1560</td>\n",
              "      <td>131</td>\n",
              "      <td>5.9</td>\n",
              "      <td>2.6</td>\n",
              "      <td>0.030</td>\n",
              "      <td>3.0</td>\n",
              "      <td>0.557067</td>\n",
              "      <td>1.580547</td>\n",
              "      <td>0.851064</td>\n",
              "      <td>5.385346</td>\n",
              "      <td>3.0</td>\n",
              "    </tr>\n",
              "    <tr>\n",
              "      <th>50</th>\n",
              "      <td>0500000US30057</td>\n",
              "      <td>Madison County, Montana</td>\n",
              "      <td>3923</td>\n",
              "      <td>184</td>\n",
              "      <td>0.1</td>\n",
              "      <td>0.1</td>\n",
              "      <td>057</td>\n",
              "      <td>3932</td>\n",
              "      <td>232</td>\n",
              "      <td>1.7</td>\n",
              "      <td>2.1</td>\n",
              "      <td>0.016</td>\n",
              "      <td>1.6</td>\n",
              "      <td>0.782447</td>\n",
              "      <td>1.276596</td>\n",
              "      <td>0.060790</td>\n",
              "      <td>2.044868</td>\n",
              "      <td>1.6</td>\n",
              "    </tr>\n",
              "    <tr>\n",
              "      <th>263</th>\n",
              "      <td>0500000US06051</td>\n",
              "      <td>Mono County, California</td>\n",
              "      <td>7812</td>\n",
              "      <td>455</td>\n",
              "      <td>2.9</td>\n",
              "      <td>1.5</td>\n",
              "      <td>051</td>\n",
              "      <td>8302</td>\n",
              "      <td>611</td>\n",
              "      <td>21.3</td>\n",
              "      <td>5.4</td>\n",
              "      <td>0.184</td>\n",
              "      <td>18.4</td>\n",
              "      <td>0.293516</td>\n",
              "      <td>3.282675</td>\n",
              "      <td>0.911854</td>\n",
              "      <td>62.688213</td>\n",
              "      <td>18.4</td>\n",
              "    </tr>\n",
              "    <tr>\n",
              "      <th>285</th>\n",
              "      <td>0500000US08051</td>\n",
              "      <td>Gunnison County, Colorado</td>\n",
              "      <td>8682</td>\n",
              "      <td>341</td>\n",
              "      <td>3.0</td>\n",
              "      <td>1.2</td>\n",
              "      <td>051</td>\n",
              "      <td>9470</td>\n",
              "      <td>400</td>\n",
              "      <td>5.4</td>\n",
              "      <td>1.9</td>\n",
              "      <td>0.024</td>\n",
              "      <td>2.4</td>\n",
              "      <td>0.732015</td>\n",
              "      <td>1.155015</td>\n",
              "      <td>0.729483</td>\n",
              "      <td>3.278620</td>\n",
              "      <td>2.4</td>\n",
              "    </tr>\n",
              "    <tr>\n",
              "      <th>297</th>\n",
              "      <td>0500000US08011</td>\n",
              "      <td>Bent County, Colorado</td>\n",
              "      <td>1618</td>\n",
              "      <td>269</td>\n",
              "      <td>0.2</td>\n",
              "      <td>0.5</td>\n",
              "      <td>011</td>\n",
              "      <td>1439</td>\n",
              "      <td>189</td>\n",
              "      <td>2.7</td>\n",
              "      <td>3.4</td>\n",
              "      <td>0.025</td>\n",
              "      <td>2.5</td>\n",
              "      <td>0.478675</td>\n",
              "      <td>2.066869</td>\n",
              "      <td>0.303951</td>\n",
              "      <td>5.222748</td>\n",
              "      <td>2.5</td>\n",
              "    </tr>\n",
              "    <tr>\n",
              "      <th>377</th>\n",
              "      <td>0500000US08097</td>\n",
              "      <td>Pitkin County, Colorado</td>\n",
              "      <td>9851</td>\n",
              "      <td>507</td>\n",
              "      <td>10.7</td>\n",
              "      <td>2.6</td>\n",
              "      <td>097</td>\n",
              "      <td>11730</td>\n",
              "      <td>370</td>\n",
              "      <td>19.0</td>\n",
              "      <td>5.0</td>\n",
              "      <td>0.083</td>\n",
              "      <td>8.3</td>\n",
              "      <td>0.291894</td>\n",
              "      <td>3.039514</td>\n",
              "      <td>1.580547</td>\n",
              "      <td>28.434948</td>\n",
              "      <td>8.3</td>\n",
              "    </tr>\n",
              "    <tr>\n",
              "      <th>603</th>\n",
              "      <td>0500000US48153</td>\n",
              "      <td>Floyd County, Texas</td>\n",
              "      <td>2841</td>\n",
              "      <td>179</td>\n",
              "      <td>0.0</td>\n",
              "      <td>1.3</td>\n",
              "      <td>153</td>\n",
              "      <td>2415</td>\n",
              "      <td>158</td>\n",
              "      <td>1.4</td>\n",
              "      <td>1.6</td>\n",
              "      <td>0.014</td>\n",
              "      <td>1.4</td>\n",
              "      <td>0.797942</td>\n",
              "      <td>0.972644</td>\n",
              "      <td>0.790274</td>\n",
              "      <td>1.754513</td>\n",
              "      <td>1.4</td>\n",
              "    </tr>\n",
              "    <tr>\n",
              "      <th>749</th>\n",
              "      <td>0500000US17069</td>\n",
              "      <td>Hardin County, Illinois</td>\n",
              "      <td>1504</td>\n",
              "      <td>142</td>\n",
              "      <td>0.7</td>\n",
              "      <td>0.6</td>\n",
              "      <td>069</td>\n",
              "      <td>1290</td>\n",
              "      <td>171</td>\n",
              "      <td>2.9</td>\n",
              "      <td>2.8</td>\n",
              "      <td>0.022</td>\n",
              "      <td>2.2</td>\n",
              "      <td>0.574459</td>\n",
              "      <td>1.702128</td>\n",
              "      <td>0.364742</td>\n",
              "      <td>3.829691</td>\n",
              "      <td>2.2</td>\n",
              "    </tr>\n",
              "    <tr>\n",
              "      <th>787</th>\n",
              "      <td>0500000US32011</td>\n",
              "      <td>Eureka County, Nevada</td>\n",
              "      <td>771</td>\n",
              "      <td>111</td>\n",
              "      <td>4.0</td>\n",
              "      <td>2.6</td>\n",
              "      <td>011</td>\n",
              "      <td>930</td>\n",
              "      <td>162</td>\n",
              "      <td>9.8</td>\n",
              "      <td>5.6</td>\n",
              "      <td>0.058</td>\n",
              "      <td>5.8</td>\n",
              "      <td>0.266434</td>\n",
              "      <td>3.404255</td>\n",
              "      <td>1.580547</td>\n",
              "      <td>21.769003</td>\n",
              "      <td>5.8</td>\n",
              "    </tr>\n",
              "    <tr>\n",
              "      <th>788</th>\n",
              "      <td>0500000US32013</td>\n",
              "      <td>Humboldt County, Nevada</td>\n",
              "      <td>7352</td>\n",
              "      <td>370</td>\n",
              "      <td>8.8</td>\n",
              "      <td>2.8</td>\n",
              "      <td>013</td>\n",
              "      <td>8377</td>\n",
              "      <td>290</td>\n",
              "      <td>11.9</td>\n",
              "      <td>2.4</td>\n",
              "      <td>0.031</td>\n",
              "      <td>3.1</td>\n",
              "      <td>0.446063</td>\n",
              "      <td>1.458967</td>\n",
              "      <td>1.702128</td>\n",
              "      <td>6.949687</td>\n",
              "      <td>3.1</td>\n",
              "    </tr>\n",
              "    <tr>\n",
              "      <th>790</th>\n",
              "      <td>0500000US32007</td>\n",
              "      <td>Elko County, Nevada</td>\n",
              "      <td>24386</td>\n",
              "      <td>569</td>\n",
              "      <td>9.9</td>\n",
              "      <td>1.7</td>\n",
              "      <td>007</td>\n",
              "      <td>25783</td>\n",
              "      <td>631</td>\n",
              "      <td>13.4</td>\n",
              "      <td>1.6</td>\n",
              "      <td>0.035</td>\n",
              "      <td>3.5</td>\n",
              "      <td>0.704641</td>\n",
              "      <td>0.972644</td>\n",
              "      <td>1.033435</td>\n",
              "      <td>4.967071</td>\n",
              "      <td>3.5</td>\n",
              "    </tr>\n",
              "    <tr>\n",
              "      <th>812</th>\n",
              "      <td>0500000US34017</td>\n",
              "      <td>Hudson County, New Jersey</td>\n",
              "      <td>318163</td>\n",
              "      <td>2532</td>\n",
              "      <td>39.2</td>\n",
              "      <td>0.7</td>\n",
              "      <td>017</td>\n",
              "      <td>350621</td>\n",
              "      <td>2422</td>\n",
              "      <td>42.6</td>\n",
              "      <td>0.6</td>\n",
              "      <td>0.034</td>\n",
              "      <td>3.4</td>\n",
              "      <td>1.784253</td>\n",
              "      <td>0.364742</td>\n",
              "      <td>0.425532</td>\n",
              "      <td>1.905559</td>\n",
              "      <td>3.4</td>\n",
              "    </tr>\n",
              "    <tr>\n",
              "      <th>885</th>\n",
              "      <td>0500000US06003</td>\n",
              "      <td>Alpine County, California</td>\n",
              "      <td>534</td>\n",
              "      <td>143</td>\n",
              "      <td>0.0</td>\n",
              "      <td>6.8</td>\n",
              "      <td>003</td>\n",
              "      <td>330</td>\n",
              "      <td>82</td>\n",
              "      <td>0.6</td>\n",
              "      <td>1.4</td>\n",
              "      <td>0.006</td>\n",
              "      <td>0.6</td>\n",
              "      <td>0.236942</td>\n",
              "      <td>0.851064</td>\n",
              "      <td>4.133739</td>\n",
              "      <td>2.532263</td>\n",
              "      <td>0.6</td>\n",
              "    </tr>\n",
              "    <tr>\n",
              "      <th>951</th>\n",
              "      <td>0500000US15005</td>\n",
              "      <td>Kalawao County, Hawaii</td>\n",
              "      <td>55</td>\n",
              "      <td>18</td>\n",
              "      <td>0.0</td>\n",
              "      <td>40.0</td>\n",
              "      <td>005</td>\n",
              "      <td>51</td>\n",
              "      <td>11</td>\n",
              "      <td>2.0</td>\n",
              "      <td>4.4</td>\n",
              "      <td>0.020</td>\n",
              "      <td>2.0</td>\n",
              "      <td>0.040878</td>\n",
              "      <td>2.674772</td>\n",
              "      <td>24.316109</td>\n",
              "      <td>48.925559</td>\n",
              "      <td>2.0</td>\n",
              "    </tr>\n",
              "    <tr>\n",
              "      <th>996</th>\n",
              "      <td>0500000US28009</td>\n",
              "      <td>Benton County, Mississippi</td>\n",
              "      <td>2852</td>\n",
              "      <td>298</td>\n",
              "      <td>0.0</td>\n",
              "      <td>1.2</td>\n",
              "      <td>009</td>\n",
              "      <td>2970</td>\n",
              "      <td>322</td>\n",
              "      <td>1.1</td>\n",
              "      <td>2.2</td>\n",
              "      <td>0.011</td>\n",
              "      <td>1.1</td>\n",
              "      <td>0.656426</td>\n",
              "      <td>1.337386</td>\n",
              "      <td>0.729483</td>\n",
              "      <td>1.675740</td>\n",
              "      <td>1.1</td>\n",
              "    </tr>\n",
              "    <tr>\n",
              "      <th>1005</th>\n",
              "      <td>0500000US28005</td>\n",
              "      <td>Amite County, Mississippi</td>\n",
              "      <td>4553</td>\n",
              "      <td>333</td>\n",
              "      <td>0.7</td>\n",
              "      <td>0.8</td>\n",
              "      <td>005</td>\n",
              "      <td>4171</td>\n",
              "      <td>346</td>\n",
              "      <td>2.9</td>\n",
              "      <td>2.5</td>\n",
              "      <td>0.022</td>\n",
              "      <td>2.2</td>\n",
              "      <td>0.626695</td>\n",
              "      <td>1.519757</td>\n",
              "      <td>0.486322</td>\n",
              "      <td>3.510479</td>\n",
              "      <td>2.2</td>\n",
              "    </tr>\n",
              "    <tr>\n",
              "      <th>1120</th>\n",
              "      <td>0500000US08049</td>\n",
              "      <td>Grand County, Colorado</td>\n",
              "      <td>8160</td>\n",
              "      <td>445</td>\n",
              "      <td>0.4</td>\n",
              "      <td>0.3</td>\n",
              "      <td>049</td>\n",
              "      <td>8436</td>\n",
              "      <td>363</td>\n",
              "      <td>2.1</td>\n",
              "      <td>1.6</td>\n",
              "      <td>0.017</td>\n",
              "      <td>1.7</td>\n",
              "      <td>1.010515</td>\n",
              "      <td>0.972644</td>\n",
              "      <td>0.182371</td>\n",
              "      <td>1.682310</td>\n",
              "      <td>1.7</td>\n",
              "    </tr>\n",
              "    <tr>\n",
              "      <th>1295</th>\n",
              "      <td>0500000US21007</td>\n",
              "      <td>Ballard County, Kentucky</td>\n",
              "      <td>3369</td>\n",
              "      <td>180</td>\n",
              "      <td>0.3</td>\n",
              "      <td>0.4</td>\n",
              "      <td>007</td>\n",
              "      <td>3266</td>\n",
              "      <td>180</td>\n",
              "      <td>1.7</td>\n",
              "      <td>2.1</td>\n",
              "      <td>0.014</td>\n",
              "      <td>1.4</td>\n",
              "      <td>0.769499</td>\n",
              "      <td>1.276596</td>\n",
              "      <td>0.243161</td>\n",
              "      <td>1.819367</td>\n",
              "      <td>1.4</td>\n",
              "    </tr>\n",
              "    <tr>\n",
              "      <th>1384</th>\n",
              "      <td>0500000US49031</td>\n",
              "      <td>Piute County, Utah</td>\n",
              "      <td>546</td>\n",
              "      <td>53</td>\n",
              "      <td>0.0</td>\n",
              "      <td>5.3</td>\n",
              "      <td>031</td>\n",
              "      <td>595</td>\n",
              "      <td>96</td>\n",
              "      <td>1.2</td>\n",
              "      <td>1.8</td>\n",
              "      <td>0.012</td>\n",
              "      <td>1.2</td>\n",
              "      <td>0.293891</td>\n",
              "      <td>1.094225</td>\n",
              "      <td>3.221884</td>\n",
              "      <td>4.083152</td>\n",
              "      <td>1.2</td>\n",
              "    </tr>\n",
              "    <tr>\n",
              "      <th>1385</th>\n",
              "      <td>0500000US49033</td>\n",
              "      <td>Rich County, Utah</td>\n",
              "      <td>886</td>\n",
              "      <td>105</td>\n",
              "      <td>0.2</td>\n",
              "      <td>0.4</td>\n",
              "      <td>033</td>\n",
              "      <td>754</td>\n",
              "      <td>88</td>\n",
              "      <td>2.8</td>\n",
              "      <td>3.7</td>\n",
              "      <td>0.026</td>\n",
              "      <td>2.6</td>\n",
              "      <td>0.442019</td>\n",
              "      <td>2.249240</td>\n",
              "      <td>0.243161</td>\n",
              "      <td>5.882099</td>\n",
              "      <td>2.6</td>\n",
              "    </tr>\n",
              "    <tr>\n",
              "      <th>1415</th>\n",
              "      <td>0500000US51181</td>\n",
              "      <td>Surry County, Virginia</td>\n",
              "      <td>3266</td>\n",
              "      <td>219</td>\n",
              "      <td>0.2</td>\n",
              "      <td>0.3</td>\n",
              "      <td>181</td>\n",
              "      <td>3039</td>\n",
              "      <td>224</td>\n",
              "      <td>2.9</td>\n",
              "      <td>2.0</td>\n",
              "      <td>0.027</td>\n",
              "      <td>2.7</td>\n",
              "      <td>0.813400</td>\n",
              "      <td>1.215805</td>\n",
              "      <td>0.182371</td>\n",
              "      <td>3.319399</td>\n",
              "      <td>2.7</td>\n",
              "    </tr>\n",
              "    <tr>\n",
              "      <th>1557</th>\n",
              "      <td>0500000US19141</td>\n",
              "      <td>O'Brien County, Iowa</td>\n",
              "      <td>7060</td>\n",
              "      <td>223</td>\n",
              "      <td>0.0</td>\n",
              "      <td>0.1</td>\n",
              "      <td>141</td>\n",
              "      <td>7109</td>\n",
              "      <td>253</td>\n",
              "      <td>2.8</td>\n",
              "      <td>2.7</td>\n",
              "      <td>0.028</td>\n",
              "      <td>2.8</td>\n",
              "      <td>0.608842</td>\n",
              "      <td>1.641337</td>\n",
              "      <td>0.060790</td>\n",
              "      <td>4.598896</td>\n",
              "      <td>2.8</td>\n",
              "    </tr>\n",
              "    <tr>\n",
              "      <th>1695</th>\n",
              "      <td>0500000US51720</td>\n",
              "      <td>Norton city, Virginia</td>\n",
              "      <td>1655</td>\n",
              "      <td>219</td>\n",
              "      <td>0.0</td>\n",
              "      <td>2.1</td>\n",
              "      <td>720</td>\n",
              "      <td>1596</td>\n",
              "      <td>181</td>\n",
              "      <td>3.8</td>\n",
              "      <td>4.5</td>\n",
              "      <td>0.038</td>\n",
              "      <td>3.8</td>\n",
              "      <td>0.331260</td>\n",
              "      <td>2.735562</td>\n",
              "      <td>1.276596</td>\n",
              "      <td>11.471342</td>\n",
              "      <td>3.8</td>\n",
              "    </tr>\n",
              "    <tr>\n",
              "      <th>1710</th>\n",
              "      <td>0500000US56045</td>\n",
              "      <td>Weston County, Wyoming</td>\n",
              "      <td>3350</td>\n",
              "      <td>238</td>\n",
              "      <td>8.5</td>\n",
              "      <td>3.3</td>\n",
              "      <td>045</td>\n",
              "      <td>3135</td>\n",
              "      <td>238</td>\n",
              "      <td>9.6</td>\n",
              "      <td>4.0</td>\n",
              "      <td>0.011</td>\n",
              "      <td>1.1</td>\n",
              "      <td>0.317227</td>\n",
              "      <td>2.431611</td>\n",
              "      <td>2.006079</td>\n",
              "      <td>3.467546</td>\n",
              "      <td>1.1</td>\n",
              "    </tr>\n",
              "    <tr>\n",
              "      <th>1716</th>\n",
              "      <td>0500000US72067</td>\n",
              "      <td>Hormigueros Municipio, Puerto Rico</td>\n",
              "      <td>5115</td>\n",
              "      <td>321</td>\n",
              "      <td>0.4</td>\n",
              "      <td>0.4</td>\n",
              "      <td>067</td>\n",
              "      <td>4842</td>\n",
              "      <td>371</td>\n",
              "      <td>2.0</td>\n",
              "      <td>1.8</td>\n",
              "      <td>0.016</td>\n",
              "      <td>1.6</td>\n",
              "      <td>0.892127</td>\n",
              "      <td>1.094225</td>\n",
              "      <td>0.243161</td>\n",
              "      <td>1.793468</td>\n",
              "      <td>1.6</td>\n",
              "    </tr>\n",
              "    <tr>\n",
              "      <th>1798</th>\n",
              "      <td>0500000US17151</td>\n",
              "      <td>Pope County, Illinois</td>\n",
              "      <td>1730</td>\n",
              "      <td>155</td>\n",
              "      <td>0.2</td>\n",
              "      <td>0.4</td>\n",
              "      <td>151</td>\n",
              "      <td>1102</td>\n",
              "      <td>188</td>\n",
              "      <td>1.4</td>\n",
              "      <td>3.1</td>\n",
              "      <td>0.012</td>\n",
              "      <td>1.2</td>\n",
              "      <td>0.526282</td>\n",
              "      <td>1.884498</td>\n",
              "      <td>0.243161</td>\n",
              "      <td>2.280146</td>\n",
              "      <td>1.2</td>\n",
              "    </tr>\n",
              "    <tr>\n",
              "      <th>1966</th>\n",
              "      <td>0500000US45009</td>\n",
              "      <td>Bamberg County, South Carolina</td>\n",
              "      <td>5779</td>\n",
              "      <td>407</td>\n",
              "      <td>0.5</td>\n",
              "      <td>0.7</td>\n",
              "      <td>009</td>\n",
              "      <td>5310</td>\n",
              "      <td>407</td>\n",
              "      <td>3.3</td>\n",
              "      <td>1.8</td>\n",
              "      <td>0.028</td>\n",
              "      <td>2.8</td>\n",
              "      <td>0.851749</td>\n",
              "      <td>1.094225</td>\n",
              "      <td>0.425532</td>\n",
              "      <td>3.287355</td>\n",
              "      <td>2.8</td>\n",
              "    </tr>\n",
              "    <tr>\n",
              "      <th>2028</th>\n",
              "      <td>0500000US31009</td>\n",
              "      <td>Blaine County, Nebraska</td>\n",
              "      <td>295</td>\n",
              "      <td>48</td>\n",
              "      <td>0.0</td>\n",
              "      <td>7.3</td>\n",
              "      <td>009</td>\n",
              "      <td>246</td>\n",
              "      <td>38</td>\n",
              "      <td>0.8</td>\n",
              "      <td>1.1</td>\n",
              "      <td>0.008</td>\n",
              "      <td>0.8</td>\n",
              "      <td>0.222827</td>\n",
              "      <td>0.668693</td>\n",
              "      <td>4.437690</td>\n",
              "      <td>3.590231</td>\n",
              "      <td>0.8</td>\n",
              "    </tr>\n",
              "    <tr>\n",
              "      <th>2081</th>\n",
              "      <td>0500000US46117</td>\n",
              "      <td>Stanley County, South Dakota</td>\n",
              "      <td>1686</td>\n",
              "      <td>111</td>\n",
              "      <td>0.0</td>\n",
              "      <td>1.2</td>\n",
              "      <td>117</td>\n",
              "      <td>1724</td>\n",
              "      <td>99</td>\n",
              "      <td>1.5</td>\n",
              "      <td>1.9</td>\n",
              "      <td>0.015</td>\n",
              "      <td>1.5</td>\n",
              "      <td>0.732015</td>\n",
              "      <td>1.155015</td>\n",
              "      <td>0.729483</td>\n",
              "      <td>2.049137</td>\n",
              "      <td>1.5</td>\n",
              "    </tr>\n",
              "    <tr>\n",
              "      <th>2088</th>\n",
              "      <td>0500000US46095</td>\n",
              "      <td>Mellette County, South Dakota</td>\n",
              "      <td>691</td>\n",
              "      <td>68</td>\n",
              "      <td>0.7</td>\n",
              "      <td>1.1</td>\n",
              "      <td>095</td>\n",
              "      <td>539</td>\n",
              "      <td>74</td>\n",
              "      <td>2.0</td>\n",
              "      <td>2.5</td>\n",
              "      <td>0.013</td>\n",
              "      <td>1.3</td>\n",
              "      <td>0.602277</td>\n",
              "      <td>1.519757</td>\n",
              "      <td>0.668693</td>\n",
              "      <td>2.158474</td>\n",
              "      <td>1.3</td>\n",
              "    </tr>\n",
              "    <tr>\n",
              "      <th>2089</th>\n",
              "      <td>0500000US46105</td>\n",
              "      <td>Perkins County, South Dakota</td>\n",
              "      <td>1415</td>\n",
              "      <td>106</td>\n",
              "      <td>0.4</td>\n",
              "      <td>0.8</td>\n",
              "      <td>105</td>\n",
              "      <td>1596</td>\n",
              "      <td>114</td>\n",
              "      <td>1.5</td>\n",
              "      <td>2.8</td>\n",
              "      <td>0.011</td>\n",
              "      <td>1.1</td>\n",
              "      <td>0.564895</td>\n",
              "      <td>1.702128</td>\n",
              "      <td>0.486322</td>\n",
              "      <td>1.947263</td>\n",
              "      <td>1.1</td>\n",
              "    </tr>\n",
              "    <tr>\n",
              "      <th>2094</th>\n",
              "      <td>0500000US47067</td>\n",
              "      <td>Hancock County, Tennessee</td>\n",
              "      <td>2059</td>\n",
              "      <td>195</td>\n",
              "      <td>0.0</td>\n",
              "      <td>1.7</td>\n",
              "      <td>067</td>\n",
              "      <td>2158</td>\n",
              "      <td>195</td>\n",
              "      <td>1.2</td>\n",
              "      <td>1.9</td>\n",
              "      <td>0.012</td>\n",
              "      <td>1.2</td>\n",
              "      <td>0.645222</td>\n",
              "      <td>1.155015</td>\n",
              "      <td>1.033435</td>\n",
              "      <td>1.859825</td>\n",
              "      <td>1.2</td>\n",
              "    </tr>\n",
              "    <tr>\n",
              "      <th>2129</th>\n",
              "      <td>0500000US31113</td>\n",
              "      <td>Logan County, Nebraska</td>\n",
              "      <td>385</td>\n",
              "      <td>45</td>\n",
              "      <td>0.0</td>\n",
              "      <td>5.7</td>\n",
              "      <td>113</td>\n",
              "      <td>450</td>\n",
              "      <td>50</td>\n",
              "      <td>0.7</td>\n",
              "      <td>0.8</td>\n",
              "      <td>0.007</td>\n",
              "      <td>0.7</td>\n",
              "      <td>0.285795</td>\n",
              "      <td>0.486322</td>\n",
              "      <td>3.465046</td>\n",
              "      <td>2.449305</td>\n",
              "      <td>0.7</td>\n",
              "    </tr>\n",
              "    <tr>\n",
              "      <th>2154</th>\n",
              "      <td>0500000US32015</td>\n",
              "      <td>Lander County, Nevada</td>\n",
              "      <td>2496</td>\n",
              "      <td>222</td>\n",
              "      <td>11.2</td>\n",
              "      <td>4.6</td>\n",
              "      <td>015</td>\n",
              "      <td>2572</td>\n",
              "      <td>251</td>\n",
              "      <td>12.4</td>\n",
              "      <td>5.6</td>\n",
              "      <td>0.012</td>\n",
              "      <td>1.2</td>\n",
              "      <td>0.226988</td>\n",
              "      <td>3.404255</td>\n",
              "      <td>2.796353</td>\n",
              "      <td>5.286615</td>\n",
              "      <td>1.2</td>\n",
              "    </tr>\n",
              "    <tr>\n",
              "      <th>2410</th>\n",
              "      <td>0500000US38071</td>\n",
              "      <td>Ramsey County, North Dakota</td>\n",
              "      <td>6001</td>\n",
              "      <td>196</td>\n",
              "      <td>0.0</td>\n",
              "      <td>0.1</td>\n",
              "      <td>071</td>\n",
              "      <td>6151</td>\n",
              "      <td>247</td>\n",
              "      <td>1.8</td>\n",
              "      <td>1.7</td>\n",
              "      <td>0.018</td>\n",
              "      <td>1.8</td>\n",
              "      <td>0.965977</td>\n",
              "      <td>1.033435</td>\n",
              "      <td>0.060790</td>\n",
              "      <td>1.863398</td>\n",
              "      <td>1.8</td>\n",
              "    </tr>\n",
              "    <tr>\n",
              "      <th>2500</th>\n",
              "      <td>0500000US46097</td>\n",
              "      <td>Miner County, South Dakota</td>\n",
              "      <td>1189</td>\n",
              "      <td>84</td>\n",
              "      <td>0.0</td>\n",
              "      <td>1.7</td>\n",
              "      <td>097</td>\n",
              "      <td>1124</td>\n",
              "      <td>76</td>\n",
              "      <td>2.4</td>\n",
              "      <td>2.9</td>\n",
              "      <td>0.024</td>\n",
              "      <td>2.4</td>\n",
              "      <td>0.489358</td>\n",
              "      <td>1.762918</td>\n",
              "      <td>1.033435</td>\n",
              "      <td>4.904385</td>\n",
              "      <td>2.4</td>\n",
              "    </tr>\n",
              "    <tr>\n",
              "      <th>2874</th>\n",
              "      <td>0500000US51630</td>\n",
              "      <td>Fredericksburg city, Virginia</td>\n",
              "      <td>11562</td>\n",
              "      <td>619</td>\n",
              "      <td>3.1</td>\n",
              "      <td>1.1</td>\n",
              "      <td>630</td>\n",
              "      <td>15653</td>\n",
              "      <td>446</td>\n",
              "      <td>5.4</td>\n",
              "      <td>1.8</td>\n",
              "      <td>0.023</td>\n",
              "      <td>2.3</td>\n",
              "      <td>0.779805</td>\n",
              "      <td>1.094225</td>\n",
              "      <td>0.668693</td>\n",
              "      <td>2.949456</td>\n",
              "      <td>2.3</td>\n",
              "    </tr>\n",
              "    <tr>\n",
              "      <th>2971</th>\n",
              "      <td>0500000US51017</td>\n",
              "      <td>Bath County, Virginia</td>\n",
              "      <td>2281</td>\n",
              "      <td>313</td>\n",
              "      <td>0.3</td>\n",
              "      <td>0.7</td>\n",
              "      <td>017</td>\n",
              "      <td>1925</td>\n",
              "      <td>324</td>\n",
              "      <td>1.5</td>\n",
              "      <td>2.2</td>\n",
              "      <td>0.012</td>\n",
              "      <td>1.2</td>\n",
              "      <td>0.712529</td>\n",
              "      <td>1.337386</td>\n",
              "      <td>0.425532</td>\n",
              "      <td>1.684143</td>\n",
              "      <td>1.2</td>\n",
              "    </tr>\n",
              "    <tr>\n",
              "      <th>2977</th>\n",
              "      <td>0500000US51690</td>\n",
              "      <td>Martinsville city, Virginia</td>\n",
              "      <td>5072</td>\n",
              "      <td>335</td>\n",
              "      <td>0.3</td>\n",
              "      <td>0.4</td>\n",
              "      <td>690</td>\n",
              "      <td>5074</td>\n",
              "      <td>246</td>\n",
              "      <td>2.1</td>\n",
              "      <td>1.7</td>\n",
              "      <td>0.018</td>\n",
              "      <td>1.8</td>\n",
              "      <td>0.941924</td>\n",
              "      <td>1.033435</td>\n",
              "      <td>0.243161</td>\n",
              "      <td>1.910982</td>\n",
              "      <td>1.8</td>\n",
              "    </tr>\n",
              "    <tr>\n",
              "      <th>2981</th>\n",
              "      <td>0500000US51685</td>\n",
              "      <td>Manassas Park city, Virginia</td>\n",
              "      <td>7733</td>\n",
              "      <td>325</td>\n",
              "      <td>4.6</td>\n",
              "      <td>1.7</td>\n",
              "      <td>685</td>\n",
              "      <td>9221</td>\n",
              "      <td>417</td>\n",
              "      <td>7.3</td>\n",
              "      <td>2.3</td>\n",
              "      <td>0.027</td>\n",
              "      <td>2.7</td>\n",
              "      <td>0.575161</td>\n",
              "      <td>1.398176</td>\n",
              "      <td>1.033435</td>\n",
              "      <td>4.694340</td>\n",
              "      <td>2.7</td>\n",
              "    </tr>\n",
              "    <tr>\n",
              "      <th>3057</th>\n",
              "      <td>0500000US48269</td>\n",
              "      <td>King County, Texas</td>\n",
              "      <td>147</td>\n",
              "      <td>47</td>\n",
              "      <td>0.0</td>\n",
              "      <td>22.3</td>\n",
              "      <td>269</td>\n",
              "      <td>113</td>\n",
              "      <td>32</td>\n",
              "      <td>5.3</td>\n",
              "      <td>5.6</td>\n",
              "      <td>0.053</td>\n",
              "      <td>5.3</td>\n",
              "      <td>0.071545</td>\n",
              "      <td>3.404255</td>\n",
              "      <td>13.556231</td>\n",
              "      <td>74.078825</td>\n",
              "      <td>5.3</td>\n",
              "    </tr>\n",
              "    <tr>\n",
              "      <th>3154</th>\n",
              "      <td>0500000US48103</td>\n",
              "      <td>Crane County, Texas</td>\n",
              "      <td>1664</td>\n",
              "      <td>126</td>\n",
              "      <td>0.0</td>\n",
              "      <td>2.2</td>\n",
              "      <td>103</td>\n",
              "      <td>2100</td>\n",
              "      <td>167</td>\n",
              "      <td>1.9</td>\n",
              "      <td>1.6</td>\n",
              "      <td>0.019</td>\n",
              "      <td>1.9</td>\n",
              "      <td>0.604714</td>\n",
              "      <td>0.972644</td>\n",
              "      <td>1.337386</td>\n",
              "      <td>3.141981</td>\n",
              "      <td>1.9</td>\n",
              "    </tr>\n",
              "  </tbody>\n",
              "</table>\n",
              "</div>"
            ],
            "text/plain": [
              "           Geography  ... Difference between Percent\n",
              "39    0500000US30097  ...                        3.0\n",
              "50    0500000US30057  ...                        1.6\n",
              "263   0500000US06051  ...                       18.4\n",
              "285   0500000US08051  ...                        2.4\n",
              "297   0500000US08011  ...                        2.5\n",
              "377   0500000US08097  ...                        8.3\n",
              "603   0500000US48153  ...                        1.4\n",
              "749   0500000US17069  ...                        2.2\n",
              "787   0500000US32011  ...                        5.8\n",
              "788   0500000US32013  ...                        3.1\n",
              "790   0500000US32007  ...                        3.5\n",
              "812   0500000US34017  ...                        3.4\n",
              "885   0500000US06003  ...                        0.6\n",
              "951   0500000US15005  ...                        2.0\n",
              "996   0500000US28009  ...                        1.1\n",
              "1005  0500000US28005  ...                        2.2\n",
              "1120  0500000US08049  ...                        1.7\n",
              "1295  0500000US21007  ...                        1.4\n",
              "1384  0500000US49031  ...                        1.2\n",
              "1385  0500000US49033  ...                        2.6\n",
              "1415  0500000US51181  ...                        2.7\n",
              "1557  0500000US19141  ...                        2.8\n",
              "1695  0500000US51720  ...                        3.8\n",
              "1710  0500000US56045  ...                        1.1\n",
              "1716  0500000US72067  ...                        1.6\n",
              "1798  0500000US17151  ...                        1.2\n",
              "1966  0500000US45009  ...                        2.8\n",
              "2028  0500000US31009  ...                        0.8\n",
              "2081  0500000US46117  ...                        1.5\n",
              "2088  0500000US46095  ...                        1.3\n",
              "2089  0500000US46105  ...                        1.1\n",
              "2094  0500000US47067  ...                        1.2\n",
              "2129  0500000US31113  ...                        0.7\n",
              "2154  0500000US32015  ...                        1.2\n",
              "2410  0500000US38071  ...                        1.8\n",
              "2500  0500000US46097  ...                        2.4\n",
              "2874  0500000US51630  ...                        2.3\n",
              "2971  0500000US51017  ...                        1.2\n",
              "2977  0500000US51690  ...                        1.8\n",
              "2981  0500000US51685  ...                        2.7\n",
              "3057  0500000US48269  ...                        5.3\n",
              "3154  0500000US48103  ...                        1.9\n",
              "\n",
              "[42 rows x 18 columns]"
            ]
          },
          "metadata": {},
          "execution_count": 126
        }
      ]
    },
    {
      "cell_type": "code",
      "metadata": {
        "id": "Viq_XGe9fy7Q"
      },
      "source": [
        ""
      ],
      "execution_count": null,
      "outputs": []
    },
    {
      "cell_type": "code",
      "metadata": {
        "colab": {
          "base_uri": "https://localhost:8080/",
          "height": 99
        },
        "id": "_5aB8Y-HuBGT",
        "outputId": "c05b8f93-b437-409b-d4bc-8cd124f1f5e7"
      },
      "source": [
        "table5 = merge_pt2_df[['Total Population April 1 2010','Total Population ACS 2010 (estimate)']].loc[(merge_pt2_df['Total Population ACS 2010 (estimate)'].isnull())].describe().T\n",
        "varformat = \"{:,.0f}\" # The variable format adds a comma and rounds up\n",
        "table_title = \"Table 5. Descriptive statistics for total population for counties without ACS data, 2010 Decennial.\"\n",
        "table5 = table5.style.set_caption(table_title).format(varformat).set_properties(**{'text-align': 'right'})\n",
        "table5"
      ],
      "execution_count": null,
      "outputs": [
        {
          "output_type": "execute_result",
          "data": {
            "text/html": [
              "<style  type=\"text/css\" >\n",
              "#T_77c711fa_25f1_11ec_bdb1_0242ac1c0002row0_col0,#T_77c711fa_25f1_11ec_bdb1_0242ac1c0002row0_col1,#T_77c711fa_25f1_11ec_bdb1_0242ac1c0002row0_col2,#T_77c711fa_25f1_11ec_bdb1_0242ac1c0002row0_col3,#T_77c711fa_25f1_11ec_bdb1_0242ac1c0002row0_col4,#T_77c711fa_25f1_11ec_bdb1_0242ac1c0002row0_col5,#T_77c711fa_25f1_11ec_bdb1_0242ac1c0002row0_col6,#T_77c711fa_25f1_11ec_bdb1_0242ac1c0002row0_col7,#T_77c711fa_25f1_11ec_bdb1_0242ac1c0002row1_col0,#T_77c711fa_25f1_11ec_bdb1_0242ac1c0002row1_col1,#T_77c711fa_25f1_11ec_bdb1_0242ac1c0002row1_col2,#T_77c711fa_25f1_11ec_bdb1_0242ac1c0002row1_col3,#T_77c711fa_25f1_11ec_bdb1_0242ac1c0002row1_col4,#T_77c711fa_25f1_11ec_bdb1_0242ac1c0002row1_col5,#T_77c711fa_25f1_11ec_bdb1_0242ac1c0002row1_col6,#T_77c711fa_25f1_11ec_bdb1_0242ac1c0002row1_col7{\n",
              "            text-align:  right;\n",
              "        }</style><table id=\"T_77c711fa_25f1_11ec_bdb1_0242ac1c0002\" ><caption>Table 5. Descriptive statistics for total population for counties without ACS data, 2010 Decennial.</caption><thead>    <tr>        <th class=\"blank level0\" ></th>        <th class=\"col_heading level0 col0\" >count</th>        <th class=\"col_heading level0 col1\" >mean</th>        <th class=\"col_heading level0 col2\" >std</th>        <th class=\"col_heading level0 col3\" >min</th>        <th class=\"col_heading level0 col4\" >25%</th>        <th class=\"col_heading level0 col5\" >50%</th>        <th class=\"col_heading level0 col6\" >75%</th>        <th class=\"col_heading level0 col7\" >max</th>    </tr></thead><tbody>\n",
              "                <tr>\n",
              "                        <th id=\"T_77c711fa_25f1_11ec_bdb1_0242ac1c0002level0_row0\" class=\"row_heading level0 row0\" >Total Population April 1 2010</th>\n",
              "                        <td id=\"T_77c711fa_25f1_11ec_bdb1_0242ac1c0002row0_col0\" class=\"data row0 col0\" >2,403</td>\n",
              "                        <td id=\"T_77c711fa_25f1_11ec_bdb1_0242ac1c0002row0_col1\" class=\"data row0 col1\" >21,730</td>\n",
              "                        <td id=\"T_77c711fa_25f1_11ec_bdb1_0242ac1c0002row0_col2\" class=\"data row0 col2\" >16,010</td>\n",
              "                        <td id=\"T_77c711fa_25f1_11ec_bdb1_0242ac1c0002row0_col3\" class=\"data row0 col3\" >82</td>\n",
              "                        <td id=\"T_77c711fa_25f1_11ec_bdb1_0242ac1c0002row0_col4\" class=\"data row0 col4\" >8,785</td>\n",
              "                        <td id=\"T_77c711fa_25f1_11ec_bdb1_0242ac1c0002row0_col5\" class=\"data row0 col5\" >17,457</td>\n",
              "                        <td id=\"T_77c711fa_25f1_11ec_bdb1_0242ac1c0002row0_col6\" class=\"data row0 col6\" >32,466</td>\n",
              "                        <td id=\"T_77c711fa_25f1_11ec_bdb1_0242ac1c0002row0_col7\" class=\"data row0 col7\" >64,757</td>\n",
              "            </tr>\n",
              "            <tr>\n",
              "                        <th id=\"T_77c711fa_25f1_11ec_bdb1_0242ac1c0002level0_row1\" class=\"row_heading level0 row1\" >Total Population ACS 2010 (estimate)</th>\n",
              "                        <td id=\"T_77c711fa_25f1_11ec_bdb1_0242ac1c0002row1_col0\" class=\"data row1 col0\" >0</td>\n",
              "                        <td id=\"T_77c711fa_25f1_11ec_bdb1_0242ac1c0002row1_col1\" class=\"data row1 col1\" >nan</td>\n",
              "                        <td id=\"T_77c711fa_25f1_11ec_bdb1_0242ac1c0002row1_col2\" class=\"data row1 col2\" >nan</td>\n",
              "                        <td id=\"T_77c711fa_25f1_11ec_bdb1_0242ac1c0002row1_col3\" class=\"data row1 col3\" >nan</td>\n",
              "                        <td id=\"T_77c711fa_25f1_11ec_bdb1_0242ac1c0002row1_col4\" class=\"data row1 col4\" >nan</td>\n",
              "                        <td id=\"T_77c711fa_25f1_11ec_bdb1_0242ac1c0002row1_col5\" class=\"data row1 col5\" >nan</td>\n",
              "                        <td id=\"T_77c711fa_25f1_11ec_bdb1_0242ac1c0002row1_col6\" class=\"data row1 col6\" >nan</td>\n",
              "                        <td id=\"T_77c711fa_25f1_11ec_bdb1_0242ac1c0002row1_col7\" class=\"data row1 col7\" >nan</td>\n",
              "            </tr>\n",
              "    </tbody></table>"
            ],
            "text/plain": [
              "<pandas.io.formats.style.Styler at 0x7f8cd8cba3d0>"
            ]
          },
          "metadata": {},
          "execution_count": 26
        }
      ]
    },
    {
      "cell_type": "code",
      "metadata": {
        "colab": {
          "base_uri": "https://localhost:8080/",
          "height": 99
        },
        "id": "b9ibziOfCP4w",
        "outputId": "3bf5ed8b-04f9-4d61-f0ae-c81ff27ee2cf"
      },
      "source": [
        "table6 = merge_pt2_df[['Total Population April 1 2010','Total Population ACS 2010 (estimate)']].loc[~(merge_pt2_df['Total Population ACS 2010 (estimate)'].isnull())].describe().T\n",
        "varformat = \"{:,.0f}\" # The variable format adds a comma and rounds up\n",
        "table_title = \"Table 6. Descriptive statistics for total population for counties with ACS data, 2010 Decennial.\"\n",
        "table6 = table6.style.set_caption(table_title).format(varformat).set_properties(**{'text-align': 'right'})\n",
        "table6"
      ],
      "execution_count": null,
      "outputs": [
        {
          "output_type": "execute_result",
          "data": {
            "text/html": [
              "<style  type=\"text/css\" >\n",
              "#T_77d06232_25f1_11ec_bdb1_0242ac1c0002row0_col0,#T_77d06232_25f1_11ec_bdb1_0242ac1c0002row0_col1,#T_77d06232_25f1_11ec_bdb1_0242ac1c0002row0_col2,#T_77d06232_25f1_11ec_bdb1_0242ac1c0002row0_col3,#T_77d06232_25f1_11ec_bdb1_0242ac1c0002row0_col4,#T_77d06232_25f1_11ec_bdb1_0242ac1c0002row0_col5,#T_77d06232_25f1_11ec_bdb1_0242ac1c0002row0_col6,#T_77d06232_25f1_11ec_bdb1_0242ac1c0002row0_col7,#T_77d06232_25f1_11ec_bdb1_0242ac1c0002row1_col0,#T_77d06232_25f1_11ec_bdb1_0242ac1c0002row1_col1,#T_77d06232_25f1_11ec_bdb1_0242ac1c0002row1_col2,#T_77d06232_25f1_11ec_bdb1_0242ac1c0002row1_col3,#T_77d06232_25f1_11ec_bdb1_0242ac1c0002row1_col4,#T_77d06232_25f1_11ec_bdb1_0242ac1c0002row1_col5,#T_77d06232_25f1_11ec_bdb1_0242ac1c0002row1_col6,#T_77d06232_25f1_11ec_bdb1_0242ac1c0002row1_col7{\n",
              "            text-align:  right;\n",
              "        }</style><table id=\"T_77d06232_25f1_11ec_bdb1_0242ac1c0002\" ><caption>Table 6. Descriptive statistics for total population for counties with ACS data, 2010 Decennial.</caption><thead>    <tr>        <th class=\"blank level0\" ></th>        <th class=\"col_heading level0 col0\" >count</th>        <th class=\"col_heading level0 col1\" >mean</th>        <th class=\"col_heading level0 col2\" >std</th>        <th class=\"col_heading level0 col3\" >min</th>        <th class=\"col_heading level0 col4\" >25%</th>        <th class=\"col_heading level0 col5\" >50%</th>        <th class=\"col_heading level0 col6\" >75%</th>        <th class=\"col_heading level0 col7\" >max</th>    </tr></thead><tbody>\n",
              "                <tr>\n",
              "                        <th id=\"T_77d06232_25f1_11ec_bdb1_0242ac1c0002level0_row0\" class=\"row_heading level0 row0\" >Total Population April 1 2010</th>\n",
              "                        <td id=\"T_77d06232_25f1_11ec_bdb1_0242ac1c0002row0_col0\" class=\"data row0 col0\" >818</td>\n",
              "                        <td id=\"T_77d06232_25f1_11ec_bdb1_0242ac1c0002row0_col1\" class=\"data row0 col1\" >318,159</td>\n",
              "                        <td id=\"T_77d06232_25f1_11ec_bdb1_0242ac1c0002row0_col2\" class=\"data row0 col2\" >557,363</td>\n",
              "                        <td id=\"T_77d06232_25f1_11ec_bdb1_0242ac1c0002row0_col3\" class=\"data row0 col3\" >64,665</td>\n",
              "                        <td id=\"T_77d06232_25f1_11ec_bdb1_0242ac1c0002row0_col4\" class=\"data row0 col4\" >95,286</td>\n",
              "                        <td id=\"T_77d06232_25f1_11ec_bdb1_0242ac1c0002row0_col5\" class=\"data row0 col5\" >153,956</td>\n",
              "                        <td id=\"T_77d06232_25f1_11ec_bdb1_0242ac1c0002row0_col6\" class=\"data row0 col6\" >312,155</td>\n",
              "                        <td id=\"T_77d06232_25f1_11ec_bdb1_0242ac1c0002row0_col7\" class=\"data row0 col7\" >9,818,605</td>\n",
              "            </tr>\n",
              "            <tr>\n",
              "                        <th id=\"T_77d06232_25f1_11ec_bdb1_0242ac1c0002level0_row1\" class=\"row_heading level0 row1\" >Total Population ACS 2010 (estimate)</th>\n",
              "                        <td id=\"T_77d06232_25f1_11ec_bdb1_0242ac1c0002row1_col0\" class=\"data row1 col0\" >818</td>\n",
              "                        <td id=\"T_77d06232_25f1_11ec_bdb1_0242ac1c0002row1_col1\" class=\"data row1 col1\" >318,861</td>\n",
              "                        <td id=\"T_77d06232_25f1_11ec_bdb1_0242ac1c0002row1_col2\" class=\"data row1 col2\" >558,543</td>\n",
              "                        <td id=\"T_77d06232_25f1_11ec_bdb1_0242ac1c0002row1_col3\" class=\"data row1 col3\" >62,971</td>\n",
              "                        <td id=\"T_77d06232_25f1_11ec_bdb1_0242ac1c0002row1_col4\" class=\"data row1 col4\" >95,588</td>\n",
              "                        <td id=\"T_77d06232_25f1_11ec_bdb1_0242ac1c0002row1_col5\" class=\"data row1 col5\" >154,018</td>\n",
              "                        <td id=\"T_77d06232_25f1_11ec_bdb1_0242ac1c0002row1_col6\" class=\"data row1 col6\" >314,120</td>\n",
              "                        <td id=\"T_77d06232_25f1_11ec_bdb1_0242ac1c0002row1_col7\" class=\"data row1 col7\" >9,830,420</td>\n",
              "            </tr>\n",
              "    </tbody></table>"
            ],
            "text/plain": [
              "<pandas.io.formats.style.Styler at 0x7f8cd8c6a950>"
            ]
          },
          "metadata": {},
          "execution_count": 27
        }
      ]
    },
    {
      "cell_type": "markdown",
      "metadata": {
        "id": "M-V2wScKCKZu"
      },
      "source": [
        "### ACS 1-year data available for census geographies with population more than 65,000"
      ]
    },
    {
      "cell_type": "code",
      "metadata": {
        "colab": {
          "base_uri": "https://localhost:8080/",
          "height": 498
        },
        "id": "DvJakq3UEINO",
        "outputId": "c26ca5f6-175a-4dd4-e071-e754bfaf6726"
      },
      "source": [
        "merge_pt2_df = merge_pt2_df.sort_values(by = 'Total Population April 1 2010')\n",
        "table7 = merge_pt2_df[['County Name','Total Population April 1 2010','Total Population ACS 2010 (estimate)']].loc[(merge_pt2_df['Total Population April 1 2010'] >= 64000) &\n",
        "                 (merge_pt2_df['Total Population April 1 2010'] <= 66000) ]\n",
        "varformat = {\"Total Population April 1 2010\": \"{:,.0f}\", \n",
        "             \"Total Population ACS 2010 (estimate)\": \"{:,.0f}\"}\n",
        "table_title = \"Table 7. Total population for counties around 65,000 peoople for Decennial and ACS data, 2010.\"\n",
        "table7 = table7.style.set_caption(table_title).set_properties(**{'text-align': 'right'}).format(varformat)\n",
        "table7"
      ],
      "execution_count": null,
      "outputs": [
        {
          "output_type": "execute_result",
          "data": {
            "text/html": [
              "<style  type=\"text/css\" >\n",
              "#T_77d90e1e_25f1_11ec_bdb1_0242ac1c0002row0_col0,#T_77d90e1e_25f1_11ec_bdb1_0242ac1c0002row0_col1,#T_77d90e1e_25f1_11ec_bdb1_0242ac1c0002row0_col2,#T_77d90e1e_25f1_11ec_bdb1_0242ac1c0002row1_col0,#T_77d90e1e_25f1_11ec_bdb1_0242ac1c0002row1_col1,#T_77d90e1e_25f1_11ec_bdb1_0242ac1c0002row1_col2,#T_77d90e1e_25f1_11ec_bdb1_0242ac1c0002row2_col0,#T_77d90e1e_25f1_11ec_bdb1_0242ac1c0002row2_col1,#T_77d90e1e_25f1_11ec_bdb1_0242ac1c0002row2_col2,#T_77d90e1e_25f1_11ec_bdb1_0242ac1c0002row3_col0,#T_77d90e1e_25f1_11ec_bdb1_0242ac1c0002row3_col1,#T_77d90e1e_25f1_11ec_bdb1_0242ac1c0002row3_col2,#T_77d90e1e_25f1_11ec_bdb1_0242ac1c0002row4_col0,#T_77d90e1e_25f1_11ec_bdb1_0242ac1c0002row4_col1,#T_77d90e1e_25f1_11ec_bdb1_0242ac1c0002row4_col2,#T_77d90e1e_25f1_11ec_bdb1_0242ac1c0002row5_col0,#T_77d90e1e_25f1_11ec_bdb1_0242ac1c0002row5_col1,#T_77d90e1e_25f1_11ec_bdb1_0242ac1c0002row5_col2,#T_77d90e1e_25f1_11ec_bdb1_0242ac1c0002row6_col0,#T_77d90e1e_25f1_11ec_bdb1_0242ac1c0002row6_col1,#T_77d90e1e_25f1_11ec_bdb1_0242ac1c0002row6_col2,#T_77d90e1e_25f1_11ec_bdb1_0242ac1c0002row7_col0,#T_77d90e1e_25f1_11ec_bdb1_0242ac1c0002row7_col1,#T_77d90e1e_25f1_11ec_bdb1_0242ac1c0002row7_col2,#T_77d90e1e_25f1_11ec_bdb1_0242ac1c0002row8_col0,#T_77d90e1e_25f1_11ec_bdb1_0242ac1c0002row8_col1,#T_77d90e1e_25f1_11ec_bdb1_0242ac1c0002row8_col2,#T_77d90e1e_25f1_11ec_bdb1_0242ac1c0002row9_col0,#T_77d90e1e_25f1_11ec_bdb1_0242ac1c0002row9_col1,#T_77d90e1e_25f1_11ec_bdb1_0242ac1c0002row9_col2,#T_77d90e1e_25f1_11ec_bdb1_0242ac1c0002row10_col0,#T_77d90e1e_25f1_11ec_bdb1_0242ac1c0002row10_col1,#T_77d90e1e_25f1_11ec_bdb1_0242ac1c0002row10_col2,#T_77d90e1e_25f1_11ec_bdb1_0242ac1c0002row11_col0,#T_77d90e1e_25f1_11ec_bdb1_0242ac1c0002row11_col1,#T_77d90e1e_25f1_11ec_bdb1_0242ac1c0002row11_col2,#T_77d90e1e_25f1_11ec_bdb1_0242ac1c0002row12_col0,#T_77d90e1e_25f1_11ec_bdb1_0242ac1c0002row12_col1,#T_77d90e1e_25f1_11ec_bdb1_0242ac1c0002row12_col2,#T_77d90e1e_25f1_11ec_bdb1_0242ac1c0002row13_col0,#T_77d90e1e_25f1_11ec_bdb1_0242ac1c0002row13_col1,#T_77d90e1e_25f1_11ec_bdb1_0242ac1c0002row13_col2,#T_77d90e1e_25f1_11ec_bdb1_0242ac1c0002row14_col0,#T_77d90e1e_25f1_11ec_bdb1_0242ac1c0002row14_col1,#T_77d90e1e_25f1_11ec_bdb1_0242ac1c0002row14_col2,#T_77d90e1e_25f1_11ec_bdb1_0242ac1c0002row15_col0,#T_77d90e1e_25f1_11ec_bdb1_0242ac1c0002row15_col1,#T_77d90e1e_25f1_11ec_bdb1_0242ac1c0002row15_col2,#T_77d90e1e_25f1_11ec_bdb1_0242ac1c0002row16_col0,#T_77d90e1e_25f1_11ec_bdb1_0242ac1c0002row16_col1,#T_77d90e1e_25f1_11ec_bdb1_0242ac1c0002row16_col2,#T_77d90e1e_25f1_11ec_bdb1_0242ac1c0002row17_col0,#T_77d90e1e_25f1_11ec_bdb1_0242ac1c0002row17_col1,#T_77d90e1e_25f1_11ec_bdb1_0242ac1c0002row17_col2,#T_77d90e1e_25f1_11ec_bdb1_0242ac1c0002row18_col0,#T_77d90e1e_25f1_11ec_bdb1_0242ac1c0002row18_col1,#T_77d90e1e_25f1_11ec_bdb1_0242ac1c0002row18_col2,#T_77d90e1e_25f1_11ec_bdb1_0242ac1c0002row19_col0,#T_77d90e1e_25f1_11ec_bdb1_0242ac1c0002row19_col1,#T_77d90e1e_25f1_11ec_bdb1_0242ac1c0002row19_col2,#T_77d90e1e_25f1_11ec_bdb1_0242ac1c0002row20_col0,#T_77d90e1e_25f1_11ec_bdb1_0242ac1c0002row20_col1,#T_77d90e1e_25f1_11ec_bdb1_0242ac1c0002row20_col2{\n",
              "            text-align:  right;\n",
              "        }</style><table id=\"T_77d90e1e_25f1_11ec_bdb1_0242ac1c0002\" ><caption>Table 7. Total population for counties around 65,000 peoople for Decennial and ACS data, 2010.</caption><thead>    <tr>        <th class=\"blank level0\" ></th>        <th class=\"col_heading level0 col0\" >County Name</th>        <th class=\"col_heading level0 col1\" >Total Population April 1 2010</th>        <th class=\"col_heading level0 col2\" >Total Population ACS 2010 (estimate)</th>    </tr></thead><tbody>\n",
              "                <tr>\n",
              "                        <th id=\"T_77d90e1e_25f1_11ec_bdb1_0242ac1c0002level0_row0\" class=\"row_heading level0 row0\" >1839</th>\n",
              "                        <td id=\"T_77d90e1e_25f1_11ec_bdb1_0242ac1c0002row0_col0\" class=\"data row0 col0\" >Blue Earth County, Minnesota</td>\n",
              "                        <td id=\"T_77d90e1e_25f1_11ec_bdb1_0242ac1c0002row0_col1\" class=\"data row0 col1\" >64,013</td>\n",
              "                        <td id=\"T_77d90e1e_25f1_11ec_bdb1_0242ac1c0002row0_col2\" class=\"data row0 col2\" >nan</td>\n",
              "            </tr>\n",
              "            <tr>\n",
              "                        <th id=\"T_77d90e1e_25f1_11ec_bdb1_0242ac1c0002level0_row1\" class=\"row_heading level0 row1\" >2541</th>\n",
              "                        <td id=\"T_77d90e1e_25f1_11ec_bdb1_0242ac1c0002row1_col0\" class=\"data row1 col0\" >Spalding County, Georgia</td>\n",
              "                        <td id=\"T_77d90e1e_25f1_11ec_bdb1_0242ac1c0002row1_col1\" class=\"data row1 col1\" >64,073</td>\n",
              "                        <td id=\"T_77d90e1e_25f1_11ec_bdb1_0242ac1c0002row1_col2\" class=\"data row1 col2\" >nan</td>\n",
              "            </tr>\n",
              "            <tr>\n",
              "                        <th id=\"T_77d90e1e_25f1_11ec_bdb1_0242ac1c0002level0_row2\" class=\"row_heading level0 row2\" >2307</th>\n",
              "                        <td id=\"T_77d90e1e_25f1_11ec_bdb1_0242ac1c0002row2_col0\" class=\"data row2 col0\" >Rice County, Minnesota</td>\n",
              "                        <td id=\"T_77d90e1e_25f1_11ec_bdb1_0242ac1c0002row2_col1\" class=\"data row2 col1\" >64,142</td>\n",
              "                        <td id=\"T_77d90e1e_25f1_11ec_bdb1_0242ac1c0002row2_col2\" class=\"data row2 col2\" >nan</td>\n",
              "            </tr>\n",
              "            <tr>\n",
              "                        <th id=\"T_77d90e1e_25f1_11ec_bdb1_0242ac1c0002level0_row3\" class=\"row_heading level0 row3\" >1226</th>\n",
              "                        <td id=\"T_77d90e1e_25f1_11ec_bdb1_0242ac1c0002row3_col0\" class=\"data row3 col0\" >Reno County, Kansas</td>\n",
              "                        <td id=\"T_77d90e1e_25f1_11ec_bdb1_0242ac1c0002row3_col1\" class=\"data row3 col1\" >64,511</td>\n",
              "                        <td id=\"T_77d90e1e_25f1_11ec_bdb1_0242ac1c0002row3_col2\" class=\"data row3 col2\" >nan</td>\n",
              "            </tr>\n",
              "            <tr>\n",
              "                        <th id=\"T_77d90e1e_25f1_11ec_bdb1_0242ac1c0002level0_row4\" class=\"row_heading level0 row4\" >489</th>\n",
              "                        <td id=\"T_77d90e1e_25f1_11ec_bdb1_0242ac1c0002row4_col0\" class=\"data row4 col0\" >Herkimer County, New York</td>\n",
              "                        <td id=\"T_77d90e1e_25f1_11ec_bdb1_0242ac1c0002row4_col1\" class=\"data row4 col1\" >64,519</td>\n",
              "                        <td id=\"T_77d90e1e_25f1_11ec_bdb1_0242ac1c0002row4_col2\" class=\"data row4 col2\" >nan</td>\n",
              "            </tr>\n",
              "            <tr>\n",
              "                        <th id=\"T_77d90e1e_25f1_11ec_bdb1_0242ac1c0002level0_row5\" class=\"row_heading level0 row5\" >1165</th>\n",
              "                        <td id=\"T_77d90e1e_25f1_11ec_bdb1_0242ac1c0002row5_col0\" class=\"data row5 col0\" >Nacogdoches County, Texas</td>\n",
              "                        <td id=\"T_77d90e1e_25f1_11ec_bdb1_0242ac1c0002row5_col1\" class=\"data row5 col1\" >64,524</td>\n",
              "                        <td id=\"T_77d90e1e_25f1_11ec_bdb1_0242ac1c0002row5_col2\" class=\"data row5 col2\" >nan</td>\n",
              "            </tr>\n",
              "            <tr>\n",
              "                        <th id=\"T_77d90e1e_25f1_11ec_bdb1_0242ac1c0002level0_row6\" class=\"row_heading level0 row6\" >26</th>\n",
              "                        <td id=\"T_77d90e1e_25f1_11ec_bdb1_0242ac1c0002row6_col0\" class=\"data row6 col0\" >Lake County, California</td>\n",
              "                        <td id=\"T_77d90e1e_25f1_11ec_bdb1_0242ac1c0002row6_col1\" class=\"data row6 col1\" >64,665</td>\n",
              "                        <td id=\"T_77d90e1e_25f1_11ec_bdb1_0242ac1c0002row6_col2\" class=\"data row6 col2\" >64,771</td>\n",
              "            </tr>\n",
              "            <tr>\n",
              "                        <th id=\"T_77d90e1e_25f1_11ec_bdb1_0242ac1c0002level0_row7\" class=\"row_heading level0 row7\" >641</th>\n",
              "                        <td id=\"T_77d90e1e_25f1_11ec_bdb1_0242ac1c0002row7_col0\" class=\"data row7 col0\" >Lea County, New Mexico</td>\n",
              "                        <td id=\"T_77d90e1e_25f1_11ec_bdb1_0242ac1c0002row7_col1\" class=\"data row7 col1\" >64,727</td>\n",
              "                        <td id=\"T_77d90e1e_25f1_11ec_bdb1_0242ac1c0002row7_col2\" class=\"data row7 col2\" >nan</td>\n",
              "            </tr>\n",
              "            <tr>\n",
              "                        <th id=\"T_77d90e1e_25f1_11ec_bdb1_0242ac1c0002level0_row8\" class=\"row_heading level0 row8\" >1279</th>\n",
              "                        <td id=\"T_77d90e1e_25f1_11ec_bdb1_0242ac1c0002row8_col0\" class=\"data row8 col0\" >Athens County, Ohio</td>\n",
              "                        <td id=\"T_77d90e1e_25f1_11ec_bdb1_0242ac1c0002row8_col1\" class=\"data row8 col1\" >64,757</td>\n",
              "                        <td id=\"T_77d90e1e_25f1_11ec_bdb1_0242ac1c0002row8_col2\" class=\"data row8 col2\" >nan</td>\n",
              "            </tr>\n",
              "            <tr>\n",
              "                        <th id=\"T_77d90e1e_25f1_11ec_bdb1_0242ac1c0002level0_row9\" class=\"row_heading level0 row9\" >1196</th>\n",
              "                        <td id=\"T_77d90e1e_25f1_11ec_bdb1_0242ac1c0002row9_col0\" class=\"data row9 col0\" >San Patricio County, Texas</td>\n",
              "                        <td id=\"T_77d90e1e_25f1_11ec_bdb1_0242ac1c0002row9_col1\" class=\"data row9 col1\" >64,804</td>\n",
              "                        <td id=\"T_77d90e1e_25f1_11ec_bdb1_0242ac1c0002row9_col2\" class=\"data row9 col2\" >64,586</td>\n",
              "            </tr>\n",
              "            <tr>\n",
              "                        <th id=\"T_77d90e1e_25f1_11ec_bdb1_0242ac1c0002level0_row10\" class=\"row_heading level0 row10\" >1538</th>\n",
              "                        <td id=\"T_77d90e1e_25f1_11ec_bdb1_0242ac1c0002row10_col0\" class=\"data row10 col0\" >Pike County, Kentucky</td>\n",
              "                        <td id=\"T_77d90e1e_25f1_11ec_bdb1_0242ac1c0002row10_col1\" class=\"data row10 col1\" >65,024</td>\n",
              "                        <td id=\"T_77d90e1e_25f1_11ec_bdb1_0242ac1c0002row10_col2\" class=\"data row10 col2\" >64,952</td>\n",
              "            </tr>\n",
              "            <tr>\n",
              "                        <th id=\"T_77d90e1e_25f1_11ec_bdb1_0242ac1c0002level0_row11\" class=\"row_heading level0 row11\" >1506</th>\n",
              "                        <td id=\"T_77d90e1e_25f1_11ec_bdb1_0242ac1c0002row11_col0\" class=\"data row11 col0\" >Fauquier County, Virginia</td>\n",
              "                        <td id=\"T_77d90e1e_25f1_11ec_bdb1_0242ac1c0002row11_col1\" class=\"data row11 col1\" >65,203</td>\n",
              "                        <td id=\"T_77d90e1e_25f1_11ec_bdb1_0242ac1c0002row11_col2\" class=\"data row11 col2\" >62,971</td>\n",
              "            </tr>\n",
              "            <tr>\n",
              "                        <th id=\"T_77d90e1e_25f1_11ec_bdb1_0242ac1c0002level0_row12\" class=\"row_heading level0 row12\" >1927</th>\n",
              "                        <td id=\"T_77d90e1e_25f1_11ec_bdb1_0242ac1c0002row12_col0\" class=\"data row12 col0\" >Carbon County, Pennsylvania</td>\n",
              "                        <td id=\"T_77d90e1e_25f1_11ec_bdb1_0242ac1c0002row12_col1\" class=\"data row12 col1\" >65,249</td>\n",
              "                        <td id=\"T_77d90e1e_25f1_11ec_bdb1_0242ac1c0002row12_col2\" class=\"data row12 col2\" >65,220</td>\n",
              "            </tr>\n",
              "            <tr>\n",
              "                        <th id=\"T_77d90e1e_25f1_11ec_bdb1_0242ac1c0002level0_row13\" class=\"row_heading level0 row13\" >442</th>\n",
              "                        <td id=\"T_77d90e1e_25f1_11ec_bdb1_0242ac1c0002row13_col0\" class=\"data row13 col0\" >St. Francois County, Missouri</td>\n",
              "                        <td id=\"T_77d90e1e_25f1_11ec_bdb1_0242ac1c0002row13_col1\" class=\"data row13 col1\" >65,359</td>\n",
              "                        <td id=\"T_77d90e1e_25f1_11ec_bdb1_0242ac1c0002row13_col2\" class=\"data row13 col2\" >65,498</td>\n",
              "            </tr>\n",
              "            <tr>\n",
              "                        <th id=\"T_77d90e1e_25f1_11ec_bdb1_0242ac1c0002level0_row14\" class=\"row_heading level0 row14\" >484</th>\n",
              "                        <td id=\"T_77d90e1e_25f1_11ec_bdb1_0242ac1c0002row14_col0\" class=\"data row14 col0\" >Livingston County, New York</td>\n",
              "                        <td id=\"T_77d90e1e_25f1_11ec_bdb1_0242ac1c0002row14_col1\" class=\"data row14 col1\" >65,393</td>\n",
              "                        <td id=\"T_77d90e1e_25f1_11ec_bdb1_0242ac1c0002row14_col2\" class=\"data row14 col2\" >65,333</td>\n",
              "            </tr>\n",
              "            <tr>\n",
              "                        <th id=\"T_77d90e1e_25f1_11ec_bdb1_0242ac1c0002level0_row15\" class=\"row_heading level0 row15\" >2388</th>\n",
              "                        <td id=\"T_77d90e1e_25f1_11ec_bdb1_0242ac1c0002row15_col0\" class=\"data row15 col0\" >York County, Virginia</td>\n",
              "                        <td id=\"T_77d90e1e_25f1_11ec_bdb1_0242ac1c0002row15_col1\" class=\"data row15 col1\" >65,464</td>\n",
              "                        <td id=\"T_77d90e1e_25f1_11ec_bdb1_0242ac1c0002row15_col2\" class=\"data row15 col2\" >65,467</td>\n",
              "            </tr>\n",
              "            <tr>\n",
              "                        <th id=\"T_77d90e1e_25f1_11ec_bdb1_0242ac1c0002level0_row16\" class=\"row_heading level0 row16\" >1513</th>\n",
              "                        <td id=\"T_77d90e1e_25f1_11ec_bdb1_0242ac1c0002row16_col0\" class=\"data row16 col0\" >McCracken County, Kentucky</td>\n",
              "                        <td id=\"T_77d90e1e_25f1_11ec_bdb1_0242ac1c0002row16_col1\" class=\"data row16 col1\" >65,565</td>\n",
              "                        <td id=\"T_77d90e1e_25f1_11ec_bdb1_0242ac1c0002row16_col2\" class=\"data row16 col2\" >65,539</td>\n",
              "            </tr>\n",
              "            <tr>\n",
              "                        <th id=\"T_77d90e1e_25f1_11ec_bdb1_0242ac1c0002level0_row17\" class=\"row_heading level0 row17\" >925</th>\n",
              "                        <td id=\"T_77d90e1e_25f1_11ec_bdb1_0242ac1c0002row17_col0\" class=\"data row17 col0\" >Harrison County, Texas</td>\n",
              "                        <td id=\"T_77d90e1e_25f1_11ec_bdb1_0242ac1c0002row17_col1\" class=\"data row17 col1\" >65,631</td>\n",
              "                        <td id=\"T_77d90e1e_25f1_11ec_bdb1_0242ac1c0002row17_col2\" class=\"data row17 col2\" >65,766</td>\n",
              "            </tr>\n",
              "            <tr>\n",
              "                        <th id=\"T_77d90e1e_25f1_11ec_bdb1_0242ac1c0002level0_row18\" class=\"row_heading level0 row18\" >623</th>\n",
              "                        <td id=\"T_77d90e1e_25f1_11ec_bdb1_0242ac1c0002row18_col0\" class=\"data row18 col0\" >Chaves County, New Mexico</td>\n",
              "                        <td id=\"T_77d90e1e_25f1_11ec_bdb1_0242ac1c0002row18_col1\" class=\"data row18 col1\" >65,645</td>\n",
              "                        <td id=\"T_77d90e1e_25f1_11ec_bdb1_0242ac1c0002row18_col2\" class=\"data row18 col2\" >65,779</td>\n",
              "            </tr>\n",
              "            <tr>\n",
              "                        <th id=\"T_77d90e1e_25f1_11ec_bdb1_0242ac1c0002level0_row19\" class=\"row_heading level0 row19\" >525</th>\n",
              "                        <td id=\"T_77d90e1e_25f1_11ec_bdb1_0242ac1c0002row19_col0\" class=\"data row19 col0\" >Warren County, New York</td>\n",
              "                        <td id=\"T_77d90e1e_25f1_11ec_bdb1_0242ac1c0002row19_col1\" class=\"data row19 col1\" >65,707</td>\n",
              "                        <td id=\"T_77d90e1e_25f1_11ec_bdb1_0242ac1c0002row19_col2\" class=\"data row19 col2\" >65,697</td>\n",
              "            </tr>\n",
              "            <tr>\n",
              "                        <th id=\"T_77d90e1e_25f1_11ec_bdb1_0242ac1c0002level0_row20\" class=\"row_heading level0 row20\" >1359</th>\n",
              "                        <td id=\"T_77d90e1e_25f1_11ec_bdb1_0242ac1c0002row20_col0\" class=\"data row20 col0\" >Butler County, Kansas</td>\n",
              "                        <td id=\"T_77d90e1e_25f1_11ec_bdb1_0242ac1c0002row20_col1\" class=\"data row20 col1\" >65,880</td>\n",
              "                        <td id=\"T_77d90e1e_25f1_11ec_bdb1_0242ac1c0002row20_col2\" class=\"data row20 col2\" >65,923</td>\n",
              "            </tr>\n",
              "    </tbody></table>"
            ],
            "text/plain": [
              "<pandas.io.formats.style.Styler at 0x7f8cd9595610>"
            ]
          },
          "metadata": {},
          "execution_count": 28
        }
      ]
    },
    {
      "cell_type": "markdown",
      "metadata": {
        "id": "X3b5HSvOvc35"
      },
      "source": [
        "## 4.2 Compare ACS Estimate with Decennial Census Parameter"
      ]
    },
    {
      "cell_type": "code",
      "metadata": {
        "colab": {
          "base_uri": "https://localhost:8080/",
          "height": 735
        },
        "id": "9wI60n2fwWpP",
        "outputId": "6e17c849-61e9-42aa-9682-4f12dada5b74"
      },
      "source": [
        "# Scatter Plot\n",
        "plt.figure(figsize=(14, 12))\n",
        "plt.scatter(merge_pt2_df[\"Percent Male April 1 2010\"], merge_pt2_df[\"Percent Male Population ACS 2010 (estimate)\"])\n",
        "plt.title('Percent Male - Decennial Census vs ACS in 2010',  fontsize=20)\n",
        "plt.xlabel(\"Decennial Census\")\n",
        "plt.ylabel('ACS')\n",
        "plt.text(50, 60, \"Population Parameter is \\n correlated to Survey Estimate.\", size=20,\n",
        "         ha=\"center\", va=\"top\",\n",
        "         bbox=dict(boxstyle=\"square\",\n",
        "                   ec=(1., 0.5, 0.5),\n",
        "                   fc=(1., 0.8, 0.8),\n",
        "                   )\n",
        "         )\n",
        "plt.show()"
      ],
      "execution_count": null,
      "outputs": [
        {
          "output_type": "display_data",
          "data": {
            "image/png": "[encoded data removed]",
            "text/plain": [
              "<Figure size 1008x864 with 1 Axes>"
            ]
          },
          "metadata": {
            "needs_background": "light"
          }
        }
      ]
    },
    {
      "cell_type": "markdown",
      "metadata": {
        "id": "LlaOZ8cOyHpT"
      },
      "source": [
        "### How often was the population parameter inside the estimate confidence interval?"
      ]
    },
    {
      "cell_type": "code",
      "metadata": {
        "colab": {
          "base_uri": "https://localhost:8080/",
          "height": 462
        },
        "id": "Hl-sPvrkyHBp",
        "outputId": "708d8193-004e-4e88-ad8c-49adf25daab9"
      },
      "source": [
        "merge_pt2_df.loc[:,'Estimate Lower Bound'] = merge_pt2_df[\"Percent Male Population ACS 2010 (estimate)\"] - merge_pt2_df[\"Percent Male Population ACS 2010 (MOE)\"]\n",
        "merge_pt2_df.loc[:,'Estimate Upper Bound'] = merge_pt2_df[\"Percent Male Population ACS 2010 (estimate)\"] + merge_pt2_df[\"Percent Male Population ACS 2010 (MOE)\"]\n",
        "merge_pt2_df.head()"
      ],
      "execution_count": null,
      "outputs": [
        {
          "output_type": "execute_result",
          "data": {
            "text/html": [
              "<div>\n",
              "<style scoped>\n",
              "    .dataframe tbody tr th:only-of-type {\n",
              "        vertical-align: middle;\n",
              "    }\n",
              "\n",
              "    .dataframe tbody tr th {\n",
              "        vertical-align: top;\n",
              "    }\n",
              "\n",
              "    .dataframe thead th {\n",
              "        text-align: right;\n",
              "    }\n",
              "</style>\n",
              "<table border=\"1\" class=\"dataframe\">\n",
              "  <thead>\n",
              "    <tr style=\"text-align: right;\">\n",
              "      <th></th>\n",
              "      <th>GEO_ID</th>\n",
              "      <th>County Name</th>\n",
              "      <th>Total Population April 1 2010</th>\n",
              "      <th>Total Male Population April 1 2010</th>\n",
              "      <th>State FIPS Code</th>\n",
              "      <th>County FIPS Code</th>\n",
              "      <th>Percent Male April 1 2010</th>\n",
              "      <th>Total Population ACS 2010 (estimate)</th>\n",
              "      <th>Total Population ACS 2010 (MOE)</th>\n",
              "      <th>Total Male Population ACS 2010 (estimate)</th>\n",
              "      <th>Total Male Population ACS 2010 (MOE)</th>\n",
              "      <th>Percent Male Population ACS 2010 (estimate)</th>\n",
              "      <th>Percent Male Population ACS 2010 (MOE)</th>\n",
              "      <th>Sample Size ACS 2010</th>\n",
              "      <th>Percent Sample Size</th>\n",
              "      <th>Estimate Lower Bound</th>\n",
              "      <th>Estimate Upper Bound</th>\n",
              "    </tr>\n",
              "  </thead>\n",
              "  <tbody>\n",
              "    <tr>\n",
              "      <th>1346</th>\n",
              "      <td>0500000US48301</td>\n",
              "      <td>Loving County, Texas</td>\n",
              "      <td>82</td>\n",
              "      <td>46</td>\n",
              "      <td>48</td>\n",
              "      <td>301</td>\n",
              "      <td>56.097561</td>\n",
              "      <td>NaN</td>\n",
              "      <td>NaN</td>\n",
              "      <td>NaN</td>\n",
              "      <td>NaN</td>\n",
              "      <td>NaN</td>\n",
              "      <td>NaN</td>\n",
              "      <td>NaN</td>\n",
              "      <td>NaN</td>\n",
              "      <td>NaN</td>\n",
              "      <td>NaN</td>\n",
              "    </tr>\n",
              "    <tr>\n",
              "      <th>2603</th>\n",
              "      <td>0500000US15005</td>\n",
              "      <td>Kalawao County, Hawaii</td>\n",
              "      <td>90</td>\n",
              "      <td>42</td>\n",
              "      <td>15</td>\n",
              "      <td>005</td>\n",
              "      <td>46.666667</td>\n",
              "      <td>NaN</td>\n",
              "      <td>NaN</td>\n",
              "      <td>NaN</td>\n",
              "      <td>NaN</td>\n",
              "      <td>NaN</td>\n",
              "      <td>NaN</td>\n",
              "      <td>NaN</td>\n",
              "      <td>NaN</td>\n",
              "      <td>NaN</td>\n",
              "      <td>NaN</td>\n",
              "    </tr>\n",
              "    <tr>\n",
              "      <th>1329</th>\n",
              "      <td>0500000US48269</td>\n",
              "      <td>King County, Texas</td>\n",
              "      <td>286</td>\n",
              "      <td>141</td>\n",
              "      <td>48</td>\n",
              "      <td>269</td>\n",
              "      <td>49.300699</td>\n",
              "      <td>NaN</td>\n",
              "      <td>NaN</td>\n",
              "      <td>NaN</td>\n",
              "      <td>NaN</td>\n",
              "      <td>NaN</td>\n",
              "      <td>NaN</td>\n",
              "      <td>NaN</td>\n",
              "      <td>NaN</td>\n",
              "      <td>NaN</td>\n",
              "      <td>NaN</td>\n",
              "    </tr>\n",
              "    <tr>\n",
              "      <th>1325</th>\n",
              "      <td>0500000US48261</td>\n",
              "      <td>Kenedy County, Texas</td>\n",
              "      <td>416</td>\n",
              "      <td>212</td>\n",
              "      <td>48</td>\n",
              "      <td>261</td>\n",
              "      <td>50.961538</td>\n",
              "      <td>NaN</td>\n",
              "      <td>NaN</td>\n",
              "      <td>NaN</td>\n",
              "      <td>NaN</td>\n",
              "      <td>NaN</td>\n",
              "      <td>NaN</td>\n",
              "      <td>NaN</td>\n",
              "      <td>NaN</td>\n",
              "      <td>NaN</td>\n",
              "      <td>NaN</td>\n",
              "    </tr>\n",
              "    <tr>\n",
              "      <th>2421</th>\n",
              "      <td>0500000US31005</td>\n",
              "      <td>Arthur County, Nebraska</td>\n",
              "      <td>460</td>\n",
              "      <td>228</td>\n",
              "      <td>31</td>\n",
              "      <td>005</td>\n",
              "      <td>49.565217</td>\n",
              "      <td>NaN</td>\n",
              "      <td>NaN</td>\n",
              "      <td>NaN</td>\n",
              "      <td>NaN</td>\n",
              "      <td>NaN</td>\n",
              "      <td>NaN</td>\n",
              "      <td>NaN</td>\n",
              "      <td>NaN</td>\n",
              "      <td>NaN</td>\n",
              "      <td>NaN</td>\n",
              "    </tr>\n",
              "  </tbody>\n",
              "</table>\n",
              "</div>"
            ],
            "text/plain": [
              "              GEO_ID  ... Estimate Upper Bound\n",
              "1346  0500000US48301  ...                  NaN\n",
              "2603  0500000US15005  ...                  NaN\n",
              "1329  0500000US48269  ...                  NaN\n",
              "1325  0500000US48261  ...                  NaN\n",
              "2421  0500000US31005  ...                  NaN\n",
              "\n",
              "[5 rows x 17 columns]"
            ]
          },
          "metadata": {},
          "execution_count": 30
        }
      ]
    },
    {
      "cell_type": "code",
      "metadata": {
        "colab": {
          "base_uri": "https://localhost:8080/"
        },
        "id": "oErAAYypvcd9",
        "outputId": "1d6b242a-0fc4-4fc1-9d46-a2606cf02230"
      },
      "source": [
        "merge_pt2_df.loc[(merge_pt2_df[\"Percent Male April 1 2010\"] >= merge_pt2_df['Estimate Lower Bound']) &\n",
        "                 (merge_pt2_df[\"Percent Male April 1 2010\"] <= merge_pt2_df['Estimate Upper Bound']),'Parameter within Confidence Interval'] = 1\n",
        "merge_pt2_df.loc[(merge_pt2_df[\"Percent Male April 1 2010\"] < merge_pt2_df['Estimate Lower Bound']) ,'Parameter within Confidence Interval'] = 0\n",
        "merge_pt2_df.loc[(merge_pt2_df[\"Percent Male April 1 2010\"] > merge_pt2_df['Estimate Upper Bound']) ,'Parameter within Confidence Interval'] = 0\n",
        "merge_pt2_df.loc[(merge_pt2_df['Estimate Lower Bound'].isnull()) ,'Parameter within Confidence Interval'] = np.nan\n",
        "merge_pt2_df['Parameter within Confidence Interval'].describe()"
      ],
      "execution_count": null,
      "outputs": [
        {
          "output_type": "execute_result",
          "data": {
            "text/plain": [
              "count    807.000000\n",
              "mean       0.824040\n",
              "std        0.381023\n",
              "min        0.000000\n",
              "25%        1.000000\n",
              "50%        1.000000\n",
              "75%        1.000000\n",
              "max        1.000000\n",
              "Name: Parameter within Confidence Interval, dtype: float64"
            ]
          },
          "metadata": {},
          "execution_count": 31
        }
      ]
    },
    {
      "cell_type": "markdown",
      "metadata": {
        "id": "12ngAF8aSKyP"
      },
      "source": [
        "## 82% of the Population Parameters are within the 90% Confidence Intervals for the Survey Estimates"
      ]
    },
    {
      "cell_type": "code",
      "metadata": {
        "colab": {
          "base_uri": "https://localhost:8080/"
        },
        "id": "i5tpnvi-0jdm",
        "outputId": "4d2ae4a3-e16f-49e5-e582-92cd4135fb5f"
      },
      "source": [
        "merge_pt2_df.loc[:,'Parameter minus Estimate'] = merge_pt2_df[\"Percent Male April 1 2010\"] - merge_pt2_df[\"Percent Male Population ACS 2010 (estimate)\"]\n",
        "merge_pt2_df['Parameter minus Estimate'].describe()"
      ],
      "execution_count": null,
      "outputs": [
        {
          "output_type": "execute_result",
          "data": {
            "text/plain": [
              "count    818.000000\n",
              "mean       0.008826\n",
              "std        0.419756\n",
              "min       -2.017828\n",
              "25%       -0.171638\n",
              "50%       -0.007309\n",
              "75%        0.184919\n",
              "max        1.811088\n",
              "Name: Parameter minus Estimate, dtype: float64"
            ]
          },
          "metadata": {},
          "execution_count": 32
        }
      ]
    },
    {
      "cell_type": "code",
      "metadata": {
        "colab": {
          "base_uri": "https://localhost:8080/",
          "height": 395
        },
        "id": "7g5_DsEE0v6O",
        "outputId": "36056c7e-8537-4beb-fee1-3ae529b653ee"
      },
      "source": [
        "plt.figure(figsize=(9, 6))\n",
        "plt.hist(merge_pt2_df['Parameter minus Estimate'],bins = 80)\n",
        "plt.title(\"Histogram of Differences between Population Parameter and Survey Estimate\",  fontsize=20)\n",
        "plt.show()"
      ],
      "execution_count": null,
      "outputs": [
        {
          "output_type": "display_data",
          "data": {
            "image/png": "[encoded data removed]",
            "text/plain": [
              "<Figure size 648x432 with 1 Axes>"
            ]
          },
          "metadata": {
            "needs_background": "light"
          }
        }
      ]
    },
    {
      "cell_type": "code",
      "metadata": {
        "colab": {
          "base_uri": "https://localhost:8080/",
          "height": 409
        },
        "id": "stZdBVgB1dWm",
        "outputId": "1e8b3708-3b4d-49a3-9e0b-79946e1ed07b"
      },
      "source": [
        "# Scatter Plot\n",
        "plt.figure(figsize=(9, 6))\n",
        "plt.scatter(merge_pt2_df[\"Sample Size ACS 2010\"], merge_pt2_df[\"Parameter minus Estimate\"])\n",
        "plt.title('Sample Size vs Difference between Parameter minus Estimate',  fontsize=20)\n",
        "plt.xlabel(\"Sample Size\")\n",
        "plt.ylabel('Parameter minus Estimate')\n",
        "plt.show()"
      ],
      "execution_count": null,
      "outputs": [
        {
          "output_type": "display_data",
          "data": {
            "image/png": "[encoded data removed]",
            "text/plain": [
              "<Figure size 648x432 with 1 Axes>"
            ]
          },
          "metadata": {
            "needs_background": "light"
          }
        }
      ]
    },
    {
      "cell_type": "markdown",
      "metadata": {
        "id": "uHDbMfFg7F8y"
      },
      "source": [
        "### Look at Standard Errors\n",
        "Instead of the difference between Population Paramter and Survey Estimate look at the number of Standard Errors the Population Parameter is from the survey estimate."
      ]
    },
    {
      "cell_type": "code",
      "metadata": {
        "colab": {
          "base_uri": "https://localhost:8080/"
        },
        "id": "uwCacdFK4RJ3",
        "outputId": "1c18f717-c558-4eaf-8a5f-8714fbe948d7"
      },
      "source": [
        "merge_pt2_df.loc[:,\"Percent Male Population ACS 2010 (SE)\"] = merge_pt2_df[\"Percent Male Population ACS 2010 (MOE)\"] / 1.645\n",
        "merge_pt2_df[\"Percent Male Population ACS 2010 (SE)\"].describe()"
      ],
      "execution_count": null,
      "outputs": [
        {
          "output_type": "execute_result",
          "data": {
            "text/plain": [
              "count    807.000000\n",
              "mean       0.298452\n",
              "std        0.216620\n",
              "min        0.060790\n",
              "25%        0.121581\n",
              "50%        0.243161\n",
              "75%        0.425532\n",
              "max        1.458967\n",
              "Name: Percent Male Population ACS 2010 (SE), dtype: float64"
            ]
          },
          "metadata": {},
          "execution_count": 35
        }
      ]
    },
    {
      "cell_type": "code",
      "metadata": {
        "colab": {
          "base_uri": "https://localhost:8080/"
        },
        "id": "EHyGAHMF4lnh",
        "outputId": "aa37d88b-4681-4ed4-9aab-2391f2607eec"
      },
      "source": [
        "merge_pt2_df.loc[:,'Parameter SE from Estimate'] = (merge_pt2_df['Parameter minus Estimate'] / merge_pt2_df[\"Percent Male Population ACS 2010 (SE)\"])\n",
        "merge_pt2_df['Parameter SE from Estimate'].describe()"
      ],
      "execution_count": null,
      "outputs": [
        {
          "output_type": "execute_result",
          "data": {
            "text/plain": [
              "count    807.000000\n",
              "mean      -0.017162\n",
              "std        1.208013\n",
              "min       -3.333568\n",
              "25%       -0.812244\n",
              "50%       -0.066313\n",
              "75%        0.773236\n",
              "max        4.345792\n",
              "Name: Parameter SE from Estimate, dtype: float64"
            ]
          },
          "metadata": {},
          "execution_count": 36
        }
      ]
    },
    {
      "cell_type": "code",
      "metadata": {
        "colab": {
          "base_uri": "https://localhost:8080/",
          "height": 721
        },
        "id": "hGZDGVfT46oV",
        "outputId": "3a319dc1-c184-44dc-956c-2e4fafbd76b1"
      },
      "source": [
        "plt.figure(figsize=(14, 12))\n",
        "plt.hist(merge_pt2_df['Parameter SE from Estimate'],bins = 80)\n",
        "plt.axvline(x=-1.645, color='red')\n",
        "plt.axvline(x=1.645, label='90% Confidence Interval', color='red')\n",
        "plt.legend(fontsize = 15)\n",
        "plt.title(\"Histogram of How Many SE's the Population Parameter is from the Survey Estimate\",  fontsize=20)\n",
        "plt.text(0, 8, \"About 90% of \\n population paramaters \\n are within 1.645 \\n Standard Errors  \\n from the Survey Estimate.\", size=20,\n",
        "         ha=\"center\", va=\"top\",\n",
        "         bbox=dict(boxstyle=\"square\",\n",
        "                   ec=(1., 0.5, 0.5),\n",
        "                   fc=(1., 0.8, 0.8),\n",
        "                   )\n",
        "         )\n",
        "plt.show()"
      ],
      "execution_count": null,
      "outputs": [
        {
          "output_type": "display_data",
          "data": {
            "image/png": "[encoded data removed]",
            "text/plain": [
              "<Figure size 1008x864 with 1 Axes>"
            ]
          },
          "metadata": {
            "needs_background": "light"
          }
        }
      ]
    },
    {
      "cell_type": "code",
      "metadata": {
        "colab": {
          "base_uri": "https://localhost:8080/",
          "height": 721
        },
        "id": "XueNa9NW5G3_",
        "outputId": "d593531d-6584-4899-d3e5-e3175a48fff6"
      },
      "source": [
        "# Scatter Plot\n",
        "plt.figure(figsize=(14, 12))\n",
        "plt.scatter(merge_pt2_df[\"Sample Size ACS 2010\"], merge_pt2_df['Parameter SE from Estimate'])\n",
        "plt.title(\"Sample Size vs How Many SE's the Population Parameter is from the Survey Estimate\",  fontsize=20)\n",
        "plt.xlabel(\"Sample Size\")\n",
        "plt.ylabel('Parameter SE from Estimate')\n",
        "plt.text(80000, 4, \"As sample size increases, \\n confidence increases!\", size=25,\n",
        "         ha=\"center\", va=\"top\",\n",
        "         bbox=dict(boxstyle=\"square\",\n",
        "                   ec=(1., 0.5, 0.5),\n",
        "                   fc=(1., 0.8, 0.8),\n",
        "                   )\n",
        "         )\n",
        "plt.show()"
      ],
      "execution_count": null,
      "outputs": [
        {
          "output_type": "display_data",
          "data": {
            "image/png": "[encoded data removed]",
            "text/plain": [
              "<Figure size 1008x864 with 1 Axes>"
            ]
          },
          "metadata": {
            "needs_background": "light"
          }
        }
      ]
    },
    {
      "cell_type": "code",
      "metadata": {
        "colab": {
          "base_uri": "https://localhost:8080/",
          "height": 721
        },
        "id": "Gw3Zcap0Ir4w",
        "outputId": "28769551-bb4f-4bd3-f1a2-40e2cc3ef3c9"
      },
      "source": [
        "# Scatter Plot\n",
        "plt.figure(figsize=(14, 12))\n",
        "plt.scatter(merge_pt2_df[\"Percent Sample Size\"], merge_pt2_df['Parameter SE from Estimate'])\n",
        "plt.title(\"Sample Size vs How Many SE's the Population Parameter is from the Survey Estimate\",  fontsize=20)\n",
        "plt.xlabel(\"Percent Sample Size\")\n",
        "plt.ylabel('Parameter SE from Estimate')\n",
        "plt.text(3, 3, \"Random Sampling Leads to, \\n Random Confidence Level!\", size=25,\n",
        "         ha=\"center\", va=\"top\",\n",
        "         bbox=dict(boxstyle=\"square\",\n",
        "                   ec=(1., 0.5, 0.5),\n",
        "                   fc=(1., 0.8, 0.8),\n",
        "                   )\n",
        "         )\n",
        "plt.show()"
      ],
      "execution_count": null,
      "outputs": [
        {
          "output_type": "display_data",
          "data": {
            "image/png": "[encoded data removed]",
            "text/plain": [
              "<Figure size 1008x864 with 1 Axes>"
            ]
          },
          "metadata": {
            "needs_background": "light"
          }
        }
      ]
    },
    {
      "cell_type": "markdown",
      "metadata": {
        "id": "t997mUnr9GR-"
      },
      "source": [
        "## As sample size increases confidence level increases!"
      ]
    },
    {
      "cell_type": "code",
      "metadata": {
        "colab": {
          "base_uri": "https://localhost:8080/"
        },
        "id": "UpjrZaVt6WNh",
        "outputId": "746fb60b-820d-4d3c-97e3-245c2577ad95"
      },
      "source": [
        "merge_pt2_df['Parameter SE from Estimate'].quantile([0.005, 0.025, 0.05,0.95, 0.975, 0.995])"
      ],
      "execution_count": null,
      "outputs": [
        {
          "output_type": "execute_result",
          "data": {
            "text/plain": [
              "0.005   -3.223513\n",
              "0.025   -2.365837\n",
              "0.050   -1.989567\n",
              "0.950    1.998981\n",
              "0.975    2.434945\n",
              "0.995    2.937258\n",
              "Name: Parameter SE from Estimate, dtype: float64"
            ]
          },
          "metadata": {},
          "execution_count": 40
        }
      ]
    },
    {
      "cell_type": "markdown",
      "metadata": {
        "id": "Ae1G4mlM8cFm"
      },
      "source": [
        "### Compare the percentiles to critical values\n",
        "Notice that the percentiles are somewhat to the z-score critical values for desired level of confidence.\n",
        "\n",
        "- 1.645 for 90 perenct critical level\n",
        "- 1.960 for 95 percent critical level\n",
        "- 2.576 for 99 percent critical level"
      ]
    },
    {
      "cell_type": "markdown",
      "metadata": {
        "id": "SObV9GxoGSPW"
      },
      "source": [
        "### What sample size do we need to get the desired confidence level?"
      ]
    },
    {
      "cell_type": "markdown",
      "metadata": {
        "id": "DYakCptaGSbT"
      },
      "source": [
        "![image.png](data:image/png;base64,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)"
      ]
    },
    {
      "cell_type": "markdown",
      "metadata": {
        "id": "dvKgtFMiGwY3"
      },
      "source": [
        "From Agresi (2017) we can use the above equation to calcuate the sample size need to estimate a population proportion."
      ]
    },
    {
      "cell_type": "code",
      "metadata": {
        "id": "xWAXu_rtG8VF",
        "colab": {
          "base_uri": "https://localhost:8080/"
        },
        "outputId": "3d31c80e-0d5f-41f6-dd39-a163f97bf413"
      },
      "source": [
        "# What is the population proportion\n",
        "merge_pt2_df['Percent Male April 1 2010'].describe()"
      ],
      "execution_count": null,
      "outputs": [
        {
          "output_type": "execute_result",
          "data": {
            "text/plain": [
              "count    3221.000000\n",
              "mean       49.937432\n",
              "std         2.211133\n",
              "min        43.222315\n",
              "25%        48.847653\n",
              "50%        49.507874\n",
              "75%        50.342431\n",
              "max        72.110596\n",
              "Name: Percent Male April 1 2010, dtype: float64"
            ]
          },
          "metadata": {},
          "execution_count": 41
        }
      ]
    },
    {
      "cell_type": "code",
      "metadata": {
        "id": "0kl6jsavG8SM",
        "colab": {
          "base_uri": "https://localhost:8080/"
        },
        "outputId": "b875f7fe-76df-4392-9d49-490e4199fe15"
      },
      "source": [
        "# The proportion is the percentage divided by 100\n",
        "population_proportion = 49.937432 / 100\n",
        "population_proportion"
      ],
      "execution_count": null,
      "outputs": [
        {
          "output_type": "execute_result",
          "data": {
            "text/plain": [
              "0.49937432000000004"
            ]
          },
          "metadata": {},
          "execution_count": 42
        }
      ]
    },
    {
      "cell_type": "code",
      "metadata": {
        "id": "qCwmNvvsHVgy"
      },
      "source": [
        "# what is the critical value? \n",
        "# For 90% CI the z value is 1.645\n",
        "z = 1.645"
      ],
      "execution_count": null,
      "outputs": []
    },
    {
      "cell_type": "code",
      "metadata": {
        "id": "4VcBZQ5eHxPA"
      },
      "source": [
        "M = .01"
      ],
      "execution_count": null,
      "outputs": []
    },
    {
      "cell_type": "code",
      "metadata": {
        "id": "mk73KJdyHxa5",
        "colab": {
          "base_uri": "https://localhost:8080/"
        },
        "outputId": "4ddccad5-56a1-4c61-9021-e821e04bc244"
      },
      "source": [
        "n = population_proportion*(1 - population_proportion) * (z/M)**2\n",
        "n"
      ],
      "execution_count": null,
      "outputs": [
        {
          "output_type": "execute_result",
          "data": {
            "text/plain": [
              "6765.051906576118"
            ]
          },
          "metadata": {},
          "execution_count": 86
        }
      ]
    },
    {
      "cell_type": "code",
      "metadata": {
        "id": "fJiJ_pDMIhhc",
        "colab": {
          "base_uri": "https://localhost:8080/"
        },
        "outputId": "6baa8417-b2cb-4b42-cd3e-bc8917b77f1e"
      },
      "source": [
        "merge_pt2_df[\"Sample Size ACS 2010\"].describe()"
      ],
      "execution_count": null,
      "outputs": [
        {
          "output_type": "execute_result",
          "data": {
            "text/plain": [
              "count       818.000000\n",
              "mean       4272.415648\n",
              "std        6852.816290\n",
              "min         637.000000\n",
              "25%        1455.750000\n",
              "50%        2295.000000\n",
              "75%        4328.750000\n",
              "max      123731.000000\n",
              "Name: Sample Size ACS 2010, dtype: float64"
            ]
          },
          "metadata": {},
          "execution_count": 56
        }
      ]
    },
    {
      "cell_type": "code",
      "metadata": {
        "id": "Tw36pQSZJX6P",
        "colab": {
          "base_uri": "https://localhost:8080/"
        },
        "outputId": "36b740e6-3531-4864-ce45-e946301cf958"
      },
      "source": [
        "merge_pt2_df[\"Percent Male Population ACS 2010 (MOE)\"].describe()"
      ],
      "execution_count": null,
      "outputs": [
        {
          "output_type": "execute_result",
          "data": {
            "text/plain": [
              "count    807.000000\n",
              "mean       0.490954\n",
              "std        0.356339\n",
              "min        0.100000\n",
              "25%        0.200000\n",
              "50%        0.400000\n",
              "75%        0.700000\n",
              "max        2.400000\n",
              "Name: Percent Male Population ACS 2010 (MOE), dtype: float64"
            ]
          },
          "metadata": {},
          "execution_count": 60
        }
      ]
    },
    {
      "cell_type": "markdown",
      "metadata": {
        "id": "xwarBz1ePYPo"
      },
      "source": [
        "### Agresti's Art of Stats\n",
        "Coverage of Confidence Intervals provides a visual representation of the concept described above.\n",
        "https://istats.shinyapps.io/ExploreCoverage/"
      ]
    },
    {
      "cell_type": "markdown",
      "metadata": {
        "id": "aqgBVOhfOszq"
      },
      "source": [
        "![image.png](data:image/png;base64,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)"
      ]
    },
    {
      "cell_type": "code",
      "metadata": {
        "id": "Yd0U_0R8AvYY"
      },
      "source": [
        ""
      ],
      "execution_count": null,
      "outputs": []
    }
  ]
}